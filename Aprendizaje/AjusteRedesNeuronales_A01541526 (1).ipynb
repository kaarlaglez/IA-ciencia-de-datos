{
  "cells": [
    {
      "cell_type": "markdown",
      "metadata": {
        "id": "kDG_JyGmPal4"
      },
      "source": [
        "#Ajuste de redes neuronales\n",
        "###Karla González Sánchez | A01541526\n",
        "\n"
      ]
    },
    {
      "cell_type": "code",
      "execution_count": null,
      "metadata": {
        "id": "lXVgxIvPRRul"
      },
      "outputs": [],
      "source": [
        "import pandas as pd\n",
        "import numpy as np\n",
        "from sklearn.neural_network import MLPRegressor, MLPClassifier\n",
        "from sklearn.model_selection import cross_val_predict, GridSearchCV\n",
        "from sklearn.metrics import mean_squared_error, mean_absolute_error, classification_report"
      ]
    },
    {
      "cell_type": "markdown",
      "metadata": {
        "id": "VlY9ayJgPqk7"
      },
      "source": [
        "#Ejercicio 1\n",
        "\n",
        "Mi matrícula es: **A01541526**\n",
        "Por lo tanto, voy a trabajar con las variables independientes **M, W, S y P.**\n",
        "\n",
        "Y como variable dependiente MR.\n",
        "  * **MR** = asesinatos por cada 100000 habitantes\n",
        "\n",
        "  *  **M** = porcentaje de áreas metropolitanas\n",
        "  *   **W** = porcentaje de gente blanca\n",
        "  *   **P** = porcentaje con ingresos por debajo del nivel de pobreza\n",
        "  *   **S** = porcentaje de familias con solo un miembro adulto como tutor"
      ]
    },
    {
      "cell_type": "code",
      "execution_count": null,
      "metadata": {
        "id": "56ZBUZ2pBtki"
      },
      "outputs": [],
      "source": [
        "df = pd.read_csv('/content/drive/MyDrive/Colab Notebooks/Aprendizaje/crime_data.csv')"
      ]
    },
    {
      "cell_type": "markdown",
      "metadata": {
        "id": "KbRwmHFdQSmy"
      },
      "source": [
        "###1. Evalúa con validación cruzada un modelo pereceptrón multicapa para las variables que se te asignaron para este ejercicio."
      ]
    },
    {
      "cell_type": "code",
      "execution_count": null,
      "metadata": {
        "id": "kAd4WQMrO4s4"
      },
      "outputs": [],
      "source": [
        "#Variables predictoras\n",
        "X = df[['M', 'W', 'S', 'P']].values\n",
        "\n",
        "#Variable de respuesta\n",
        "y = df['MR'].values"
      ]
    },
    {
      "cell_type": "code",
      "execution_count": null,
      "metadata": {
        "id": "39pBlin-DFK_"
      },
      "outputs": [],
      "source": [
        "#Inicialización  del modelo de perceptrón multicapa\n",
        "mlp = MLPRegressor(hidden_layer_sizes = (100, 100), max_iter = 10000)"
      ]
    },
    {
      "cell_type": "code",
      "execution_count": null,
      "metadata": {
        "id": "-nwiqYEXD2Kd"
      },
      "outputs": [],
      "source": [
        "#Validación cruzada y obtener predicciones\n",
        "y_pred = cross_val_predict(mlp, X, y, cv = 5)"
      ]
    },
    {
      "cell_type": "code",
      "execution_count": null,
      "metadata": {
        "colab": {
          "base_uri": "https://localhost:8080/"
        },
        "id": "roe8zGq6EhzS",
        "outputId": "b08671c1-e6e5-4a14-e881-22090d2f38cf"
      },
      "outputs": [
        {
          "output_type": "stream",
          "name": "stdout",
          "text": [
            "MSE: 116.61234198011965\n",
            "MAE: 3.390833707959911\n"
          ]
        }
      ],
      "source": [
        "#MSE y MAE para evaluar el rendimiento del modelo\n",
        "mse = mean_squared_error(y, y_pred)\n",
        "mae = mean_absolute_error(y, y_pred)\n",
        "\n",
        "print(\"MSE:\", mse)\n",
        "print(\"MAE:\", mae)"
      ]
    },
    {
      "cell_type": "markdown",
      "metadata": {
        "id": "4JKEM4daQeld"
      },
      "source": [
        "###2. Agrega al conjunto de datos columnas que representen los cuadrados de las variables predictoras (por ejemplo, $M^2$, $W^2$), así como los productos entre pares de variables (por ejemplo, $PxS$, $MxW$). Evalúa un modelo perceptrón multicapa para este nuevo conjunto de datos."
      ]
    },
    {
      "cell_type": "code",
      "execution_count": null,
      "metadata": {
        "colab": {
          "base_uri": "https://localhost:8080/",
          "height": 206
        },
        "id": "KlcXoHh-Q3ps",
        "outputId": "feb5599c-ddf8-401c-b4d6-df3aa78fd027"
      },
      "outputs": [
        {
          "output_type": "execute_result",
          "data": {
            "text/plain": [
              "  State    VR    MR     M     W     H     P     S      M^2      W^2     S^2  \\\n",
              "0    AK   761   9.0  41.8  75.2  86.6   9.1  14.3  1747.24  5655.04  204.49   \n",
              "1    AL   780  11.6  67.4  73.5  66.9  17.4  11.5  4542.76  5402.25  132.25   \n",
              "2    AR   593  10.2  44.7  82.9  66.3  20.0  10.7  1998.09  6872.41  114.49   \n",
              "3    AZ   715   8.6  84.7  88.6  78.7  15.4  12.1  7174.09  7849.96  146.41   \n",
              "4    CA  1078  13.1  96.7  79.3  76.2  18.2  12.5  9350.89  6288.49  156.25   \n",
              "\n",
              "      P^2     PxS      MxW  \n",
              "0   82.81  130.13  3143.36  \n",
              "1  302.76  200.10  4953.90  \n",
              "2  400.00  214.00  3705.63  \n",
              "3  237.16  186.34  7504.42  \n",
              "4  331.24  227.50  7668.31  "
            ],
            "text/html": [
              "\n",
              "  <div id=\"df-ebf67cb7-175d-445f-b15a-54683ed315a3\" class=\"colab-df-container\">\n",
              "    <div>\n",
              "<style scoped>\n",
              "    .dataframe tbody tr th:only-of-type {\n",
              "        vertical-align: middle;\n",
              "    }\n",
              "\n",
              "    .dataframe tbody tr th {\n",
              "        vertical-align: top;\n",
              "    }\n",
              "\n",
              "    .dataframe thead th {\n",
              "        text-align: right;\n",
              "    }\n",
              "</style>\n",
              "<table border=\"1\" class=\"dataframe\">\n",
              "  <thead>\n",
              "    <tr style=\"text-align: right;\">\n",
              "      <th></th>\n",
              "      <th>State</th>\n",
              "      <th>VR</th>\n",
              "      <th>MR</th>\n",
              "      <th>M</th>\n",
              "      <th>W</th>\n",
              "      <th>H</th>\n",
              "      <th>P</th>\n",
              "      <th>S</th>\n",
              "      <th>M^2</th>\n",
              "      <th>W^2</th>\n",
              "      <th>S^2</th>\n",
              "      <th>P^2</th>\n",
              "      <th>PxS</th>\n",
              "      <th>MxW</th>\n",
              "    </tr>\n",
              "  </thead>\n",
              "  <tbody>\n",
              "    <tr>\n",
              "      <th>0</th>\n",
              "      <td>AK</td>\n",
              "      <td>761</td>\n",
              "      <td>9.0</td>\n",
              "      <td>41.8</td>\n",
              "      <td>75.2</td>\n",
              "      <td>86.6</td>\n",
              "      <td>9.1</td>\n",
              "      <td>14.3</td>\n",
              "      <td>1747.24</td>\n",
              "      <td>5655.04</td>\n",
              "      <td>204.49</td>\n",
              "      <td>82.81</td>\n",
              "      <td>130.13</td>\n",
              "      <td>3143.36</td>\n",
              "    </tr>\n",
              "    <tr>\n",
              "      <th>1</th>\n",
              "      <td>AL</td>\n",
              "      <td>780</td>\n",
              "      <td>11.6</td>\n",
              "      <td>67.4</td>\n",
              "      <td>73.5</td>\n",
              "      <td>66.9</td>\n",
              "      <td>17.4</td>\n",
              "      <td>11.5</td>\n",
              "      <td>4542.76</td>\n",
              "      <td>5402.25</td>\n",
              "      <td>132.25</td>\n",
              "      <td>302.76</td>\n",
              "      <td>200.10</td>\n",
              "      <td>4953.90</td>\n",
              "    </tr>\n",
              "    <tr>\n",
              "      <th>2</th>\n",
              "      <td>AR</td>\n",
              "      <td>593</td>\n",
              "      <td>10.2</td>\n",
              "      <td>44.7</td>\n",
              "      <td>82.9</td>\n",
              "      <td>66.3</td>\n",
              "      <td>20.0</td>\n",
              "      <td>10.7</td>\n",
              "      <td>1998.09</td>\n",
              "      <td>6872.41</td>\n",
              "      <td>114.49</td>\n",
              "      <td>400.00</td>\n",
              "      <td>214.00</td>\n",
              "      <td>3705.63</td>\n",
              "    </tr>\n",
              "    <tr>\n",
              "      <th>3</th>\n",
              "      <td>AZ</td>\n",
              "      <td>715</td>\n",
              "      <td>8.6</td>\n",
              "      <td>84.7</td>\n",
              "      <td>88.6</td>\n",
              "      <td>78.7</td>\n",
              "      <td>15.4</td>\n",
              "      <td>12.1</td>\n",
              "      <td>7174.09</td>\n",
              "      <td>7849.96</td>\n",
              "      <td>146.41</td>\n",
              "      <td>237.16</td>\n",
              "      <td>186.34</td>\n",
              "      <td>7504.42</td>\n",
              "    </tr>\n",
              "    <tr>\n",
              "      <th>4</th>\n",
              "      <td>CA</td>\n",
              "      <td>1078</td>\n",
              "      <td>13.1</td>\n",
              "      <td>96.7</td>\n",
              "      <td>79.3</td>\n",
              "      <td>76.2</td>\n",
              "      <td>18.2</td>\n",
              "      <td>12.5</td>\n",
              "      <td>9350.89</td>\n",
              "      <td>6288.49</td>\n",
              "      <td>156.25</td>\n",
              "      <td>331.24</td>\n",
              "      <td>227.50</td>\n",
              "      <td>7668.31</td>\n",
              "    </tr>\n",
              "  </tbody>\n",
              "</table>\n",
              "</div>\n",
              "    <div class=\"colab-df-buttons\">\n",
              "\n",
              "  <div class=\"colab-df-container\">\n",
              "    <button class=\"colab-df-convert\" onclick=\"convertToInteractive('df-ebf67cb7-175d-445f-b15a-54683ed315a3')\"\n",
              "            title=\"Convert this dataframe to an interactive table.\"\n",
              "            style=\"display:none;\">\n",
              "\n",
              "  <svg xmlns=\"http://www.w3.org/2000/svg\" height=\"24px\" viewBox=\"0 -960 960 960\">\n",
              "    <path d=\"M120-120v-720h720v720H120Zm60-500h600v-160H180v160Zm220 220h160v-160H400v160Zm0 220h160v-160H400v160ZM180-400h160v-160H180v160Zm440 0h160v-160H620v160ZM180-180h160v-160H180v160Zm440 0h160v-160H620v160Z\"/>\n",
              "  </svg>\n",
              "    </button>\n",
              "\n",
              "  <style>\n",
              "    .colab-df-container {\n",
              "      display:flex;\n",
              "      gap: 12px;\n",
              "    }\n",
              "\n",
              "    .colab-df-convert {\n",
              "      background-color: #E8F0FE;\n",
              "      border: none;\n",
              "      border-radius: 50%;\n",
              "      cursor: pointer;\n",
              "      display: none;\n",
              "      fill: #1967D2;\n",
              "      height: 32px;\n",
              "      padding: 0 0 0 0;\n",
              "      width: 32px;\n",
              "    }\n",
              "\n",
              "    .colab-df-convert:hover {\n",
              "      background-color: #E2EBFA;\n",
              "      box-shadow: 0px 1px 2px rgba(60, 64, 67, 0.3), 0px 1px 3px 1px rgba(60, 64, 67, 0.15);\n",
              "      fill: #174EA6;\n",
              "    }\n",
              "\n",
              "    .colab-df-buttons div {\n",
              "      margin-bottom: 4px;\n",
              "    }\n",
              "\n",
              "    [theme=dark] .colab-df-convert {\n",
              "      background-color: #3B4455;\n",
              "      fill: #D2E3FC;\n",
              "    }\n",
              "\n",
              "    [theme=dark] .colab-df-convert:hover {\n",
              "      background-color: #434B5C;\n",
              "      box-shadow: 0px 1px 3px 1px rgba(0, 0, 0, 0.15);\n",
              "      filter: drop-shadow(0px 1px 2px rgba(0, 0, 0, 0.3));\n",
              "      fill: #FFFFFF;\n",
              "    }\n",
              "  </style>\n",
              "\n",
              "    <script>\n",
              "      const buttonEl =\n",
              "        document.querySelector('#df-ebf67cb7-175d-445f-b15a-54683ed315a3 button.colab-df-convert');\n",
              "      buttonEl.style.display =\n",
              "        google.colab.kernel.accessAllowed ? 'block' : 'none';\n",
              "\n",
              "      async function convertToInteractive(key) {\n",
              "        const element = document.querySelector('#df-ebf67cb7-175d-445f-b15a-54683ed315a3');\n",
              "        const dataTable =\n",
              "          await google.colab.kernel.invokeFunction('convertToInteractive',\n",
              "                                                    [key], {});\n",
              "        if (!dataTable) return;\n",
              "\n",
              "        const docLinkHtml = 'Like what you see? Visit the ' +\n",
              "          '<a target=\"_blank\" href=https://colab.research.google.com/notebooks/data_table.ipynb>data table notebook</a>'\n",
              "          + ' to learn more about interactive tables.';\n",
              "        element.innerHTML = '';\n",
              "        dataTable['output_type'] = 'display_data';\n",
              "        await google.colab.output.renderOutput(dataTable, element);\n",
              "        const docLink = document.createElement('div');\n",
              "        docLink.innerHTML = docLinkHtml;\n",
              "        element.appendChild(docLink);\n",
              "      }\n",
              "    </script>\n",
              "  </div>\n",
              "\n",
              "\n",
              "<div id=\"df-3ed49305-c722-44cd-a633-a0e0c5d44ab5\">\n",
              "  <button class=\"colab-df-quickchart\" onclick=\"quickchart('df-3ed49305-c722-44cd-a633-a0e0c5d44ab5')\"\n",
              "            title=\"Suggest charts.\"\n",
              "            style=\"display:none;\">\n",
              "\n",
              "<svg xmlns=\"http://www.w3.org/2000/svg\" height=\"24px\"viewBox=\"0 0 24 24\"\n",
              "     width=\"24px\">\n",
              "    <g>\n",
              "        <path d=\"M19 3H5c-1.1 0-2 .9-2 2v14c0 1.1.9 2 2 2h14c1.1 0 2-.9 2-2V5c0-1.1-.9-2-2-2zM9 17H7v-7h2v7zm4 0h-2V7h2v10zm4 0h-2v-4h2v4z\"/>\n",
              "    </g>\n",
              "</svg>\n",
              "  </button>\n",
              "\n",
              "<style>\n",
              "  .colab-df-quickchart {\n",
              "      --bg-color: #E8F0FE;\n",
              "      --fill-color: #1967D2;\n",
              "      --hover-bg-color: #E2EBFA;\n",
              "      --hover-fill-color: #174EA6;\n",
              "      --disabled-fill-color: #AAA;\n",
              "      --disabled-bg-color: #DDD;\n",
              "  }\n",
              "\n",
              "  [theme=dark] .colab-df-quickchart {\n",
              "      --bg-color: #3B4455;\n",
              "      --fill-color: #D2E3FC;\n",
              "      --hover-bg-color: #434B5C;\n",
              "      --hover-fill-color: #FFFFFF;\n",
              "      --disabled-bg-color: #3B4455;\n",
              "      --disabled-fill-color: #666;\n",
              "  }\n",
              "\n",
              "  .colab-df-quickchart {\n",
              "    background-color: var(--bg-color);\n",
              "    border: none;\n",
              "    border-radius: 50%;\n",
              "    cursor: pointer;\n",
              "    display: none;\n",
              "    fill: var(--fill-color);\n",
              "    height: 32px;\n",
              "    padding: 0;\n",
              "    width: 32px;\n",
              "  }\n",
              "\n",
              "  .colab-df-quickchart:hover {\n",
              "    background-color: var(--hover-bg-color);\n",
              "    box-shadow: 0 1px 2px rgba(60, 64, 67, 0.3), 0 1px 3px 1px rgba(60, 64, 67, 0.15);\n",
              "    fill: var(--button-hover-fill-color);\n",
              "  }\n",
              "\n",
              "  .colab-df-quickchart-complete:disabled,\n",
              "  .colab-df-quickchart-complete:disabled:hover {\n",
              "    background-color: var(--disabled-bg-color);\n",
              "    fill: var(--disabled-fill-color);\n",
              "    box-shadow: none;\n",
              "  }\n",
              "\n",
              "  .colab-df-spinner {\n",
              "    border: 2px solid var(--fill-color);\n",
              "    border-color: transparent;\n",
              "    border-bottom-color: var(--fill-color);\n",
              "    animation:\n",
              "      spin 1s steps(1) infinite;\n",
              "  }\n",
              "\n",
              "  @keyframes spin {\n",
              "    0% {\n",
              "      border-color: transparent;\n",
              "      border-bottom-color: var(--fill-color);\n",
              "      border-left-color: var(--fill-color);\n",
              "    }\n",
              "    20% {\n",
              "      border-color: transparent;\n",
              "      border-left-color: var(--fill-color);\n",
              "      border-top-color: var(--fill-color);\n",
              "    }\n",
              "    30% {\n",
              "      border-color: transparent;\n",
              "      border-left-color: var(--fill-color);\n",
              "      border-top-color: var(--fill-color);\n",
              "      border-right-color: var(--fill-color);\n",
              "    }\n",
              "    40% {\n",
              "      border-color: transparent;\n",
              "      border-right-color: var(--fill-color);\n",
              "      border-top-color: var(--fill-color);\n",
              "    }\n",
              "    60% {\n",
              "      border-color: transparent;\n",
              "      border-right-color: var(--fill-color);\n",
              "    }\n",
              "    80% {\n",
              "      border-color: transparent;\n",
              "      border-right-color: var(--fill-color);\n",
              "      border-bottom-color: var(--fill-color);\n",
              "    }\n",
              "    90% {\n",
              "      border-color: transparent;\n",
              "      border-bottom-color: var(--fill-color);\n",
              "    }\n",
              "  }\n",
              "</style>\n",
              "\n",
              "  <script>\n",
              "    async function quickchart(key) {\n",
              "      const quickchartButtonEl =\n",
              "        document.querySelector('#' + key + ' button');\n",
              "      quickchartButtonEl.disabled = true;  // To prevent multiple clicks.\n",
              "      quickchartButtonEl.classList.add('colab-df-spinner');\n",
              "      try {\n",
              "        const charts = await google.colab.kernel.invokeFunction(\n",
              "            'suggestCharts', [key], {});\n",
              "      } catch (error) {\n",
              "        console.error('Error during call to suggestCharts:', error);\n",
              "      }\n",
              "      quickchartButtonEl.classList.remove('colab-df-spinner');\n",
              "      quickchartButtonEl.classList.add('colab-df-quickchart-complete');\n",
              "    }\n",
              "    (() => {\n",
              "      let quickchartButtonEl =\n",
              "        document.querySelector('#df-3ed49305-c722-44cd-a633-a0e0c5d44ab5 button');\n",
              "      quickchartButtonEl.style.display =\n",
              "        google.colab.kernel.accessAllowed ? 'block' : 'none';\n",
              "    })();\n",
              "  </script>\n",
              "</div>\n",
              "    </div>\n",
              "  </div>\n"
            ]
          },
          "metadata": {},
          "execution_count": 98
        }
      ],
      "source": [
        "df['M^2'] = df['M'] ** 2\n",
        "df['W^2'] = df['W'] ** 2\n",
        "df['S^2'] = df['S'] ** 2\n",
        "df['P^2'] = df['P'] ** 2\n",
        "\n",
        "df['PxS'] = df['P'] * df['S']\n",
        "df['MxW'] = df['M'] * df['W']\n",
        "df.head()"
      ]
    },
    {
      "cell_type": "code",
      "execution_count": null,
      "metadata": {
        "id": "0u5vJC2QHWtq"
      },
      "outputs": [],
      "source": [
        "#Variables independientes\n",
        "X = df[['M', 'W', 'S', 'P', 'M^2', 'W^2', 'S^2', 'P^2', 'PxS', 'MxW']]\n",
        "\n",
        "#Variable dependiente\n",
        "y = df['MR']"
      ]
    },
    {
      "cell_type": "code",
      "execution_count": null,
      "metadata": {
        "id": "gbp4w32FIvfA"
      },
      "outputs": [],
      "source": [
        "#Inicialización  del modelo de perceptrón multicapa\n",
        "mlp = MLPRegressor(hidden_layer_sizes = (100, 100), max_iter = 10000)"
      ]
    },
    {
      "cell_type": "code",
      "execution_count": null,
      "metadata": {
        "id": "grb5vfEUIzlr"
      },
      "outputs": [],
      "source": [
        "#Validación cruzada y obtener predicciones\n",
        "y_pred = cross_val_predict(mlp, X, y, cv = 5)"
      ]
    },
    {
      "cell_type": "code",
      "execution_count": null,
      "metadata": {
        "colab": {
          "base_uri": "https://localhost:8080/"
        },
        "id": "eBz_qqlCI6r6",
        "outputId": "959bdf33-6b95-480d-a9d5-4870fbbe2709"
      },
      "outputs": [
        {
          "output_type": "stream",
          "name": "stdout",
          "text": [
            "MSE: 827.6543999567155\n",
            "MAE: 14.647349219757325\n"
          ]
        }
      ],
      "source": [
        "#MSE y MAE para evaluar el rendimiento del modelo\n",
        "mse = mean_squared_error(y, y_pred)\n",
        "mae = mean_absolute_error(y, y_pred)\n",
        "print(\"MSE:\", mse)\n",
        "print(\"MAE:\", mae)"
      ]
    },
    {
      "cell_type": "markdown",
      "metadata": {
        "id": "eDZRsC3WQ4AA"
      },
      "source": [
        "###3. Viendo los resultados de regresión, desarrolla una conclusión sobre los siguientes puntos:\n",
        "\n",
        "**1. ¿Consideras que el modelo perceptrón multicapa es efectivo para modelar los datos del problema? ¿Por qué?**\n",
        "\n",
        "El modelo de perceptrón multicapa sí lo podemos considerar efectivo para modelar los datos del problema utilizando las variables predictoras originales. En el cual obtuvimos un MSE de 116.612 y un MAE de 3.391. Indicando un buen rendimiento en la predicción, ya que los errores son relativamente bajos.\n",
        "\n",
        "Por otro lado, en el segundo modelo, donde se agregó cuadrados y productos entre varibles, no mejoró el rendimiento del modelo, pues tenemos valores de error mucho más altos. Por lo tanto, este cambio, probablemente trajo ruido innecesario al modelo.\n",
        "\n",
        "**2. ¿Qué modelo es mejor para los datos de criminalidad, el lineal o el perceptrón multicapa? ¿Por qué?**\n",
        "\n",
        "En ejercicios anteriores donde obtuvimos el modelo linael, se tienen las siguientes métricas:\n",
        "\n",
        "* $R^2$ de 0.792\n",
        "\n",
        "* MSE de 47913.47\n",
        "\n",
        "* MAE de 206.37\n",
        "\n",
        "El modelo perceptrón multicapa es más efectivo que el modelo lineal para los datos de criminalidad, especialmente cuando se utilizan solo las variables originales."
      ]
    },
    {
      "cell_type": "markdown",
      "metadata": {
        "id": "rrBHXTZ8ReJs"
      },
      "source": [
        "#Ejercicio 2\n",
        "\n",
        "Mi matrícula es: **A01541526** Por lo tanto, voy a trabajar con el conjunto de datos **M_2.txt**\n",
        "\n",
        "En este ejercicio se trabajará con el conjunto de datos M_2.txt. En estos archivos viene un experimento en el que se midió actividad muscular con la técnica de la Electromiografía en el brazo derecho de varios participantes cuando éstos realizaban un movimiento con la mano entre siete posible (Flexionar hacia arriba, Flexionar hacia abajo, Cerrar la mano, Estirar la mano, Abrir la mano, Coger un objeto, No moverse). Al igual que en el ejercicio anterior, los datos se cargan con la función loadtxt de numpy.\n",
        "\n",
        "La primera columna corresponde a la clase (1, 2, 3, 4, 5, 6, y 7), la segunda columna se ignora, y el resto de las columnas indican las variables que se calcularon de la respuesta muscular."
      ]
    },
    {
      "cell_type": "code",
      "execution_count": null,
      "metadata": {
        "id": "QoaGNxsPJQMM"
      },
      "outputs": [],
      "source": [
        "data = np.loadtxt('/content/drive/MyDrive/Colab Notebooks/Aprendizaje/M_2.txt', delimiter='\\t', usecols=range(632))"
      ]
    },
    {
      "cell_type": "markdown",
      "metadata": {
        "id": "9Xyul-EnSLcn"
      },
      "source": [
        "###1. Evalúa un modelo perceptrón multicapa con validación cruzada utilizando al menos 5 capas de 20 neuronas.\n"
      ]
    },
    {
      "cell_type": "code",
      "execution_count": null,
      "metadata": {
        "id": "LzvN46f9SKl6"
      },
      "outputs": [],
      "source": [
        "#Ignoraramos las primeras dos columnas, una por ser la clase y otra por ser irrelevante\n",
        "X = data[:, 2:]\n",
        "#Clase\n",
        "y = data[:, 0]"
      ]
    },
    {
      "cell_type": "code",
      "execution_count": null,
      "metadata": {
        "colab": {
          "base_uri": "https://localhost:8080/"
        },
        "id": "Bi3hI2lcb-2d",
        "outputId": "fe73c256-2446-469a-a943-d6b849b879ee"
      },
      "outputs": [
        {
          "output_type": "stream",
          "name": "stdout",
          "text": [
            "              precision    recall  f1-score   support\n",
            "\n",
            "         1.0       0.90      0.89      0.89        90\n",
            "         2.0       0.71      0.81      0.76        90\n",
            "         3.0       0.95      0.92      0.94        90\n",
            "         4.0       0.92      0.92      0.92        90\n",
            "         5.0       0.76      0.74      0.75        90\n",
            "         6.0       0.80      0.70      0.75        90\n",
            "         7.0       0.89      0.93      0.91        90\n",
            "\n",
            "    accuracy                           0.85       630\n",
            "   macro avg       0.85      0.85      0.85       630\n",
            "weighted avg       0.85      0.85      0.85       630\n",
            "\n"
          ]
        }
      ],
      "source": [
        "mlp = MLPClassifier(max_iter=10000, random_state=42)\n",
        "\n",
        "#1 a 5 capas de 20 neuronas\n",
        "param_grid = {\n",
        "    'hidden_layer_sizes': [(20,) * i for i in range(1, 6)],\n",
        "}\n",
        "\n",
        "#Búsqueda de hiperparámetros con validación cruzada\n",
        "clf = GridSearchCV(mlp, param_grid, cv=5)\n",
        "clf.fit(X, y)\n",
        "\n",
        "best_model = clf.best_estimator_\n",
        "\n",
        "#Validación cruzada\n",
        "y_pred = cross_val_predict(best_model, X, y, cv=5)\n",
        "\n",
        "print(classification_report(y, y_pred))"
      ]
    },
    {
      "cell_type": "markdown",
      "metadata": {
        "id": "HMA4r9mMSRT_"
      },
      "source": [
        "###2. Evalúa un modelo perceptrón multicapa con validación cruzada, pero encontrando el número óptimo de capas y neuronas de la red.\n"
      ]
    },
    {
      "cell_type": "code",
      "execution_count": null,
      "metadata": {
        "colab": {
          "background_save": true
        },
        "id": "-mz4_F0rc_Gp",
        "outputId": "66c44370-993b-49a5-c32b-cb64e1b01ee2"
      },
      "outputs": [
        {
          "name": "stdout",
          "output_type": "stream",
          "text": [
            "              precision    recall  f1-score   support\n",
            "\n",
            "         1.0       0.91      0.89      0.90        90\n",
            "         2.0       0.73      0.78      0.75        90\n",
            "         3.0       0.94      0.91      0.93        90\n",
            "         4.0       0.85      0.86      0.85        90\n",
            "         5.0       0.76      0.80      0.78        90\n",
            "         6.0       0.79      0.72      0.76        90\n",
            "         7.0       0.88      0.89      0.88        90\n",
            "\n",
            "    accuracy                           0.83       630\n",
            "   macro avg       0.84      0.83      0.84       630\n",
            "weighted avg       0.84      0.83      0.84       630\n",
            "\n",
            "Mejor configuración de capas y neuronas: (10, 8)\n"
          ]
        }
      ],
      "source": [
        "mlp = MLPClassifier(max_iter=10000, random_state=42)\n",
        "\n",
        "#Probar combinaciones de 1 a 10 capas y de 1 a 10 neuronas en cada capa\n",
        "param_grid = {\n",
        "    'hidden_layer_sizes': [(i, j) for i in range(1, 11) for j in range(1, 11)],\n",
        "}\n",
        "\n",
        "#Búsqueda de hiperparámetros con validación cruzada\n",
        "clf = GridSearchCV(mlp, param_grid, cv=5)\n",
        "clf.fit(X, y)\n",
        "\n",
        "best_model = clf.best_estimator_\n",
        "\n",
        "#Validación cruzada\n",
        "y_pred = cross_val_predict(best_model, X, y, cv=5)\n",
        "\n",
        "print(classification_report(y, y_pred))\n",
        "\n",
        "print(\"Mejor configuración de capas y neuronas:\", best_model.hidden_layer_sizes)"
      ]
    },
    {
      "cell_type": "markdown",
      "metadata": {
        "id": "tmODQzHiSWpR"
      },
      "source": [
        "###3. Prepara el modelo perceptrón multicapa:\n",
        "1. Obten los hiperparámetros óptimos de capas y neuronas de la red.\n",
        "2. Con los hiperparámetros óptimos, ajusta el modelo con todos los datos.\n"
      ]
    },
    {
      "cell_type": "code",
      "execution_count": null,
      "metadata": {
        "colab": {
          "base_uri": "https://localhost:8080/"
        },
        "id": "jRcyrAkmfcK9",
        "outputId": "2fa8b649-9938-4e65-a5f0-49c2849c9605"
      },
      "outputs": [
        {
          "output_type": "stream",
          "name": "stdout",
          "text": [
            "              precision    recall  f1-score   support\n",
            "\n",
            "         1.0       1.00      0.99      0.99        90\n",
            "         2.0       0.99      0.98      0.98        90\n",
            "         3.0       1.00      1.00      1.00        90\n",
            "         4.0       1.00      0.99      0.99        90\n",
            "         5.0       0.97      0.99      0.98        90\n",
            "         6.0       0.99      0.98      0.98        90\n",
            "         7.0       0.98      1.00      0.99        90\n",
            "\n",
            "    accuracy                           0.99       630\n",
            "   macro avg       0.99      0.99      0.99       630\n",
            "weighted avg       0.99      0.99      0.99       630\n",
            "\n",
            "Mejor configuración de capas y neuronas: (16,)\n"
          ]
        }
      ],
      "source": [
        "mlp = MLPClassifier(max_iter=10000, random_state=42)\n",
        "\n",
        "#Probar de 1 a 20 neuronas en una sola capa oculta\n",
        "param_grid = {\n",
        "    'hidden_layer_sizes': [(i,) for i in range(1, 21)],\n",
        "}\n",
        "\n",
        "#Búsqueda de hiperparámetros con validación cruzada\n",
        "clf = GridSearchCV(mlp, param_grid, cv=5)\n",
        "clf.fit(X, y)\n",
        "\n",
        "#Mejor modelo con los hiperparámetros óptimos\n",
        "best_model = clf.best_estimator_\n",
        "\n",
        "#Obtener las predicciones del modelo ajustado\n",
        "y_pred = best_model.predict(X)\n",
        "\n",
        "print(classification_report(y, y_pred))\n",
        "\n",
        "print(\"Mejor configuración de capas y neuronas:\", best_model.hidden_layer_sizes)"
      ]
    },
    {
      "cell_type": "code",
      "execution_count": null,
      "metadata": {
        "colab": {
          "base_uri": "https://localhost:8080/",
          "height": 75
        },
        "id": "dSXEXjiAShU9",
        "outputId": "32675f70-6747-4cf1-c285-b47555a8933a"
      },
      "outputs": [
        {
          "output_type": "execute_result",
          "data": {
            "text/plain": [
              "MLPClassifier(hidden_layer_sizes=(16,), max_iter=10000, random_state=42)"
            ],
            "text/html": [
              "<style>#sk-container-id-2 {color: black;background-color: white;}#sk-container-id-2 pre{padding: 0;}#sk-container-id-2 div.sk-toggleable {background-color: white;}#sk-container-id-2 label.sk-toggleable__label {cursor: pointer;display: block;width: 100%;margin-bottom: 0;padding: 0.3em;box-sizing: border-box;text-align: center;}#sk-container-id-2 label.sk-toggleable__label-arrow:before {content: \"▸\";float: left;margin-right: 0.25em;color: #696969;}#sk-container-id-2 label.sk-toggleable__label-arrow:hover:before {color: black;}#sk-container-id-2 div.sk-estimator:hover label.sk-toggleable__label-arrow:before {color: black;}#sk-container-id-2 div.sk-toggleable__content {max-height: 0;max-width: 0;overflow: hidden;text-align: left;background-color: #f0f8ff;}#sk-container-id-2 div.sk-toggleable__content pre {margin: 0.2em;color: black;border-radius: 0.25em;background-color: #f0f8ff;}#sk-container-id-2 input.sk-toggleable__control:checked~div.sk-toggleable__content {max-height: 200px;max-width: 100%;overflow: auto;}#sk-container-id-2 input.sk-toggleable__control:checked~label.sk-toggleable__label-arrow:before {content: \"▾\";}#sk-container-id-2 div.sk-estimator input.sk-toggleable__control:checked~label.sk-toggleable__label {background-color: #d4ebff;}#sk-container-id-2 div.sk-label input.sk-toggleable__control:checked~label.sk-toggleable__label {background-color: #d4ebff;}#sk-container-id-2 input.sk-hidden--visually {border: 0;clip: rect(1px 1px 1px 1px);clip: rect(1px, 1px, 1px, 1px);height: 1px;margin: -1px;overflow: hidden;padding: 0;position: absolute;width: 1px;}#sk-container-id-2 div.sk-estimator {font-family: monospace;background-color: #f0f8ff;border: 1px dotted black;border-radius: 0.25em;box-sizing: border-box;margin-bottom: 0.5em;}#sk-container-id-2 div.sk-estimator:hover {background-color: #d4ebff;}#sk-container-id-2 div.sk-parallel-item::after {content: \"\";width: 100%;border-bottom: 1px solid gray;flex-grow: 1;}#sk-container-id-2 div.sk-label:hover label.sk-toggleable__label {background-color: #d4ebff;}#sk-container-id-2 div.sk-serial::before {content: \"\";position: absolute;border-left: 1px solid gray;box-sizing: border-box;top: 0;bottom: 0;left: 50%;z-index: 0;}#sk-container-id-2 div.sk-serial {display: flex;flex-direction: column;align-items: center;background-color: white;padding-right: 0.2em;padding-left: 0.2em;position: relative;}#sk-container-id-2 div.sk-item {position: relative;z-index: 1;}#sk-container-id-2 div.sk-parallel {display: flex;align-items: stretch;justify-content: center;background-color: white;position: relative;}#sk-container-id-2 div.sk-item::before, #sk-container-id-2 div.sk-parallel-item::before {content: \"\";position: absolute;border-left: 1px solid gray;box-sizing: border-box;top: 0;bottom: 0;left: 50%;z-index: -1;}#sk-container-id-2 div.sk-parallel-item {display: flex;flex-direction: column;z-index: 1;position: relative;background-color: white;}#sk-container-id-2 div.sk-parallel-item:first-child::after {align-self: flex-end;width: 50%;}#sk-container-id-2 div.sk-parallel-item:last-child::after {align-self: flex-start;width: 50%;}#sk-container-id-2 div.sk-parallel-item:only-child::after {width: 0;}#sk-container-id-2 div.sk-dashed-wrapped {border: 1px dashed gray;margin: 0 0.4em 0.5em 0.4em;box-sizing: border-box;padding-bottom: 0.4em;background-color: white;}#sk-container-id-2 div.sk-label label {font-family: monospace;font-weight: bold;display: inline-block;line-height: 1.2em;}#sk-container-id-2 div.sk-label-container {text-align: center;}#sk-container-id-2 div.sk-container {/* jupyter's `normalize.less` sets `[hidden] { display: none; }` but bootstrap.min.css set `[hidden] { display: none !important; }` so we also need the `!important` here to be able to override the default hidden behavior on the sphinx rendered scikit-learn.org. See: https://github.com/scikit-learn/scikit-learn/issues/21755 */display: inline-block !important;position: relative;}#sk-container-id-2 div.sk-text-repr-fallback {display: none;}</style><div id=\"sk-container-id-2\" class=\"sk-top-container\"><div class=\"sk-text-repr-fallback\"><pre>MLPClassifier(hidden_layer_sizes=(16,), max_iter=10000, random_state=42)</pre><b>In a Jupyter environment, please rerun this cell to show the HTML representation or trust the notebook. <br />On GitHub, the HTML representation is unable to render, please try loading this page with nbviewer.org.</b></div><div class=\"sk-container\" hidden><div class=\"sk-item\"><div class=\"sk-estimator sk-toggleable\"><input class=\"sk-toggleable__control sk-hidden--visually\" id=\"sk-estimator-id-2\" type=\"checkbox\" checked><label for=\"sk-estimator-id-2\" class=\"sk-toggleable__label sk-toggleable__label-arrow\">MLPClassifier</label><div class=\"sk-toggleable__content\"><pre>MLPClassifier(hidden_layer_sizes=(16,), max_iter=10000, random_state=42)</pre></div></div></div></div></div>"
            ]
          },
          "metadata": {},
          "execution_count": 11
        }
      ],
      "source": [
        "# Ajustar el modelo con todos los datos\n",
        "best_model.fit(X, y)"
      ]
    },
    {
      "cell_type": "markdown",
      "metadata": {
        "id": "5-qMdPYuShvn"
      },
      "source": [
        "###4. Contesta lo siguientes:\n",
        "**1. ¿Observas alguna mejora importante al optimizar el tamaño de la red? ¿Es el resultado que esperabas? Argumenta tu respuesta.**\n",
        "\n",
        "Sí, se observa una mejora en el rendimiento del modelo en comparación con el modelo de referencia sin optimización.\n",
        "\n",
        "En el primer caso, evaluamos un modelo con 5 capas ocultas de 20 neuronas cada una. Obtenemos un rendimiento decente con una precisión de 0.85 y una puntuación F1 promedio de 0.85.\n",
        "\n",
        "En el segundo caso, realizamos una búsqueda más exhaustiva probando todas las combinaciones posibles de capas y neuronas en el rango de 1 a 10. Obtenemos un rendimiento similar al primer caso, con una precisión promedio de 0.83 y una puntuación F1 promedio de 0.84. Aunque el rendimiento no mejora significativamente en comparación con el primer caso, el modelo se ajustó mejor a los datos.\n",
        "\n",
        "En el tercer caso, ajustamos el modelo con una sola capa oculta de 16 neuronas, que fueron los hiperparámetros óptimos encontrados. El rendimiento del modelo mejoró considerablemente, con una precisión promedio de 0.99 y una puntuación F1 promedio de 0.99.\n",
        "\n",
        "No me esperaba que salieran resultados tan altos en la optimización del modelo, lo cual es bueno, pero hay que tener en cuenta que existe riesgo de sobreajuste.\n",
        "\n",
        "**2. ¿Qué inconvenientes hay al encontrar el tamaño óptimo de la red? ¿Por qué?**\n",
        "\n",
        "Puede ser intensivo en recursos computacionales, como la capacidad de procesamiento y tiempo de ejecución, debido al entrenamiento y evaluación de múltiples configuraciones; también el riesgo de sobreajuste, capturando ruido y detalles irrelevantes, afectando el rendimiento del modelo."
      ]
    }
  ],
  "metadata": {
    "colab": {
      "provenance": []
    },
    "kernelspec": {
      "display_name": "Python 3",
      "name": "python3"
    },
    "language_info": {
      "name": "python"
    }
  },
  "nbformat": 4,
  "nbformat_minor": 0
}