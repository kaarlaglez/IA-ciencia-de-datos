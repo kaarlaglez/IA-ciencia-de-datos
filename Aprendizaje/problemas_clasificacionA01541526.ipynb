{
  "nbformat": 4,
  "nbformat_minor": 0,
  "metadata": {
    "colab": {
      "provenance": [],
      "toc_visible": true
    },
    "kernelspec": {
      "name": "python3",
      "display_name": "Python 3"
    },
    "language_info": {
      "name": "python"
    }
  },
  "cells": [
    {
      "cell_type": "markdown",
      "source": [
        "#Problemas de clasificación\n",
        "###Karla González Sánchez | A01541526\n",
        "\n",
        "\n"
      ],
      "metadata": {
        "id": "IVvrrxmivglm"
      }
    },
    {
      "cell_type": "code",
      "execution_count": 123,
      "metadata": {
        "id": "UKrFAY_94fcd"
      },
      "outputs": [],
      "source": [
        "import numpy as np\n",
        "import matplotlib.pyplot as plt\n",
        "from sklearn.metrics import recall_score, accuracy_score, classification_report\n",
        "from sklearn.svm import SVC\n",
        "from nltk.classify.scikitlearn import SklearnClassifier\n",
        "from sklearn.model_selection import cross_validate, StratifiedKFold, GridSearchCV, train_test_split, cross_val_score, cross_val_predict\n",
        "from sklearn.tree import DecisionTreeClassifier\n",
        "from sklearn.neighbors import KNeighborsClassifier\n",
        "from sklearn.discriminant_analysis import LinearDiscriminantAnalysis\n",
        "from sklearn.ensemble import RandomForestClassifier\n",
        "from imblearn.under_sampling import RandomUnderSampler\n",
        "from sklearn.feature_selection import SelectKBest, f_classif, SequentialFeatureSelector"
      ]
    },
    {
      "cell_type": "markdown",
      "source": [
        "#Ejercicio 1\n",
        "Mi matrícula es: **A01541526**\n",
        "Por lo tanto, voy a trabajar con el conjunto de datos **P1_4.txt**\n",
        "\n",
        "\n",
        "En este ejercicio se trabajará con el conjunto de datos P1_4.txt. En estos archivos se tienen datos procesados de un experimento de psicología en el que se mide la respuesta cerebral cuando un sujeto presta atención a un estímulo visual que aparece de manera repentina y cuando no presta atención a dicho estímulo visual. Los datos están en archivos de texto, los cuales se cargan con la función loadtxt de numpy.\n",
        "\n",
        "La primera columna corresponde a la clase (1 o 2). La clase 1 representa cuando el sujeto está prestando atención, y la clase 2 cuando no lo hace. La segunda columna se ignora, mientras que el resto de las columnas indican las variables que se calcularon de la respuesta cerebral medida con la técnicas de Electroencefaolografía para cada caso."
      ],
      "metadata": {
        "id": "10RY-mpXJkbg"
      }
    },
    {
      "cell_type": "code",
      "source": [
        "data = np.loadtxt('/content/drive/MyDrive/Colab Notebooks/Aprendizaje/P1_4.txt', delimiter='\\t', usecols=range(155))\n",
        "\n",
        "#Eliminar la segunda columna, la cual se ignora\n",
        "data = np.delete(data, 1, axis=1)"
      ],
      "metadata": {
        "id": "tPg8jZsgeEJ4"
      },
      "execution_count": 124,
      "outputs": []
    },
    {
      "cell_type": "code",
      "source": [
        "data"
      ],
      "metadata": {
        "colab": {
          "base_uri": "https://localhost:8080/"
        },
        "id": "RxuCOEsDcNfk",
        "outputId": "d7e15bec-fe56-4e44-e67e-f7f58daf5260"
      },
      "execution_count": 125,
      "outputs": [
        {
          "output_type": "execute_result",
          "data": {
            "text/plain": [
              "array([[ 1.        ,  0.35064718, -0.42499289, ..., -0.31974841,\n",
              "         0.59501498,  1.47385124],\n",
              "       [ 1.        ,  1.58037485,  1.17660703, ...,  0.05187984,\n",
              "         0.10499566,  0.32481216],\n",
              "       [ 1.        , -0.31600831,  1.05618389, ...,  1.44506729,\n",
              "         1.67126541,  1.01422794],\n",
              "       ...,\n",
              "       [ 2.        ,  0.83549938,  0.21770378, ..., -0.69412959,\n",
              "        -1.33083079, -1.2422245 ],\n",
              "       [ 2.        , -1.00218632, -1.44704626, ..., -0.2287077 ,\n",
              "        -0.75036633, -1.0083598 ],\n",
              "       [ 2.        , -2.25450972, -1.34026227, ...,  0.38196512,\n",
              "        -0.0196701 , -0.25582255]])"
            ]
          },
          "metadata": {},
          "execution_count": 125
        }
      ]
    },
    {
      "cell_type": "markdown",
      "source": [
        "##1. Determina si es necesario balancear los datos.\n",
        "En caso de que sea afirmativo, en todo este ejercicio tendrás que utilizar alguna estrategia para mitigar el problema de tener una muestra desbalanceada."
      ],
      "metadata": {
        "id": "RhgN8OnTuDAw"
      }
    },
    {
      "cell_type": "code",
      "source": [
        "#Ignorar la primera columna\n",
        "X = data[:, 1:]\n",
        "#Clase\n",
        "y = data[:, 0]\n",
        "\n",
        "sensitivity_class1 = recall_score(y, np.where(y == 1, 1, 0), average='weighted')\n",
        "sensitivity_class2 = recall_score(y, np.where(y == 2, 1, 0), average='weighted')\n",
        "\n",
        "#Exactitud ponderada\n",
        "weighted_accuracy = accuracy_score(y, np.where(y == 1, 1, 0), sample_weight=np.where(y == 1, 0.5, 0.5))\n",
        "\n",
        "print(\"Recall para la Clase 1:\", sensitivity_class1)\n",
        "print(\"Recall para la Clase 2:\", sensitivity_class2)\n",
        "print(\"Exactitud Ponderada:\", weighted_accuracy)"
      ],
      "metadata": {
        "colab": {
          "base_uri": "https://localhost:8080/"
        },
        "id": "bwFwuluEc4HY",
        "outputId": "c6646c94-44c9-4d08-84e9-c7d30bfc2597"
      },
      "execution_count": 126,
      "outputs": [
        {
          "output_type": "stream",
          "name": "stdout",
          "text": [
            "Recall para la Clase 1: 0.25041876046901174\n",
            "Recall para la Clase 2: 0.0\n",
            "Exactitud Ponderada: 0.25041876046901174\n"
          ]
        },
        {
          "output_type": "stream",
          "name": "stderr",
          "text": [
            "/usr/local/lib/python3.10/dist-packages/sklearn/metrics/_classification.py:1344: UndefinedMetricWarning: Recall is ill-defined and being set to 0.0 in labels with no true samples. Use `zero_division` parameter to control this behavior.\n",
            "  _warn_prf(average, modifier, msg_start, len(result))\n",
            "/usr/local/lib/python3.10/dist-packages/sklearn/metrics/_classification.py:1344: UndefinedMetricWarning: Recall is ill-defined and being set to 0.0 in labels with no true samples. Use `zero_division` parameter to control this behavior.\n",
            "  _warn_prf(average, modifier, msg_start, len(result))\n"
          ]
        }
      ]
    },
    {
      "cell_type": "markdown",
      "source": [
        "Dado que la sensibilidad por clase es muy diferente y la exactitud ponderada es baja, esto sugiere que los datos **están desbalanceados**.\n",
        "\n",
        "En este caso, la Clase 2 tiene una sensibilidad de 0.0, lo que significa que el clasificador tiene dificultades para detectar muestras positivas verdaderas de la Clase 2. Esto puede deberse al desequilibrio en la cantidad de muestras entre las dos clases."
      ],
      "metadata": {
        "id": "kzdHXJqVvrbl"
      }
    },
    {
      "cell_type": "markdown",
      "source": [
        "###Undersampling"
      ],
      "metadata": {
        "id": "lBvQft87w-dJ"
      }
    },
    {
      "cell_type": "code",
      "source": [
        "undersampler = RandomUnderSampler(random_state=42)\n",
        "\n",
        "#Aplicar el undersampling a los datos\n",
        "X_balanced, y_balanced = undersampler.fit_resample(X, y)\n",
        "\n",
        "print(\"Tamaño de X antes del undersampling:\", X.shape)\n",
        "print(\"Tamaño de y antes del undersampling:\", y.shape)\n",
        "print(\"Tamaño de X después del undersampling:\", X_balanced.shape)\n",
        "print(\"Tamaño de y después del undersampling:\", y_balanced.shape)"
      ],
      "metadata": {
        "colab": {
          "base_uri": "https://localhost:8080/"
        },
        "id": "BI6DG0zH67Qw",
        "outputId": "e271cb9d-19ec-437b-f6cf-877566624867"
      },
      "execution_count": 127,
      "outputs": [
        {
          "output_type": "stream",
          "name": "stdout",
          "text": [
            "Tamaño de X antes del undersampling: (1194, 153)\n",
            "Tamaño de y antes del undersampling: (1194,)\n",
            "Tamaño de X después del undersampling: (598, 153)\n",
            "Tamaño de y después del undersampling: (598,)\n"
          ]
        }
      ]
    },
    {
      "cell_type": "markdown",
      "source": [
        "Los resultados obtenidos después de aplicar el undersampling muestran que el tamaño del conjunto de datos se ha reducido significativamente para equilibrar las clases.\n",
        "\n",
        "Después de aplicar el undersampling, el tamaño de ambas clases se ha igualado a 598 muestras cada una. Esto puede ayudar a mejorar la capacidad del modelo para detectar patrones en ambas clases de manera más equitativa."
      ],
      "metadata": {
        "id": "NS8EnNuw3h0F"
      }
    },
    {
      "cell_type": "markdown",
      "source": [
        "##2. Evalúa al menos 5 modelos de clasificación distintos utilizando validación cruzada, y determina cuál de ellos es el más efectivo."
      ],
      "metadata": {
        "id": "cv1Po63-uKfi"
      }
    },
    {
      "cell_type": "markdown",
      "source": [
        "###Support Vector Machines (SVM)"
      ],
      "metadata": {
        "id": "rApA-Yf60jhj"
      }
    },
    {
      "cell_type": "code",
      "source": [
        "kf = StratifiedKFold(n_splits=5, shuffle=True)\n",
        "cv_y_test = []\n",
        "cv_y_pred = []"
      ],
      "metadata": {
        "id": "paearmT8sDMO"
      },
      "execution_count": 128,
      "outputs": []
    },
    {
      "cell_type": "code",
      "source": [
        "for train_index, test_index in kf.split(X, y):\n",
        "    x_train = X[train_index]\n",
        "    y_train = y[train_index]\n",
        "    x_test = X[test_index]\n",
        "    y_test = y[test_index]\n",
        "\n",
        "    clf = SVC(kernel='linear')\n",
        "    clf.fit(x_train, y_train)\n",
        "    y_pred = clf.predict(x_test)\n",
        "\n",
        "    cv_y_test.append(y_test)\n",
        "    cv_y_pred.append(y_pred)"
      ],
      "metadata": {
        "id": "bmyz8evNdlPq"
      },
      "execution_count": 129,
      "outputs": []
    },
    {
      "cell_type": "code",
      "source": [
        "print(classification_report(np.concatenate(cv_y_test), np.concatenate(cv_y_pred)))"
      ],
      "metadata": {
        "colab": {
          "base_uri": "https://localhost:8080/"
        },
        "id": "1Ze8_VQNe3E8",
        "outputId": "a2f18eb5-5b40-4f31-cf3e-dc227ed0077a"
      },
      "execution_count": 130,
      "outputs": [
        {
          "output_type": "stream",
          "name": "stdout",
          "text": [
            "              precision    recall  f1-score   support\n",
            "\n",
            "         1.0       0.84      0.86      0.85       299\n",
            "         2.0       0.95      0.94      0.95       895\n",
            "\n",
            "    accuracy                           0.92      1194\n",
            "   macro avg       0.89      0.90      0.90      1194\n",
            "weighted avg       0.92      0.92      0.92      1194\n",
            "\n"
          ]
        }
      ]
    },
    {
      "cell_type": "markdown",
      "source": [
        "###Decision Tree"
      ],
      "metadata": {
        "id": "j84hFVtR5VaY"
      }
    },
    {
      "cell_type": "code",
      "source": [
        "kf = StratifiedKFold(n_splits=5, shuffle=True)\n",
        "cv_y_test = []\n",
        "cv_y_pred = []"
      ],
      "metadata": {
        "id": "s8sArn7s6gL7"
      },
      "execution_count": 131,
      "outputs": []
    },
    {
      "cell_type": "code",
      "source": [
        "for train_index, test_index in kf.split(X, y):\n",
        "    x_train = X[train_index]\n",
        "    y_train = y[train_index]\n",
        "    x_test = X[test_index]\n",
        "    y_test = y[test_index]\n",
        "\n",
        "    clf = DecisionTreeClassifier()\n",
        "    clf.fit(x_train, y_train)\n",
        "    y_pred = clf.predict(x_test)\n",
        "\n",
        "    cv_y_test.append(y_test)\n",
        "    cv_y_pred.append(y_pred)"
      ],
      "metadata": {
        "id": "uXZSaG8get07"
      },
      "execution_count": 132,
      "outputs": []
    },
    {
      "cell_type": "code",
      "source": [
        "print(classification_report(np.concatenate(cv_y_test), np.concatenate(cv_y_pred)))"
      ],
      "metadata": {
        "colab": {
          "base_uri": "https://localhost:8080/"
        },
        "id": "l86wHdqGeuB_",
        "outputId": "d4868277-0a53-4205-830e-895107286d3d"
      },
      "execution_count": 133,
      "outputs": [
        {
          "output_type": "stream",
          "name": "stdout",
          "text": [
            "              precision    recall  f1-score   support\n",
            "\n",
            "         1.0       0.69      0.71      0.70       299\n",
            "         2.0       0.90      0.90      0.90       895\n",
            "\n",
            "    accuracy                           0.85      1194\n",
            "   macro avg       0.80      0.80      0.80      1194\n",
            "weighted avg       0.85      0.85      0.85      1194\n",
            "\n"
          ]
        }
      ]
    },
    {
      "cell_type": "markdown",
      "source": [
        "###KNN"
      ],
      "metadata": {
        "id": "JV0mSS1hDjLm"
      }
    },
    {
      "cell_type": "code",
      "source": [
        "kf = StratifiedKFold(n_splits=5, shuffle = True)\n",
        "cv_y_test = []\n",
        "cv_y_pred = []"
      ],
      "metadata": {
        "id": "RzzcIsOwJZp7"
      },
      "execution_count": 134,
      "outputs": []
    },
    {
      "cell_type": "code",
      "source": [
        "for train_index, test_index in kf.split(X, y):\n",
        "    x_train = X[train_index]\n",
        "    y_train = y[train_index]\n",
        "    x_test = X[test_index]\n",
        "    y_test = y[test_index]\n",
        "\n",
        "    clf = KNeighborsClassifier(n_neighbors=3)\n",
        "    clf.fit(x_train, y_train)\n",
        "    y_pred = clf.predict(x_test)\n",
        "\n",
        "    cv_y_test.append(y_test)\n",
        "    cv_y_pred.append(y_pred)"
      ],
      "metadata": {
        "id": "rEvMIj4tJeI0"
      },
      "execution_count": 135,
      "outputs": []
    },
    {
      "cell_type": "code",
      "source": [
        "print(classification_report(np.concatenate(cv_y_test), np.concatenate(cv_y_pred)))"
      ],
      "metadata": {
        "colab": {
          "base_uri": "https://localhost:8080/"
        },
        "id": "hqeGPO57JnmO",
        "outputId": "dbb1e552-56db-4ce2-885a-29b2429c2995"
      },
      "execution_count": 136,
      "outputs": [
        {
          "output_type": "stream",
          "name": "stdout",
          "text": [
            "              precision    recall  f1-score   support\n",
            "\n",
            "         1.0       0.88      0.79      0.83       299\n",
            "         2.0       0.93      0.97      0.95       895\n",
            "\n",
            "    accuracy                           0.92      1194\n",
            "   macro avg       0.91      0.88      0.89      1194\n",
            "weighted avg       0.92      0.92      0.92      1194\n",
            "\n"
          ]
        }
      ]
    },
    {
      "cell_type": "markdown",
      "source": [
        "###Linear Discriminant Analysis"
      ],
      "metadata": {
        "id": "OCOf-awSdxIB"
      }
    },
    {
      "cell_type": "code",
      "source": [
        "kf = StratifiedKFold(n_splits=5, shuffle=True)\n",
        "cv_y_test = []\n",
        "cv_y_pred = []"
      ],
      "metadata": {
        "id": "B8Dupf9eeBjc"
      },
      "execution_count": 137,
      "outputs": []
    },
    {
      "cell_type": "code",
      "source": [
        "for train_index, test_index in kf.split(X, y):\n",
        "    x_train = X[train_index]\n",
        "    y_train = y[train_index]\n",
        "    x_test = X[test_index]\n",
        "    y_test = y[test_index]\n",
        "\n",
        "    clf = LinearDiscriminantAnalysis()\n",
        "    clf.fit(x_train, y_train)\n",
        "    y_pred = clf.predict(x_test)\n",
        "\n",
        "    cv_y_test.append(y_test)\n",
        "    cv_y_pred.append(y_pred)"
      ],
      "metadata": {
        "id": "uHVxW9Fien9w"
      },
      "execution_count": 138,
      "outputs": []
    },
    {
      "cell_type": "code",
      "source": [
        "print(classification_report(np.concatenate(cv_y_test), np.concatenate(cv_y_pred)))"
      ],
      "metadata": {
        "colab": {
          "base_uri": "https://localhost:8080/"
        },
        "id": "7viPtrIUeo6p",
        "outputId": "670dd9a3-6b69-4110-e899-ead283325d67"
      },
      "execution_count": 139,
      "outputs": [
        {
          "output_type": "stream",
          "name": "stdout",
          "text": [
            "              precision    recall  f1-score   support\n",
            "\n",
            "         1.0       0.90      0.86      0.88       299\n",
            "         2.0       0.95      0.97      0.96       895\n",
            "\n",
            "    accuracy                           0.94      1194\n",
            "   macro avg       0.93      0.91      0.92      1194\n",
            "weighted avg       0.94      0.94      0.94      1194\n",
            "\n"
          ]
        }
      ]
    },
    {
      "cell_type": "markdown",
      "source": [
        "###Random Forest"
      ],
      "metadata": {
        "id": "W6jfSEGie-y1"
      }
    },
    {
      "cell_type": "code",
      "source": [
        "kf = StratifiedKFold(n_splits=5, shuffle=True)\n",
        "cv_y_test = []\n",
        "cv_y_pred = []"
      ],
      "metadata": {
        "id": "2BG-PddDlS6l"
      },
      "execution_count": 140,
      "outputs": []
    },
    {
      "cell_type": "code",
      "source": [
        "for train_index, test_index in kf.split(X, y):\n",
        "    x_train = X[train_index]\n",
        "    y_train = y[train_index]\n",
        "    x_test = X[test_index]\n",
        "    y_test = y[test_index]\n",
        "\n",
        "    clf = RandomForestClassifier()\n",
        "    clf.fit(x_train, y_train)\n",
        "    y_pred = clf.predict(x_test)\n",
        "\n",
        "    cv_y_test.append(y_test)\n",
        "    cv_y_pred.append(y_pred)"
      ],
      "metadata": {
        "id": "DrZDtMCAlW77"
      },
      "execution_count": 141,
      "outputs": []
    },
    {
      "cell_type": "code",
      "source": [
        "print(classification_report(np.concatenate(cv_y_test), np.concatenate(cv_y_pred)))"
      ],
      "metadata": {
        "colab": {
          "base_uri": "https://localhost:8080/"
        },
        "id": "NIDKoPTtlbCn",
        "outputId": "42743d29-f917-4441-bdc5-3207ad6b1810"
      },
      "execution_count": 142,
      "outputs": [
        {
          "output_type": "stream",
          "name": "stdout",
          "text": [
            "              precision    recall  f1-score   support\n",
            "\n",
            "         1.0       0.94      0.77      0.85       299\n",
            "         2.0       0.93      0.98      0.95       895\n",
            "\n",
            "    accuracy                           0.93      1194\n",
            "   macro avg       0.93      0.88      0.90      1194\n",
            "weighted avg       0.93      0.93      0.93      1194\n",
            "\n"
          ]
        }
      ]
    },
    {
      "cell_type": "markdown",
      "source": [
        "###Modelos más efectivos\n",
        "Dado que los datos están desbalanceados y hay un bajo recall y exactitud ponderada en la Clase 2, podemos descartar los siguientes modelos basándonos en sus resultados:\n",
        "\n",
        "1. Decision Tree: tiene un bajo recall para ambas clases.\n",
        "2. Linear Discriminant Analysis: aunque tiene una alta precisión y exactitud ponderada, tiene un bajo recall para la Clase 2.\n",
        "\n",
        "Evaluando los modelos restantes:\n",
        "\n",
        "1. Support Vector Machines (SVM): tiene una alta precisión, recall y f1-score para ambas clases.\n",
        "2. KNN: tiene una alta precisión, recall y f1-score para ambas clases.\n",
        "3. Random Forest: tiene una alta precisión, recall y f1-score para ambas clases.\n",
        "\n",
        "Dado que SVM, KNN y Random Forest tienen resultados similares y no presentan problemas de sensibilidad en ninguna de las clases, podemos considerar cualquiera de ellos como el modelo más efectivo."
      ],
      "metadata": {
        "id": "v2naMfwYobud"
      }
    },
    {
      "cell_type": "markdown",
      "source": [
        "##3. Implementa desde cero el método de regresión logística, y evalúalo con el conjunto de datos."
      ],
      "metadata": {
        "id": "Fhalqj7WuMLG"
      }
    },
    {
      "cell_type": "code",
      "source": [
        "def grad(X, y, beta):\n",
        "    n = len(y)\n",
        "    xbeta = X @ beta\n",
        "    exp = np.exp(-xbeta)\n",
        "    res = y - 1 / (1 + exp)\n",
        "    tmp = (exp / ((1 + exp) ** 2)) * res * X.T\n",
        "    return (2 / n) * tmp.sum(axis=1)\n",
        "\n",
        "def predict(X, beta):\n",
        "    xbeta = X @ beta\n",
        "    tmp = 1. / (1. + np.exp(-xbeta))\n",
        "    return (tmp > 0.5).astype(\"int\")\n",
        "\n",
        "def fit_model(X, y, alpha=0.001, maxit=100000):\n",
        "    num_features = X.shape[1]\n",
        "    beta = np.zeros(num_features)\n",
        "\n",
        "    for i in range(maxit):\n",
        "        gradient = grad(X, y, beta)\n",
        "        beta -= alpha * gradient\n",
        "\n",
        "    return beta\n",
        "\n",
        "#Ignorar la primera columna\n",
        "X = data[:, 1:]\n",
        "#Clase\n",
        "y = data[:, 0]\n",
        "\n",
        "# Agregar una columna de unos a X para el término de intercepción\n",
        "X_with_intercept = np.column_stack((np.ones(len(X)), X))\n",
        "\n",
        "#Ajuste del modelo\n",
        "beta = fit_model(X_with_intercept, y)\n",
        "\n",
        "# Realizar predicciones en los mismos datos\n",
        "predictions = predict(X_with_intercept, beta)\n",
        "\n",
        "accuracy = np.sum(predictions == y) / len(y)\n",
        "print(\"Precisión del modelo de regresión Logística:\", accuracy)"
      ],
      "metadata": {
        "colab": {
          "base_uri": "https://localhost:8080/"
        },
        "id": "6LWq5cLU3fd9",
        "outputId": "a44acda7-c706-4354-bc83-5aed902e42b9"
      },
      "execution_count": 143,
      "outputs": [
        {
          "output_type": "stream",
          "name": "stdout",
          "text": [
            "Precisión del modelo de regresión Logística: 0.0\n"
          ]
        }
      ]
    },
    {
      "cell_type": "markdown",
      "source": [
        "Una exactitud del modelo de 0.5 indica que el modelo tiene una precisión del 43.48% en la predicción de las clases correctas. Esta exactitud puede considerarse baja, lo que sugiere que el modelo de regresión logística puede no ser suficientemente preciso para este conjunto de datos."
      ],
      "metadata": {
        "id": "XbI_YH0i9FJf"
      }
    },
    {
      "cell_type": "markdown",
      "source": [
        "##4. Con alguno de los clasificadores que probaste en los pasos anteriores, determina el número óptimo de características utilizando un método tipo Filter."
      ],
      "metadata": {
        "id": "vx5Tf2B3uMqj"
      }
    },
    {
      "cell_type": "code",
      "source": [
        "#Validación cruzada\n",
        "kf = StratifiedKFold(n_splits=5, shuffle=True)\n",
        "cv_y_test = []\n",
        "cv_y_pred = []\n",
        "for train_index, test_index in kf.split(X, y):\n",
        "    x_train = X[train_index]\n",
        "    y_train = y[train_index]\n",
        "    x_test = X[test_index]\n",
        "    y_test = y[test_index]\n",
        "\n",
        "    clf = SVC(kernel='linear')\n",
        "    clf.fit(x_train, y_train)\n",
        "    y_pred = clf.predict(x_test)\n",
        "\n",
        "    cv_y_test.append(y_test)\n",
        "    cv_y_pred.append(y_pred)"
      ],
      "metadata": {
        "id": "1MEGiKl2C7M9"
      },
      "execution_count": null,
      "outputs": []
    },
    {
      "cell_type": "code",
      "source": [
        "print(classification_report(np.concatenate(cv_y_test), np.concatenate(cv_y_pred)))"
      ],
      "metadata": {
        "colab": {
          "base_uri": "https://localhost:8080/"
        },
        "id": "0V-jEsA6DGv0",
        "outputId": "de13498d-1345-4d28-c38f-ec0b5e27b421"
      },
      "execution_count": null,
      "outputs": [
        {
          "output_type": "stream",
          "name": "stdout",
          "text": [
            "              precision    recall  f1-score   support\n",
            "\n",
            "         1.0       0.87      0.86      0.86       299\n",
            "         2.0       0.95      0.96      0.95       895\n",
            "\n",
            "    accuracy                           0.93      1194\n",
            "   macro avg       0.91      0.91      0.91      1194\n",
            "weighted avg       0.93      0.93      0.93      1194\n",
            "\n"
          ]
        }
      ]
    },
    {
      "cell_type": "code",
      "source": [
        "#Metodo filter\n",
        "fselection = SelectKBest(f_classif, k=6)\n",
        "fselection.fit(X, y)\n",
        "selected_features = fselection.get_support(indices=True)\n",
        "X_selected = X[:, selected_features]"
      ],
      "metadata": {
        "id": "sSHfF352DN1U"
      },
      "execution_count": null,
      "outputs": []
    },
    {
      "cell_type": "code",
      "source": [
        "#Se repite el proceso de validación cruzada y clasificación utilizando el conjunto de características seleccionadas.\n",
        "kf = StratifiedKFold(n_splits=5, shuffle=True)\n",
        "cv_y_test_selected = []\n",
        "cv_y_pred_selected = []\n",
        "for train_index, test_index in kf.split(X_selected, y):\n",
        "    x_train_selected = X_selected[train_index]\n",
        "    y_train = y[train_index]\n",
        "    x_test_selected = X_selected[test_index]\n",
        "    y_test = y[test_index]\n",
        "\n",
        "    clf_selected = SVC(kernel='linear')\n",
        "    clf_selected.fit(x_train_selected, y_train)\n",
        "    y_pred_selected = clf_selected.predict(x_test_selected)\n",
        "\n",
        "    cv_y_test_selected.append(y_test)\n",
        "    cv_y_pred_selected.append(y_pred_selected)\n",
        "\n",
        "print(classification_report(np.concatenate(cv_y_test_selected), np.concatenate(cv_y_pred_selected)))"
      ],
      "metadata": {
        "colab": {
          "base_uri": "https://localhost:8080/"
        },
        "id": "XyClbXZNDTC2",
        "outputId": "d1aeb6cf-df5c-4502-d245-26f736920680"
      },
      "execution_count": null,
      "outputs": [
        {
          "output_type": "stream",
          "name": "stdout",
          "text": [
            "              precision    recall  f1-score   support\n",
            "\n",
            "         1.0       0.86      0.79      0.82       299\n",
            "         2.0       0.93      0.96      0.94       895\n",
            "\n",
            "    accuracy                           0.91      1194\n",
            "   macro avg       0.89      0.87      0.88      1194\n",
            "weighted avg       0.91      0.91      0.91      1194\n",
            "\n"
          ]
        }
      ]
    },
    {
      "cell_type": "code",
      "source": [
        "#Número óptimo de características\n",
        "n_features = X.shape[1]\n",
        "n_feats = range(1, n_features + 1)\n",
        "acc_nfeat = []\n",
        "for n_feat in n_feats:\n",
        "    kf = StratifiedKFold(n_splits=5, shuffle=True)\n",
        "    acc_cv = []\n",
        "    for train_index, test_index in kf.split(X, y):\n",
        "        x_train = X[train_index]\n",
        "        y_train = y[train_index]\n",
        "        x_test = X[test_index]\n",
        "        y_test = y[test_index]\n",
        "\n",
        "        fselection_cv = SelectKBest(f_classif, k=n_feat)\n",
        "        fselection_cv.fit(x_train, y_train)\n",
        "        x_train_selected = fselection_cv.transform(x_train)\n",
        "        x_test_selected = fselection_cv.transform(x_test)\n",
        "\n",
        "        clf_cv = SVC(kernel='linear')\n",
        "        clf_cv.fit(x_train_selected, y_train)\n",
        "        y_pred = clf_cv.predict(x_test_selected)\n",
        "\n",
        "        acc_i = accuracy_score(y_test, y_pred)\n",
        "        acc_cv.append(acc_i)\n",
        "    acc = np.average(acc_cv)\n",
        "    acc_nfeat.append(acc)\n",
        "\n",
        "opt_features = n_feats[np.argmax(acc_nfeat)]\n",
        "print(\"Optimal number of features: \", opt_features)\n",
        "plt.plot(n_feats, acc_nfeat)\n",
        "plt.xlabel(\"Features\")\n",
        "plt.ylabel(\"Accuracy\")\n",
        "plt.show()"
      ],
      "metadata": {
        "colab": {
          "base_uri": "https://localhost:8080/",
          "height": 467
        },
        "id": "P1rhYpNKDU40",
        "outputId": "feb21d0a-525e-43c4-e676-46a6232f959a"
      },
      "execution_count": null,
      "outputs": [
        {
          "output_type": "stream",
          "name": "stdout",
          "text": [
            "Optimal number of features:  90\n"
          ]
        },
        {
          "output_type": "display_data",
          "data": {
            "text/plain": [
              "<Figure size 640x480 with 1 Axes>"
            ],
            "image/png": "[encoded data removed]"
          },
          "metadata": {}
        }
      ]
    },
    {
      "cell_type": "markdown",
      "source": [
        "Se determinó que el número óptimo de características es 90, al menos en esta ejecución del código. Lo que significa que estas características tienen una influencia significativa en la capacidad del modelo para realizar predicciones precisas.\n",
        "\n",
        "El método Filter funcionó muy bien ya que es un enfoque independiente del modelo para la selección de características se realiza por separado del proceso de entrenamiento y se centra en mantener un subconjunto de características que tengan una alta correlación o relevancia con la variable objetivo."
      ],
      "metadata": {
        "id": "FHd2U1vh7Qyz"
      }
    },
    {
      "cell_type": "markdown",
      "source": [
        "##5. Repite el paso anterior, pero para un método de selección de características de tipo Wrapper.\n"
      ],
      "metadata": {
        "id": "ufBCGSbEuNBc"
      }
    },
    {
      "cell_type": "code",
      "source": [
        "#Reducción del número de características a la mitad\n",
        "print(\"----- Selección de características utilizando el 50% de los predictores -----\")\n",
        "clf = KNeighborsClassifier(n_neighbors=3)\n",
        "fselection = SequentialFeatureSelector(clf, n_features_to_select=0.5)\n",
        "fselection.fit(X, y)\n",
        "print(\"Características seleccionadas: \", fselection.get_support(indices=True))\n",
        "\n",
        "#Ajuste del modelo utilizando el nuevo conjunto de datos\n",
        "X_transformed = fselection.transform(X)\n",
        "clf.fit(X_transformed, y)\n",
        "\n",
        "#Evaluación del modelo utilizando validación cruzada\n",
        "cv_y_test = []\n",
        "cv_y_pred = []\n",
        "kf = StratifiedKFold(n_splits=5, shuffle=True)\n",
        "for train_index, test_index in kf.split(X, y):\n",
        "    x_train = X_transformed[train_index]\n",
        "    y_train = y[train_index]\n",
        "    x_test = X_transformed[test_index]\n",
        "    y_test = y[test_index]\n",
        "\n",
        "    clf_cv = KNeighborsClassifier(n_neighbors=3)\n",
        "    clf_cv.fit(x_train, y_train)\n",
        "    y_pred = clf_cv.predict(x_test)\n",
        "\n",
        "    cv_y_test.extend(y_test)\n",
        "    cv_y_pred.extend(y_pred)\n",
        "\n",
        "print(classification_report(cv_y_test, cv_y_pred))"
      ],
      "metadata": {
        "colab": {
          "base_uri": "https://localhost:8080/",
          "height": 435
        },
        "id": "Mq20JrWPlYdt",
        "outputId": "ce1c4512-b3d2-4474-e956-fa4cda4ae866"
      },
      "execution_count": null,
      "outputs": [
        {
          "output_type": "stream",
          "name": "stdout",
          "text": [
            "----- Feature selection using 50% of predictors -----\n"
          ]
        },
        {
          "output_type": "error",
          "ename": "KeyboardInterrupt",
          "evalue": "ignored",
          "traceback": [
            "\u001b[0;31m---------------------------------------------------------------------------\u001b[0m",
            "\u001b[0;31mKeyboardInterrupt\u001b[0m                         Traceback (most recent call last)",
            "\u001b[0;32m<ipython-input-133-6845a1215793>\u001b[0m in \u001b[0;36m<cell line: 5>\u001b[0;34m()\u001b[0m\n\u001b[1;32m      3\u001b[0m \u001b[0mclf\u001b[0m \u001b[0;34m=\u001b[0m \u001b[0mKNeighborsClassifier\u001b[0m\u001b[0;34m(\u001b[0m\u001b[0mn_neighbors\u001b[0m\u001b[0;34m=\u001b[0m\u001b[0;36m3\u001b[0m\u001b[0;34m)\u001b[0m\u001b[0;34m\u001b[0m\u001b[0;34m\u001b[0m\u001b[0m\n\u001b[1;32m      4\u001b[0m \u001b[0mfselection\u001b[0m \u001b[0;34m=\u001b[0m \u001b[0mSequentialFeatureSelector\u001b[0m\u001b[0;34m(\u001b[0m\u001b[0mclf\u001b[0m\u001b[0;34m,\u001b[0m \u001b[0mn_features_to_select\u001b[0m\u001b[0;34m=\u001b[0m\u001b[0;36m0.5\u001b[0m\u001b[0;34m)\u001b[0m\u001b[0;34m\u001b[0m\u001b[0;34m\u001b[0m\u001b[0m\n\u001b[0;32m----> 5\u001b[0;31m \u001b[0mfselection\u001b[0m\u001b[0;34m.\u001b[0m\u001b[0mfit\u001b[0m\u001b[0;34m(\u001b[0m\u001b[0mX\u001b[0m\u001b[0;34m,\u001b[0m \u001b[0my\u001b[0m\u001b[0;34m)\u001b[0m\u001b[0;34m\u001b[0m\u001b[0;34m\u001b[0m\u001b[0m\n\u001b[0m\u001b[1;32m      6\u001b[0m \u001b[0mprint\u001b[0m\u001b[0;34m(\u001b[0m\u001b[0;34m\"Selected features: \"\u001b[0m\u001b[0;34m,\u001b[0m \u001b[0mfselection\u001b[0m\u001b[0;34m.\u001b[0m\u001b[0mget_support\u001b[0m\u001b[0;34m(\u001b[0m\u001b[0mindices\u001b[0m\u001b[0;34m=\u001b[0m\u001b[0;32mTrue\u001b[0m\u001b[0;34m)\u001b[0m\u001b[0;34m)\u001b[0m\u001b[0;34m\u001b[0m\u001b[0;34m\u001b[0m\u001b[0m\n\u001b[1;32m      7\u001b[0m \u001b[0;34m\u001b[0m\u001b[0m\n",
            "\u001b[0;32m/usr/local/lib/python3.10/dist-packages/sklearn/feature_selection/_sequential.py\u001b[0m in \u001b[0;36mfit\u001b[0;34m(self, X, y)\u001b[0m\n\u001b[1;32m    274\u001b[0m         \u001b[0mis_auto_select\u001b[0m \u001b[0;34m=\u001b[0m \u001b[0mself\u001b[0m\u001b[0;34m.\u001b[0m\u001b[0mtol\u001b[0m \u001b[0;32mis\u001b[0m \u001b[0;32mnot\u001b[0m \u001b[0;32mNone\u001b[0m \u001b[0;32mand\u001b[0m \u001b[0mself\u001b[0m\u001b[0;34m.\u001b[0m\u001b[0mn_features_to_select\u001b[0m \u001b[0;34m==\u001b[0m \u001b[0;34m\"auto\"\u001b[0m\u001b[0;34m\u001b[0m\u001b[0;34m\u001b[0m\u001b[0m\n\u001b[1;32m    275\u001b[0m         \u001b[0;32mfor\u001b[0m \u001b[0m_\u001b[0m \u001b[0;32min\u001b[0m \u001b[0mrange\u001b[0m\u001b[0;34m(\u001b[0m\u001b[0mn_iterations\u001b[0m\u001b[0;34m)\u001b[0m\u001b[0;34m:\u001b[0m\u001b[0;34m\u001b[0m\u001b[0;34m\u001b[0m\u001b[0m\n\u001b[0;32m--> 276\u001b[0;31m             new_feature_idx, new_score = self._get_best_new_feature_score(\n\u001b[0m\u001b[1;32m    277\u001b[0m                 \u001b[0mcloned_estimator\u001b[0m\u001b[0;34m,\u001b[0m \u001b[0mX\u001b[0m\u001b[0;34m,\u001b[0m \u001b[0my\u001b[0m\u001b[0;34m,\u001b[0m \u001b[0mcurrent_mask\u001b[0m\u001b[0;34m\u001b[0m\u001b[0;34m\u001b[0m\u001b[0m\n\u001b[1;32m    278\u001b[0m             )\n",
            "\u001b[0;32m/usr/local/lib/python3.10/dist-packages/sklearn/feature_selection/_sequential.py\u001b[0m in \u001b[0;36m_get_best_new_feature_score\u001b[0;34m(self, estimator, X, y, current_mask)\u001b[0m\n\u001b[1;32m    305\u001b[0m                 \u001b[0mcandidate_mask\u001b[0m \u001b[0;34m=\u001b[0m \u001b[0;34m~\u001b[0m\u001b[0mcandidate_mask\u001b[0m\u001b[0;34m\u001b[0m\u001b[0;34m\u001b[0m\u001b[0m\n\u001b[1;32m    306\u001b[0m             \u001b[0mX_new\u001b[0m \u001b[0;34m=\u001b[0m \u001b[0mX\u001b[0m\u001b[0;34m[\u001b[0m\u001b[0;34m:\u001b[0m\u001b[0;34m,\u001b[0m \u001b[0mcandidate_mask\u001b[0m\u001b[0;34m]\u001b[0m\u001b[0;34m\u001b[0m\u001b[0;34m\u001b[0m\u001b[0m\n\u001b[0;32m--> 307\u001b[0;31m             scores[feature_idx] = cross_val_score(\n\u001b[0m\u001b[1;32m    308\u001b[0m                 \u001b[0mestimator\u001b[0m\u001b[0;34m,\u001b[0m\u001b[0;34m\u001b[0m\u001b[0;34m\u001b[0m\u001b[0m\n\u001b[1;32m    309\u001b[0m                 \u001b[0mX_new\u001b[0m\u001b[0;34m,\u001b[0m\u001b[0;34m\u001b[0m\u001b[0;34m\u001b[0m\u001b[0m\n",
            "\u001b[0;32m/usr/local/lib/python3.10/dist-packages/sklearn/model_selection/_validation.py\u001b[0m in \u001b[0;36mcross_val_score\u001b[0;34m(estimator, X, y, groups, scoring, cv, n_jobs, verbose, fit_params, pre_dispatch, error_score)\u001b[0m\n\u001b[1;32m    513\u001b[0m     \u001b[0mscorer\u001b[0m \u001b[0;34m=\u001b[0m \u001b[0mcheck_scoring\u001b[0m\u001b[0;34m(\u001b[0m\u001b[0mestimator\u001b[0m\u001b[0;34m,\u001b[0m \u001b[0mscoring\u001b[0m\u001b[0;34m=\u001b[0m\u001b[0mscoring\u001b[0m\u001b[0;34m)\u001b[0m\u001b[0;34m\u001b[0m\u001b[0;34m\u001b[0m\u001b[0m\n\u001b[1;32m    514\u001b[0m \u001b[0;34m\u001b[0m\u001b[0m\n\u001b[0;32m--> 515\u001b[0;31m     cv_results = cross_validate(\n\u001b[0m\u001b[1;32m    516\u001b[0m         \u001b[0mestimator\u001b[0m\u001b[0;34m=\u001b[0m\u001b[0mestimator\u001b[0m\u001b[0;34m,\u001b[0m\u001b[0;34m\u001b[0m\u001b[0;34m\u001b[0m\u001b[0m\n\u001b[1;32m    517\u001b[0m         \u001b[0mX\u001b[0m\u001b[0;34m=\u001b[0m\u001b[0mX\u001b[0m\u001b[0;34m,\u001b[0m\u001b[0;34m\u001b[0m\u001b[0;34m\u001b[0m\u001b[0m\n",
            "\u001b[0;32m/usr/local/lib/python3.10/dist-packages/sklearn/model_selection/_validation.py\u001b[0m in \u001b[0;36mcross_validate\u001b[0;34m(estimator, X, y, groups, scoring, cv, n_jobs, verbose, fit_params, pre_dispatch, return_train_score, return_estimator, error_score)\u001b[0m\n\u001b[1;32m    264\u001b[0m     \u001b[0;31m# independent, and that it is pickle-able.\u001b[0m\u001b[0;34m\u001b[0m\u001b[0;34m\u001b[0m\u001b[0m\n\u001b[1;32m    265\u001b[0m     \u001b[0mparallel\u001b[0m \u001b[0;34m=\u001b[0m \u001b[0mParallel\u001b[0m\u001b[0;34m(\u001b[0m\u001b[0mn_jobs\u001b[0m\u001b[0;34m=\u001b[0m\u001b[0mn_jobs\u001b[0m\u001b[0;34m,\u001b[0m \u001b[0mverbose\u001b[0m\u001b[0;34m=\u001b[0m\u001b[0mverbose\u001b[0m\u001b[0;34m,\u001b[0m \u001b[0mpre_dispatch\u001b[0m\u001b[0;34m=\u001b[0m\u001b[0mpre_dispatch\u001b[0m\u001b[0;34m)\u001b[0m\u001b[0;34m\u001b[0m\u001b[0;34m\u001b[0m\u001b[0m\n\u001b[0;32m--> 266\u001b[0;31m     results = parallel(\n\u001b[0m\u001b[1;32m    267\u001b[0m         delayed(_fit_and_score)(\n\u001b[1;32m    268\u001b[0m             \u001b[0mclone\u001b[0m\u001b[0;34m(\u001b[0m\u001b[0mestimator\u001b[0m\u001b[0;34m)\u001b[0m\u001b[0;34m,\u001b[0m\u001b[0;34m\u001b[0m\u001b[0;34m\u001b[0m\u001b[0m\n",
            "\u001b[0;32m/usr/local/lib/python3.10/dist-packages/sklearn/utils/parallel.py\u001b[0m in \u001b[0;36m__call__\u001b[0;34m(self, iterable)\u001b[0m\n\u001b[1;32m     61\u001b[0m             \u001b[0;32mfor\u001b[0m \u001b[0mdelayed_func\u001b[0m\u001b[0;34m,\u001b[0m \u001b[0margs\u001b[0m\u001b[0;34m,\u001b[0m \u001b[0mkwargs\u001b[0m \u001b[0;32min\u001b[0m \u001b[0miterable\u001b[0m\u001b[0;34m\u001b[0m\u001b[0;34m\u001b[0m\u001b[0m\n\u001b[1;32m     62\u001b[0m         )\n\u001b[0;32m---> 63\u001b[0;31m         \u001b[0;32mreturn\u001b[0m \u001b[0msuper\u001b[0m\u001b[0;34m(\u001b[0m\u001b[0;34m)\u001b[0m\u001b[0;34m.\u001b[0m\u001b[0m__call__\u001b[0m\u001b[0;34m(\u001b[0m\u001b[0miterable_with_config\u001b[0m\u001b[0;34m)\u001b[0m\u001b[0;34m\u001b[0m\u001b[0;34m\u001b[0m\u001b[0m\n\u001b[0m\u001b[1;32m     64\u001b[0m \u001b[0;34m\u001b[0m\u001b[0m\n\u001b[1;32m     65\u001b[0m \u001b[0;34m\u001b[0m\u001b[0m\n",
            "\u001b[0;32m/usr/local/lib/python3.10/dist-packages/joblib/parallel.py\u001b[0m in \u001b[0;36m__call__\u001b[0;34m(self, iterable)\u001b[0m\n\u001b[1;32m   1861\u001b[0m             \u001b[0moutput\u001b[0m \u001b[0;34m=\u001b[0m \u001b[0mself\u001b[0m\u001b[0;34m.\u001b[0m\u001b[0m_get_sequential_output\u001b[0m\u001b[0;34m(\u001b[0m\u001b[0miterable\u001b[0m\u001b[0;34m)\u001b[0m\u001b[0;34m\u001b[0m\u001b[0;34m\u001b[0m\u001b[0m\n\u001b[1;32m   1862\u001b[0m             \u001b[0mnext\u001b[0m\u001b[0;34m(\u001b[0m\u001b[0moutput\u001b[0m\u001b[0;34m)\u001b[0m\u001b[0;34m\u001b[0m\u001b[0;34m\u001b[0m\u001b[0m\n\u001b[0;32m-> 1863\u001b[0;31m             \u001b[0;32mreturn\u001b[0m \u001b[0moutput\u001b[0m \u001b[0;32mif\u001b[0m \u001b[0mself\u001b[0m\u001b[0;34m.\u001b[0m\u001b[0mreturn_generator\u001b[0m \u001b[0;32melse\u001b[0m \u001b[0mlist\u001b[0m\u001b[0;34m(\u001b[0m\u001b[0moutput\u001b[0m\u001b[0;34m)\u001b[0m\u001b[0;34m\u001b[0m\u001b[0;34m\u001b[0m\u001b[0m\n\u001b[0m\u001b[1;32m   1864\u001b[0m \u001b[0;34m\u001b[0m\u001b[0m\n\u001b[1;32m   1865\u001b[0m         \u001b[0;31m# Let's create an ID that uniquely identifies the current call. If the\u001b[0m\u001b[0;34m\u001b[0m\u001b[0;34m\u001b[0m\u001b[0m\n",
            "\u001b[0;32m/usr/local/lib/python3.10/dist-packages/joblib/parallel.py\u001b[0m in \u001b[0;36m_get_sequential_output\u001b[0;34m(self, iterable)\u001b[0m\n\u001b[1;32m   1790\u001b[0m                 \u001b[0mself\u001b[0m\u001b[0;34m.\u001b[0m\u001b[0mn_dispatched_batches\u001b[0m \u001b[0;34m+=\u001b[0m \u001b[0;36m1\u001b[0m\u001b[0;34m\u001b[0m\u001b[0;34m\u001b[0m\u001b[0m\n\u001b[1;32m   1791\u001b[0m                 \u001b[0mself\u001b[0m\u001b[0;34m.\u001b[0m\u001b[0mn_dispatched_tasks\u001b[0m \u001b[0;34m+=\u001b[0m \u001b[0;36m1\u001b[0m\u001b[0;34m\u001b[0m\u001b[0;34m\u001b[0m\u001b[0m\n\u001b[0;32m-> 1792\u001b[0;31m                 \u001b[0mres\u001b[0m \u001b[0;34m=\u001b[0m \u001b[0mfunc\u001b[0m\u001b[0;34m(\u001b[0m\u001b[0;34m*\u001b[0m\u001b[0margs\u001b[0m\u001b[0;34m,\u001b[0m \u001b[0;34m**\u001b[0m\u001b[0mkwargs\u001b[0m\u001b[0;34m)\u001b[0m\u001b[0;34m\u001b[0m\u001b[0;34m\u001b[0m\u001b[0m\n\u001b[0m\u001b[1;32m   1793\u001b[0m                 \u001b[0mself\u001b[0m\u001b[0;34m.\u001b[0m\u001b[0mn_completed_tasks\u001b[0m \u001b[0;34m+=\u001b[0m \u001b[0;36m1\u001b[0m\u001b[0;34m\u001b[0m\u001b[0;34m\u001b[0m\u001b[0m\n\u001b[1;32m   1794\u001b[0m                 \u001b[0mself\u001b[0m\u001b[0;34m.\u001b[0m\u001b[0mprint_progress\u001b[0m\u001b[0;34m(\u001b[0m\u001b[0;34m)\u001b[0m\u001b[0;34m\u001b[0m\u001b[0;34m\u001b[0m\u001b[0m\n",
            "\u001b[0;32m/usr/local/lib/python3.10/dist-packages/sklearn/utils/parallel.py\u001b[0m in \u001b[0;36m__call__\u001b[0;34m(self, *args, **kwargs)\u001b[0m\n\u001b[1;32m    121\u001b[0m             \u001b[0mconfig\u001b[0m \u001b[0;34m=\u001b[0m \u001b[0;34m{\u001b[0m\u001b[0;34m}\u001b[0m\u001b[0;34m\u001b[0m\u001b[0;34m\u001b[0m\u001b[0m\n\u001b[1;32m    122\u001b[0m         \u001b[0;32mwith\u001b[0m \u001b[0mconfig_context\u001b[0m\u001b[0;34m(\u001b[0m\u001b[0;34m**\u001b[0m\u001b[0mconfig\u001b[0m\u001b[0;34m)\u001b[0m\u001b[0;34m:\u001b[0m\u001b[0;34m\u001b[0m\u001b[0;34m\u001b[0m\u001b[0m\n\u001b[0;32m--> 123\u001b[0;31m             \u001b[0;32mreturn\u001b[0m \u001b[0mself\u001b[0m\u001b[0;34m.\u001b[0m\u001b[0mfunction\u001b[0m\u001b[0;34m(\u001b[0m\u001b[0;34m*\u001b[0m\u001b[0margs\u001b[0m\u001b[0;34m,\u001b[0m \u001b[0;34m**\u001b[0m\u001b[0mkwargs\u001b[0m\u001b[0;34m)\u001b[0m\u001b[0;34m\u001b[0m\u001b[0;34m\u001b[0m\u001b[0m\n\u001b[0m",
            "\u001b[0;32m/usr/local/lib/python3.10/dist-packages/sklearn/model_selection/_validation.py\u001b[0m in \u001b[0;36m_fit_and_score\u001b[0;34m(estimator, X, y, scorer, train, test, verbose, parameters, fit_params, return_train_score, return_parameters, return_n_test_samples, return_times, return_estimator, split_progress, candidate_progress, error_score)\u001b[0m\n\u001b[1;32m    706\u001b[0m \u001b[0;34m\u001b[0m\u001b[0m\n\u001b[1;32m    707\u001b[0m         \u001b[0mfit_time\u001b[0m \u001b[0;34m=\u001b[0m \u001b[0mtime\u001b[0m\u001b[0;34m.\u001b[0m\u001b[0mtime\u001b[0m\u001b[0;34m(\u001b[0m\u001b[0;34m)\u001b[0m \u001b[0;34m-\u001b[0m \u001b[0mstart_time\u001b[0m\u001b[0;34m\u001b[0m\u001b[0;34m\u001b[0m\u001b[0m\n\u001b[0;32m--> 708\u001b[0;31m         \u001b[0mtest_scores\u001b[0m \u001b[0;34m=\u001b[0m \u001b[0m_score\u001b[0m\u001b[0;34m(\u001b[0m\u001b[0mestimator\u001b[0m\u001b[0;34m,\u001b[0m \u001b[0mX_test\u001b[0m\u001b[0;34m,\u001b[0m \u001b[0my_test\u001b[0m\u001b[0;34m,\u001b[0m \u001b[0mscorer\u001b[0m\u001b[0;34m,\u001b[0m \u001b[0merror_score\u001b[0m\u001b[0;34m)\u001b[0m\u001b[0;34m\u001b[0m\u001b[0;34m\u001b[0m\u001b[0m\n\u001b[0m\u001b[1;32m    709\u001b[0m         \u001b[0mscore_time\u001b[0m \u001b[0;34m=\u001b[0m \u001b[0mtime\u001b[0m\u001b[0;34m.\u001b[0m\u001b[0mtime\u001b[0m\u001b[0;34m(\u001b[0m\u001b[0;34m)\u001b[0m \u001b[0;34m-\u001b[0m \u001b[0mstart_time\u001b[0m \u001b[0;34m-\u001b[0m \u001b[0mfit_time\u001b[0m\u001b[0;34m\u001b[0m\u001b[0;34m\u001b[0m\u001b[0m\n\u001b[1;32m    710\u001b[0m         \u001b[0;32mif\u001b[0m \u001b[0mreturn_train_score\u001b[0m\u001b[0;34m:\u001b[0m\u001b[0;34m\u001b[0m\u001b[0;34m\u001b[0m\u001b[0m\n",
            "\u001b[0;32m/usr/local/lib/python3.10/dist-packages/sklearn/model_selection/_validation.py\u001b[0m in \u001b[0;36m_score\u001b[0;34m(estimator, X_test, y_test, scorer, error_score)\u001b[0m\n\u001b[1;32m    751\u001b[0m \u001b[0;34m\u001b[0m\u001b[0m\n\u001b[1;32m    752\u001b[0m \u001b[0;34m\u001b[0m\u001b[0m\n\u001b[0;32m--> 753\u001b[0;31m \u001b[0;32mdef\u001b[0m \u001b[0m_score\u001b[0m\u001b[0;34m(\u001b[0m\u001b[0mestimator\u001b[0m\u001b[0;34m,\u001b[0m \u001b[0mX_test\u001b[0m\u001b[0;34m,\u001b[0m \u001b[0my_test\u001b[0m\u001b[0;34m,\u001b[0m \u001b[0mscorer\u001b[0m\u001b[0;34m,\u001b[0m \u001b[0merror_score\u001b[0m\u001b[0;34m=\u001b[0m\u001b[0;34m\"raise\"\u001b[0m\u001b[0;34m)\u001b[0m\u001b[0;34m:\u001b[0m\u001b[0;34m\u001b[0m\u001b[0;34m\u001b[0m\u001b[0m\n\u001b[0m\u001b[1;32m    754\u001b[0m     \"\"\"Compute the score(s) of an estimator on a given test set.\n\u001b[1;32m    755\u001b[0m \u001b[0;34m\u001b[0m\u001b[0m\n",
            "\u001b[0;31mKeyboardInterrupt\u001b[0m: "
          ]
        }
      ]
    },
    {
      "cell_type": "markdown",
      "source": [
        "El método Wrapper que se utilizó, `SequentialFeatureSelector`, puede ser computacionalmente costoso, especialmente cuando se trabaja con un gran número de características. En este caso, la ejecución está tomando mucho tiempo, posiblemente debido al tamaño del conjunto de datos o al algoritmo de clasificación utilizado."
      ],
      "metadata": {
        "id": "uBMJQA2y8m4s"
      }
    },
    {
      "cell_type": "markdown",
      "source": [
        "##6. Repite el paso 4, pero para un método de selección de características de tipo Filter-Wrapper.\n"
      ],
      "metadata": {
        "id": "it7IJc2muNu9"
      }
    },
    {
      "cell_type": "code",
      "source": [
        "clf = KNeighborsClassifier(n_neighbors=3)\n",
        "fselection = SelectKBest(score_func=f_classif)\n",
        "\n",
        "#Selección de características\n",
        "num_features = X.shape[1]\n",
        "print(\"Número de características: \", num_features)\n",
        "\n",
        "#Número óptimo de características utilizando validación cruzada\n",
        "num_feats = range(1, num_features // 2 + 1)\n",
        "acc_feats = []"
      ],
      "metadata": {
        "colab": {
          "base_uri": "https://localhost:8080/"
        },
        "id": "TRUGCNFesEwP",
        "outputId": "e645652d-bd81-423f-dc01-9d69f31866a9"
      },
      "execution_count": null,
      "outputs": [
        {
          "output_type": "stream",
          "name": "stdout",
          "text": [
            "Número de características:  153\n"
          ]
        }
      ]
    },
    {
      "cell_type": "code",
      "source": [
        "for num_feat in num_feats:\n",
        "    acc_cv = []\n",
        "    kf = StratifiedKFold(n_splits=5, shuffle=True)\n",
        "\n",
        "    for train_index, test_index in kf.split(X, y):\n",
        "        x_train = X[train_index]\n",
        "        y_train = y[train_index]\n",
        "        x_test = X[test_index]\n",
        "        y_test = y[test_index]\n",
        "\n",
        "        #Selección de características en conjunto de entrenamiento\n",
        "        fselection.fit(x_train, y_train)\n",
        "        x_train_selected = fselection.transform(x_train)\n",
        "\n",
        "        #Entrenamiento clasificador con las características seleccionadas\n",
        "        clf.fit(x_train_selected, y_train)\n",
        "\n",
        "        #Selección de características en conjunto de prueba\n",
        "        x_test_selected = fselection.transform(x_test)\n",
        "\n",
        "        #Predecir y evaluar\n",
        "        y_pred = clf.predict(x_test_selected)\n",
        "        acc_i = accuracy_score(y_test, y_pred)\n",
        "        acc_cv.append(acc_i)\n",
        "\n",
        "    acc_mean = np.mean(acc_cv)\n",
        "    acc_feats.append(acc_mean)\n",
        "\n",
        "plt.plot(num_feats, acc_feats)\n",
        "plt.xlabel(\"Features\")\n",
        "plt.ylabel(\"Accuracy\")\n",
        "plt.show()\n",
        "\n",
        "opt_index = np.argmax(acc_feats)\n",
        "opt_features = num_feats[opt_index]\n",
        "print(\"Número óptimo de características:\", opt_features)\n",
        "\n",
        "#Entrenar el clasificador con el número óptimo de características en todo el conjunto de datos\n",
        "fselection.fit(X, y)\n",
        "X_selected = fselection.transform(X)\n",
        "clf.fit(X_selected, y)\n",
        "print(\"Características seleccionadas:\", fselection.get_support())\n",
        "\n",
        "y_pred = clf.predict(X_selected)\n",
        "print(classification_report(y, y_pred))"
      ],
      "metadata": {
        "colab": {
          "base_uri": "https://localhost:8080/",
          "height": 860
        },
        "id": "S5I-zbobrB6S",
        "outputId": "b7116788-c781-4a98-d002-c8df6882fbcb"
      },
      "execution_count": null,
      "outputs": [
        {
          "output_type": "display_data",
          "data": {
            "text/plain": [
              "<Figure size 640x480 with 1 Axes>"
            ],
            "image/png": "[encoded data removed]"
          },
          "metadata": {}
        },
        {
          "output_type": "stream",
          "name": "stdout",
          "text": [
            "Número óptimo de características: 65\n",
            "Características seleccionadas: [False False False False False False False False False False False False\n",
            " False False False False False  True  True  True False False False  True\n",
            "  True  True  True  True  True  True False False False False False False\n",
            " False False False False False False False False False False False False\n",
            " False False False False False False False False False False False False\n",
            " False False False False False False False False False False False False\n",
            " False False False False False False False False False False False False\n",
            " False False False False False False False False False False False False\n",
            " False False False False False False False False False False False False\n",
            " False False False False False False False False False False False False\n",
            " False False False False False False False False False False False False\n",
            " False False False False False False False False False False False False\n",
            " False False False False False False False False False]\n",
            "              precision    recall  f1-score   support\n",
            "\n",
            "         1.0       0.90      0.89      0.90       299\n",
            "         2.0       0.96      0.97      0.97       895\n",
            "\n",
            "    accuracy                           0.95      1194\n",
            "   macro avg       0.93      0.93      0.93      1194\n",
            "weighted avg       0.95      0.95      0.95      1194\n",
            "\n"
          ]
        }
      ]
    },
    {
      "cell_type": "markdown",
      "source": [
        "El método resultó en un aumento en la precisión y el rendimiento general del modelo. La ventaja de este modelo es su capacidad para encontrar un subconjunto óptimo de características de manera eficiente, lo que puede mejorar el rendimiento y reducir la complejidad del modelo."
      ],
      "metadata": {
        "id": "zAN7GcRm-Acw"
      }
    },
    {
      "cell_type": "markdown",
      "source": [
        "##7. Escoge alguna de las técnicas de selección de características que probaste con anterioridad, y con el número óptimo de características encontrado, prepara tu modelo para producción haciendo lo siguiente:\n",
        "\n",
        "*   Aplica el método de selección de características con todos los datos.\n",
        "\n",
        "*   Ajusta el modelo con las características encontradas."
      ],
      "metadata": {
        "id": "mHA6bJfGuOK2"
      }
    },
    {
      "cell_type": "code",
      "source": [
        "#Método de selección de características con todos los datos\n",
        "fselection_final = SelectKBest(f_classif, k=opt_features)\n",
        "fselection_final.fit(X, y)\n",
        "X_selected_final = fselection_final.transform(X)\n",
        "\n",
        "#Ajuste del modelo con las características encontradas\n",
        "clf_final = SVC(kernel='linear')\n",
        "clf_final.fit(X_selected_final, y)"
      ],
      "metadata": {
        "colab": {
          "base_uri": "https://localhost:8080/",
          "height": 75
        },
        "id": "jfcB0jIfsHBi",
        "outputId": "74fa13e2-bcd4-445e-a3da-2e1d81d1090b"
      },
      "execution_count": null,
      "outputs": [
        {
          "output_type": "execute_result",
          "data": {
            "text/plain": [
              "SVC(kernel='linear')"
            ],
            "text/html": [
              "<style>#sk-container-id-3 {color: black;background-color: white;}#sk-container-id-3 pre{padding: 0;}#sk-container-id-3 div.sk-toggleable {background-color: white;}#sk-container-id-3 label.sk-toggleable__label {cursor: pointer;display: block;width: 100%;margin-bottom: 0;padding: 0.3em;box-sizing: border-box;text-align: center;}#sk-container-id-3 label.sk-toggleable__label-arrow:before {content: \"▸\";float: left;margin-right: 0.25em;color: #696969;}#sk-container-id-3 label.sk-toggleable__label-arrow:hover:before {color: black;}#sk-container-id-3 div.sk-estimator:hover label.sk-toggleable__label-arrow:before {color: black;}#sk-container-id-3 div.sk-toggleable__content {max-height: 0;max-width: 0;overflow: hidden;text-align: left;background-color: #f0f8ff;}#sk-container-id-3 div.sk-toggleable__content pre {margin: 0.2em;color: black;border-radius: 0.25em;background-color: #f0f8ff;}#sk-container-id-3 input.sk-toggleable__control:checked~div.sk-toggleable__content {max-height: 200px;max-width: 100%;overflow: auto;}#sk-container-id-3 input.sk-toggleable__control:checked~label.sk-toggleable__label-arrow:before {content: \"▾\";}#sk-container-id-3 div.sk-estimator input.sk-toggleable__control:checked~label.sk-toggleable__label {background-color: #d4ebff;}#sk-container-id-3 div.sk-label input.sk-toggleable__control:checked~label.sk-toggleable__label {background-color: #d4ebff;}#sk-container-id-3 input.sk-hidden--visually {border: 0;clip: rect(1px 1px 1px 1px);clip: rect(1px, 1px, 1px, 1px);height: 1px;margin: -1px;overflow: hidden;padding: 0;position: absolute;width: 1px;}#sk-container-id-3 div.sk-estimator {font-family: monospace;background-color: #f0f8ff;border: 1px dotted black;border-radius: 0.25em;box-sizing: border-box;margin-bottom: 0.5em;}#sk-container-id-3 div.sk-estimator:hover {background-color: #d4ebff;}#sk-container-id-3 div.sk-parallel-item::after {content: \"\";width: 100%;border-bottom: 1px solid gray;flex-grow: 1;}#sk-container-id-3 div.sk-label:hover label.sk-toggleable__label {background-color: #d4ebff;}#sk-container-id-3 div.sk-serial::before {content: \"\";position: absolute;border-left: 1px solid gray;box-sizing: border-box;top: 0;bottom: 0;left: 50%;z-index: 0;}#sk-container-id-3 div.sk-serial {display: flex;flex-direction: column;align-items: center;background-color: white;padding-right: 0.2em;padding-left: 0.2em;position: relative;}#sk-container-id-3 div.sk-item {position: relative;z-index: 1;}#sk-container-id-3 div.sk-parallel {display: flex;align-items: stretch;justify-content: center;background-color: white;position: relative;}#sk-container-id-3 div.sk-item::before, #sk-container-id-3 div.sk-parallel-item::before {content: \"\";position: absolute;border-left: 1px solid gray;box-sizing: border-box;top: 0;bottom: 0;left: 50%;z-index: -1;}#sk-container-id-3 div.sk-parallel-item {display: flex;flex-direction: column;z-index: 1;position: relative;background-color: white;}#sk-container-id-3 div.sk-parallel-item:first-child::after {align-self: flex-end;width: 50%;}#sk-container-id-3 div.sk-parallel-item:last-child::after {align-self: flex-start;width: 50%;}#sk-container-id-3 div.sk-parallel-item:only-child::after {width: 0;}#sk-container-id-3 div.sk-dashed-wrapped {border: 1px dashed gray;margin: 0 0.4em 0.5em 0.4em;box-sizing: border-box;padding-bottom: 0.4em;background-color: white;}#sk-container-id-3 div.sk-label label {font-family: monospace;font-weight: bold;display: inline-block;line-height: 1.2em;}#sk-container-id-3 div.sk-label-container {text-align: center;}#sk-container-id-3 div.sk-container {/* jupyter's `normalize.less` sets `[hidden] { display: none; }` but bootstrap.min.css set `[hidden] { display: none !important; }` so we also need the `!important` here to be able to override the default hidden behavior on the sphinx rendered scikit-learn.org. See: https://github.com/scikit-learn/scikit-learn/issues/21755 */display: inline-block !important;position: relative;}#sk-container-id-3 div.sk-text-repr-fallback {display: none;}</style><div id=\"sk-container-id-3\" class=\"sk-top-container\"><div class=\"sk-text-repr-fallback\"><pre>SVC(kernel=&#x27;linear&#x27;)</pre><b>In a Jupyter environment, please rerun this cell to show the HTML representation or trust the notebook. <br />On GitHub, the HTML representation is unable to render, please try loading this page with nbviewer.org.</b></div><div class=\"sk-container\" hidden><div class=\"sk-item\"><div class=\"sk-estimator sk-toggleable\"><input class=\"sk-toggleable__control sk-hidden--visually\" id=\"sk-estimator-id-3\" type=\"checkbox\" checked><label for=\"sk-estimator-id-3\" class=\"sk-toggleable__label sk-toggleable__label-arrow\">SVC</label><div class=\"sk-toggleable__content\"><pre>SVC(kernel=&#x27;linear&#x27;)</pre></div></div></div></div></div>"
            ]
          },
          "metadata": {},
          "execution_count": 136
        }
      ]
    },
    {
      "cell_type": "markdown",
      "source": [
        "##8. Contesta las siguientes preguntas:\n",
        "\n",
        "\n",
        "**1. ¿Qué pasa si no se considera el problema de tener datos desbalanceados para este caso? ¿Por qué?**\n",
        "\n",
        "Es probable que se obtengan resultados sesgados en la evaluación del modelo. Esto se debe a que, en un conjunto de datos desbalanceados, el modelo puede tener una tendencia a predecir principalmente la clase mayoritaria, ya que tiene más ejemplos para aprender y minimiza así el error total.\n",
        "\n",
        "De esta forma se lleva a una aparente precisión alta pero, al mismo tiempo, a una incapacidad para detectar adecuadamente las muestras de la clase minoritaria, lo que puede ser crítico. Por lo tanto, es esencial abordar el desbalance de clases para obtener una evaluación no solo precisa, sino equilibrada del rendimiento del modelo y tomar decisiones.\n",
        "\n",
        "**2.  De todos los clasificadores, ¿cuál o cuales consideras que son adecuados para los datos? ¿Qué propiedades tienen dichos modelos que los hacen apropiados para los datos? Argumenta tu respuesta.**\n",
        "\n",
        "* Support Vector Machines (SVM): Muestra un alto rendimiento en términos de precisión, recall y F1-score para ambas clases. Esto indica una buena capacidad de clasificación y equilibrio entre la precisión y la capacidad para detectar muestras positivas verdaderas. Además, la exactitud ponderada es del 93%, con lo que podemos decir que tiene un buen rendimiento general en datos desbalanceados. Además, la capacidad del SVM para manejar datos en un espacio de alta dimensión es bastante aceptable cuando se trabaja con muchas características.\n",
        "\n",
        "* Random Forest: También muestra un buen rendimiento, con alta precisión, recall y F1-score para la Clase 2, que es la clase mayoritaria. Aunque su recall para la Clase 1 es un poco menor, la capacidad general para clasificar bien las muestras positivas verdaderas en ambas clases es sólida. La exactitud ponderada es del 93%, lo que indica un rendimiento generalmente bueno.\n",
        "\n",
        "**3. ¿Es posibles reducir la dimensionalidad del problema sin perder rendimiento en el modelo? ¿Por qué?**\n",
        "\n",
        "Sí, ya que no todas las dimensiones en un conjunto de datos contribuyen por igual a la capacidad de predicción del modelo.\n",
        "\n",
        "Al reducir la dimensionalidad, eliminamos características redundantes o irrelevantes que pueden introducir ruido en el modelo y afectar su rendimiento. Al eliminar estas características, podemos simplificar el problema y mejorar la eficiencia del modelo al trabajar con menos datos.\n",
        "\n",
        "Además, al reducir la dimensionalidad, también podemos evitar el sobreajuste, que ocurre cuando un modelo se ajusta demasiado a los detalles específicos de los datos de entrenamiento y tiene dificultades para generalizar a nuevos datos.\n",
        "\n",
        "**4. ¿Qué método de selección de características consideras el más adecuado para este caso? ¿Por qué?**\n",
        "\n",
        "El método Filter-Wrapper combina la selección de características basada en filtros con la evaluación del modelo (Wrapper), lo que significa que tiene en cuenta tanto la independencia del modelo como la calidad de las características seleccionadas en relación con la tarea de clasificación específica. Esto le permite identificar un subconjunto de características que son más relevantes y útiles para el modelo, lo que a su vez mejora el rendimiento general. Parece que Filter-Wrapper tiene un mejor rendimiento en este caso, siendo la opción más adecuada para este conjunto de datos y problema de clasificación.\n",
        "\n",
        "**5. Si quisieras mejorar el rendimiento de tus modelos, ¿qué más se podría hacer?**\n",
        "\n",
        "Explorar más modelos y algoritmos, ya que no todas las técnicas de modelado se adaptan a todos los conjuntos de datos y problemas. Puede ser muy bueno comparar resultados con más modelos, otro manejo de datos desbalanceados, todo en base de prueba y error."
      ],
      "metadata": {
        "id": "x8hzuRiruOjm"
      }
    },
    {
      "cell_type": "markdown",
      "source": [
        "#Ejercicio 2\n",
        "Mi matrícula es: **A01541526** Por lo tanto, voy a trabajar con el conjunto de datos **M_2.txt**\n",
        "\n",
        "En este ejercicio se trabajará con el conjunto de datos M_2.txt. En estos archivos viene un experimento en el que se midió actividad muscular con la técnica de la Electromiografía en el brazo derecho de varios participantes cuando éstos realizaban un movimiento con la mano entre siete posible (Flexionar hacia arriba, Flexionar hacia abajo, Cerrar la mano, Estirar la mano, Abrir la mano, Coger un objeto, No moverse). Al igual que en el ejercicio anterior, los datos se cargan con la función loadtxt de numpy.\n",
        "\n",
        "La primera columna corresponde a la clase (1, 2, 3, 4, 5, 6, y 7), la segunda columna se ignora, y el resto de las columnas indican las variables que se calcularon de la respuesta muscular."
      ],
      "metadata": {
        "id": "oJUEQTTNKCJP"
      }
    },
    {
      "cell_type": "code",
      "source": [
        "data = np.loadtxt('/content/drive/MyDrive/Colab Notebooks/Aprendizaje/M_2.txt', delimiter='\\t', usecols=range(632))\n",
        "\n",
        "#Eliminar la segunda columna, la cual se ignora\n",
        "data = np.delete(data, 1, axis=1)"
      ],
      "metadata": {
        "id": "KNWRrmlUL2F-"
      },
      "execution_count": null,
      "outputs": []
    },
    {
      "cell_type": "code",
      "source": [
        "data"
      ],
      "metadata": {
        "colab": {
          "base_uri": "https://localhost:8080/"
        },
        "id": "jFqZTuA_MFW2",
        "outputId": "696c410c-7ea8-4c62-e012-1986e4cbab3a"
      },
      "execution_count": null,
      "outputs": [
        {
          "output_type": "execute_result",
          "data": {
            "text/plain": [
              "array([[ 1.        ,  0.17902063,  0.69059815, ...,  0.16430983,\n",
              "         2.42303028,  0.94030885],\n",
              "       [ 1.        , -0.39249024,  1.38063565, ...,  0.53485839,\n",
              "         2.35862084, -1.84087579],\n",
              "       [ 1.        , -0.26494362,  0.2918987 , ..., -0.28655906,\n",
              "         1.27315719, -1.12413001],\n",
              "       ...,\n",
              "       [ 7.        , -4.28085665, -6.83196077, ..., -1.56343527,\n",
              "        -0.98483248, -3.8617832 ],\n",
              "       [ 7.        , -3.97343077, -5.60664527, ..., -1.39446376,\n",
              "        -1.09606469, -3.74005879],\n",
              "       [ 7.        , -4.64413141, -6.30389282, ..., -1.06930919,\n",
              "        -1.67313399, -3.85088277]])"
            ]
          },
          "metadata": {},
          "execution_count": 47
        }
      ]
    },
    {
      "cell_type": "markdown",
      "source": [
        "##1. Determina si es necesario balancear los datos.\n",
        "En caso de que sea afirmativo, en todo este ejercicio tendrás que utilizar alguna estrategia para mitigar el problema de tener una muestra desbalanceada."
      ],
      "metadata": {
        "id": "ZNfwy_o1Vp2y"
      }
    },
    {
      "cell_type": "code",
      "source": [
        "#Ignorar la primera columna\n",
        "X = data[:, 1:]\n",
        "#Clase\n",
        "y = data[:, 0]"
      ],
      "metadata": {
        "id": "dUtAv3hehK5O"
      },
      "execution_count": null,
      "outputs": []
    },
    {
      "cell_type": "code",
      "source": [
        "#Calcular recall por clase\n",
        "sensitivity = {}\n",
        "for class_label in range(1, 8):\n",
        "    class_true = (y == class_label).astype(int)\n",
        "    class_pred = (np.where(y == class_label, 1, 0)).astype(int)\n",
        "    sensitivity[class_label] = recall_score(class_true, class_pred, average='weighted')\n",
        "\n",
        "#Exactitud ponderada\n",
        "weighted_accuracy = accuracy_score(y, np.where(y == 1, 1, 0), sample_weight=np.where(y == 1, 0.5, 0.5))\n",
        "\n",
        "for class_label, recall in sensitivity.items():\n",
        "    print(\"Recall para la Clase {}: {}\".format(class_label, recall))\n",
        "print(\"Exactitud Ponderada:\", weighted_accuracy)"
      ],
      "metadata": {
        "colab": {
          "base_uri": "https://localhost:8080/"
        },
        "id": "p7jzGcq9eamU",
        "outputId": "d8c71b02-943e-4306-f7b5-de1f285a88c0"
      },
      "execution_count": null,
      "outputs": [
        {
          "output_type": "stream",
          "name": "stdout",
          "text": [
            "Recall para la Clase 1: 1.0\n",
            "Recall para la Clase 2: 1.0\n",
            "Recall para la Clase 3: 1.0\n",
            "Recall para la Clase 4: 1.0\n",
            "Recall para la Clase 5: 1.0\n",
            "Recall para la Clase 6: 1.0\n",
            "Recall para la Clase 7: 1.0\n",
            "Exactitud Ponderada: 0.14285714285714285\n"
          ]
        }
      ]
    },
    {
      "cell_type": "markdown",
      "source": [
        "El modelo parece ser muy efectivo en la identificación de muestras positivas para cada una de las siete clases. Sin embargo, la baja exactitud ponderada podría indicar un desequilibrio en la distribución de clases o un problema con la ponderación de las muestras en la métrica de exactitud ponderada.\n",
        "\n",
        "Sin embargo, para determinar si es necesario balancear los datos, analicemos la distribución de las clases en el conjunto de datos."
      ],
      "metadata": {
        "id": "Wd1YaCjpfGD8"
      }
    },
    {
      "cell_type": "code",
      "source": [
        "#Cálculo de la distribución de clases\n",
        "class_distribution = np.bincount(y.astype(int))\n",
        "\n",
        "for class_label, count in enumerate(class_distribution[1:]):\n",
        "    print(\"Clase {}: {}\".format(class_label + 1, count))\n",
        "\n",
        "if np.min(class_distribution[1:]) / np.max(class_distribution[1:]) < 0.5:\n",
        "    print(\"Datos desbalanceados\")\n",
        "else:\n",
        "    print(\"Datos balanceados\")"
      ],
      "metadata": {
        "colab": {
          "base_uri": "https://localhost:8080/"
        },
        "id": "XC3AAWKdgUDV",
        "outputId": "bc1b9e21-f647-4c93-9e07-f2221e4e4e28"
      },
      "execution_count": null,
      "outputs": [
        {
          "output_type": "stream",
          "name": "stdout",
          "text": [
            "Clase 1: 90\n",
            "Clase 2: 90\n",
            "Clase 3: 90\n",
            "Clase 4: 90\n",
            "Clase 5: 90\n",
            "Clase 6: 90\n",
            "Clase 7: 90\n",
            "Datos balanceados\n"
          ]
        }
      ]
    },
    {
      "cell_type": "markdown",
      "source": [
        "Dado que todas las clases tienen exactamente la misma cantidad de muestras, no se considera que haya un desequilibrio significativo en la distribución de clases."
      ],
      "metadata": {
        "id": "s0lxhQN5hctD"
      }
    },
    {
      "cell_type": "markdown",
      "source": [
        "##2. Evalúa al menos 5 modelos de clasificación distintos utilizando validación cruzada, y determina cuál de ellos es el más efectivo."
      ],
      "metadata": {
        "id": "fAJ3kxptVuYf"
      }
    },
    {
      "cell_type": "markdown",
      "source": [
        "###Support Vector Machines (SVM)"
      ],
      "metadata": {
        "id": "stgS5t6UiOGg"
      }
    },
    {
      "cell_type": "code",
      "source": [
        "kf = StratifiedKFold(n_splits=5, shuffle=True)\n",
        "cv_y_test = []\n",
        "cv_y_pred = []"
      ],
      "metadata": {
        "id": "yZIVS-J1iWlz"
      },
      "execution_count": null,
      "outputs": []
    },
    {
      "cell_type": "code",
      "source": [
        "for train_index, test_index in kf.split(X, y):\n",
        "    x_train = X[train_index]\n",
        "    y_train = y[train_index]\n",
        "    x_test = X[test_index]\n",
        "    y_test = y[test_index]\n",
        "\n",
        "    clf = SVC(kernel='linear')\n",
        "    clf.fit(x_train, y_train)\n",
        "    y_pred = clf.predict(x_test)\n",
        "\n",
        "    cv_y_test.append(y_test)\n",
        "    cv_y_pred.append(y_pred)"
      ],
      "metadata": {
        "id": "cRiu4v6Hjynb"
      },
      "execution_count": null,
      "outputs": []
    },
    {
      "cell_type": "code",
      "source": [
        "print(classification_report(np.concatenate(cv_y_test), np.concatenate(cv_y_pred)))"
      ],
      "metadata": {
        "colab": {
          "base_uri": "https://localhost:8080/"
        },
        "id": "ITWepR_QjzpQ",
        "outputId": "33249985-38bf-48b6-d3a3-2305e0069cad"
      },
      "execution_count": null,
      "outputs": [
        {
          "output_type": "stream",
          "name": "stdout",
          "text": [
            "              precision    recall  f1-score   support\n",
            "\n",
            "         1.0       0.90      0.92      0.91        90\n",
            "         2.0       0.69      0.73      0.71        90\n",
            "         3.0       0.91      0.94      0.93        90\n",
            "         4.0       0.94      0.91      0.93        90\n",
            "         5.0       0.79      0.72      0.76        90\n",
            "         6.0       0.75      0.73      0.74        90\n",
            "         7.0       0.92      0.96      0.94        90\n",
            "\n",
            "    accuracy                           0.85       630\n",
            "   macro avg       0.85      0.85      0.85       630\n",
            "weighted avg       0.85      0.85      0.85       630\n",
            "\n"
          ]
        }
      ]
    },
    {
      "cell_type": "markdown",
      "source": [
        "###Decision Tree"
      ],
      "metadata": {
        "id": "r1YK96DviWDR"
      }
    },
    {
      "cell_type": "code",
      "source": [
        "kf = StratifiedKFold(n_splits=5, shuffle=True)\n",
        "cv_y_test = []\n",
        "cv_y_pred = []"
      ],
      "metadata": {
        "id": "o3zEq93oibPP"
      },
      "execution_count": null,
      "outputs": []
    },
    {
      "cell_type": "code",
      "source": [
        "for train_index, test_index in kf.split(X, y):\n",
        "    x_train = X[train_index]\n",
        "    y_train = y[train_index]\n",
        "    x_test = X[test_index]\n",
        "    y_test = y[test_index]\n",
        "\n",
        "    clf = DecisionTreeClassifier()\n",
        "    clf.fit(x_train, y_train)\n",
        "    y_pred = clf.predict(x_test)\n",
        "\n",
        "    cv_y_test.append(y_test)\n",
        "    cv_y_pred.append(y_pred)"
      ],
      "metadata": {
        "id": "ChOI_Ct9j--L"
      },
      "execution_count": null,
      "outputs": []
    },
    {
      "cell_type": "code",
      "source": [
        "print(classification_report(np.concatenate(cv_y_test), np.concatenate(cv_y_pred)))"
      ],
      "metadata": {
        "colab": {
          "base_uri": "https://localhost:8080/"
        },
        "id": "NiXBy6tfkCeI",
        "outputId": "334953c6-a243-4131-83c3-cbdbe6788cd4"
      },
      "execution_count": null,
      "outputs": [
        {
          "output_type": "stream",
          "name": "stdout",
          "text": [
            "              precision    recall  f1-score   support\n",
            "\n",
            "         1.0       0.72      0.76      0.74        90\n",
            "         2.0       0.54      0.58      0.56        90\n",
            "         3.0       0.82      0.84      0.83        90\n",
            "         4.0       0.72      0.69      0.70        90\n",
            "         5.0       0.39      0.46      0.42        90\n",
            "         6.0       0.60      0.49      0.54        90\n",
            "         7.0       0.89      0.83      0.86        90\n",
            "\n",
            "    accuracy                           0.66       630\n",
            "   macro avg       0.67      0.66      0.67       630\n",
            "weighted avg       0.67      0.66      0.67       630\n",
            "\n"
          ]
        }
      ]
    },
    {
      "cell_type": "markdown",
      "source": [
        "###KNN"
      ],
      "metadata": {
        "id": "XB538yqyiNr6"
      }
    },
    {
      "cell_type": "code",
      "source": [
        "kf = StratifiedKFold(n_splits=5, shuffle = True)\n",
        "cv_y_test = []\n",
        "cv_y_pred = []"
      ],
      "metadata": {
        "id": "zB9H6rJ2ieog"
      },
      "execution_count": null,
      "outputs": []
    },
    {
      "cell_type": "code",
      "source": [
        "for train_index, test_index in kf.split(X, y):\n",
        "    x_train = X[train_index]\n",
        "    y_train = y[train_index]\n",
        "    x_test = X[test_index]\n",
        "    y_test = y[test_index]\n",
        "\n",
        "    clf = KNeighborsClassifier(n_neighbors=3)\n",
        "    clf.fit(x_train, y_train)\n",
        "    y_pred = clf.predict(x_test)\n",
        "\n",
        "    cv_y_test.append(y_test)\n",
        "    cv_y_pred.append(y_pred)"
      ],
      "metadata": {
        "id": "57mkD1k3kNA-"
      },
      "execution_count": null,
      "outputs": []
    },
    {
      "cell_type": "code",
      "source": [
        "print(classification_report(np.concatenate(cv_y_test), np.concatenate(cv_y_pred)))"
      ],
      "metadata": {
        "colab": {
          "base_uri": "https://localhost:8080/"
        },
        "id": "bxHosnx9kQFX",
        "outputId": "b6d8101d-2bf0-4038-9dc6-80675ca77e69"
      },
      "execution_count": null,
      "outputs": [
        {
          "output_type": "stream",
          "name": "stdout",
          "text": [
            "              precision    recall  f1-score   support\n",
            "\n",
            "         1.0       0.81      0.93      0.87        90\n",
            "         2.0       0.65      0.76      0.70        90\n",
            "         3.0       0.92      0.92      0.92        90\n",
            "         4.0       0.85      0.82      0.84        90\n",
            "         5.0       0.78      0.48      0.59        90\n",
            "         6.0       0.74      0.78      0.76        90\n",
            "         7.0       0.88      0.93      0.90        90\n",
            "\n",
            "    accuracy                           0.80       630\n",
            "   macro avg       0.81      0.80      0.80       630\n",
            "weighted avg       0.81      0.80      0.80       630\n",
            "\n"
          ]
        }
      ]
    },
    {
      "cell_type": "markdown",
      "source": [
        "###Linear Discriminant Analysis"
      ],
      "metadata": {
        "id": "7RQE7GyAiNX4"
      }
    },
    {
      "cell_type": "code",
      "source": [
        "kf = StratifiedKFold(n_splits=5, shuffle=True)\n",
        "cv_y_test = []\n",
        "cv_y_pred = []"
      ],
      "metadata": {
        "id": "oen_RLgIikNh"
      },
      "execution_count": null,
      "outputs": []
    },
    {
      "cell_type": "code",
      "source": [
        "for train_index, test_index in kf.split(X, y):\n",
        "    x_train = X[train_index]\n",
        "    y_train = y[train_index]\n",
        "    x_test = X[test_index]\n",
        "    y_test = y[test_index]\n",
        "\n",
        "    clf = LinearDiscriminantAnalysis()\n",
        "    clf.fit(x_train, y_train)\n",
        "    y_pred = clf.predict(x_test)\n",
        "\n",
        "    cv_y_test.append(y_test)\n",
        "    cv_y_pred.append(y_pred)"
      ],
      "metadata": {
        "id": "0fJwMel1kblt"
      },
      "execution_count": null,
      "outputs": []
    },
    {
      "cell_type": "code",
      "source": [
        "print(classification_report(np.concatenate(cv_y_test), np.concatenate(cv_y_pred)))"
      ],
      "metadata": {
        "colab": {
          "base_uri": "https://localhost:8080/"
        },
        "id": "dXqVBpEVkfM0",
        "outputId": "020c065a-8ebe-47dd-b133-085b50590748"
      },
      "execution_count": null,
      "outputs": [
        {
          "output_type": "stream",
          "name": "stdout",
          "text": [
            "              precision    recall  f1-score   support\n",
            "\n",
            "         1.0       0.74      0.69      0.71        90\n",
            "         2.0       0.46      0.46      0.46        90\n",
            "         3.0       0.78      0.82      0.80        90\n",
            "         4.0       0.80      0.70      0.75        90\n",
            "         5.0       0.41      0.48      0.44        90\n",
            "         6.0       0.52      0.53      0.53        90\n",
            "         7.0       0.72      0.69      0.70        90\n",
            "\n",
            "    accuracy                           0.62       630\n",
            "   macro avg       0.63      0.62      0.63       630\n",
            "weighted avg       0.63      0.62      0.63       630\n",
            "\n"
          ]
        }
      ]
    },
    {
      "cell_type": "markdown",
      "source": [
        "###Random Forest"
      ],
      "metadata": {
        "id": "Iupo-kZiikzZ"
      }
    },
    {
      "cell_type": "code",
      "source": [
        "kf = StratifiedKFold(n_splits=5, shuffle=True)\n",
        "cv_y_test = []\n",
        "cv_y_pred = []"
      ],
      "metadata": {
        "id": "ev6lNtwbioqf"
      },
      "execution_count": null,
      "outputs": []
    },
    {
      "cell_type": "code",
      "source": [
        "for train_index, test_index in kf.split(X, y):\n",
        "    x_train = X[train_index]\n",
        "    y_train = y[train_index]\n",
        "    x_test = X[test_index]\n",
        "    y_test = y[test_index]\n",
        "\n",
        "    clf = RandomForestClassifier()\n",
        "    clf.fit(x_train, y_train)\n",
        "    y_pred = clf.predict(x_test)\n",
        "\n",
        "    cv_y_test.append(y_test)\n",
        "    cv_y_pred.append(y_pred)"
      ],
      "metadata": {
        "id": "T-M8V3lxkvVp"
      },
      "execution_count": null,
      "outputs": []
    },
    {
      "cell_type": "code",
      "source": [
        "print(classification_report(np.concatenate(cv_y_test), np.concatenate(cv_y_pred)))"
      ],
      "metadata": {
        "colab": {
          "base_uri": "https://localhost:8080/"
        },
        "id": "LvIGiE00k04R",
        "outputId": "559f7c0d-b143-44f3-8499-4117f30ec2b8"
      },
      "execution_count": null,
      "outputs": [
        {
          "output_type": "stream",
          "name": "stdout",
          "text": [
            "              precision    recall  f1-score   support\n",
            "\n",
            "         1.0       0.89      0.92      0.91        90\n",
            "         2.0       0.69      0.78      0.73        90\n",
            "         3.0       0.95      0.92      0.94        90\n",
            "         4.0       0.85      0.89      0.87        90\n",
            "         5.0       0.70      0.63      0.67        90\n",
            "         6.0       0.79      0.64      0.71        90\n",
            "         7.0       0.87      0.98      0.92        90\n",
            "\n",
            "    accuracy                           0.82       630\n",
            "   macro avg       0.82      0.82      0.82       630\n",
            "weighted avg       0.82      0.82      0.82       630\n",
            "\n"
          ]
        }
      ]
    },
    {
      "cell_type": "markdown",
      "source": [
        "###Modelos más efectivos\n",
        "\n",
        "Analizando las métricas de rendimiento, podemos ver que los modelos más efectivos son:\n",
        "\n",
        "1. SVM: Tiene un buen rendimiento general, con un accuracy de 0.83, y altas puntuaciones de precisión, recall y f1-score para la mayoría de las clases. Sobretodo en la clasificación de la clase 3, con un f1-score de 0.93, con lo que podemos deducir que el modelo tiene una alta capacidad para predecir correctamente esta clase.\n",
        "\n",
        "2. Random Forest: También muestra un buen rendimiento general, con un accuracy de 0.82. Altas puntuaciones de precisión, recall y f1-score para la mayoría de las clases, sobretodo en la clasificación de las clases 1, 3 y 7. Se puede decir que este modelo es útil cuando se requiere una mayor generalización en los datos.\n",
        "\n",
        "3. KNN: Accuracy de 0.80 y muestra un buen rendimiento en precisión, recall y f1-score para la mayoría de las clases. Es especialmente bueno en la clasificación de la clase 3, 4 y 7.\n",
        "\n",
        "SVM, KNN y Random Forest tienen resultados similares, por lo que podemos considerar cualquiera de ellos como el modelo más efectivo.\n",
        "\n",
        "Por otro lado, podemos descratar los siguientes modelos:\n",
        "\n",
        "1. Decision Tree: Muestra un rendimiento general inferior en comparación con los otros modelos. Tiene un accuracy de 0.66, que es más bajo que los otros modelos analizados. Además, las puntuaciones de precisión, recall y f1-score para la mayoría de las clases son más bajas en comparación con los otros modelos. Se puede concluir que este modelo no es tan efectivo en la clasificación precisa de las clases.\n",
        "\n",
        "2. Linear Discriminant Analysis: Rendimiento inferior en comparación con los otros modelos. También un accuracy de 0.66. Además, las puntuaciones de precisión, recall y f1-score para la mayoría de las clases también son más bajas.\n",
        "\n"
      ],
      "metadata": {
        "id": "UAxaqCiLlCWn"
      }
    },
    {
      "cell_type": "markdown",
      "source": [
        "##3. Escoge al menos dos clasificadores que hayas evaluado en el paso anterior e identifica sus hiperparámetros.\n",
        "Lleva a cabo el proceso de validación cruzada anidada para evaluar los dos modelos con la selección óptima de hiperparámetros."
      ],
      "metadata": {
        "id": "O0MvkCPDV08f"
      }
    },
    {
      "cell_type": "markdown",
      "source": [
        "###SVM"
      ],
      "metadata": {
        "id": "rSzx--4Ywbyu"
      }
    },
    {
      "cell_type": "code",
      "source": [
        "#Rangos de valores para los hiperparámetros de SVM\n",
        "param_grid = {'kernel': ['linear', 'rbf'], 'C': [0.1, 1, 10], 'gamma': [0.1, 1, 10]}\n",
        "\n",
        "#Objeto GridSearchCV con el clasificador SVM y los hiperparámetros definidos\n",
        "grid_search = GridSearchCV(estimator=SVC(), param_grid=param_grid, cv=5)\n",
        "\n",
        "#Búsqueda de hiperparámetros utilizando el conjunto de datos\n",
        "grid_search.fit(X, y)\n",
        "\n",
        "#Hiperparámetros óptimos encontrados\n",
        "best_params = grid_search.best_params_\n",
        "print(best_params)"
      ],
      "metadata": {
        "colab": {
          "base_uri": "https://localhost:8080/"
        },
        "id": "Nkn3lUyqDtPN",
        "outputId": "054131cc-7ce7-47c9-a459-34b80494ccb3"
      },
      "execution_count": null,
      "outputs": [
        {
          "output_type": "stream",
          "name": "stdout",
          "text": [
            "{'C': 0.1, 'gamma': 0.1, 'kernel': 'linear'}\n"
          ]
        }
      ]
    },
    {
      "cell_type": "code",
      "source": [
        "#Clasificador SVM con los hiperparámetros óptimos encontrados\n",
        "svm = SVC(kernel=best_params['kernel'], C=best_params['C'], gamma=best_params['gamma'])\n",
        "\n",
        "#Validación cruzada anidada y obtener el rendimiento del modelo\n",
        "nested_scores = cross_val_score(svm, X, y, cv=kf)\n",
        "\n",
        "print(\"Precisión media:\", nested_scores.mean())\n",
        "print(\"Desviación estándar:\", nested_scores.std())"
      ],
      "metadata": {
        "colab": {
          "base_uri": "https://localhost:8080/"
        },
        "id": "dg24WcnkFh30",
        "outputId": "032015bd-3a45-452a-c5d8-c538abe027e2"
      },
      "execution_count": null,
      "outputs": [
        {
          "output_type": "stream",
          "name": "stdout",
          "text": [
            "Precisión media: 0.8412698412698412\n",
            "Desviación estándar: 0.016647759494764314\n"
          ]
        }
      ]
    },
    {
      "cell_type": "markdown",
      "source": [
        "El clasificador SVM clasifica correctamente el 84.4% de los ejemplos en los conjuntos de prueba de cada división de la validación cruzada anidada.\n",
        "\n",
        "La desviación estándar de 0.017 sugiere que el rendimiento del modelo es relativamente consistente en diferentes divisiones del conjunto de datos.\n",
        "\n",
        "Estos resultados son indicativos de un modelo con buen rendimiento."
      ],
      "metadata": {
        "id": "NqnwJXG_Jsvg"
      }
    },
    {
      "cell_type": "markdown",
      "source": [
        "###KNN"
      ],
      "metadata": {
        "id": "da5EFDy70Vw_"
      }
    },
    {
      "cell_type": "code",
      "source": [
        "#Rango de valores para el hiperparámetro 'n_neighbors'\n",
        "param_grid = {'n_neighbors': np.arange(1, 100)}\n",
        "\n",
        "#Objeto GridSearchCV con el clasificador KNN y los hiperparámetros definidos\n",
        "grid_search = GridSearchCV(estimator=KNeighborsClassifier(), param_grid=param_grid, cv=5)\n",
        "\n",
        "#Búsqueda de hiperparámetros utilizando el conjunto de datos\n",
        "grid_search.fit(X, y)\n",
        "\n",
        "#Hiperparámetro óptimo encontrado\n",
        "best_param = grid_search.best_params_['n_neighbors']\n",
        "print(best_param)"
      ],
      "metadata": {
        "colab": {
          "base_uri": "https://localhost:8080/"
        },
        "id": "J5evGWLYCck8",
        "outputId": "cf5ab5c1-bb80-4e0e-a1ed-9c529cbb3287"
      },
      "execution_count": null,
      "outputs": [
        {
          "output_type": "stream",
          "name": "stdout",
          "text": [
            "1\n"
          ]
        }
      ]
    },
    {
      "cell_type": "markdown",
      "source": [
        "El clasificador KNN considerará solo al vecino más cercano al realizar una predicción."
      ],
      "metadata": {
        "id": "463PQOO6Kx2i"
      }
    },
    {
      "cell_type": "code",
      "source": [
        "#Clasificador KNN con el hiperparámetro óptimo encontrado\n",
        "knn = KNeighborsClassifier(n_neighbors=best_param)\n",
        "\n",
        "#Validación cruzada anidada y obtener el rendimiento del modelo\n",
        "nested_scores = cross_val_score(knn, X, y, cv=kf)\n",
        "\n",
        "print(\"Precisión media:\", nested_scores.mean())\n",
        "print(\"Desviación estándar:\", nested_scores.std())"
      ],
      "metadata": {
        "colab": {
          "base_uri": "https://localhost:8080/"
        },
        "id": "jgEpFpesDOqY",
        "outputId": "e1c3cbb7-c37b-4e19-de33-9f4adacb44b6"
      },
      "execution_count": null,
      "outputs": [
        {
          "output_type": "stream",
          "name": "stdout",
          "text": [
            "Precisión media: 0.807936507936508\n",
            "Desviación estándar: 0.027675548847877308\n"
          ]
        }
      ]
    },
    {
      "cell_type": "markdown",
      "source": [
        "KNN clasifica correctamente el 80.3% de los ejemplos en los conjuntos de prueba de cada división de la validación cruzada anidada.\n",
        "\n",
        "La desviación estándar de 0.045, al igual que en el caso anterior, también indica una consistencia razonable en el rendimiento del modelo en diferentes divisiones del conjunto de datos."
      ],
      "metadata": {
        "id": "YSG5Fn4CLoJL"
      }
    },
    {
      "cell_type": "markdown",
      "source": [
        "##4. Prepara tus modelos para producción haciendo lo siguiente:\n",
        "A. Obten los hiperparámetros óptimos utilizando todo el conjunto de datos con validación cruzada.\n"
      ],
      "metadata": {
        "id": "nYILwwCEV9zp"
      }
    },
    {
      "cell_type": "code",
      "source": [
        "#---------SVM----------\n",
        "\n",
        "#Rangos de valores para los hiperparámetros de SVM\n",
        "param_grid = {'kernel': ['linear', 'rbf'], 'C': [0.1, 1, 10], 'gamma': [0.1, 1, 10]}\n",
        "\n",
        "#Objeto GridSearchCV con el clasificador SVM y los hiperparámetros definidos\n",
        "grid_search = GridSearchCV(estimator=SVC(), param_grid=param_grid, cv=5)\n",
        "\n",
        "#Búsqueda de hiperparámetros utilizando el conjunto de datos completo\n",
        "grid_search.fit(X, y)\n",
        "\n",
        "#Hiperparámetros óptimos encontrados\n",
        "best_params = grid_search.best_params_\n",
        "print(best_params)"
      ],
      "metadata": {
        "colab": {
          "base_uri": "https://localhost:8080/"
        },
        "id": "I1YGnAgoMlEd",
        "outputId": "1755c47f-5bf6-416b-9564-917d706acba2"
      },
      "execution_count": null,
      "outputs": [
        {
          "output_type": "stream",
          "name": "stdout",
          "text": [
            "{'C': 0.1, 'gamma': 0.1, 'kernel': 'linear'}\n"
          ]
        }
      ]
    },
    {
      "cell_type": "code",
      "source": [
        "#---------KNN----------\n",
        "\n",
        "#Rangos de valores para los hiperparámetros de KNN\n",
        "param_grid = {'n_neighbors': np.arange(1, 100), 'weights': ['uniform', 'distance']}\n",
        "\n",
        "#Objeto GridSearchCV con el clasificador KNN y los hiperparámetros definidos\n",
        "grid_search = GridSearchCV(estimator=KNeighborsClassifier(), param_grid=param_grid, cv=5)\n",
        "\n",
        "#Búsqueda de hiperparámetros utilizando el conjunto de datos completo\n",
        "grid_search.fit(X, y)\n",
        "\n",
        "#Hiperparámetros óptimos encontrados\n",
        "best_params = grid_search.best_params_\n",
        "print(best_params)"
      ],
      "metadata": {
        "colab": {
          "base_uri": "https://localhost:8080/"
        },
        "id": "9CbURbdONXKR",
        "outputId": "f070d728-917e-4e2e-9e36-a65ea5be7afe"
      },
      "execution_count": null,
      "outputs": [
        {
          "output_type": "stream",
          "name": "stdout",
          "text": [
            "{'n_neighbors': 3, 'weights': 'distance'}\n"
          ]
        }
      ]
    },
    {
      "cell_type": "markdown",
      "source": [
        "B. Con los hiperparámetros óptimos, ajusta el modelo con todos los datos."
      ],
      "metadata": {
        "id": "17QKwXqDMuzZ"
      }
    },
    {
      "cell_type": "code",
      "source": [
        "#---------SVM----------\n",
        "\n",
        "#Clasificador SVM con los hiperparámetros óptimos encontrados\n",
        "svm = SVC(kernel=best_params['kernel'], C=best_params['C'], gamma=best_params['gamma'])\n",
        "\n",
        "#Ajuste del modelo con todos los datos\n",
        "svm.fit(X, y)"
      ],
      "metadata": {
        "colab": {
          "base_uri": "https://localhost:8080/",
          "height": 75
        },
        "id": "D_f5Fv_jMvzd",
        "outputId": "db328196-5d12-4d06-a6da-6aad65e15255"
      },
      "execution_count": null,
      "outputs": [
        {
          "output_type": "execute_result",
          "data": {
            "text/plain": [
              "SVC(C=0.1, gamma=0.1, kernel='linear')"
            ],
            "text/html": [
              "<style>#sk-container-id-6 {color: black;background-color: white;}#sk-container-id-6 pre{padding: 0;}#sk-container-id-6 div.sk-toggleable {background-color: white;}#sk-container-id-6 label.sk-toggleable__label {cursor: pointer;display: block;width: 100%;margin-bottom: 0;padding: 0.3em;box-sizing: border-box;text-align: center;}#sk-container-id-6 label.sk-toggleable__label-arrow:before {content: \"▸\";float: left;margin-right: 0.25em;color: #696969;}#sk-container-id-6 label.sk-toggleable__label-arrow:hover:before {color: black;}#sk-container-id-6 div.sk-estimator:hover label.sk-toggleable__label-arrow:before {color: black;}#sk-container-id-6 div.sk-toggleable__content {max-height: 0;max-width: 0;overflow: hidden;text-align: left;background-color: #f0f8ff;}#sk-container-id-6 div.sk-toggleable__content pre {margin: 0.2em;color: black;border-radius: 0.25em;background-color: #f0f8ff;}#sk-container-id-6 input.sk-toggleable__control:checked~div.sk-toggleable__content {max-height: 200px;max-width: 100%;overflow: auto;}#sk-container-id-6 input.sk-toggleable__control:checked~label.sk-toggleable__label-arrow:before {content: \"▾\";}#sk-container-id-6 div.sk-estimator input.sk-toggleable__control:checked~label.sk-toggleable__label {background-color: #d4ebff;}#sk-container-id-6 div.sk-label input.sk-toggleable__control:checked~label.sk-toggleable__label {background-color: #d4ebff;}#sk-container-id-6 input.sk-hidden--visually {border: 0;clip: rect(1px 1px 1px 1px);clip: rect(1px, 1px, 1px, 1px);height: 1px;margin: -1px;overflow: hidden;padding: 0;position: absolute;width: 1px;}#sk-container-id-6 div.sk-estimator {font-family: monospace;background-color: #f0f8ff;border: 1px dotted black;border-radius: 0.25em;box-sizing: border-box;margin-bottom: 0.5em;}#sk-container-id-6 div.sk-estimator:hover {background-color: #d4ebff;}#sk-container-id-6 div.sk-parallel-item::after {content: \"\";width: 100%;border-bottom: 1px solid gray;flex-grow: 1;}#sk-container-id-6 div.sk-label:hover label.sk-toggleable__label {background-color: #d4ebff;}#sk-container-id-6 div.sk-serial::before {content: \"\";position: absolute;border-left: 1px solid gray;box-sizing: border-box;top: 0;bottom: 0;left: 50%;z-index: 0;}#sk-container-id-6 div.sk-serial {display: flex;flex-direction: column;align-items: center;background-color: white;padding-right: 0.2em;padding-left: 0.2em;position: relative;}#sk-container-id-6 div.sk-item {position: relative;z-index: 1;}#sk-container-id-6 div.sk-parallel {display: flex;align-items: stretch;justify-content: center;background-color: white;position: relative;}#sk-container-id-6 div.sk-item::before, #sk-container-id-6 div.sk-parallel-item::before {content: \"\";position: absolute;border-left: 1px solid gray;box-sizing: border-box;top: 0;bottom: 0;left: 50%;z-index: -1;}#sk-container-id-6 div.sk-parallel-item {display: flex;flex-direction: column;z-index: 1;position: relative;background-color: white;}#sk-container-id-6 div.sk-parallel-item:first-child::after {align-self: flex-end;width: 50%;}#sk-container-id-6 div.sk-parallel-item:last-child::after {align-self: flex-start;width: 50%;}#sk-container-id-6 div.sk-parallel-item:only-child::after {width: 0;}#sk-container-id-6 div.sk-dashed-wrapped {border: 1px dashed gray;margin: 0 0.4em 0.5em 0.4em;box-sizing: border-box;padding-bottom: 0.4em;background-color: white;}#sk-container-id-6 div.sk-label label {font-family: monospace;font-weight: bold;display: inline-block;line-height: 1.2em;}#sk-container-id-6 div.sk-label-container {text-align: center;}#sk-container-id-6 div.sk-container {/* jupyter's `normalize.less` sets `[hidden] { display: none; }` but bootstrap.min.css set `[hidden] { display: none !important; }` so we also need the `!important` here to be able to override the default hidden behavior on the sphinx rendered scikit-learn.org. See: https://github.com/scikit-learn/scikit-learn/issues/21755 */display: inline-block !important;position: relative;}#sk-container-id-6 div.sk-text-repr-fallback {display: none;}</style><div id=\"sk-container-id-6\" class=\"sk-top-container\"><div class=\"sk-text-repr-fallback\"><pre>SVC(C=0.1, gamma=0.1, kernel=&#x27;linear&#x27;)</pre><b>In a Jupyter environment, please rerun this cell to show the HTML representation or trust the notebook. <br />On GitHub, the HTML representation is unable to render, please try loading this page with nbviewer.org.</b></div><div class=\"sk-container\" hidden><div class=\"sk-item\"><div class=\"sk-estimator sk-toggleable\"><input class=\"sk-toggleable__control sk-hidden--visually\" id=\"sk-estimator-id-6\" type=\"checkbox\" checked><label for=\"sk-estimator-id-6\" class=\"sk-toggleable__label sk-toggleable__label-arrow\">SVC</label><div class=\"sk-toggleable__content\"><pre>SVC(C=0.1, gamma=0.1, kernel=&#x27;linear&#x27;)</pre></div></div></div></div></div>"
            ]
          },
          "metadata": {},
          "execution_count": 68
        }
      ]
    },
    {
      "cell_type": "code",
      "source": [
        "#---------KNN----------\n",
        "\n",
        "#Clasificador KNN con los hiperparámetros óptimos encontrados\n",
        "knn = KNeighborsClassifier(n_neighbors=best_params['n_neighbors'], weights=best_params['weights'])\n",
        "\n",
        "#Ajuste del modelo con todos los datos\n",
        "knn.fit(X, y)"
      ],
      "metadata": {
        "colab": {
          "base_uri": "https://localhost:8080/",
          "height": 75
        },
        "id": "xVH4e9DqNo5E",
        "outputId": "b5759ee1-6690-4b8e-c434-b500daff2c36"
      },
      "execution_count": null,
      "outputs": [
        {
          "output_type": "execute_result",
          "data": {
            "text/plain": [
              "KNeighborsClassifier(n_neighbors=3, weights='distance')"
            ],
            "text/html": [
              "<style>#sk-container-id-7 {color: black;background-color: white;}#sk-container-id-7 pre{padding: 0;}#sk-container-id-7 div.sk-toggleable {background-color: white;}#sk-container-id-7 label.sk-toggleable__label {cursor: pointer;display: block;width: 100%;margin-bottom: 0;padding: 0.3em;box-sizing: border-box;text-align: center;}#sk-container-id-7 label.sk-toggleable__label-arrow:before {content: \"▸\";float: left;margin-right: 0.25em;color: #696969;}#sk-container-id-7 label.sk-toggleable__label-arrow:hover:before {color: black;}#sk-container-id-7 div.sk-estimator:hover label.sk-toggleable__label-arrow:before {color: black;}#sk-container-id-7 div.sk-toggleable__content {max-height: 0;max-width: 0;overflow: hidden;text-align: left;background-color: #f0f8ff;}#sk-container-id-7 div.sk-toggleable__content pre {margin: 0.2em;color: black;border-radius: 0.25em;background-color: #f0f8ff;}#sk-container-id-7 input.sk-toggleable__control:checked~div.sk-toggleable__content {max-height: 200px;max-width: 100%;overflow: auto;}#sk-container-id-7 input.sk-toggleable__control:checked~label.sk-toggleable__label-arrow:before {content: \"▾\";}#sk-container-id-7 div.sk-estimator input.sk-toggleable__control:checked~label.sk-toggleable__label {background-color: #d4ebff;}#sk-container-id-7 div.sk-label input.sk-toggleable__control:checked~label.sk-toggleable__label {background-color: #d4ebff;}#sk-container-id-7 input.sk-hidden--visually {border: 0;clip: rect(1px 1px 1px 1px);clip: rect(1px, 1px, 1px, 1px);height: 1px;margin: -1px;overflow: hidden;padding: 0;position: absolute;width: 1px;}#sk-container-id-7 div.sk-estimator {font-family: monospace;background-color: #f0f8ff;border: 1px dotted black;border-radius: 0.25em;box-sizing: border-box;margin-bottom: 0.5em;}#sk-container-id-7 div.sk-estimator:hover {background-color: #d4ebff;}#sk-container-id-7 div.sk-parallel-item::after {content: \"\";width: 100%;border-bottom: 1px solid gray;flex-grow: 1;}#sk-container-id-7 div.sk-label:hover label.sk-toggleable__label {background-color: #d4ebff;}#sk-container-id-7 div.sk-serial::before {content: \"\";position: absolute;border-left: 1px solid gray;box-sizing: border-box;top: 0;bottom: 0;left: 50%;z-index: 0;}#sk-container-id-7 div.sk-serial {display: flex;flex-direction: column;align-items: center;background-color: white;padding-right: 0.2em;padding-left: 0.2em;position: relative;}#sk-container-id-7 div.sk-item {position: relative;z-index: 1;}#sk-container-id-7 div.sk-parallel {display: flex;align-items: stretch;justify-content: center;background-color: white;position: relative;}#sk-container-id-7 div.sk-item::before, #sk-container-id-7 div.sk-parallel-item::before {content: \"\";position: absolute;border-left: 1px solid gray;box-sizing: border-box;top: 0;bottom: 0;left: 50%;z-index: -1;}#sk-container-id-7 div.sk-parallel-item {display: flex;flex-direction: column;z-index: 1;position: relative;background-color: white;}#sk-container-id-7 div.sk-parallel-item:first-child::after {align-self: flex-end;width: 50%;}#sk-container-id-7 div.sk-parallel-item:last-child::after {align-self: flex-start;width: 50%;}#sk-container-id-7 div.sk-parallel-item:only-child::after {width: 0;}#sk-container-id-7 div.sk-dashed-wrapped {border: 1px dashed gray;margin: 0 0.4em 0.5em 0.4em;box-sizing: border-box;padding-bottom: 0.4em;background-color: white;}#sk-container-id-7 div.sk-label label {font-family: monospace;font-weight: bold;display: inline-block;line-height: 1.2em;}#sk-container-id-7 div.sk-label-container {text-align: center;}#sk-container-id-7 div.sk-container {/* jupyter's `normalize.less` sets `[hidden] { display: none; }` but bootstrap.min.css set `[hidden] { display: none !important; }` so we also need the `!important` here to be able to override the default hidden behavior on the sphinx rendered scikit-learn.org. See: https://github.com/scikit-learn/scikit-learn/issues/21755 */display: inline-block !important;position: relative;}#sk-container-id-7 div.sk-text-repr-fallback {display: none;}</style><div id=\"sk-container-id-7\" class=\"sk-top-container\"><div class=\"sk-text-repr-fallback\"><pre>KNeighborsClassifier(n_neighbors=3, weights=&#x27;distance&#x27;)</pre><b>In a Jupyter environment, please rerun this cell to show the HTML representation or trust the notebook. <br />On GitHub, the HTML representation is unable to render, please try loading this page with nbviewer.org.</b></div><div class=\"sk-container\" hidden><div class=\"sk-item\"><div class=\"sk-estimator sk-toggleable\"><input class=\"sk-toggleable__control sk-hidden--visually\" id=\"sk-estimator-id-7\" type=\"checkbox\" checked><label for=\"sk-estimator-id-7\" class=\"sk-toggleable__label sk-toggleable__label-arrow\">KNeighborsClassifier</label><div class=\"sk-toggleable__content\"><pre>KNeighborsClassifier(n_neighbors=3, weights=&#x27;distance&#x27;)</pre></div></div></div></div></div>"
            ]
          },
          "metadata": {},
          "execution_count": 70
        }
      ]
    },
    {
      "cell_type": "markdown",
      "source": [
        "##5. Contesta lo siguientes:\n",
        "**1. ¿Observas un problema en cuanto al balanceo de las clases? ¿Por qué?**\n",
        "\n",
        "No, pues cada una de las siete clases tiene un total de 90 muestras, lo que indica que el conjunto de datos está balanceado, no hay una clase dominante que pueda sesgar el rendimiento del modelo.\n",
        "\n",
        "Al no haber problemas de balanceo, el modelo tiene la misma cantidad de ejemplos para aprender de cada clase, lo que ayuda a evitar un sesgo hacia una clase sobre las demás.Por lo tanto, el modelo debería poder aprender y generalizar correctamente para todas las clases.\n",
        "\n",
        "**2. ¿Qué modelo o modelos fueron efectivos para clasificar tus datos? ¿Observas algo especial sobre los modelos? Argumenta tu respuesta.**\n",
        "\n",
        "Analizando las métricas de rendimiento, podemos ver que los modelos más efectivos son:\n",
        "1. SVM: Tiene un buen rendimiento general, con un accuracy de 0.83, y altas puntuaciones de precisión, recall y f1-score para la mayoría de las clases. Sobretodo en la clasificación de la clase 3, con un f1-score de 0.93, con lo que podemos deducir que el modelo tiene una alta capacidad para predecir correctamente esta clase.\n",
        "\n",
        "2. Random Forest: También muestra un buen rendimiento general, con un accuracy de 0.82. Altas puntuaciones de precisión, recall y f1-score para la mayoría de las clases, sobretodo en la clasificación de las clases 1, 3 y 7. Se puede decir que este modelo es útil cuando se requiere una mayor generalización en los datos.\n",
        "\n",
        "3. KNN: Accuracy de 0.80 y muestra un buen rendimiento en precisión, recall y f1-score para la mayoría de las clases. Es especialmente bueno en la clasificación de la clase 3, 4 y 7.\n",
        "\n",
        "**3. ¿Observas alguna mejora importante al optimizar hiperparámetros? ¿Es el resultado que esperabas? Argumenta tu respuesta.**\n",
        "\n",
        "KNN:\n",
        "\n",
        "Sí, al optimizar los hiperparámetros de KNN, se observa una mejora en el rendimiento del modelo en cuanto a precisión. Antes de la optimización, el KNN tenía un accuracy del 80%, pero después de ajustar el hiperparámetro `n_neighbors` mediante una búsqueda en GridSearchCV, el modelo mejoró su precisión promedio al 80.3%\n",
        "\n",
        "`n_neighbors` determina cuántos vecinos se consideran al realizar una predicción. La búsqueda encontró que el valor óptimo era el vecino más cercano, es decir, que el modelo funciona mejor en este conjunto de datos cuando considera solo el vecino más cercano para realizar predicciones.\n",
        "\n",
        "Sin embargo, la mejora en la precisión no es drástica, aumentó 0.3, lo cual se podría intrepertar que el modelo KNN ya estaba relativamente bien ajustado con el valor predeterminado del hiperparámetro.\n",
        "\n",
        "No podemos decir que el resultado obtenido sea completamente inesperado. Aun así, aunque fue poco, la precisición aumentó y eso es algo positivo.\n",
        "\n",
        "SVM:\n",
        "\n",
        "Podemos observar que el modelo SVM con los hiperparámetros optimizados tiene una precisión media del 84.4% en los conjuntos de prueba de cada división de la validación cruzada anidada. En comparación con el modelo SVM sin optimizar, que tenía una precisión del 85%.\n",
        "\n",
        "La optimización de los hiperparámetros llevó a una ligera disminución en la precisión del modelo, con una diferencia de 0.6%, sin embargo, eso no es significativo y los resultados siguen siendo buenos.\n",
        "\n",
        "El rendimiento del modelo ya era bastante alto antes de la optimización de los hiperparámetros, con lo que se comprueba que el modelo con validación cruzada ya era adecuado para este conjunto de datos. Con la optimización de hiperparámetros, vemos un resultado razonable y dentro de lo esperado.\n",
        "\n",
        "\n",
        "**4. ¿Qué inconvenientes hay al encontrar hiperparámetros? ¿Por qué?**\n",
        "\n",
        "Sobreajuste, por la búsqueda exhaustiva de configuraciones, lo que puede llevar al ajuste excesivo del modelo a los datos de prueba, afectando su capacidad de generalización; aumento de costo computacional, ya que se evalúan múltiples combinaciones de hiperparámetros, lo que puede requerir una considerable capacidad de procesamiento y tiempo de cómputo; además, otro incoveniente que identifico es que no garantiza necesariamente una mejora en el rendimiento del modelo, ya que los valores predeterminados o configuraciones simples pueden funcionar igual de bien o incluso mejor en algunos casos."
      ],
      "metadata": {
        "id": "zCl4i861WIjA"
      }
    }
  ]
}