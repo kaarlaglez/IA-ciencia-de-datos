{
  "nbformat": 4,
  "nbformat_minor": 0,
  "metadata": {
    "colab": {
      "provenance": []
    },
    "kernelspec": {
      "name": "python3",
      "display_name": "Python 3"
    },
    "language_info": {
      "name": "python"
    }
  },
  "cells": [
    {
      "cell_type": "markdown",
      "source": [
        "##Problemas de regresión\n",
        "###Karla González Sánchez | A01541526\n",
        "\n"
      ],
      "metadata": {
        "id": "Ar4qtvU5tL-q"
      }
    },
    {
      "cell_type": "markdown",
      "source": [
        "#**Ejercicio 1**\n",
        "Mi matrícula es: **A01541526**\n",
        "Por lo tanto, voy a trabajar con las variables independientes **M, W, S y P.**\n",
        "\n",
        "Y como variable dependiente MR.\n",
        "\n",
        "Además, como método de validación cruzada me corresponde el **método Monte Carlo.**\n",
        "\n",
        "\n",
        "  * **MR** = asesinatos por cada 100000 habitantes\n",
        "\n",
        "  *  **M** = porcentaje de áreas metropolitanas\n",
        "  *   **W** = porcentaje de gente blanca\n",
        "  *   **P** = porcentaje con ingresos por debajo del nivel de pobreza\n",
        "  *   **S** = porcentaje de familias con solo un miembro adulto como tutor"
      ],
      "metadata": {
        "id": "DeJuPAPCtmRL"
      }
    },
    {
      "cell_type": "code",
      "source": [
        "from google.colab import drive\n",
        "drive.mount('/content/drive')"
      ],
      "metadata": {
        "colab": {
          "base_uri": "https://localhost:8080/"
        },
        "id": "VY5ELloUuJ4Q",
        "outputId": "be659083-52a3-4a03-f310-cb8dad7d50ac"
      },
      "execution_count": 153,
      "outputs": [
        {
          "output_type": "stream",
          "name": "stdout",
          "text": [
            "Drive already mounted at /content/drive; to attempt to forcibly remount, call drive.mount(\"/content/drive\", force_remount=True).\n"
          ]
        }
      ]
    },
    {
      "cell_type": "code",
      "execution_count": 154,
      "metadata": {
        "colab": {
          "base_uri": "https://localhost:8080/",
          "height": 206
        },
        "id": "dyVtWzn4TH3l",
        "outputId": "e8f80f30-976f-42ad-c135-598a934f71b1"
      },
      "outputs": [
        {
          "output_type": "execute_result",
          "data": {
            "text/plain": [
              "  State    VR    MR     M     W     H     P     S\n",
              "0    AK   761   9.0  41.8  75.2  86.6   9.1  14.3\n",
              "1    AL   780  11.6  67.4  73.5  66.9  17.4  11.5\n",
              "2    AR   593  10.2  44.7  82.9  66.3  20.0  10.7\n",
              "3    AZ   715   8.6  84.7  88.6  78.7  15.4  12.1\n",
              "4    CA  1078  13.1  96.7  79.3  76.2  18.2  12.5"
            ],
            "text/html": [
              "\n",
              "  <div id=\"df-d3d75667-f712-4fa5-bcb4-eb652e649e1b\" class=\"colab-df-container\">\n",
              "    <div>\n",
              "<style scoped>\n",
              "    .dataframe tbody tr th:only-of-type {\n",
              "        vertical-align: middle;\n",
              "    }\n",
              "\n",
              "    .dataframe tbody tr th {\n",
              "        vertical-align: top;\n",
              "    }\n",
              "\n",
              "    .dataframe thead th {\n",
              "        text-align: right;\n",
              "    }\n",
              "</style>\n",
              "<table border=\"1\" class=\"dataframe\">\n",
              "  <thead>\n",
              "    <tr style=\"text-align: right;\">\n",
              "      <th></th>\n",
              "      <th>State</th>\n",
              "      <th>VR</th>\n",
              "      <th>MR</th>\n",
              "      <th>M</th>\n",
              "      <th>W</th>\n",
              "      <th>H</th>\n",
              "      <th>P</th>\n",
              "      <th>S</th>\n",
              "    </tr>\n",
              "  </thead>\n",
              "  <tbody>\n",
              "    <tr>\n",
              "      <th>0</th>\n",
              "      <td>AK</td>\n",
              "      <td>761</td>\n",
              "      <td>9.0</td>\n",
              "      <td>41.8</td>\n",
              "      <td>75.2</td>\n",
              "      <td>86.6</td>\n",
              "      <td>9.1</td>\n",
              "      <td>14.3</td>\n",
              "    </tr>\n",
              "    <tr>\n",
              "      <th>1</th>\n",
              "      <td>AL</td>\n",
              "      <td>780</td>\n",
              "      <td>11.6</td>\n",
              "      <td>67.4</td>\n",
              "      <td>73.5</td>\n",
              "      <td>66.9</td>\n",
              "      <td>17.4</td>\n",
              "      <td>11.5</td>\n",
              "    </tr>\n",
              "    <tr>\n",
              "      <th>2</th>\n",
              "      <td>AR</td>\n",
              "      <td>593</td>\n",
              "      <td>10.2</td>\n",
              "      <td>44.7</td>\n",
              "      <td>82.9</td>\n",
              "      <td>66.3</td>\n",
              "      <td>20.0</td>\n",
              "      <td>10.7</td>\n",
              "    </tr>\n",
              "    <tr>\n",
              "      <th>3</th>\n",
              "      <td>AZ</td>\n",
              "      <td>715</td>\n",
              "      <td>8.6</td>\n",
              "      <td>84.7</td>\n",
              "      <td>88.6</td>\n",
              "      <td>78.7</td>\n",
              "      <td>15.4</td>\n",
              "      <td>12.1</td>\n",
              "    </tr>\n",
              "    <tr>\n",
              "      <th>4</th>\n",
              "      <td>CA</td>\n",
              "      <td>1078</td>\n",
              "      <td>13.1</td>\n",
              "      <td>96.7</td>\n",
              "      <td>79.3</td>\n",
              "      <td>76.2</td>\n",
              "      <td>18.2</td>\n",
              "      <td>12.5</td>\n",
              "    </tr>\n",
              "  </tbody>\n",
              "</table>\n",
              "</div>\n",
              "    <div class=\"colab-df-buttons\">\n",
              "\n",
              "  <div class=\"colab-df-container\">\n",
              "    <button class=\"colab-df-convert\" onclick=\"convertToInteractive('df-d3d75667-f712-4fa5-bcb4-eb652e649e1b')\"\n",
              "            title=\"Convert this dataframe to an interactive table.\"\n",
              "            style=\"display:none;\">\n",
              "\n",
              "  <svg xmlns=\"http://www.w3.org/2000/svg\" height=\"24px\" viewBox=\"0 -960 960 960\">\n",
              "    <path d=\"M120-120v-720h720v720H120Zm60-500h600v-160H180v160Zm220 220h160v-160H400v160Zm0 220h160v-160H400v160ZM180-400h160v-160H180v160Zm440 0h160v-160H620v160ZM180-180h160v-160H180v160Zm440 0h160v-160H620v160Z\"/>\n",
              "  </svg>\n",
              "    </button>\n",
              "\n",
              "  <style>\n",
              "    .colab-df-container {\n",
              "      display:flex;\n",
              "      gap: 12px;\n",
              "    }\n",
              "\n",
              "    .colab-df-convert {\n",
              "      background-color: #E8F0FE;\n",
              "      border: none;\n",
              "      border-radius: 50%;\n",
              "      cursor: pointer;\n",
              "      display: none;\n",
              "      fill: #1967D2;\n",
              "      height: 32px;\n",
              "      padding: 0 0 0 0;\n",
              "      width: 32px;\n",
              "    }\n",
              "\n",
              "    .colab-df-convert:hover {\n",
              "      background-color: #E2EBFA;\n",
              "      box-shadow: 0px 1px 2px rgba(60, 64, 67, 0.3), 0px 1px 3px 1px rgba(60, 64, 67, 0.15);\n",
              "      fill: #174EA6;\n",
              "    }\n",
              "\n",
              "    .colab-df-buttons div {\n",
              "      margin-bottom: 4px;\n",
              "    }\n",
              "\n",
              "    [theme=dark] .colab-df-convert {\n",
              "      background-color: #3B4455;\n",
              "      fill: #D2E3FC;\n",
              "    }\n",
              "\n",
              "    [theme=dark] .colab-df-convert:hover {\n",
              "      background-color: #434B5C;\n",
              "      box-shadow: 0px 1px 3px 1px rgba(0, 0, 0, 0.15);\n",
              "      filter: drop-shadow(0px 1px 2px rgba(0, 0, 0, 0.3));\n",
              "      fill: #FFFFFF;\n",
              "    }\n",
              "  </style>\n",
              "\n",
              "    <script>\n",
              "      const buttonEl =\n",
              "        document.querySelector('#df-d3d75667-f712-4fa5-bcb4-eb652e649e1b button.colab-df-convert');\n",
              "      buttonEl.style.display =\n",
              "        google.colab.kernel.accessAllowed ? 'block' : 'none';\n",
              "\n",
              "      async function convertToInteractive(key) {\n",
              "        const element = document.querySelector('#df-d3d75667-f712-4fa5-bcb4-eb652e649e1b');\n",
              "        const dataTable =\n",
              "          await google.colab.kernel.invokeFunction('convertToInteractive',\n",
              "                                                    [key], {});\n",
              "        if (!dataTable) return;\n",
              "\n",
              "        const docLinkHtml = 'Like what you see? Visit the ' +\n",
              "          '<a target=\"_blank\" href=https://colab.research.google.com/notebooks/data_table.ipynb>data table notebook</a>'\n",
              "          + ' to learn more about interactive tables.';\n",
              "        element.innerHTML = '';\n",
              "        dataTable['output_type'] = 'display_data';\n",
              "        await google.colab.output.renderOutput(dataTable, element);\n",
              "        const docLink = document.createElement('div');\n",
              "        docLink.innerHTML = docLinkHtml;\n",
              "        element.appendChild(docLink);\n",
              "      }\n",
              "    </script>\n",
              "  </div>\n",
              "\n",
              "\n",
              "<div id=\"df-ea3f2461-fe47-428b-b1c4-e67e8b740d58\">\n",
              "  <button class=\"colab-df-quickchart\" onclick=\"quickchart('df-ea3f2461-fe47-428b-b1c4-e67e8b740d58')\"\n",
              "            title=\"Suggest charts.\"\n",
              "            style=\"display:none;\">\n",
              "\n",
              "<svg xmlns=\"http://www.w3.org/2000/svg\" height=\"24px\"viewBox=\"0 0 24 24\"\n",
              "     width=\"24px\">\n",
              "    <g>\n",
              "        <path d=\"M19 3H5c-1.1 0-2 .9-2 2v14c0 1.1.9 2 2 2h14c1.1 0 2-.9 2-2V5c0-1.1-.9-2-2-2zM9 17H7v-7h2v7zm4 0h-2V7h2v10zm4 0h-2v-4h2v4z\"/>\n",
              "    </g>\n",
              "</svg>\n",
              "  </button>\n",
              "\n",
              "<style>\n",
              "  .colab-df-quickchart {\n",
              "      --bg-color: #E8F0FE;\n",
              "      --fill-color: #1967D2;\n",
              "      --hover-bg-color: #E2EBFA;\n",
              "      --hover-fill-color: #174EA6;\n",
              "      --disabled-fill-color: #AAA;\n",
              "      --disabled-bg-color: #DDD;\n",
              "  }\n",
              "\n",
              "  [theme=dark] .colab-df-quickchart {\n",
              "      --bg-color: #3B4455;\n",
              "      --fill-color: #D2E3FC;\n",
              "      --hover-bg-color: #434B5C;\n",
              "      --hover-fill-color: #FFFFFF;\n",
              "      --disabled-bg-color: #3B4455;\n",
              "      --disabled-fill-color: #666;\n",
              "  }\n",
              "\n",
              "  .colab-df-quickchart {\n",
              "    background-color: var(--bg-color);\n",
              "    border: none;\n",
              "    border-radius: 50%;\n",
              "    cursor: pointer;\n",
              "    display: none;\n",
              "    fill: var(--fill-color);\n",
              "    height: 32px;\n",
              "    padding: 0;\n",
              "    width: 32px;\n",
              "  }\n",
              "\n",
              "  .colab-df-quickchart:hover {\n",
              "    background-color: var(--hover-bg-color);\n",
              "    box-shadow: 0 1px 2px rgba(60, 64, 67, 0.3), 0 1px 3px 1px rgba(60, 64, 67, 0.15);\n",
              "    fill: var(--button-hover-fill-color);\n",
              "  }\n",
              "\n",
              "  .colab-df-quickchart-complete:disabled,\n",
              "  .colab-df-quickchart-complete:disabled:hover {\n",
              "    background-color: var(--disabled-bg-color);\n",
              "    fill: var(--disabled-fill-color);\n",
              "    box-shadow: none;\n",
              "  }\n",
              "\n",
              "  .colab-df-spinner {\n",
              "    border: 2px solid var(--fill-color);\n",
              "    border-color: transparent;\n",
              "    border-bottom-color: var(--fill-color);\n",
              "    animation:\n",
              "      spin 1s steps(1) infinite;\n",
              "  }\n",
              "\n",
              "  @keyframes spin {\n",
              "    0% {\n",
              "      border-color: transparent;\n",
              "      border-bottom-color: var(--fill-color);\n",
              "      border-left-color: var(--fill-color);\n",
              "    }\n",
              "    20% {\n",
              "      border-color: transparent;\n",
              "      border-left-color: var(--fill-color);\n",
              "      border-top-color: var(--fill-color);\n",
              "    }\n",
              "    30% {\n",
              "      border-color: transparent;\n",
              "      border-left-color: var(--fill-color);\n",
              "      border-top-color: var(--fill-color);\n",
              "      border-right-color: var(--fill-color);\n",
              "    }\n",
              "    40% {\n",
              "      border-color: transparent;\n",
              "      border-right-color: var(--fill-color);\n",
              "      border-top-color: var(--fill-color);\n",
              "    }\n",
              "    60% {\n",
              "      border-color: transparent;\n",
              "      border-right-color: var(--fill-color);\n",
              "    }\n",
              "    80% {\n",
              "      border-color: transparent;\n",
              "      border-right-color: var(--fill-color);\n",
              "      border-bottom-color: var(--fill-color);\n",
              "    }\n",
              "    90% {\n",
              "      border-color: transparent;\n",
              "      border-bottom-color: var(--fill-color);\n",
              "    }\n",
              "  }\n",
              "</style>\n",
              "\n",
              "  <script>\n",
              "    async function quickchart(key) {\n",
              "      const quickchartButtonEl =\n",
              "        document.querySelector('#' + key + ' button');\n",
              "      quickchartButtonEl.disabled = true;  // To prevent multiple clicks.\n",
              "      quickchartButtonEl.classList.add('colab-df-spinner');\n",
              "      try {\n",
              "        const charts = await google.colab.kernel.invokeFunction(\n",
              "            'suggestCharts', [key], {});\n",
              "      } catch (error) {\n",
              "        console.error('Error during call to suggestCharts:', error);\n",
              "      }\n",
              "      quickchartButtonEl.classList.remove('colab-df-spinner');\n",
              "      quickchartButtonEl.classList.add('colab-df-quickchart-complete');\n",
              "    }\n",
              "    (() => {\n",
              "      let quickchartButtonEl =\n",
              "        document.querySelector('#df-ea3f2461-fe47-428b-b1c4-e67e8b740d58 button');\n",
              "      quickchartButtonEl.style.display =\n",
              "        google.colab.kernel.accessAllowed ? 'block' : 'none';\n",
              "    })();\n",
              "  </script>\n",
              "</div>\n",
              "    </div>\n",
              "  </div>\n"
            ]
          },
          "metadata": {},
          "execution_count": 154
        }
      ],
      "source": [
        "import pandas as pd\n",
        "import matplotlib.pyplot as plt\n",
        "import statsmodels.api as sm\n",
        "import seaborn as sns\n",
        "import numpy as np\n",
        "\n",
        "df = pd.read_csv('/content/drive/MyDrive/Colab Notebooks/Aprendizaje/crime_data.csv')\n",
        "df.head()"
      ]
    },
    {
      "cell_type": "markdown",
      "source": [
        "##1. Graficar cada variable predictora vs la variable de respuesta"
      ],
      "metadata": {
        "id": "Tp5_PIe50BXf"
      }
    },
    {
      "cell_type": "code",
      "source": [
        "#M vs MR\n",
        "sns.scatterplot(x = 'M', y = 'MR', data = df)\n",
        "plt.xlabel('Porcentaje de áreas metropolitanas')\n",
        "plt.ylabel('Asesinatos por cada 100000 habitantes')\n",
        "plt.title('Asesinatos vs Porcentaje de áreas metropolitanas')\n",
        "plt.show()"
      ],
      "metadata": {
        "colab": {
          "base_uri": "https://localhost:8080/",
          "height": 473
        },
        "id": "u0Wzf6VRrd64",
        "outputId": "807232e5-d467-41f2-ce13-8d0b97cd853a"
      },
      "execution_count": 155,
      "outputs": [
        {
          "output_type": "display_data",
          "data": {
            "text/plain": [
              "<Figure size 640x480 with 1 Axes>"
            ],
            "image/png": "[encoded data removed]"
          },
          "metadata": {}
        }
      ]
    },
    {
      "cell_type": "code",
      "source": [
        "#W vs MR\n",
        "sns.scatterplot(x = 'W', y = 'MR', data = df)\n",
        "plt.xlabel('Porcentaje de gente blanca')\n",
        "plt.ylabel('Asesinatos por cada 100000 habitantes')\n",
        "plt.title('Asesinatos vs Porcentaje de gente blanca')\n",
        "plt.show()"
      ],
      "metadata": {
        "colab": {
          "base_uri": "https://localhost:8080/",
          "height": 472
        },
        "id": "BhyWxAAqyH9e",
        "outputId": "fc9b4745-72a4-45e9-a2c7-fb744e40e9c2"
      },
      "execution_count": 156,
      "outputs": [
        {
          "output_type": "display_data",
          "data": {
            "text/plain": [
              "<Figure size 640x480 with 1 Axes>"
            ],
            "image/png": "[encoded data removed]"
          },
          "metadata": {}
        }
      ]
    },
    {
      "cell_type": "code",
      "source": [
        "#S vr MR\n",
        "sns.scatterplot(x = 'S', y = 'MR', data = df)\n",
        "plt.xlabel('Porcentaje de familias con un miembro adulto como tutor')\n",
        "plt.ylabel('Asesinatos por cada 100000 habitantes')\n",
        "plt.title('Asesinatos vs Porcentaje de familias con un miembro adulto como tutor')\n",
        "plt.show()"
      ],
      "metadata": {
        "colab": {
          "base_uri": "https://localhost:8080/",
          "height": 472
        },
        "id": "0FZSSoVQxJjf",
        "outputId": "92bc6305-8215-46bb-f6e3-3bec06318fb7"
      },
      "execution_count": 157,
      "outputs": [
        {
          "output_type": "display_data",
          "data": {
            "text/plain": [
              "<Figure size 640x480 with 1 Axes>"
            ],
            "image/png": "[encoded data removed]"
          },
          "metadata": {}
        }
      ]
    },
    {
      "cell_type": "code",
      "source": [
        "#P vs MR\n",
        "sns.scatterplot(x = 'P', y = 'MR', data = df)\n",
        "plt.xlabel('Porcentaje con ingresos por debajo del nivel de pobreza')\n",
        "plt.ylabel('Asesinatos por cada 100000 habitantes')\n",
        "plt.title('Asesinatos vs Porcentaje con ingresos por debajo del nivel de pobreza')\n",
        "plt.show()"
      ],
      "metadata": {
        "colab": {
          "base_uri": "https://localhost:8080/",
          "height": 472
        },
        "id": "hNs68t1SyjmP",
        "outputId": "8af9a3db-57e9-4f00-eeac-5329dfe20884"
      },
      "execution_count": 158,
      "outputs": [
        {
          "output_type": "display_data",
          "data": {
            "text/plain": [
              "<Figure size 640x480 with 1 Axes>"
            ],
            "image/png": "[encoded data removed]"
          },
          "metadata": {}
        }
      ]
    },
    {
      "cell_type": "markdown",
      "source": [
        "##2.   Implementación de la fórmula directa para calcular los coeficientes de un modelo de regresión lineal. Obtener con ella el modelo que corresponde a la variable de respuesta y las variables predictoras."
      ],
      "metadata": {
        "id": "tETGBWTT0Moo"
      }
    },
    {
      "cell_type": "code",
      "source": [
        "#Variables predictoras (M, W, S, P)\n",
        "X = df[['M', 'W', 'S', 'P']].values"
      ],
      "metadata": {
        "id": "fKWqPuVI1RTs"
      },
      "execution_count": 159,
      "outputs": []
    },
    {
      "cell_type": "code",
      "source": [
        "#Variable de respuesta MR\n",
        "y = df['MR'].values"
      ],
      "metadata": {
        "id": "eRktMSKY1Sas"
      },
      "execution_count": 160,
      "outputs": []
    },
    {
      "cell_type": "code",
      "source": [
        "#Agregar columna de unos para X\n",
        "X = np.column_stack((np.ones(X.shape[0]), X))"
      ],
      "metadata": {
        "id": "WaIWUWSn1dSM"
      },
      "execution_count": 161,
      "outputs": []
    },
    {
      "cell_type": "code",
      "source": [
        "#Calculando los coeficientes\n",
        "coefficients = np.linalg.inv(X.T @ X) @ X.T @ y\n",
        "beta0, beta1, beta2, beta3, beta4 = coefficients"
      ],
      "metadata": {
        "id": "ACKNyo1H6pgN"
      },
      "execution_count": 162,
      "outputs": []
    },
    {
      "cell_type": "code",
      "source": [
        "print(\"Intercepto (beta0):\", beta0)\n",
        "print(beta1, \"- Coeficiente M (Porcentaje de áreas metropolitanas)\")\n",
        "print(beta2, \"- Coeficiente W (Porcentaje de gente blanca)\")\n",
        "print(beta3, \"- Coeficiente S (Porcentaje de familias con solo un miembro adulto como tutor)\")\n",
        "print(beta4, \"- Coeficiente P (Porcentaje con ingresos por debajo del nivel de pobreza):\")"
      ],
      "metadata": {
        "colab": {
          "base_uri": "https://localhost:8080/"
        },
        "id": "vqvz5hbZ68kV",
        "outputId": "11fe9902-d870-41bf-ace0-9fe98b6eb8e3"
      },
      "execution_count": 163,
      "outputs": [
        {
          "output_type": "stream",
          "name": "stdout",
          "text": [
            "Intercepto (beta0): -19.790639916824077\n",
            "0.04632745181129551 - Coeficiente M (Porcentaje de áreas metropolitanas)\n",
            "-0.1733650946561845 - Coeficiente W (Porcentaje de gente blanca)\n",
            "3.0761002591707443 - Coeficiente S (Porcentaje de familias con solo un miembro adulto como tutor)\n",
            "0.3604151271430809 - Coeficiente P (Porcentaje con ingresos por debajo del nivel de pobreza):\n"
          ]
        }
      ]
    },
    {
      "cell_type": "code",
      "source": [
        "#Ajustar el modelo de regresión lineal\n",
        "model = sm.OLS(y, X).fit()\n",
        "\n",
        "print(model.summary())\n",
        "\n",
        "#Calcular valores ajustados y residuos\n",
        "y_pred = model.predict(X)\n",
        "residuos = y - y_pred\n",
        "\n",
        "#Gráficos de residuos\n",
        "fig, axes = plt.subplots(nrows=1, ncols=2, figsize=(10, 4))\n",
        "\n",
        "#Gráfico de residuos vs. valores ajustados\n",
        "axes[0].scatter(y_pred, residuos)\n",
        "axes[0].set_xlabel('Valores ajustados')\n",
        "axes[0].set_ylabel('Residuos')\n",
        "axes[0].set_title('Gráfico de residuos vs. Valores ajustados')\n",
        "\n",
        "#Gráfico QQ-plot de residuos\n",
        "sm.graphics.qqplot(model.resid, line='s', ax=axes[1])\n",
        "\n",
        "plt.tight_layout()\n",
        "plt.show()"
      ],
      "metadata": {
        "colab": {
          "base_uri": "https://localhost:8080/",
          "height": 943
        },
        "id": "8n-Q1B1RRwr5",
        "outputId": "d680c40a-f253-4644-ba2b-e355f278678b"
      },
      "execution_count": 164,
      "outputs": [
        {
          "output_type": "stream",
          "name": "stdout",
          "text": [
            "                            OLS Regression Results                            \n",
            "==============================================================================\n",
            "Dep. Variable:                      y   R-squared:                       0.792\n",
            "Model:                            OLS   Adj. R-squared:                  0.774\n",
            "Method:                 Least Squares   F-statistic:                     43.69\n",
            "Date:                Fri, 15 Sep 2023   Prob (F-statistic):           4.14e-15\n",
            "Time:                        07:45:11   Log-Likelihood:                -152.83\n",
            "No. Observations:                  51   AIC:                             315.7\n",
            "Df Residuals:                      46   BIC:                             325.3\n",
            "Df Model:                           4                                         \n",
            "Covariance Type:            nonrobust                                         \n",
            "==============================================================================\n",
            "                 coef    std err          t      P>|t|      [0.025      0.975]\n",
            "------------------------------------------------------------------------------\n",
            "const        -19.7906     10.908     -1.814      0.076     -41.748       2.166\n",
            "x1             0.0463      0.036      1.277      0.208      -0.027       0.119\n",
            "x2            -0.1734      0.075     -2.324      0.025      -0.324      -0.023\n",
            "x3             3.0761      0.504      6.100      0.000       2.061       4.091\n",
            "x4             0.3604      0.196      1.842      0.072      -0.033       0.754\n",
            "==============================================================================\n",
            "Omnibus:                       28.114   Durbin-Watson:                   1.440\n",
            "Prob(Omnibus):                  0.000   Jarque-Bera (JB):               94.189\n",
            "Skew:                           1.323   Prob(JB):                     3.53e-21\n",
            "Kurtosis:                       9.109   Cond. No.                     1.68e+03\n",
            "==============================================================================\n",
            "\n",
            "Notes:\n",
            "[1] Standard Errors assume that the covariance matrix of the errors is correctly specified.\n",
            "[2] The condition number is large, 1.68e+03. This might indicate that there are\n",
            "strong multicollinearity or other numerical problems.\n"
          ]
        },
        {
          "output_type": "display_data",
          "data": {
            "text/plain": [
              "<Figure size 1000x400 with 2 Axes>"
            ],
            "image/png": "[encoded data removed]"
          },
          "metadata": {}
        }
      ]
    },
    {
      "cell_type": "code",
      "source": [
        "predictor_names = ['M', 'W', 'S', 'P']\n",
        "\n",
        "# Obtener los coeficientes del modelo\n",
        "coeficientes = model.params\n",
        "\n",
        "# Crear un diccionario que mapea el nombre de la variable a su coeficiente\n",
        "coeficientes_por_variable = dict(zip(predictor_names, coeficientes[1:]))\n",
        "\n",
        "# Imprimir los coeficientes con sus nombres de variable correspondientes\n",
        "for variable, coeficiente in coeficientes_por_variable.items():\n",
        "    print(f'{variable}: {coeficiente}')"
      ],
      "metadata": {
        "colab": {
          "base_uri": "https://localhost:8080/"
        },
        "id": "3uexpMLlb_IX",
        "outputId": "a6bb5d9f-de52-4404-b4bc-7e496b16b5ea"
      },
      "execution_count": 165,
      "outputs": [
        {
          "output_type": "stream",
          "name": "stdout",
          "text": [
            "M: 0.04632745181129302\n",
            "W: -0.17336509465619043\n",
            "S: 3.076100259170707\n",
            "P: 0.3604151271430861\n"
          ]
        }
      ]
    },
    {
      "cell_type": "markdown",
      "source": [
        "##3.   Evaluación con validación cruzada de k-pliegues tu modelo, calculando los valores de $R^2$, MSE y MAE."
      ],
      "metadata": {
        "id": "2FR0Ite6-RD3"
      }
    },
    {
      "cell_type": "code",
      "source": [
        "from sklearn.model_selection import KFold\n",
        "from sklearn.metrics import r2_score, mean_squared_error, mean_absolute_error"
      ],
      "metadata": {
        "id": "etxLPP9V9z_3"
      },
      "execution_count": 166,
      "outputs": []
    },
    {
      "cell_type": "code",
      "source": [
        "num_folds = 5\n",
        "kf = KFold(n_splits=num_folds, shuffle=True)\n",
        "\n",
        "#Inicializar las listas para almacenar las métricas de evaluación\n",
        "r2_cv = []\n",
        "mse_cv = []\n",
        "mae_cv = []\n",
        "\n",
        "for train_index, test_index in kf.split(X):\n",
        "  #Training phase\n",
        "  X_train = X[train_index, :]\n",
        "  y_train = y[train_index]\n",
        "\n",
        "  #Calculando los coeficientes\n",
        "  coefficients = np.linalg.inv(X_train.T @ X_train) @ X_train.T @ y_train\n",
        "  beta_cv = coefficients\n",
        "\n",
        "  #Test phase\n",
        "  X_test = X[test_index, :]\n",
        "  y_test = y[test_index]\n",
        "\n",
        "  #Predecir en el conjunto de prueba\n",
        "  y_pred = beta_cv[0] + beta_cv[1] * X_test[:, 0] + beta_cv[2] * X_test[:, 1] + beta_cv[3] * X_test[:, 2] + beta_cv[4] * X_test[:, 3]\n",
        "\n",
        "  #Calcular MSE, MAE y R^2\n",
        "  mse_i = mean_squared_error(y_test, y_pred)\n",
        "  mae_i = mean_absolute_error(y_test, y_pred)\n",
        "  r2_i = r2_score(y_test, y_pred)\n",
        "\n",
        "  mse_cv.append(mse_i)\n",
        "  mae_cv.append(mae_i)\n",
        "  r2_cv.append(r2_i)\n",
        "\n",
        "print('MSE:', np.average(mse_cv), ' MAE:', np.average(mae_cv), ' R^2:', np.average(r2_cv))"
      ],
      "metadata": {
        "colab": {
          "base_uri": "https://localhost:8080/"
        },
        "id": "vySOpEAvChcQ",
        "outputId": "33de573e-5d99-4984-a7d1-137a140c2d5e"
      },
      "execution_count": 167,
      "outputs": [
        {
          "output_type": "stream",
          "name": "stdout",
          "text": [
            "MSE: 51710.19504109203  MAE: 210.12802723577744  R^2: -4824.782803311148\n"
          ]
        }
      ]
    },
    {
      "cell_type": "markdown",
      "source": [
        "##4.  Método de validación cruzada Monte Carlo con al menos 100 participaciones aleatorias"
      ],
      "metadata": {
        "id": "y99__qkiOpGH"
      }
    },
    {
      "cell_type": "code",
      "source": [
        "#Número de participaciones aleatorias en Monte Carlo\n",
        "num_iterations = 100\n",
        "\n",
        "#Inicializar listas para almacenar metricas de evaluación\n",
        "r2_values = []\n",
        "mse_values = []\n",
        "mae_values = []\n",
        "\n",
        "for _ in range(num_iterations):\n",
        "    r2_cv = []\n",
        "    mse_cv = []\n",
        "    mae_cv = []\n",
        "\n",
        "    for train_index, test_index in kf.split(X):\n",
        "        # Training phase\n",
        "        X_train = X[train_index, :]\n",
        "        y_train = y[train_index]\n",
        "\n",
        "        # Calcular los coeficientes usando la fórmula de mínimos cuadrados\n",
        "        coefficients = np.linalg.inv(X_train.T @ X_train) @ X_train.T @ y_train\n",
        "        beta_cv = coefficients\n",
        "\n",
        "        # Test phase\n",
        "        X_test = X[test_index, :]\n",
        "        y_test = y[test_index]\n",
        "\n",
        "        # Predecir en el conjunto de prueba\n",
        "        y_pred = beta_cv[0] + beta_cv[1] * X_test[:, 0] + beta_cv[2] * X_test[:, 1] + beta_cv[3] * X_test[:, 2] + beta_cv[4] * X_test[:, 3]\n",
        "\n",
        "        # Calar MSE, MAE y R^2\n",
        "        mse_i = mean_squared_error(y_test, y_pred)\n",
        "        mae_i = mean_absolute_error(y_test, y_pred)\n",
        "        r2_i = r2_score(y_test, y_pred)\n",
        "\n",
        "        mse_cv.append(mse_i)\n",
        "        mae_cv.append(mae_i)\n",
        "        r2_cv.append(r2_i)\n",
        "\n",
        "    r2_values.append(np.mean(r2_cv))\n",
        "    mse_values.append(np.mean(mse_cv))\n",
        "    mae_values.append(np.mean(mae_cv))"
      ],
      "metadata": {
        "id": "869o3EbJQHFB"
      },
      "execution_count": 168,
      "outputs": []
    },
    {
      "cell_type": "code",
      "source": [
        "#Mostrar histogramas de R^2, MSE y MAE\n",
        "plt.figure(figsize=(12, 4))\n",
        "\n",
        "plt.subplot(1, 3, 1)\n",
        "plt.hist(r2_values, bins=20, edgecolor='black')\n",
        "plt.xlabel('R^2')\n",
        "plt.ylabel('Frecuencia')\n",
        "plt.title('Histograma de R^2')\n",
        "\n",
        "plt.subplot(1, 3, 2)\n",
        "plt.hist(mse_values, bins=20, edgecolor='black')\n",
        "plt.xlabel('MSE')\n",
        "plt.ylabel('Frecuencia')\n",
        "plt.title('Histograma de MSE')\n",
        "\n",
        "plt.subplot(1, 3, 3)\n",
        "plt.hist(mae_values, bins=20, edgecolor='black')\n",
        "plt.xlabel('MAE')\n",
        "plt.ylabel('Frecuencia')\n",
        "plt.title('Histograma de MAE')\n",
        "\n",
        "plt.tight_layout()\n",
        "plt.show()"
      ],
      "metadata": {
        "colab": {
          "base_uri": "https://localhost:8080/",
          "height": 407
        },
        "id": "rAbtqyPoR08t",
        "outputId": "f8fccf5b-920e-4e13-c1c4-6522f066a47f"
      },
      "execution_count": 169,
      "outputs": [
        {
          "output_type": "display_data",
          "data": {
            "text/plain": [
              "<Figure size 1200x400 with 3 Axes>"
            ],
            "image/png": "[encoded data removed]"
          },
          "metadata": {}
        }
      ]
    },
    {
      "cell_type": "markdown",
      "source": [
        "##5.   Agregar al conjunto de datos columnas que representen los cuadrados de las variables predictoras, así como los productos entre pares de variables. Repita los pasos 1, 2 y 3 pero con este nuevo conjunto de datos."
      ],
      "metadata": {
        "id": "jcfJKUNUS5JL"
      }
    },
    {
      "cell_type": "code",
      "source": [
        "df['M^2'] = df['M'] ** 2\n",
        "df['W^2'] = df['W'] ** 2\n",
        "df['S^2'] = df['S'] ** 2\n",
        "df['P^2'] = df['P'] ** 2\n",
        "\n",
        "df['PxS'] = df['P'] * df['S']\n",
        "df['MxW'] = df['M'] * df['W']\n",
        "\n",
        "df.to_csv('crime_data2.csv', index = False)\n",
        "\n",
        "df.head()"
      ],
      "metadata": {
        "colab": {
          "base_uri": "https://localhost:8080/",
          "height": 206
        },
        "id": "6B93M-CPfb0k",
        "outputId": "3e6154e1-5b4f-4515-f4bd-03dc874392fb"
      },
      "execution_count": 170,
      "outputs": [
        {
          "output_type": "execute_result",
          "data": {
            "text/plain": [
              "  State    VR    MR     M     W     H     P     S      M^2      W^2     S^2  \\\n",
              "0    AK   761   9.0  41.8  75.2  86.6   9.1  14.3  1747.24  5655.04  204.49   \n",
              "1    AL   780  11.6  67.4  73.5  66.9  17.4  11.5  4542.76  5402.25  132.25   \n",
              "2    AR   593  10.2  44.7  82.9  66.3  20.0  10.7  1998.09  6872.41  114.49   \n",
              "3    AZ   715   8.6  84.7  88.6  78.7  15.4  12.1  7174.09  7849.96  146.41   \n",
              "4    CA  1078  13.1  96.7  79.3  76.2  18.2  12.5  9350.89  6288.49  156.25   \n",
              "\n",
              "      P^2     PxS      MxW  \n",
              "0   82.81  130.13  3143.36  \n",
              "1  302.76  200.10  4953.90  \n",
              "2  400.00  214.00  3705.63  \n",
              "3  237.16  186.34  7504.42  \n",
              "4  331.24  227.50  7668.31  "
            ],
            "text/html": [
              "\n",
              "  <div id=\"df-98d0475c-ad13-4b6e-bd81-531238bde8f7\" class=\"colab-df-container\">\n",
              "    <div>\n",
              "<style scoped>\n",
              "    .dataframe tbody tr th:only-of-type {\n",
              "        vertical-align: middle;\n",
              "    }\n",
              "\n",
              "    .dataframe tbody tr th {\n",
              "        vertical-align: top;\n",
              "    }\n",
              "\n",
              "    .dataframe thead th {\n",
              "        text-align: right;\n",
              "    }\n",
              "</style>\n",
              "<table border=\"1\" class=\"dataframe\">\n",
              "  <thead>\n",
              "    <tr style=\"text-align: right;\">\n",
              "      <th></th>\n",
              "      <th>State</th>\n",
              "      <th>VR</th>\n",
              "      <th>MR</th>\n",
              "      <th>M</th>\n",
              "      <th>W</th>\n",
              "      <th>H</th>\n",
              "      <th>P</th>\n",
              "      <th>S</th>\n",
              "      <th>M^2</th>\n",
              "      <th>W^2</th>\n",
              "      <th>S^2</th>\n",
              "      <th>P^2</th>\n",
              "      <th>PxS</th>\n",
              "      <th>MxW</th>\n",
              "    </tr>\n",
              "  </thead>\n",
              "  <tbody>\n",
              "    <tr>\n",
              "      <th>0</th>\n",
              "      <td>AK</td>\n",
              "      <td>761</td>\n",
              "      <td>9.0</td>\n",
              "      <td>41.8</td>\n",
              "      <td>75.2</td>\n",
              "      <td>86.6</td>\n",
              "      <td>9.1</td>\n",
              "      <td>14.3</td>\n",
              "      <td>1747.24</td>\n",
              "      <td>5655.04</td>\n",
              "      <td>204.49</td>\n",
              "      <td>82.81</td>\n",
              "      <td>130.13</td>\n",
              "      <td>3143.36</td>\n",
              "    </tr>\n",
              "    <tr>\n",
              "      <th>1</th>\n",
              "      <td>AL</td>\n",
              "      <td>780</td>\n",
              "      <td>11.6</td>\n",
              "      <td>67.4</td>\n",
              "      <td>73.5</td>\n",
              "      <td>66.9</td>\n",
              "      <td>17.4</td>\n",
              "      <td>11.5</td>\n",
              "      <td>4542.76</td>\n",
              "      <td>5402.25</td>\n",
              "      <td>132.25</td>\n",
              "      <td>302.76</td>\n",
              "      <td>200.10</td>\n",
              "      <td>4953.90</td>\n",
              "    </tr>\n",
              "    <tr>\n",
              "      <th>2</th>\n",
              "      <td>AR</td>\n",
              "      <td>593</td>\n",
              "      <td>10.2</td>\n",
              "      <td>44.7</td>\n",
              "      <td>82.9</td>\n",
              "      <td>66.3</td>\n",
              "      <td>20.0</td>\n",
              "      <td>10.7</td>\n",
              "      <td>1998.09</td>\n",
              "      <td>6872.41</td>\n",
              "      <td>114.49</td>\n",
              "      <td>400.00</td>\n",
              "      <td>214.00</td>\n",
              "      <td>3705.63</td>\n",
              "    </tr>\n",
              "    <tr>\n",
              "      <th>3</th>\n",
              "      <td>AZ</td>\n",
              "      <td>715</td>\n",
              "      <td>8.6</td>\n",
              "      <td>84.7</td>\n",
              "      <td>88.6</td>\n",
              "      <td>78.7</td>\n",
              "      <td>15.4</td>\n",
              "      <td>12.1</td>\n",
              "      <td>7174.09</td>\n",
              "      <td>7849.96</td>\n",
              "      <td>146.41</td>\n",
              "      <td>237.16</td>\n",
              "      <td>186.34</td>\n",
              "      <td>7504.42</td>\n",
              "    </tr>\n",
              "    <tr>\n",
              "      <th>4</th>\n",
              "      <td>CA</td>\n",
              "      <td>1078</td>\n",
              "      <td>13.1</td>\n",
              "      <td>96.7</td>\n",
              "      <td>79.3</td>\n",
              "      <td>76.2</td>\n",
              "      <td>18.2</td>\n",
              "      <td>12.5</td>\n",
              "      <td>9350.89</td>\n",
              "      <td>6288.49</td>\n",
              "      <td>156.25</td>\n",
              "      <td>331.24</td>\n",
              "      <td>227.50</td>\n",
              "      <td>7668.31</td>\n",
              "    </tr>\n",
              "  </tbody>\n",
              "</table>\n",
              "</div>\n",
              "    <div class=\"colab-df-buttons\">\n",
              "\n",
              "  <div class=\"colab-df-container\">\n",
              "    <button class=\"colab-df-convert\" onclick=\"convertToInteractive('df-98d0475c-ad13-4b6e-bd81-531238bde8f7')\"\n",
              "            title=\"Convert this dataframe to an interactive table.\"\n",
              "            style=\"display:none;\">\n",
              "\n",
              "  <svg xmlns=\"http://www.w3.org/2000/svg\" height=\"24px\" viewBox=\"0 -960 960 960\">\n",
              "    <path d=\"M120-120v-720h720v720H120Zm60-500h600v-160H180v160Zm220 220h160v-160H400v160Zm0 220h160v-160H400v160ZM180-400h160v-160H180v160Zm440 0h160v-160H620v160ZM180-180h160v-160H180v160Zm440 0h160v-160H620v160Z\"/>\n",
              "  </svg>\n",
              "    </button>\n",
              "\n",
              "  <style>\n",
              "    .colab-df-container {\n",
              "      display:flex;\n",
              "      gap: 12px;\n",
              "    }\n",
              "\n",
              "    .colab-df-convert {\n",
              "      background-color: #E8F0FE;\n",
              "      border: none;\n",
              "      border-radius: 50%;\n",
              "      cursor: pointer;\n",
              "      display: none;\n",
              "      fill: #1967D2;\n",
              "      height: 32px;\n",
              "      padding: 0 0 0 0;\n",
              "      width: 32px;\n",
              "    }\n",
              "\n",
              "    .colab-df-convert:hover {\n",
              "      background-color: #E2EBFA;\n",
              "      box-shadow: 0px 1px 2px rgba(60, 64, 67, 0.3), 0px 1px 3px 1px rgba(60, 64, 67, 0.15);\n",
              "      fill: #174EA6;\n",
              "    }\n",
              "\n",
              "    .colab-df-buttons div {\n",
              "      margin-bottom: 4px;\n",
              "    }\n",
              "\n",
              "    [theme=dark] .colab-df-convert {\n",
              "      background-color: #3B4455;\n",
              "      fill: #D2E3FC;\n",
              "    }\n",
              "\n",
              "    [theme=dark] .colab-df-convert:hover {\n",
              "      background-color: #434B5C;\n",
              "      box-shadow: 0px 1px 3px 1px rgba(0, 0, 0, 0.15);\n",
              "      filter: drop-shadow(0px 1px 2px rgba(0, 0, 0, 0.3));\n",
              "      fill: #FFFFFF;\n",
              "    }\n",
              "  </style>\n",
              "\n",
              "    <script>\n",
              "      const buttonEl =\n",
              "        document.querySelector('#df-98d0475c-ad13-4b6e-bd81-531238bde8f7 button.colab-df-convert');\n",
              "      buttonEl.style.display =\n",
              "        google.colab.kernel.accessAllowed ? 'block' : 'none';\n",
              "\n",
              "      async function convertToInteractive(key) {\n",
              "        const element = document.querySelector('#df-98d0475c-ad13-4b6e-bd81-531238bde8f7');\n",
              "        const dataTable =\n",
              "          await google.colab.kernel.invokeFunction('convertToInteractive',\n",
              "                                                    [key], {});\n",
              "        if (!dataTable) return;\n",
              "\n",
              "        const docLinkHtml = 'Like what you see? Visit the ' +\n",
              "          '<a target=\"_blank\" href=https://colab.research.google.com/notebooks/data_table.ipynb>data table notebook</a>'\n",
              "          + ' to learn more about interactive tables.';\n",
              "        element.innerHTML = '';\n",
              "        dataTable['output_type'] = 'display_data';\n",
              "        await google.colab.output.renderOutput(dataTable, element);\n",
              "        const docLink = document.createElement('div');\n",
              "        docLink.innerHTML = docLinkHtml;\n",
              "        element.appendChild(docLink);\n",
              "      }\n",
              "    </script>\n",
              "  </div>\n",
              "\n",
              "\n",
              "<div id=\"df-59ce7c71-3d44-40dc-abb7-42a78ab0827e\">\n",
              "  <button class=\"colab-df-quickchart\" onclick=\"quickchart('df-59ce7c71-3d44-40dc-abb7-42a78ab0827e')\"\n",
              "            title=\"Suggest charts.\"\n",
              "            style=\"display:none;\">\n",
              "\n",
              "<svg xmlns=\"http://www.w3.org/2000/svg\" height=\"24px\"viewBox=\"0 0 24 24\"\n",
              "     width=\"24px\">\n",
              "    <g>\n",
              "        <path d=\"M19 3H5c-1.1 0-2 .9-2 2v14c0 1.1.9 2 2 2h14c1.1 0 2-.9 2-2V5c0-1.1-.9-2-2-2zM9 17H7v-7h2v7zm4 0h-2V7h2v10zm4 0h-2v-4h2v4z\"/>\n",
              "    </g>\n",
              "</svg>\n",
              "  </button>\n",
              "\n",
              "<style>\n",
              "  .colab-df-quickchart {\n",
              "      --bg-color: #E8F0FE;\n",
              "      --fill-color: #1967D2;\n",
              "      --hover-bg-color: #E2EBFA;\n",
              "      --hover-fill-color: #174EA6;\n",
              "      --disabled-fill-color: #AAA;\n",
              "      --disabled-bg-color: #DDD;\n",
              "  }\n",
              "\n",
              "  [theme=dark] .colab-df-quickchart {\n",
              "      --bg-color: #3B4455;\n",
              "      --fill-color: #D2E3FC;\n",
              "      --hover-bg-color: #434B5C;\n",
              "      --hover-fill-color: #FFFFFF;\n",
              "      --disabled-bg-color: #3B4455;\n",
              "      --disabled-fill-color: #666;\n",
              "  }\n",
              "\n",
              "  .colab-df-quickchart {\n",
              "    background-color: var(--bg-color);\n",
              "    border: none;\n",
              "    border-radius: 50%;\n",
              "    cursor: pointer;\n",
              "    display: none;\n",
              "    fill: var(--fill-color);\n",
              "    height: 32px;\n",
              "    padding: 0;\n",
              "    width: 32px;\n",
              "  }\n",
              "\n",
              "  .colab-df-quickchart:hover {\n",
              "    background-color: var(--hover-bg-color);\n",
              "    box-shadow: 0 1px 2px rgba(60, 64, 67, 0.3), 0 1px 3px 1px rgba(60, 64, 67, 0.15);\n",
              "    fill: var(--button-hover-fill-color);\n",
              "  }\n",
              "\n",
              "  .colab-df-quickchart-complete:disabled,\n",
              "  .colab-df-quickchart-complete:disabled:hover {\n",
              "    background-color: var(--disabled-bg-color);\n",
              "    fill: var(--disabled-fill-color);\n",
              "    box-shadow: none;\n",
              "  }\n",
              "\n",
              "  .colab-df-spinner {\n",
              "    border: 2px solid var(--fill-color);\n",
              "    border-color: transparent;\n",
              "    border-bottom-color: var(--fill-color);\n",
              "    animation:\n",
              "      spin 1s steps(1) infinite;\n",
              "  }\n",
              "\n",
              "  @keyframes spin {\n",
              "    0% {\n",
              "      border-color: transparent;\n",
              "      border-bottom-color: var(--fill-color);\n",
              "      border-left-color: var(--fill-color);\n",
              "    }\n",
              "    20% {\n",
              "      border-color: transparent;\n",
              "      border-left-color: var(--fill-color);\n",
              "      border-top-color: var(--fill-color);\n",
              "    }\n",
              "    30% {\n",
              "      border-color: transparent;\n",
              "      border-left-color: var(--fill-color);\n",
              "      border-top-color: var(--fill-color);\n",
              "      border-right-color: var(--fill-color);\n",
              "    }\n",
              "    40% {\n",
              "      border-color: transparent;\n",
              "      border-right-color: var(--fill-color);\n",
              "      border-top-color: var(--fill-color);\n",
              "    }\n",
              "    60% {\n",
              "      border-color: transparent;\n",
              "      border-right-color: var(--fill-color);\n",
              "    }\n",
              "    80% {\n",
              "      border-color: transparent;\n",
              "      border-right-color: var(--fill-color);\n",
              "      border-bottom-color: var(--fill-color);\n",
              "    }\n",
              "    90% {\n",
              "      border-color: transparent;\n",
              "      border-bottom-color: var(--fill-color);\n",
              "    }\n",
              "  }\n",
              "</style>\n",
              "\n",
              "  <script>\n",
              "    async function quickchart(key) {\n",
              "      const quickchartButtonEl =\n",
              "        document.querySelector('#' + key + ' button');\n",
              "      quickchartButtonEl.disabled = true;  // To prevent multiple clicks.\n",
              "      quickchartButtonEl.classList.add('colab-df-spinner');\n",
              "      try {\n",
              "        const charts = await google.colab.kernel.invokeFunction(\n",
              "            'suggestCharts', [key], {});\n",
              "      } catch (error) {\n",
              "        console.error('Error during call to suggestCharts:', error);\n",
              "      }\n",
              "      quickchartButtonEl.classList.remove('colab-df-spinner');\n",
              "      quickchartButtonEl.classList.add('colab-df-quickchart-complete');\n",
              "    }\n",
              "    (() => {\n",
              "      let quickchartButtonEl =\n",
              "        document.querySelector('#df-59ce7c71-3d44-40dc-abb7-42a78ab0827e button');\n",
              "      quickchartButtonEl.style.display =\n",
              "        google.colab.kernel.accessAllowed ? 'block' : 'none';\n",
              "    })();\n",
              "  </script>\n",
              "</div>\n",
              "    </div>\n",
              "  </div>\n"
            ]
          },
          "metadata": {},
          "execution_count": 170
        }
      ]
    },
    {
      "cell_type": "code",
      "source": [
        "# Variables predictoras\n",
        "predictors = ['M', 'W', 'S', 'P', 'M^2', 'W^2', 'S^2', 'P^2', 'PxS', 'MxW']\n",
        "\n",
        "# Variable de respuesta\n",
        "response = 'MR'\n",
        "\n",
        "# Crear subplots para cada gráfico\n",
        "fig, axes = plt.subplots(nrows=2, ncols=5, figsize=(15, 7))\n",
        "fig.tight_layout(pad=3.0)\n",
        "\n",
        "for i, predictor in enumerate(predictors):\n",
        "    row = i // 5\n",
        "    col = i % 5\n",
        "    ax = axes[row, col]\n",
        "    ax.scatter(df[predictor], df[response], alpha=0.7)\n",
        "    ax.set_xlabel(predictor)\n",
        "    ax.set_ylabel(response)\n",
        "    ax.set_title(f'{predictor} vs {response}')\n",
        "\n",
        "plt.show()"
      ],
      "metadata": {
        "colab": {
          "base_uri": "https://localhost:8080/",
          "height": 629
        },
        "id": "3Umx9uz3ikaN",
        "outputId": "7df23301-e16f-4e51-91c9-1c062e8b1783"
      },
      "execution_count": 171,
      "outputs": [
        {
          "output_type": "display_data",
          "data": {
            "text/plain": [
              "<Figure size 1500x700 with 10 Axes>"
            ],
            "image/png": "[encoded data removed]"
          },
          "metadata": {}
        }
      ]
    },
    {
      "cell_type": "code",
      "source": [
        "# Variables predictoras (M, W, S, P, M^2, W^2, S^2, P^2, PxS, MxW)\n",
        "X = df[['M', 'W', 'S', 'P', 'M^2', 'W^2', 'S^2', 'P^2', 'PxS', 'MxW']].values\n",
        "\n",
        "# Variable de respuesta MR\n",
        "y = df['MR'].values\n",
        "\n",
        "#Agregar columna de unos para X\n",
        "X = np.column_stack((np.ones(X.shape[0]), X))\n",
        "\n",
        "#Calculando los coeficientes\n",
        "coefficients = np.linalg.inv(X.T @ X) @ X.T @ y\n",
        "\n",
        "#Cieficientes: beta0, beta1, beta2, ... , beta9\n",
        "beta_values = coefficients\n",
        "\n",
        "#Imprimir los coeficientes\n",
        "for i, beta in enumerate(beta_values):\n",
        "  print(f'Coeficiente para variable {i}: {beta}')"
      ],
      "metadata": {
        "colab": {
          "base_uri": "https://localhost:8080/"
        },
        "id": "Dmjm3vVnkS7g",
        "outputId": "44280b1e-e348-485e-cf8d-0e3c14a4dff9"
      },
      "execution_count": 172,
      "outputs": [
        {
          "output_type": "stream",
          "name": "stdout",
          "text": [
            "Coeficiente para variable 0: -11.644720859526068\n",
            "Coeficiente para variable 1: 0.6043100303659266\n",
            "Coeficiente para variable 2: 0.9938615892938019\n",
            "Coeficiente para variable 3: -9.325258764751279\n",
            "Coeficiente para variable 4: 0.9356574097024191\n",
            "Coeficiente para variable 5: -0.0007862912546914341\n",
            "Coeficiente para variable 6: -0.004823930392530538\n",
            "Coeficiente para variable 7: 0.4713452545311063\n",
            "Coeficiente para variable 8: -0.007632298117947429\n",
            "Coeficiente para variable 9: -0.029224399974764725\n",
            "Coeficiente para variable 10: -0.005156408517927164\n"
          ]
        }
      ]
    },
    {
      "cell_type": "code",
      "source": [
        "# Ajustar el modelo de regresión lineal\n",
        "model = sm.OLS(y, X).fit()\n",
        "\n",
        "# Imprimir resumen del modelo\n",
        "print(model.summary())\n",
        "\n",
        "# Calcular p-valores de los coeficientes y la estadística F\n",
        "p_values = model.pvalues\n",
        "f_statistic = model.fvalue\n",
        "\n",
        "print(\"P-valores de los coeficientes:\")\n",
        "for i, p_value in enumerate(p_values):\n",
        "    print(f'Coeficiente {i}: {p_value}')\n",
        "\n",
        "print(\"Estadística F para la prueba de hipótesis global:\", f_statistic)\n",
        "\n",
        "# Examinar gráficos de residuos\n",
        "fig, axes = plt.subplots(nrows=1, ncols=2, figsize=(10, 4))\n",
        "\n",
        "# Gráfico de residuos vs. valores ajustados\n",
        "axes[0].scatter(model.fittedvalues, model.resid)\n",
        "axes[0].set_xlabel('Valores ajustados')\n",
        "axes[0].set_ylabel('Residuos')\n",
        "axes[0].set_title('Gráfico de residuos vs. Valores ajustados')\n",
        "\n",
        "#Gráfico QQ-plot de residuos\n",
        "sm.graphics.qqplot(model.resid, line='s', ax=axes[1])\n",
        "\n",
        "plt.tight_layout()\n",
        "plt.show()"
      ],
      "metadata": {
        "colab": {
          "base_uri": "https://localhost:8080/",
          "height": 1000
        },
        "id": "3dyTUBzzVHWT",
        "outputId": "775d6a9f-fea8-4116-ddcc-e93156458033"
      },
      "execution_count": 173,
      "outputs": [
        {
          "output_type": "stream",
          "name": "stdout",
          "text": [
            "                            OLS Regression Results                            \n",
            "==============================================================================\n",
            "Dep. Variable:                      y   R-squared:                       0.975\n",
            "Model:                            OLS   Adj. R-squared:                  0.969\n",
            "Method:                 Least Squares   F-statistic:                     158.9\n",
            "Date:                Fri, 15 Sep 2023   Prob (F-statistic):           6.11e-29\n",
            "Time:                        07:45:22   Log-Likelihood:                -98.297\n",
            "No. Observations:                  51   AIC:                             218.6\n",
            "Df Residuals:                      40   BIC:                             239.8\n",
            "Df Model:                          10                                         \n",
            "Covariance Type:            nonrobust                                         \n",
            "==============================================================================\n",
            "                 coef    std err          t      P>|t|      [0.025      0.975]\n",
            "------------------------------------------------------------------------------\n",
            "const        -11.6447     15.203     -0.766      0.448     -42.371      19.081\n",
            "x1             0.6043      0.166      3.649      0.001       0.270       0.939\n",
            "x2             0.9939      0.320      3.109      0.003       0.348       1.640\n",
            "x3            -9.3253      1.329     -7.015      0.000     -12.012      -6.639\n",
            "x4             0.9357      0.574      1.629      0.111      -0.225       2.097\n",
            "x5            -0.0008      0.001     -1.204      0.236      -0.002       0.001\n",
            "x6            -0.0048      0.002     -2.634      0.012      -0.009      -0.001\n",
            "x7             0.4713      0.062      7.554      0.000       0.345       0.597\n",
            "x8            -0.0076      0.016     -0.475      0.638      -0.040       0.025\n",
            "x9            -0.0292      0.043     -0.673      0.505      -0.117       0.059\n",
            "x10           -0.0052      0.001     -3.548      0.001      -0.008      -0.002\n",
            "==============================================================================\n",
            "Omnibus:                        0.414   Durbin-Watson:                   1.899\n",
            "Prob(Omnibus):                  0.813   Jarque-Bera (JB):                0.067\n",
            "Skew:                          -0.067   Prob(JB):                        0.967\n",
            "Kurtosis:                       3.118   Cond. No.                     6.20e+05\n",
            "==============================================================================\n",
            "\n",
            "Notes:\n",
            "[1] Standard Errors assume that the covariance matrix of the errors is correctly specified.\n",
            "[2] The condition number is large, 6.2e+05. This might indicate that there are\n",
            "strong multicollinearity or other numerical problems.\n",
            "P-valores de los coeficientes:\n",
            "Coeficiente 0: 0.44819669713432664\n",
            "Coeficiente 1: 0.0007525904931448712\n",
            "Coeficiente 2: 0.003447740595004475\n",
            "Coeficiente 3: 1.7852549424063114e-08\n",
            "Coeficiente 4: 0.11119851125035277\n",
            "Coeficiente 5: 0.23576878838688983\n",
            "Coeficiente 6: 0.011930771233795181\n",
            "Coeficiente 7: 3.206643667297421e-09\n",
            "Coeficiente 8: 0.6376013106990226\n",
            "Coeficiente 9: 0.5050277657943425\n",
            "Coeficiente 10: 0.0010085777808837093\n",
            "Estadística F para la prueba de hipótesis global: 158.9350347319464\n"
          ]
        },
        {
          "output_type": "display_data",
          "data": {
            "text/plain": [
              "<Figure size 1000x400 with 2 Axes>"
            ],
            "image/png": "[encoded data removed]"
          },
          "metadata": {}
        }
      ]
    },
    {
      "cell_type": "code",
      "source": [
        "num_folds = 5\n",
        "kf = KFold(n_splits=num_folds, shuffle=True)\n",
        "\n",
        "mse_cv = []\n",
        "mae_cv = []\n",
        "r2_cv = []\n",
        "\n",
        "for train_index, test_index in kf.split(X):\n",
        "    # Training phase\n",
        "    X_train = X[train_index, :]\n",
        "    y_train = y[train_index]\n",
        "\n",
        "    # Calcular los coeficientes usando la fórmula de mínimos cuadrados\n",
        "    coefficients = np.linalg.inv(X_train.T @ X_train) @ X_train.T @ y_train\n",
        "    beta_cv = coefficients\n",
        "\n",
        "    # Test phase\n",
        "    X_test = X[test_index, :]\n",
        "    y_test = y[test_index]\n",
        "\n",
        "    # Predecir en el conjunto de prueba\n",
        "    y_pred = beta_cv[0] + beta_cv[1] * X_test[:, 0] + beta_cv[2] * X_test[:, 1] + beta_cv[3] * X_test[:, 2] + beta_cv[4] * X_test[:, 3] + beta_cv[5] * X_test[:, 4] + beta_cv[6] * X_test[:, 5] + beta_cv[7] * X_test[:, 6] + beta_cv[8] * X_test[:, 7] + beta_cv[9] * X_test[:, 8] + beta_cv[10] * X_test[:, 9]\n",
        "\n",
        "    # Calculate MSE, MAE and R^2\n",
        "    mse_i = mean_squared_error(y_test, y_pred)\n",
        "    mae_i = mean_absolute_error(y_test, y_pred)\n",
        "    r2_i = r2_score(y_test, y_pred)\n",
        "\n",
        "    mse_cv.append(mse_i)\n",
        "    mae_cv.append(mae_i)\n",
        "    r2_cv.append(r2_i)\n",
        "\n",
        "print('MSE:', np.mean(mse_cv))\n",
        "print('MAE:', np.mean(mae_cv))\n",
        "print('R^2:', np.mean(r2_cv))"
      ],
      "metadata": {
        "colab": {
          "base_uri": "https://localhost:8080/"
        },
        "id": "1Sqr3YtNmqbi",
        "outputId": "e4d37a2d-d563-4749-b674-22859da28880"
      },
      "execution_count": 174,
      "outputs": [
        {
          "output_type": "stream",
          "name": "stdout",
          "text": [
            "MSE: 5166628.399152364\n",
            "MAE: 1898.1153862726646\n",
            "R^2: -377531.8578800299\n"
          ]
        }
      ]
    },
    {
      "cell_type": "markdown",
      "source": [
        "##6.   Regresión Ridge con descenso de gradiente, y el gráfico de Ridge para el conjunto de datos original (sin las variables elevadas al cuadrado)."
      ],
      "metadata": {
        "id": "wTslPMLzpQ9H"
      }
    },
    {
      "cell_type": "code",
      "source": [
        "df = pd.read_csv('/content/drive/MyDrive/Colab Notebooks/Aprendizaje/crime_data.csv')\n",
        "df.head()"
      ],
      "metadata": {
        "colab": {
          "base_uri": "https://localhost:8080/",
          "height": 206
        },
        "id": "HpPveQx6o74S",
        "outputId": "522c4589-8c5a-4c05-e542-9b8ff460f318"
      },
      "execution_count": 175,
      "outputs": [
        {
          "output_type": "execute_result",
          "data": {
            "text/plain": [
              "  State    VR    MR     M     W     H     P     S\n",
              "0    AK   761   9.0  41.8  75.2  86.6   9.1  14.3\n",
              "1    AL   780  11.6  67.4  73.5  66.9  17.4  11.5\n",
              "2    AR   593  10.2  44.7  82.9  66.3  20.0  10.7\n",
              "3    AZ   715   8.6  84.7  88.6  78.7  15.4  12.1\n",
              "4    CA  1078  13.1  96.7  79.3  76.2  18.2  12.5"
            ],
            "text/html": [
              "\n",
              "  <div id=\"df-758e6201-3889-4117-b0ab-fa265e822c37\" class=\"colab-df-container\">\n",
              "    <div>\n",
              "<style scoped>\n",
              "    .dataframe tbody tr th:only-of-type {\n",
              "        vertical-align: middle;\n",
              "    }\n",
              "\n",
              "    .dataframe tbody tr th {\n",
              "        vertical-align: top;\n",
              "    }\n",
              "\n",
              "    .dataframe thead th {\n",
              "        text-align: right;\n",
              "    }\n",
              "</style>\n",
              "<table border=\"1\" class=\"dataframe\">\n",
              "  <thead>\n",
              "    <tr style=\"text-align: right;\">\n",
              "      <th></th>\n",
              "      <th>State</th>\n",
              "      <th>VR</th>\n",
              "      <th>MR</th>\n",
              "      <th>M</th>\n",
              "      <th>W</th>\n",
              "      <th>H</th>\n",
              "      <th>P</th>\n",
              "      <th>S</th>\n",
              "    </tr>\n",
              "  </thead>\n",
              "  <tbody>\n",
              "    <tr>\n",
              "      <th>0</th>\n",
              "      <td>AK</td>\n",
              "      <td>761</td>\n",
              "      <td>9.0</td>\n",
              "      <td>41.8</td>\n",
              "      <td>75.2</td>\n",
              "      <td>86.6</td>\n",
              "      <td>9.1</td>\n",
              "      <td>14.3</td>\n",
              "    </tr>\n",
              "    <tr>\n",
              "      <th>1</th>\n",
              "      <td>AL</td>\n",
              "      <td>780</td>\n",
              "      <td>11.6</td>\n",
              "      <td>67.4</td>\n",
              "      <td>73.5</td>\n",
              "      <td>66.9</td>\n",
              "      <td>17.4</td>\n",
              "      <td>11.5</td>\n",
              "    </tr>\n",
              "    <tr>\n",
              "      <th>2</th>\n",
              "      <td>AR</td>\n",
              "      <td>593</td>\n",
              "      <td>10.2</td>\n",
              "      <td>44.7</td>\n",
              "      <td>82.9</td>\n",
              "      <td>66.3</td>\n",
              "      <td>20.0</td>\n",
              "      <td>10.7</td>\n",
              "    </tr>\n",
              "    <tr>\n",
              "      <th>3</th>\n",
              "      <td>AZ</td>\n",
              "      <td>715</td>\n",
              "      <td>8.6</td>\n",
              "      <td>84.7</td>\n",
              "      <td>88.6</td>\n",
              "      <td>78.7</td>\n",
              "      <td>15.4</td>\n",
              "      <td>12.1</td>\n",
              "    </tr>\n",
              "    <tr>\n",
              "      <th>4</th>\n",
              "      <td>CA</td>\n",
              "      <td>1078</td>\n",
              "      <td>13.1</td>\n",
              "      <td>96.7</td>\n",
              "      <td>79.3</td>\n",
              "      <td>76.2</td>\n",
              "      <td>18.2</td>\n",
              "      <td>12.5</td>\n",
              "    </tr>\n",
              "  </tbody>\n",
              "</table>\n",
              "</div>\n",
              "    <div class=\"colab-df-buttons\">\n",
              "\n",
              "  <div class=\"colab-df-container\">\n",
              "    <button class=\"colab-df-convert\" onclick=\"convertToInteractive('df-758e6201-3889-4117-b0ab-fa265e822c37')\"\n",
              "            title=\"Convert this dataframe to an interactive table.\"\n",
              "            style=\"display:none;\">\n",
              "\n",
              "  <svg xmlns=\"http://www.w3.org/2000/svg\" height=\"24px\" viewBox=\"0 -960 960 960\">\n",
              "    <path d=\"M120-120v-720h720v720H120Zm60-500h600v-160H180v160Zm220 220h160v-160H400v160Zm0 220h160v-160H400v160ZM180-400h160v-160H180v160Zm440 0h160v-160H620v160ZM180-180h160v-160H180v160Zm440 0h160v-160H620v160Z\"/>\n",
              "  </svg>\n",
              "    </button>\n",
              "\n",
              "  <style>\n",
              "    .colab-df-container {\n",
              "      display:flex;\n",
              "      gap: 12px;\n",
              "    }\n",
              "\n",
              "    .colab-df-convert {\n",
              "      background-color: #E8F0FE;\n",
              "      border: none;\n",
              "      border-radius: 50%;\n",
              "      cursor: pointer;\n",
              "      display: none;\n",
              "      fill: #1967D2;\n",
              "      height: 32px;\n",
              "      padding: 0 0 0 0;\n",
              "      width: 32px;\n",
              "    }\n",
              "\n",
              "    .colab-df-convert:hover {\n",
              "      background-color: #E2EBFA;\n",
              "      box-shadow: 0px 1px 2px rgba(60, 64, 67, 0.3), 0px 1px 3px 1px rgba(60, 64, 67, 0.15);\n",
              "      fill: #174EA6;\n",
              "    }\n",
              "\n",
              "    .colab-df-buttons div {\n",
              "      margin-bottom: 4px;\n",
              "    }\n",
              "\n",
              "    [theme=dark] .colab-df-convert {\n",
              "      background-color: #3B4455;\n",
              "      fill: #D2E3FC;\n",
              "    }\n",
              "\n",
              "    [theme=dark] .colab-df-convert:hover {\n",
              "      background-color: #434B5C;\n",
              "      box-shadow: 0px 1px 3px 1px rgba(0, 0, 0, 0.15);\n",
              "      filter: drop-shadow(0px 1px 2px rgba(0, 0, 0, 0.3));\n",
              "      fill: #FFFFFF;\n",
              "    }\n",
              "  </style>\n",
              "\n",
              "    <script>\n",
              "      const buttonEl =\n",
              "        document.querySelector('#df-758e6201-3889-4117-b0ab-fa265e822c37 button.colab-df-convert');\n",
              "      buttonEl.style.display =\n",
              "        google.colab.kernel.accessAllowed ? 'block' : 'none';\n",
              "\n",
              "      async function convertToInteractive(key) {\n",
              "        const element = document.querySelector('#df-758e6201-3889-4117-b0ab-fa265e822c37');\n",
              "        const dataTable =\n",
              "          await google.colab.kernel.invokeFunction('convertToInteractive',\n",
              "                                                    [key], {});\n",
              "        if (!dataTable) return;\n",
              "\n",
              "        const docLinkHtml = 'Like what you see? Visit the ' +\n",
              "          '<a target=\"_blank\" href=https://colab.research.google.com/notebooks/data_table.ipynb>data table notebook</a>'\n",
              "          + ' to learn more about interactive tables.';\n",
              "        element.innerHTML = '';\n",
              "        dataTable['output_type'] = 'display_data';\n",
              "        await google.colab.output.renderOutput(dataTable, element);\n",
              "        const docLink = document.createElement('div');\n",
              "        docLink.innerHTML = docLinkHtml;\n",
              "        element.appendChild(docLink);\n",
              "      }\n",
              "    </script>\n",
              "  </div>\n",
              "\n",
              "\n",
              "<div id=\"df-8d19f659-c3bf-4281-b9d1-e9e6a07bd528\">\n",
              "  <button class=\"colab-df-quickchart\" onclick=\"quickchart('df-8d19f659-c3bf-4281-b9d1-e9e6a07bd528')\"\n",
              "            title=\"Suggest charts.\"\n",
              "            style=\"display:none;\">\n",
              "\n",
              "<svg xmlns=\"http://www.w3.org/2000/svg\" height=\"24px\"viewBox=\"0 0 24 24\"\n",
              "     width=\"24px\">\n",
              "    <g>\n",
              "        <path d=\"M19 3H5c-1.1 0-2 .9-2 2v14c0 1.1.9 2 2 2h14c1.1 0 2-.9 2-2V5c0-1.1-.9-2-2-2zM9 17H7v-7h2v7zm4 0h-2V7h2v10zm4 0h-2v-4h2v4z\"/>\n",
              "    </g>\n",
              "</svg>\n",
              "  </button>\n",
              "\n",
              "<style>\n",
              "  .colab-df-quickchart {\n",
              "      --bg-color: #E8F0FE;\n",
              "      --fill-color: #1967D2;\n",
              "      --hover-bg-color: #E2EBFA;\n",
              "      --hover-fill-color: #174EA6;\n",
              "      --disabled-fill-color: #AAA;\n",
              "      --disabled-bg-color: #DDD;\n",
              "  }\n",
              "\n",
              "  [theme=dark] .colab-df-quickchart {\n",
              "      --bg-color: #3B4455;\n",
              "      --fill-color: #D2E3FC;\n",
              "      --hover-bg-color: #434B5C;\n",
              "      --hover-fill-color: #FFFFFF;\n",
              "      --disabled-bg-color: #3B4455;\n",
              "      --disabled-fill-color: #666;\n",
              "  }\n",
              "\n",
              "  .colab-df-quickchart {\n",
              "    background-color: var(--bg-color);\n",
              "    border: none;\n",
              "    border-radius: 50%;\n",
              "    cursor: pointer;\n",
              "    display: none;\n",
              "    fill: var(--fill-color);\n",
              "    height: 32px;\n",
              "    padding: 0;\n",
              "    width: 32px;\n",
              "  }\n",
              "\n",
              "  .colab-df-quickchart:hover {\n",
              "    background-color: var(--hover-bg-color);\n",
              "    box-shadow: 0 1px 2px rgba(60, 64, 67, 0.3), 0 1px 3px 1px rgba(60, 64, 67, 0.15);\n",
              "    fill: var(--button-hover-fill-color);\n",
              "  }\n",
              "\n",
              "  .colab-df-quickchart-complete:disabled,\n",
              "  .colab-df-quickchart-complete:disabled:hover {\n",
              "    background-color: var(--disabled-bg-color);\n",
              "    fill: var(--disabled-fill-color);\n",
              "    box-shadow: none;\n",
              "  }\n",
              "\n",
              "  .colab-df-spinner {\n",
              "    border: 2px solid var(--fill-color);\n",
              "    border-color: transparent;\n",
              "    border-bottom-color: var(--fill-color);\n",
              "    animation:\n",
              "      spin 1s steps(1) infinite;\n",
              "  }\n",
              "\n",
              "  @keyframes spin {\n",
              "    0% {\n",
              "      border-color: transparent;\n",
              "      border-bottom-color: var(--fill-color);\n",
              "      border-left-color: var(--fill-color);\n",
              "    }\n",
              "    20% {\n",
              "      border-color: transparent;\n",
              "      border-left-color: var(--fill-color);\n",
              "      border-top-color: var(--fill-color);\n",
              "    }\n",
              "    30% {\n",
              "      border-color: transparent;\n",
              "      border-left-color: var(--fill-color);\n",
              "      border-top-color: var(--fill-color);\n",
              "      border-right-color: var(--fill-color);\n",
              "    }\n",
              "    40% {\n",
              "      border-color: transparent;\n",
              "      border-right-color: var(--fill-color);\n",
              "      border-top-color: var(--fill-color);\n",
              "    }\n",
              "    60% {\n",
              "      border-color: transparent;\n",
              "      border-right-color: var(--fill-color);\n",
              "    }\n",
              "    80% {\n",
              "      border-color: transparent;\n",
              "      border-right-color: var(--fill-color);\n",
              "      border-bottom-color: var(--fill-color);\n",
              "    }\n",
              "    90% {\n",
              "      border-color: transparent;\n",
              "      border-bottom-color: var(--fill-color);\n",
              "    }\n",
              "  }\n",
              "</style>\n",
              "\n",
              "  <script>\n",
              "    async function quickchart(key) {\n",
              "      const quickchartButtonEl =\n",
              "        document.querySelector('#' + key + ' button');\n",
              "      quickchartButtonEl.disabled = true;  // To prevent multiple clicks.\n",
              "      quickchartButtonEl.classList.add('colab-df-spinner');\n",
              "      try {\n",
              "        const charts = await google.colab.kernel.invokeFunction(\n",
              "            'suggestCharts', [key], {});\n",
              "      } catch (error) {\n",
              "        console.error('Error during call to suggestCharts:', error);\n",
              "      }\n",
              "      quickchartButtonEl.classList.remove('colab-df-spinner');\n",
              "      quickchartButtonEl.classList.add('colab-df-quickchart-complete');\n",
              "    }\n",
              "    (() => {\n",
              "      let quickchartButtonEl =\n",
              "        document.querySelector('#df-8d19f659-c3bf-4281-b9d1-e9e6a07bd528 button');\n",
              "      quickchartButtonEl.style.display =\n",
              "        google.colab.kernel.accessAllowed ? 'block' : 'none';\n",
              "    })();\n",
              "  </script>\n",
              "</div>\n",
              "    </div>\n",
              "  </div>\n"
            ]
          },
          "metadata": {},
          "execution_count": 175
        }
      ]
    },
    {
      "cell_type": "code",
      "source": [
        "# Variables predictoras (M, W, S, P)\n",
        "X = df[['M', 'W', 'S', 'P']].values\n",
        "\n",
        "#Variable de respuesta MR\n",
        "y = df['MR'].values\n",
        "\n",
        "# Normalizacion de datos\n",
        "X_normalized = (X - np.mean(X, axis = 0)) / np.std(X, axis = 0)\n",
        "y_normalized = (y - np.mean(y)) / np.std(y)\n",
        "\n",
        "# Agregar una columna de unos para el término independiente\n",
        "X_normalized = np.column_stack((np.ones(X_normalized.shape[0]), X_normalized))"
      ],
      "metadata": {
        "id": "Q9_3hozGqhlp"
      },
      "execution_count": 176,
      "outputs": []
    },
    {
      "cell_type": "code",
      "source": [
        "# Definir valores de lambda para el gráfico\n",
        "lambda_values = np.logspace(-3, 3, 4)\n",
        "\n",
        "# Inicializar matriz para almacenar los coeficientes de Ridge\n",
        "coefficients = np.zeros((len(lambda_values), X_normalized.shape[1]))"
      ],
      "metadata": {
        "id": "wiT8U_zvsAHe"
      },
      "execution_count": 177,
      "outputs": []
    },
    {
      "cell_type": "code",
      "source": [
        "# Descenso de gradiente para regresión Ridge para diferentes valores de lambda\n",
        "for i, lambda_ridge in enumerate(lambda_values):\n",
        "    beta = np.zeros(X_normalized.shape[1])\n",
        "    num_iterations = 1000\n",
        "    learning_rate = 0.01\n",
        "\n",
        "    for _ in range(num_iterations):\n",
        "        gradient = -2 * X_normalized.T @ (y_normalized - X_normalized @ beta) + 2 * lambda_ridge * beta\n",
        "        beta -= learning_rate * gradient\n",
        "\n",
        "    coefficients[i, :] = beta"
      ],
      "metadata": {
        "colab": {
          "base_uri": "https://localhost:8080/"
        },
        "id": "eRLnmf7wsfyL",
        "outputId": "df51765a-6d23-46fe-cfc4-acb10eb6a9d4"
      },
      "execution_count": 178,
      "outputs": [
        {
          "output_type": "stream",
          "name": "stderr",
          "text": [
            "<ipython-input-178-cf276482af3a>:8: RuntimeWarning: overflow encountered in multiply\n",
            "  gradient = -2 * X_normalized.T @ (y_normalized - X_normalized @ beta) + 2 * lambda_ridge * beta\n",
            "<ipython-input-178-cf276482af3a>:8: RuntimeWarning: invalid value encountered in matmul\n",
            "  gradient = -2 * X_normalized.T @ (y_normalized - X_normalized @ beta) + 2 * lambda_ridge * beta\n"
          ]
        }
      ]
    },
    {
      "cell_type": "code",
      "source": [
        "# Gráfico de Ridge\n",
        "plt.figure(figsize=(10, 6))\n",
        "for i in range(X_normalized.shape[1]):\n",
        "    plt.plot(lambda_values, coefficients[:, i], label=f'Variable {i}')\n",
        "plt.xscale('log')\n",
        "plt.xlabel('Valor de lambda')\n",
        "plt.ylabel('Coeficiente')\n",
        "plt.title('Gráfico de Ridge')\n",
        "plt.legend()\n",
        "plt.grid(True)\n",
        "plt.show()"
      ],
      "metadata": {
        "colab": {
          "base_uri": "https://localhost:8080/",
          "height": 569
        },
        "id": "JfV5tYyTskYP",
        "outputId": "b4edeac2-ec02-4072-c25e-ac3de8ca70ff"
      },
      "execution_count": 179,
      "outputs": [
        {
          "output_type": "display_data",
          "data": {
            "text/plain": [
              "<Figure size 1000x600 with 1 Axes>"
            ],
            "image/png": "[encoded data removed]"
          },
          "metadata": {}
        }
      ]
    },
    {
      "cell_type": "markdown",
      "source": [
        "##7.   Gráfico de Lasso para el conjunto de datos original (sin las variables elevadas al cuadrado). ¿Qué variables son más relevantes para el modelo?"
      ],
      "metadata": {
        "id": "HWfiEcNlvXYb"
      }
    },
    {
      "cell_type": "code",
      "source": [
        "from sklearn.linear_model import LassoCV"
      ],
      "metadata": {
        "id": "swWqjy6DviyS"
      },
      "execution_count": 180,
      "outputs": []
    },
    {
      "cell_type": "code",
      "source": [
        "# Variables predictoras (M, W, S, P)\n",
        "X = df[['M', 'W', 'S', 'P']].values\n",
        "\n",
        "# Variable de respuesta (MR)\n",
        "y = df['MR'].values\n",
        "\n",
        "# Normalizar los datos\n",
        "X_normalized = (X - np.mean(X, axis=0)) / np.std(X, axis=0)\n",
        "y_normalized = (y - np.mean(y)) / np.std(y)"
      ],
      "metadata": {
        "id": "R9b6I-qTxthv"
      },
      "execution_count": 181,
      "outputs": []
    },
    {
      "cell_type": "code",
      "source": [
        "# Inicializar el modelo LassoCV\n",
        "lasso_model = LassoCV(alphas=np.logspace(-3, 3, 100), cv=5)\n",
        "\n",
        "# Ajustar el modelo a los datos\n",
        "lasso_model.fit(X_normalized, y_normalized)\n",
        "\n",
        "# Obtener los coeficientes del modelo\n",
        "lasso_coefs = lasso_model.coef_"
      ],
      "metadata": {
        "id": "dvV5iSufyJ3w"
      },
      "execution_count": 182,
      "outputs": []
    },
    {
      "cell_type": "code",
      "source": [
        "# Gráfico de Lasso\n",
        "plt.figure(figsize=(10, 6))\n",
        "plt.plot(lasso_coefs)\n",
        "plt.xlabel('Índice del coeficiente')\n",
        "plt.ylabel('Valor del coeficiente')\n",
        "plt.title('Gráfico de Lasso')\n",
        "plt.xticks(np.arange(len(lasso_coefs)), ['M', 'W', 'S', 'P'])\n",
        "plt.grid(True)\n",
        "plt.show()\n",
        "\n",
        "# Imprimir las variables más relevantes (no nulas)\n",
        "relevant_variables = np.where(lasso_coefs != 0)[0]\n",
        "print('Variables más relevantes:', relevant_variables)"
      ],
      "metadata": {
        "colab": {
          "base_uri": "https://localhost:8080/",
          "height": 582
        },
        "id": "NSaTUXvlyJwT",
        "outputId": "5facd4b0-7917-4d03-a962-f15447cbc582"
      },
      "execution_count": 183,
      "outputs": [
        {
          "output_type": "display_data",
          "data": {
            "text/plain": [
              "<Figure size 1000x600 with 1 Axes>"
            ],
            "image/png": "[encoded data removed]"
          },
          "metadata": {}
        },
        {
          "output_type": "stream",
          "name": "stdout",
          "text": [
            "Variables más relevantes: [0 1 2 3]\n"
          ]
        }
      ]
    },
    {
      "cell_type": "markdown",
      "source": [
        "##8.   Viendo los resultados de regresión, desarrolla una conclusión sobre los siguientes puntos:\n",
        "\n",
        "  **1. ¿Consideras que el modelo de regresión lineal es efectivo para modelar los datos del problema? ¿Por qué?**\n",
        "\n",
        "  El modelo de regresión lineal se ajusta a los datos de crímenes con un R-cuadrado ajustado de 0.774, lo que indica que alrededor del 77.4% de la variabilidad en la variable de respuesta (asesinatos por cada 100000 habitantes) puede ser explicada por las variables predictoras.\n",
        "\n",
        "  En este caso, para la variable \"const\" (intercepto), el p-valor es 0.076, lo que indica que no es estadísticamente significativo a un nivel de significancia convencional de 0.05.\n",
        "\n",
        "  Para las otras variables predictoras (x1, x2, x3, x4)\n",
        "  \n",
        "  Donde:\n",
        "    \n",
        "    X1 = M\n",
        "    X2 = W\n",
        "    X3 = S\n",
        "    X4 = P\n",
        "  Los p-valores asociados a sus coeficientes son: 0.208, 0.025, 0.000 y 0.072 respectivamente. Los p-valores inferiores a 0.05 indican que las variables x2 y x3 son estadísticamente significativas en el modelo, lo que sugiere que estas variables tienen un impacto significativo en la variable de respuesta MR. Las variables x1 y x4, con p-valores mayores a 0.05, podrían no ser tan significativas en este contexto.\n",
        "\n",
        "  Diría que el modelo de regresión lineal es medianamente efectivo, ya que el R-cuadrado ajustado es razonablemente alto, pero en las variables predictoras varía, con lo que vemos que algunas varibales tienen un impacto más importates que otras.\n",
        "\n",
        "  **2. ¿Observas una variabilidad importante en los valores de $R^2$, MSE y MAE cuando aplicas validación cruzada?**\n",
        "\n",
        "  Sí, en los resultados se observa una variabilidad importante en los valores de $R^2$, $MSE$ y $MAE$ al aplicar validación cruzada. Esto puede ser indicativo de que el modelo no se ajusta de manera consistente a los diferentes conjuntos de datos en los diferentes pliegues de la validación cruzada.\n",
        "\n",
        "\n",
        "  **3. ¿Qué modelo es mejor para los datos de criminalidad, el lineal o el cuadrático? ¿Por qué?**\n",
        "\n",
        "  Primero comparemos los resultados por separado:\n",
        "\n",
        "  **Resultados en $R^2$:** El modelo cuadrático tiene un valor de $R^2$ más alto (0.969) en la regresión original, lo que sugiere que el modelo cuadrático explica una mayor proporción de la variabilidad en los datos en comparación con el modelo lineal (0.774).\n",
        "\n",
        "  **Resultados en $R^2$ en k-despliegues**:\n",
        "\n",
        "  -3708.5614646815716 en el modelo lineal\n",
        "  -446678.44920596294 en el modelo cuadrático\n",
        "\n",
        "  En los resultados de k-despliegues, ambos modelos tienen valores negativos de $R^2$, lo que sugiere que los modelos no se ajustan bien a los datos. Sin embargo, el resultado en el modelo cuadrático es mucho más bajo que el del modelo lineal, lo que indica un peor rendimiento del modelo cuadrático.\n",
        "\n",
        "  **MSE y MAE en k-despliegues:**\n",
        "  \n",
        "  MSE: 47913.47299788523  MAE: 206.3657646938143 (modelo lineal)\n",
        "\n",
        "  MSE: 6090294.336552912  MAE: 2132.445286056537 (modelo cuadrático)\n",
        "  \n",
        "  El modelo lineal tiene valores más bajos de MSE y MAE en comparación con el modelo cuadrático en los pliegues de k-despliegues. Esto indica que el modelo lineal tiene un mejor rendimiento en términos de la precisión de las predicciones. Es posible que el modelo cuadrático esté sobreajustando los datos y no generalice bien a nuevos conjuntos de datos.\n",
        "\n",
        "  Con todo lo anterior, el **modelo lineal** parece ser más efectivo y generalizable en comparación con el modelo cuadrático para modelar los datos de criminalidad.\n",
        "\n",
        "  **4. ¿Qué variables son más relevantes para el modelo según Ridge y Lasso?**\n",
        "  \n",
        "  Según ambos modelos, y a como está implementado, todas las variables son relevantes. Esto sugiere que todas estas variables tienen algún nivel de influencia en la tasa de criminalidad.\n",
        "\n",
        "  **5. ¿Encuentras alguna relación interesante entre la variable de respuesta y los predictores?**\n",
        "  \n",
        "  No algo más allá de lo que ya se obtuvo por medio de los modelos y diferentes gráficas que se implementaron. Con cada una de las variables predictoras si bien nos puede dar una relación con la variable de respuesta, algunas veces podrían variar según el contexto cultural, socioeconómico y múltiples factores, que es de donde observamos datos atípicos."
      ],
      "metadata": {
        "id": "hEXof9BMz-hJ"
      }
    },
    {
      "cell_type": "markdown",
      "source": [
        "#**Ejercicio 2**\n",
        "Mi matrícula es: **A01541526**\n",
        "Por lo tanto, voy a trabajar con todas las variables, menos X2, X6, X10, X14, X18"
      ],
      "metadata": {
        "id": "vR7gsadRudXf"
      }
    },
    {
      "cell_type": "code",
      "source": [
        "import pandas as pd\n",
        "import statsmodels.api as sm\n",
        "\n",
        "dataF = pd.read_csv('/content/drive/MyDrive/Colab Notebooks/Aprendizaje/life_expectancy_data.csv')"
      ],
      "metadata": {
        "id": "SNH0H6nyujo6"
      },
      "execution_count": 185,
      "outputs": []
    },
    {
      "cell_type": "code",
      "source": [
        "dataF.head()"
      ],
      "metadata": {
        "colab": {
          "base_uri": "https://localhost:8080/",
          "height": 308
        },
        "id": "DMSwgc3tumjp",
        "outputId": "51514a41-48cb-4be3-c3a5-ba55e770e7d5"
      },
      "execution_count": 186,
      "outputs": [
        {
          "output_type": "execute_result",
          "data": {
            "text/plain": [
              "       Country  Year      Status  Life expectancy   Adult Mortality  \\\n",
              "0  Afghanistan  2015  Developing              65.0            263.0   \n",
              "1  Afghanistan  2014  Developing              59.9            271.0   \n",
              "2  Afghanistan  2013  Developing              59.9            268.0   \n",
              "3  Afghanistan  2012  Developing              59.5            272.0   \n",
              "4  Afghanistan  2011  Developing              59.2            275.0   \n",
              "\n",
              "   infant deaths  Alcohol  percentage expenditure  Hepatitis B  Measles   ...  \\\n",
              "0             62     0.01               71.279624         65.0      1154  ...   \n",
              "1             64     0.01               73.523582         62.0       492  ...   \n",
              "2             66     0.01               73.219243         64.0       430  ...   \n",
              "3             69     0.01               78.184215         67.0      2787  ...   \n",
              "4             71     0.01                7.097109         68.0      3013  ...   \n",
              "\n",
              "   Polio  Total expenditure  Diphtheria    HIV/AIDS         GDP  Population  \\\n",
              "0    6.0               8.16         65.0        0.1  584.259210  33736494.0   \n",
              "1   58.0               8.18         62.0        0.1  612.696514    327582.0   \n",
              "2   62.0               8.13         64.0        0.1  631.744976  31731688.0   \n",
              "3   67.0               8.52         67.0        0.1  669.959000   3696958.0   \n",
              "4   68.0               7.87         68.0        0.1   63.537231   2978599.0   \n",
              "\n",
              "    thinness  1-19 years   thinness 5-9 years  \\\n",
              "0                   17.2                 17.3   \n",
              "1                   17.5                 17.5   \n",
              "2                   17.7                 17.7   \n",
              "3                   17.9                 18.0   \n",
              "4                   18.2                 18.2   \n",
              "\n",
              "   Income composition of resources  Schooling  \n",
              "0                            0.479       10.1  \n",
              "1                            0.476       10.0  \n",
              "2                            0.470        9.9  \n",
              "3                            0.463        9.8  \n",
              "4                            0.454        9.5  \n",
              "\n",
              "[5 rows x 22 columns]"
            ],
            "text/html": [
              "\n",
              "  <div id=\"df-b669cc80-fb6d-4ff4-907f-628836051929\" class=\"colab-df-container\">\n",
              "    <div>\n",
              "<style scoped>\n",
              "    .dataframe tbody tr th:only-of-type {\n",
              "        vertical-align: middle;\n",
              "    }\n",
              "\n",
              "    .dataframe tbody tr th {\n",
              "        vertical-align: top;\n",
              "    }\n",
              "\n",
              "    .dataframe thead th {\n",
              "        text-align: right;\n",
              "    }\n",
              "</style>\n",
              "<table border=\"1\" class=\"dataframe\">\n",
              "  <thead>\n",
              "    <tr style=\"text-align: right;\">\n",
              "      <th></th>\n",
              "      <th>Country</th>\n",
              "      <th>Year</th>\n",
              "      <th>Status</th>\n",
              "      <th>Life expectancy</th>\n",
              "      <th>Adult Mortality</th>\n",
              "      <th>infant deaths</th>\n",
              "      <th>Alcohol</th>\n",
              "      <th>percentage expenditure</th>\n",
              "      <th>Hepatitis B</th>\n",
              "      <th>Measles</th>\n",
              "      <th>...</th>\n",
              "      <th>Polio</th>\n",
              "      <th>Total expenditure</th>\n",
              "      <th>Diphtheria</th>\n",
              "      <th>HIV/AIDS</th>\n",
              "      <th>GDP</th>\n",
              "      <th>Population</th>\n",
              "      <th>thinness  1-19 years</th>\n",
              "      <th>thinness 5-9 years</th>\n",
              "      <th>Income composition of resources</th>\n",
              "      <th>Schooling</th>\n",
              "    </tr>\n",
              "  </thead>\n",
              "  <tbody>\n",
              "    <tr>\n",
              "      <th>0</th>\n",
              "      <td>Afghanistan</td>\n",
              "      <td>2015</td>\n",
              "      <td>Developing</td>\n",
              "      <td>65.0</td>\n",
              "      <td>263.0</td>\n",
              "      <td>62</td>\n",
              "      <td>0.01</td>\n",
              "      <td>71.279624</td>\n",
              "      <td>65.0</td>\n",
              "      <td>1154</td>\n",
              "      <td>...</td>\n",
              "      <td>6.0</td>\n",
              "      <td>8.16</td>\n",
              "      <td>65.0</td>\n",
              "      <td>0.1</td>\n",
              "      <td>584.259210</td>\n",
              "      <td>33736494.0</td>\n",
              "      <td>17.2</td>\n",
              "      <td>17.3</td>\n",
              "      <td>0.479</td>\n",
              "      <td>10.1</td>\n",
              "    </tr>\n",
              "    <tr>\n",
              "      <th>1</th>\n",
              "      <td>Afghanistan</td>\n",
              "      <td>2014</td>\n",
              "      <td>Developing</td>\n",
              "      <td>59.9</td>\n",
              "      <td>271.0</td>\n",
              "      <td>64</td>\n",
              "      <td>0.01</td>\n",
              "      <td>73.523582</td>\n",
              "      <td>62.0</td>\n",
              "      <td>492</td>\n",
              "      <td>...</td>\n",
              "      <td>58.0</td>\n",
              "      <td>8.18</td>\n",
              "      <td>62.0</td>\n",
              "      <td>0.1</td>\n",
              "      <td>612.696514</td>\n",
              "      <td>327582.0</td>\n",
              "      <td>17.5</td>\n",
              "      <td>17.5</td>\n",
              "      <td>0.476</td>\n",
              "      <td>10.0</td>\n",
              "    </tr>\n",
              "    <tr>\n",
              "      <th>2</th>\n",
              "      <td>Afghanistan</td>\n",
              "      <td>2013</td>\n",
              "      <td>Developing</td>\n",
              "      <td>59.9</td>\n",
              "      <td>268.0</td>\n",
              "      <td>66</td>\n",
              "      <td>0.01</td>\n",
              "      <td>73.219243</td>\n",
              "      <td>64.0</td>\n",
              "      <td>430</td>\n",
              "      <td>...</td>\n",
              "      <td>62.0</td>\n",
              "      <td>8.13</td>\n",
              "      <td>64.0</td>\n",
              "      <td>0.1</td>\n",
              "      <td>631.744976</td>\n",
              "      <td>31731688.0</td>\n",
              "      <td>17.7</td>\n",
              "      <td>17.7</td>\n",
              "      <td>0.470</td>\n",
              "      <td>9.9</td>\n",
              "    </tr>\n",
              "    <tr>\n",
              "      <th>3</th>\n",
              "      <td>Afghanistan</td>\n",
              "      <td>2012</td>\n",
              "      <td>Developing</td>\n",
              "      <td>59.5</td>\n",
              "      <td>272.0</td>\n",
              "      <td>69</td>\n",
              "      <td>0.01</td>\n",
              "      <td>78.184215</td>\n",
              "      <td>67.0</td>\n",
              "      <td>2787</td>\n",
              "      <td>...</td>\n",
              "      <td>67.0</td>\n",
              "      <td>8.52</td>\n",
              "      <td>67.0</td>\n",
              "      <td>0.1</td>\n",
              "      <td>669.959000</td>\n",
              "      <td>3696958.0</td>\n",
              "      <td>17.9</td>\n",
              "      <td>18.0</td>\n",
              "      <td>0.463</td>\n",
              "      <td>9.8</td>\n",
              "    </tr>\n",
              "    <tr>\n",
              "      <th>4</th>\n",
              "      <td>Afghanistan</td>\n",
              "      <td>2011</td>\n",
              "      <td>Developing</td>\n",
              "      <td>59.2</td>\n",
              "      <td>275.0</td>\n",
              "      <td>71</td>\n",
              "      <td>0.01</td>\n",
              "      <td>7.097109</td>\n",
              "      <td>68.0</td>\n",
              "      <td>3013</td>\n",
              "      <td>...</td>\n",
              "      <td>68.0</td>\n",
              "      <td>7.87</td>\n",
              "      <td>68.0</td>\n",
              "      <td>0.1</td>\n",
              "      <td>63.537231</td>\n",
              "      <td>2978599.0</td>\n",
              "      <td>18.2</td>\n",
              "      <td>18.2</td>\n",
              "      <td>0.454</td>\n",
              "      <td>9.5</td>\n",
              "    </tr>\n",
              "  </tbody>\n",
              "</table>\n",
              "<p>5 rows × 22 columns</p>\n",
              "</div>\n",
              "    <div class=\"colab-df-buttons\">\n",
              "\n",
              "  <div class=\"colab-df-container\">\n",
              "    <button class=\"colab-df-convert\" onclick=\"convertToInteractive('df-b669cc80-fb6d-4ff4-907f-628836051929')\"\n",
              "            title=\"Convert this dataframe to an interactive table.\"\n",
              "            style=\"display:none;\">\n",
              "\n",
              "  <svg xmlns=\"http://www.w3.org/2000/svg\" height=\"24px\" viewBox=\"0 -960 960 960\">\n",
              "    <path d=\"M120-120v-720h720v720H120Zm60-500h600v-160H180v160Zm220 220h160v-160H400v160Zm0 220h160v-160H400v160ZM180-400h160v-160H180v160Zm440 0h160v-160H620v160ZM180-180h160v-160H180v160Zm440 0h160v-160H620v160Z\"/>\n",
              "  </svg>\n",
              "    </button>\n",
              "\n",
              "  <style>\n",
              "    .colab-df-container {\n",
              "      display:flex;\n",
              "      gap: 12px;\n",
              "    }\n",
              "\n",
              "    .colab-df-convert {\n",
              "      background-color: #E8F0FE;\n",
              "      border: none;\n",
              "      border-radius: 50%;\n",
              "      cursor: pointer;\n",
              "      display: none;\n",
              "      fill: #1967D2;\n",
              "      height: 32px;\n",
              "      padding: 0 0 0 0;\n",
              "      width: 32px;\n",
              "    }\n",
              "\n",
              "    .colab-df-convert:hover {\n",
              "      background-color: #E2EBFA;\n",
              "      box-shadow: 0px 1px 2px rgba(60, 64, 67, 0.3), 0px 1px 3px 1px rgba(60, 64, 67, 0.15);\n",
              "      fill: #174EA6;\n",
              "    }\n",
              "\n",
              "    .colab-df-buttons div {\n",
              "      margin-bottom: 4px;\n",
              "    }\n",
              "\n",
              "    [theme=dark] .colab-df-convert {\n",
              "      background-color: #3B4455;\n",
              "      fill: #D2E3FC;\n",
              "    }\n",
              "\n",
              "    [theme=dark] .colab-df-convert:hover {\n",
              "      background-color: #434B5C;\n",
              "      box-shadow: 0px 1px 3px 1px rgba(0, 0, 0, 0.15);\n",
              "      filter: drop-shadow(0px 1px 2px rgba(0, 0, 0, 0.3));\n",
              "      fill: #FFFFFF;\n",
              "    }\n",
              "  </style>\n",
              "\n",
              "    <script>\n",
              "      const buttonEl =\n",
              "        document.querySelector('#df-b669cc80-fb6d-4ff4-907f-628836051929 button.colab-df-convert');\n",
              "      buttonEl.style.display =\n",
              "        google.colab.kernel.accessAllowed ? 'block' : 'none';\n",
              "\n",
              "      async function convertToInteractive(key) {\n",
              "        const element = document.querySelector('#df-b669cc80-fb6d-4ff4-907f-628836051929');\n",
              "        const dataTable =\n",
              "          await google.colab.kernel.invokeFunction('convertToInteractive',\n",
              "                                                    [key], {});\n",
              "        if (!dataTable) return;\n",
              "\n",
              "        const docLinkHtml = 'Like what you see? Visit the ' +\n",
              "          '<a target=\"_blank\" href=https://colab.research.google.com/notebooks/data_table.ipynb>data table notebook</a>'\n",
              "          + ' to learn more about interactive tables.';\n",
              "        element.innerHTML = '';\n",
              "        dataTable['output_type'] = 'display_data';\n",
              "        await google.colab.output.renderOutput(dataTable, element);\n",
              "        const docLink = document.createElement('div');\n",
              "        docLink.innerHTML = docLinkHtml;\n",
              "        element.appendChild(docLink);\n",
              "      }\n",
              "    </script>\n",
              "  </div>\n",
              "\n",
              "\n",
              "<div id=\"df-7ae88563-3bf6-4e32-810f-a2c4e137aa9a\">\n",
              "  <button class=\"colab-df-quickchart\" onclick=\"quickchart('df-7ae88563-3bf6-4e32-810f-a2c4e137aa9a')\"\n",
              "            title=\"Suggest charts.\"\n",
              "            style=\"display:none;\">\n",
              "\n",
              "<svg xmlns=\"http://www.w3.org/2000/svg\" height=\"24px\"viewBox=\"0 0 24 24\"\n",
              "     width=\"24px\">\n",
              "    <g>\n",
              "        <path d=\"M19 3H5c-1.1 0-2 .9-2 2v14c0 1.1.9 2 2 2h14c1.1 0 2-.9 2-2V5c0-1.1-.9-2-2-2zM9 17H7v-7h2v7zm4 0h-2V7h2v10zm4 0h-2v-4h2v4z\"/>\n",
              "    </g>\n",
              "</svg>\n",
              "  </button>\n",
              "\n",
              "<style>\n",
              "  .colab-df-quickchart {\n",
              "      --bg-color: #E8F0FE;\n",
              "      --fill-color: #1967D2;\n",
              "      --hover-bg-color: #E2EBFA;\n",
              "      --hover-fill-color: #174EA6;\n",
              "      --disabled-fill-color: #AAA;\n",
              "      --disabled-bg-color: #DDD;\n",
              "  }\n",
              "\n",
              "  [theme=dark] .colab-df-quickchart {\n",
              "      --bg-color: #3B4455;\n",
              "      --fill-color: #D2E3FC;\n",
              "      --hover-bg-color: #434B5C;\n",
              "      --hover-fill-color: #FFFFFF;\n",
              "      --disabled-bg-color: #3B4455;\n",
              "      --disabled-fill-color: #666;\n",
              "  }\n",
              "\n",
              "  .colab-df-quickchart {\n",
              "    background-color: var(--bg-color);\n",
              "    border: none;\n",
              "    border-radius: 50%;\n",
              "    cursor: pointer;\n",
              "    display: none;\n",
              "    fill: var(--fill-color);\n",
              "    height: 32px;\n",
              "    padding: 0;\n",
              "    width: 32px;\n",
              "  }\n",
              "\n",
              "  .colab-df-quickchart:hover {\n",
              "    background-color: var(--hover-bg-color);\n",
              "    box-shadow: 0 1px 2px rgba(60, 64, 67, 0.3), 0 1px 3px 1px rgba(60, 64, 67, 0.15);\n",
              "    fill: var(--button-hover-fill-color);\n",
              "  }\n",
              "\n",
              "  .colab-df-quickchart-complete:disabled,\n",
              "  .colab-df-quickchart-complete:disabled:hover {\n",
              "    background-color: var(--disabled-bg-color);\n",
              "    fill: var(--disabled-fill-color);\n",
              "    box-shadow: none;\n",
              "  }\n",
              "\n",
              "  .colab-df-spinner {\n",
              "    border: 2px solid var(--fill-color);\n",
              "    border-color: transparent;\n",
              "    border-bottom-color: var(--fill-color);\n",
              "    animation:\n",
              "      spin 1s steps(1) infinite;\n",
              "  }\n",
              "\n",
              "  @keyframes spin {\n",
              "    0% {\n",
              "      border-color: transparent;\n",
              "      border-bottom-color: var(--fill-color);\n",
              "      border-left-color: var(--fill-color);\n",
              "    }\n",
              "    20% {\n",
              "      border-color: transparent;\n",
              "      border-left-color: var(--fill-color);\n",
              "      border-top-color: var(--fill-color);\n",
              "    }\n",
              "    30% {\n",
              "      border-color: transparent;\n",
              "      border-left-color: var(--fill-color);\n",
              "      border-top-color: var(--fill-color);\n",
              "      border-right-color: var(--fill-color);\n",
              "    }\n",
              "    40% {\n",
              "      border-color: transparent;\n",
              "      border-right-color: var(--fill-color);\n",
              "      border-top-color: var(--fill-color);\n",
              "    }\n",
              "    60% {\n",
              "      border-color: transparent;\n",
              "      border-right-color: var(--fill-color);\n",
              "    }\n",
              "    80% {\n",
              "      border-color: transparent;\n",
              "      border-right-color: var(--fill-color);\n",
              "      border-bottom-color: var(--fill-color);\n",
              "    }\n",
              "    90% {\n",
              "      border-color: transparent;\n",
              "      border-bottom-color: var(--fill-color);\n",
              "    }\n",
              "  }\n",
              "</style>\n",
              "\n",
              "  <script>\n",
              "    async function quickchart(key) {\n",
              "      const quickchartButtonEl =\n",
              "        document.querySelector('#' + key + ' button');\n",
              "      quickchartButtonEl.disabled = true;  // To prevent multiple clicks.\n",
              "      quickchartButtonEl.classList.add('colab-df-spinner');\n",
              "      try {\n",
              "        const charts = await google.colab.kernel.invokeFunction(\n",
              "            'suggestCharts', [key], {});\n",
              "      } catch (error) {\n",
              "        console.error('Error during call to suggestCharts:', error);\n",
              "      }\n",
              "      quickchartButtonEl.classList.remove('colab-df-spinner');\n",
              "      quickchartButtonEl.classList.add('colab-df-quickchart-complete');\n",
              "    }\n",
              "    (() => {\n",
              "      let quickchartButtonEl =\n",
              "        document.querySelector('#df-7ae88563-3bf6-4e32-810f-a2c4e137aa9a button');\n",
              "      quickchartButtonEl.style.display =\n",
              "        google.colab.kernel.accessAllowed ? 'block' : 'none';\n",
              "    })();\n",
              "  </script>\n",
              "</div>\n",
              "    </div>\n",
              "  </div>\n"
            ]
          },
          "metadata": {},
          "execution_count": 186
        }
      ]
    },
    {
      "cell_type": "code",
      "source": [
        "dataF.isnull().sum()"
      ],
      "metadata": {
        "colab": {
          "base_uri": "https://localhost:8080/"
        },
        "id": "RNdivJFmuoXa",
        "outputId": "e25aaa54-6e90-4c14-e501-98c9774d8992"
      },
      "execution_count": 187,
      "outputs": [
        {
          "output_type": "execute_result",
          "data": {
            "text/plain": [
              "Country                              0\n",
              "Year                                 0\n",
              "Status                               0\n",
              "Life expectancy                     10\n",
              "Adult Mortality                     10\n",
              "infant deaths                        0\n",
              "Alcohol                            194\n",
              "percentage expenditure               0\n",
              "Hepatitis B                        553\n",
              "Measles                              0\n",
              " BMI                                34\n",
              "under-five deaths                    0\n",
              "Polio                               19\n",
              "Total expenditure                  226\n",
              "Diphtheria                          19\n",
              " HIV/AIDS                            0\n",
              "GDP                                448\n",
              "Population                         652\n",
              " thinness  1-19 years               34\n",
              " thinness 5-9 years                 34\n",
              "Income composition of resources    167\n",
              "Schooling                          163\n",
              "dtype: int64"
            ]
          },
          "metadata": {},
          "execution_count": 187
        }
      ]
    },
    {
      "cell_type": "code",
      "source": [
        "#Eliminando filas con valores nulos\n",
        "dfm = dataF.dropna()\n",
        "dfm.isnull().sum()"
      ],
      "metadata": {
        "colab": {
          "base_uri": "https://localhost:8080/"
        },
        "id": "EHkqNnTuuqXi",
        "outputId": "af37bff3-92f0-41bb-b875-5aa7d2ce01f8"
      },
      "execution_count": 188,
      "outputs": [
        {
          "output_type": "execute_result",
          "data": {
            "text/plain": [
              "Country                            0\n",
              "Year                               0\n",
              "Status                             0\n",
              "Life expectancy                    0\n",
              "Adult Mortality                    0\n",
              "infant deaths                      0\n",
              "Alcohol                            0\n",
              "percentage expenditure             0\n",
              "Hepatitis B                        0\n",
              "Measles                            0\n",
              " BMI                               0\n",
              "under-five deaths                  0\n",
              "Polio                              0\n",
              "Total expenditure                  0\n",
              "Diphtheria                         0\n",
              " HIV/AIDS                          0\n",
              "GDP                                0\n",
              "Population                         0\n",
              " thinness  1-19 years              0\n",
              " thinness 5-9 years                0\n",
              "Income composition of resources    0\n",
              "Schooling                          0\n",
              "dtype: int64"
            ]
          },
          "metadata": {},
          "execution_count": 188
        }
      ]
    },
    {
      "cell_type": "code",
      "source": [
        "df = dfm.copy()\n",
        "df.drop('Country', axis=1, inplace=True)\n",
        "df.drop('Status', axis=1, inplace=True)"
      ],
      "metadata": {
        "id": "5IM5PNYYusn2"
      },
      "execution_count": 189,
      "outputs": []
    },
    {
      "cell_type": "markdown",
      "source": [
        "##1. Evalúa con validación cruzada un modelo de regresión lineal para las variables asignadas utilizando alguna librería o framework."
      ],
      "metadata": {
        "id": "TdIiw7E8u4jm"
      }
    },
    {
      "cell_type": "code",
      "source": [
        "from sklearn.model_selection import cross_val_score\n",
        "from sklearn.linear_model import LinearRegression\n",
        "from sklearn.preprocessing import StandardScaler\n",
        "from sklearn.pipeline import make_pipeline"
      ],
      "metadata": {
        "id": "ONqDqQy0u6RD"
      },
      "execution_count": 190,
      "outputs": []
    },
    {
      "cell_type": "code",
      "source": [
        "#Eliminar espacios en blanco al principio y al final de los nombres de las columnas\n",
        "df.columns = df.columns.str.strip()\n",
        "\n",
        "#Definir variables independientes (X) y variable dependiente (y)\n",
        "X = df[['Adult Mortality', 'Alcohol', 'percentage expenditure', 'Hepatitis B', 'BMI', 'under-five deaths',\n",
        "          'Polio', 'Diphtheria', 'HIV/AIDS', 'GDP', 'thinness  1-19 years', 'thinness 5-9 years',\n",
        "          'Income composition of resources']]\n",
        "y = df['Life expectancy']"
      ],
      "metadata": {
        "id": "ZVQj8qBku8P8"
      },
      "execution_count": 191,
      "outputs": []
    },
    {
      "cell_type": "code",
      "source": [
        "model = LinearRegression()\n",
        "\n",
        "#Realizar validación cruzada con 5 folds\n",
        "scores = cross_val_score(model, X, y, cv=5, scoring='neg_mean_squared_error')\n",
        "\n",
        "#Los valores de puntuación son negativos, así que los convertimos a positivos\n",
        "mse_scores = -scores\n",
        "\n",
        "#Calculo del promedio y la desviación estándar de los errores cuadrados medios\n",
        "average_mse = mse_scores.mean()\n",
        "std_mse = mse_scores.std()\n",
        "\n",
        "print(\"Promedio del MSE:\", average_mse)\n",
        "print(\"Desviación Estándar del MSE:\", std_mse)"
      ],
      "metadata": {
        "colab": {
          "base_uri": "https://localhost:8080/"
        },
        "id": "QDvfp4AXu-Zq",
        "outputId": "ff8282ea-31f4-487b-eb55-5da72380eadd"
      },
      "execution_count": 192,
      "outputs": [
        {
          "output_type": "stream",
          "name": "stdout",
          "text": [
            "Promedio del MSE: 17.585354506689526\n",
            "Desviación Estándar del MSE: 3.2809537159586597\n"
          ]
        }
      ]
    },
    {
      "cell_type": "code",
      "source": [
        "# Agregar una constante a la matriz de características (intercepto)\n",
        "X = sm.add_constant(X)\n",
        "\n",
        "# Crear un modelo OLS\n",
        "model_ols = sm.OLS(y, X).fit()\n",
        "\n",
        "# Obtener los resultados del modelo\n",
        "results = model_ols.summary()\n",
        "\n",
        "# Mostrar la tabla de resumen con valores p y otros estadísticos\n",
        "print(results)"
      ],
      "metadata": {
        "colab": {
          "base_uri": "https://localhost:8080/"
        },
        "id": "BmgJkzmLvA2K",
        "outputId": "b4fd3d17-a7c7-444f-d34b-5c5f94f28d6d"
      },
      "execution_count": 193,
      "outputs": [
        {
          "output_type": "stream",
          "name": "stdout",
          "text": [
            "                            OLS Regression Results                            \n",
            "==============================================================================\n",
            "Dep. Variable:        Life expectancy   R-squared:                       0.802\n",
            "Model:                            OLS   Adj. R-squared:                  0.800\n",
            "Method:                 Least Squares   F-statistic:                     508.1\n",
            "Date:                Fri, 15 Sep 2023   Prob (F-statistic):               0.00\n",
            "Time:                        07:45:27   Log-Likelihood:                -4591.3\n",
            "No. Observations:                1649   AIC:                             9211.\n",
            "Df Residuals:                    1635   BIC:                             9286.\n",
            "Df Model:                          13                                         \n",
            "Covariance Type:            nonrobust                                         \n",
            "===================================================================================================\n",
            "                                      coef    std err          t      P>|t|      [0.025      0.975]\n",
            "---------------------------------------------------------------------------------------------------\n",
            "const                              57.4413      0.679     84.596      0.000      56.109      58.773\n",
            "Adult Mortality                    -0.0197      0.001    -19.308      0.000      -0.022      -0.018\n",
            "Alcohol                             0.0346      0.031      1.100      0.271      -0.027       0.096\n",
            "percentage expenditure              0.0002      0.000      1.243      0.214      -0.000       0.001\n",
            "Hepatitis B                        -0.0053      0.005     -1.087      0.277      -0.015       0.004\n",
            "BMI                                 0.0551      0.006      8.616      0.000       0.043       0.068\n",
            "under-five deaths                  -0.0026      0.001     -3.696      0.000      -0.004      -0.001\n",
            "Polio                               0.0174      0.006      3.105      0.002       0.006       0.028\n",
            "Diphtheria                          0.0235      0.006      3.641      0.000       0.011       0.036\n",
            "HIV/AIDS                           -0.4321      0.019    -22.229      0.000      -0.470      -0.394\n",
            "GDP                               5.05e-05   3.09e-05      1.634      0.102   -1.01e-05       0.000\n",
            "thinness  1-19 years               -0.0625      0.058     -1.079      0.281      -0.176       0.051\n",
            "thinness 5-9 years                  0.0105      0.057      0.185      0.853      -0.101       0.122\n",
            "Income composition of resources    16.9019      0.783     21.576      0.000      15.365      18.438\n",
            "==============================================================================\n",
            "Omnibus:                       51.830   Durbin-Watson:                   0.782\n",
            "Prob(Omnibus):                  0.000   Jarque-Bera (JB):              132.946\n",
            "Skew:                          -0.005   Prob(JB):                     1.35e-29\n",
            "Kurtosis:                       4.391   Cond. No.                     1.20e+05\n",
            "==============================================================================\n",
            "\n",
            "Notes:\n",
            "[1] Standard Errors assume that the covariance matrix of the errors is correctly specified.\n",
            "[2] The condition number is large, 1.2e+05. This might indicate that there are\n",
            "strong multicollinearity or other numerical problems.\n"
          ]
        }
      ]
    },
    {
      "cell_type": "markdown",
      "source": [
        "##2. Encuentra el número óptimo de predictores para el modelo utilizando el método filter y validación cruzada. Después muestra las características seleccionadas."
      ],
      "metadata": {
        "id": "eq71J--rvEZC"
      }
    },
    {
      "cell_type": "code",
      "source": [
        "#Definición variables independientes (X) y variable dependiente (y)\n",
        "X = df.drop(columns=['Life expectancy'])\n",
        "y = df['Life expectancy']\n",
        "\n",
        "model = LinearRegression\n",
        "\n",
        "#Calculo del rendimiento del modelo utilizando validación cruzada con diferentes números de predictores\n",
        "num_predictors = X.shape[1]\n",
        "scores = []"
      ],
      "metadata": {
        "id": "ZhndC_gVvCu7"
      },
      "execution_count": 194,
      "outputs": []
    },
    {
      "cell_type": "code",
      "source": [
        "for num_features in range(1, num_predictors + 1):\n",
        "    selected_features = X.columns[:num_features]\n",
        "    X_selected = X[selected_features]\n",
        "\n",
        "    score = cross_val_score(LinearRegression(), X_selected, y, cv=5, scoring='r2').mean()\n",
        "    scores.append((num_features, score))"
      ],
      "metadata": {
        "id": "wiI3vRFyvI7v"
      },
      "execution_count": 195,
      "outputs": []
    },
    {
      "cell_type": "code",
      "source": [
        "#Número óptimo de predictores que maximiza R2\n",
        "optimal_num_features = max(scores, key=lambda x: x[1])[0]"
      ],
      "metadata": {
        "id": "Ri2d6I7WvKZM"
      },
      "execution_count": 196,
      "outputs": []
    },
    {
      "cell_type": "code",
      "source": [
        "selected_features = X.columns[:optimal_num_features]\n",
        "print(\"Número óptimo de predictores:\", optimal_num_features)\n",
        "print(\"Características seleccionadas:\")\n",
        "print(selected_features)"
      ],
      "metadata": {
        "colab": {
          "base_uri": "https://localhost:8080/"
        },
        "id": "R-D5uFgevMRs",
        "outputId": "01817f14-0c62-4252-fa2d-935e9bbfeddd"
      },
      "execution_count": 197,
      "outputs": [
        {
          "output_type": "stream",
          "name": "stdout",
          "text": [
            "Número óptimo de predictores: 19\n",
            "Características seleccionadas:\n",
            "Index(['Year', 'Adult Mortality', 'infant deaths', 'Alcohol',\n",
            "       'percentage expenditure', 'Hepatitis B', 'Measles', 'BMI',\n",
            "       'under-five deaths', 'Polio', 'Total expenditure', 'Diphtheria',\n",
            "       'HIV/AIDS', 'GDP', 'Population', 'thinness  1-19 years',\n",
            "       'thinness 5-9 years', 'Income composition of resources', 'Schooling'],\n",
            "      dtype='object')\n"
          ]
        }
      ]
    },
    {
      "cell_type": "markdown",
      "source": [
        "##3. Repite el paso anterior pero con selección de características secuencial (Wrapper). Reporta los predictores óptimos encontrados por el método."
      ],
      "metadata": {
        "id": "VvaxU4f5vPqF"
      }
    },
    {
      "cell_type": "code",
      "source": [
        "from sklearn.model_selection import train_test_split\n",
        "from sklearn.feature_selection import SequentialFeatureSelector\n",
        "from sklearn.metrics import r2_score"
      ],
      "metadata": {
        "id": "gpvzhleAvOGX"
      },
      "execution_count": 198,
      "outputs": []
    },
    {
      "cell_type": "code",
      "source": [
        "#Definición de variables independientes (X) y variable dependiente (y)\n",
        "X = df.drop(columns=['Life expectancy'])\n",
        "y = df['Life expectancy']\n",
        "\n",
        "#Conjuntos de entrenamiento y prueba\n",
        "X_train, X_test, y_train, y_test = train_test_split(X, y, test_size=0.2, random_state=42)\n",
        "\n",
        "model = LinearRegression()"
      ],
      "metadata": {
        "id": "n4Q-nmDuvT3X"
      },
      "execution_count": 199,
      "outputs": []
    },
    {
      "cell_type": "code",
      "source": [
        "#Objeto SequentialFeatureSelector\n",
        "sfs = SequentialFeatureSelector(estimator=model, n_features_to_select=5, direction='forward', scoring='r2', cv=5)\n",
        "\n",
        "#Selección de características secuenciales\n",
        "sfs = sfs.fit(X_train, y_train)\n",
        "\n",
        "#Obtener las características seleccionadas\n",
        "selected_features_mask = sfs.support_\n",
        "selected_features = X.columns[selected_features_mask]\n",
        "num_selected_features = len(selected_features)"
      ],
      "metadata": {
        "id": "NxClnwatvVxg"
      },
      "execution_count": 200,
      "outputs": []
    },
    {
      "cell_type": "code",
      "source": [
        "print(\"Número de características seleccionadas:\", num_selected_features)\n",
        "print(\"Características seleccionadas:\")\n",
        "print(selected_features)"
      ],
      "metadata": {
        "colab": {
          "base_uri": "https://localhost:8080/"
        },
        "id": "f1gmgNCQvXbz",
        "outputId": "c30c8bf0-d58a-4193-dd22-1bf71dc30e73"
      },
      "execution_count": 201,
      "outputs": [
        {
          "output_type": "stream",
          "name": "stdout",
          "text": [
            "Número de características seleccionadas: 5\n",
            "Características seleccionadas:\n",
            "Index(['Adult Mortality', 'percentage expenditure', 'HIV/AIDS',\n",
            "       'Income composition of resources', 'Schooling'],\n",
            "      dtype='object')\n"
          ]
        }
      ]
    },
    {
      "cell_type": "markdown",
      "source": [
        "##4. Haz el mismo proceso del paso 2, pero ahora con el método de selección de características recursivo (Filter-Wrapper). Reporta los predictores óptimos encontrados por el método."
      ],
      "metadata": {
        "id": "cYhROqvhvZv3"
      }
    },
    {
      "cell_type": "code",
      "source": [
        "from sklearn.feature_selection import RFECV"
      ],
      "metadata": {
        "id": "3Nq49FqgvcjG"
      },
      "execution_count": 202,
      "outputs": []
    },
    {
      "cell_type": "code",
      "source": [
        "#Definición de variables independientes (X) y variable dependiente (y)\n",
        "X = df.drop(columns=['Life expectancy'])\n",
        "y = df['Life expectancy']\n",
        "\n",
        "#Conjuntos de entrenamiento y prueba\n",
        "X_train, X_test, y_train, y_test = train_test_split(X, y, test_size=0.2, random_state=42)\n",
        "\n",
        "model = LinearRegression()"
      ],
      "metadata": {
        "id": "tJ3R3jEbveds"
      },
      "execution_count": 203,
      "outputs": []
    },
    {
      "cell_type": "code",
      "source": [
        "#objeto RFECV\n",
        "rfecv = RFECV(estimator=model, step=1, cv=5, scoring='r2')\n",
        "\n",
        "#Selección de características recursivo\n",
        "rfecv.fit(X_train, y_train)\n",
        "\n",
        "#Obtener el número óptimo de predictores y las características seleccionadas\n",
        "optimal_num_features = rfecv.n_features_\n",
        "selected_features_mask = rfecv.support_\n",
        "selected_features = X.columns[selected_features_mask]"
      ],
      "metadata": {
        "id": "JgU9HmqFvgvY"
      },
      "execution_count": 204,
      "outputs": []
    },
    {
      "cell_type": "code",
      "source": [
        "print(\"Número óptimo de predictores:\", optimal_num_features)\n",
        "print(\"Características seleccionadas:\")\n",
        "print(selected_features)"
      ],
      "metadata": {
        "colab": {
          "base_uri": "https://localhost:8080/"
        },
        "id": "fAd4EInEvi6A",
        "outputId": "54fc5ee0-3d1b-4130-fb6c-ed88ff5b866d"
      },
      "execution_count": 205,
      "outputs": [
        {
          "output_type": "stream",
          "name": "stdout",
          "text": [
            "Número óptimo de predictores: 16\n",
            "Características seleccionadas:\n",
            "Index(['Year', 'Adult Mortality', 'infant deaths', 'Alcohol',\n",
            "       'percentage expenditure', 'Hepatitis B', 'BMI', 'under-five deaths',\n",
            "       'Polio', 'Total expenditure', 'Diphtheria', 'HIV/AIDS',\n",
            "       'thinness  1-19 years', 'thinness 5-9 years',\n",
            "       'Income composition of resources', 'Schooling'],\n",
            "      dtype='object')\n"
          ]
        }
      ]
    },
    {
      "cell_type": "markdown",
      "source": [
        "##5. Repita los pasos anteriores, pero utilizando un modelo de regresión no lineal como K-vecinos más cercanos."
      ],
      "metadata": {
        "id": "s1iH4GfMvlQ8"
      }
    },
    {
      "cell_type": "code",
      "source": [
        "from sklearn.neighbors import KNeighborsRegressor"
      ],
      "metadata": {
        "id": "C4Btrhc6voQm"
      },
      "execution_count": 206,
      "outputs": []
    },
    {
      "cell_type": "code",
      "source": [
        "#Definición de variables independientes (X) y variable dependiente (y)\n",
        "X = df.drop(columns=['Life expectancy'])\n",
        "y = df['Life expectancy']\n",
        "\n",
        "#Características para KNN\n",
        "scaler = StandardScaler()\n",
        "X_scaled = scaler.fit_transform(X)\n",
        "\n",
        "model = KNeighborsRegressor()\n",
        "\n",
        "#Lista de posibles números de predictores\n",
        "num_features_list = list(range(1, len(X.columns) + 1))\n",
        "\n",
        "#Lista para almacenar los resultados\n",
        "scores = []"
      ],
      "metadata": {
        "id": "AEnXRtVwvqRb"
      },
      "execution_count": 207,
      "outputs": []
    },
    {
      "cell_type": "code",
      "source": [
        "#Validación cruzada para diferentes números de predictores\n",
        "for num_features in num_features_list:\n",
        "    X_selected = X_scaled[:, :num_features]\n",
        "    score = cross_val_score(model, X_selected, y, cv=5, scoring='r2').mean()\n",
        "    scores.append((num_features, score))"
      ],
      "metadata": {
        "id": "giSGswYRvsH7"
      },
      "execution_count": 208,
      "outputs": []
    },
    {
      "cell_type": "code",
      "source": [
        "#Número óptimo de predictores con el mejor score R2\n",
        "best_num_features, best_score = max(scores, key=lambda x: x[1])\n",
        "\n",
        "print(\"Número óptimo de predictores:\", best_num_features)\n",
        "print(\"Mejor score R2:\", best_score)"
      ],
      "metadata": {
        "colab": {
          "base_uri": "https://localhost:8080/"
        },
        "id": "VitIZ5HzvuFL",
        "outputId": "6636806b-b4b3-485f-f628-dbccd4906951"
      },
      "execution_count": 209,
      "outputs": [
        {
          "output_type": "stream",
          "name": "stdout",
          "text": [
            "Número óptimo de predictores: 19\n",
            "Mejor score R2: 0.7545732544649548\n"
          ]
        }
      ]
    },
    {
      "cell_type": "markdown",
      "source": [
        "##6. Agregue la variables \"Status\" como variable predictora, y utiliza un árbol de decisión para generar un modelo de regresión para la varible Life expectancy\". Evalúa este modelo con validación cruzada.\n"
      ],
      "metadata": {
        "id": "oMQvGn2Kvwm-"
      }
    },
    {
      "cell_type": "code",
      "source": [
        "from sklearn.tree import DecisionTreeRegressor\n",
        "from sklearn.preprocessing import LabelEncoder"
      ],
      "metadata": {
        "id": "m5yMFsKEv0Jr"
      },
      "execution_count": 210,
      "outputs": []
    },
    {
      "cell_type": "code",
      "source": [
        "dataF.head()"
      ],
      "metadata": {
        "colab": {
          "base_uri": "https://localhost:8080/",
          "height": 308
        },
        "id": "wkwcMFWRv2hd",
        "outputId": "81d05e5d-4d17-4dcc-94a1-fa9be5be3c4e"
      },
      "execution_count": 211,
      "outputs": [
        {
          "output_type": "execute_result",
          "data": {
            "text/plain": [
              "       Country  Year      Status  Life expectancy   Adult Mortality  \\\n",
              "0  Afghanistan  2015  Developing              65.0            263.0   \n",
              "1  Afghanistan  2014  Developing              59.9            271.0   \n",
              "2  Afghanistan  2013  Developing              59.9            268.0   \n",
              "3  Afghanistan  2012  Developing              59.5            272.0   \n",
              "4  Afghanistan  2011  Developing              59.2            275.0   \n",
              "\n",
              "   infant deaths  Alcohol  percentage expenditure  Hepatitis B  Measles   ...  \\\n",
              "0             62     0.01               71.279624         65.0      1154  ...   \n",
              "1             64     0.01               73.523582         62.0       492  ...   \n",
              "2             66     0.01               73.219243         64.0       430  ...   \n",
              "3             69     0.01               78.184215         67.0      2787  ...   \n",
              "4             71     0.01                7.097109         68.0      3013  ...   \n",
              "\n",
              "   Polio  Total expenditure  Diphtheria    HIV/AIDS         GDP  Population  \\\n",
              "0    6.0               8.16         65.0        0.1  584.259210  33736494.0   \n",
              "1   58.0               8.18         62.0        0.1  612.696514    327582.0   \n",
              "2   62.0               8.13         64.0        0.1  631.744976  31731688.0   \n",
              "3   67.0               8.52         67.0        0.1  669.959000   3696958.0   \n",
              "4   68.0               7.87         68.0        0.1   63.537231   2978599.0   \n",
              "\n",
              "    thinness  1-19 years   thinness 5-9 years  \\\n",
              "0                   17.2                 17.3   \n",
              "1                   17.5                 17.5   \n",
              "2                   17.7                 17.7   \n",
              "3                   17.9                 18.0   \n",
              "4                   18.2                 18.2   \n",
              "\n",
              "   Income composition of resources  Schooling  \n",
              "0                            0.479       10.1  \n",
              "1                            0.476       10.0  \n",
              "2                            0.470        9.9  \n",
              "3                            0.463        9.8  \n",
              "4                            0.454        9.5  \n",
              "\n",
              "[5 rows x 22 columns]"
            ],
            "text/html": [
              "\n",
              "  <div id=\"df-c9255454-b77c-4a30-9e20-63f3bcfe63ec\" class=\"colab-df-container\">\n",
              "    <div>\n",
              "<style scoped>\n",
              "    .dataframe tbody tr th:only-of-type {\n",
              "        vertical-align: middle;\n",
              "    }\n",
              "\n",
              "    .dataframe tbody tr th {\n",
              "        vertical-align: top;\n",
              "    }\n",
              "\n",
              "    .dataframe thead th {\n",
              "        text-align: right;\n",
              "    }\n",
              "</style>\n",
              "<table border=\"1\" class=\"dataframe\">\n",
              "  <thead>\n",
              "    <tr style=\"text-align: right;\">\n",
              "      <th></th>\n",
              "      <th>Country</th>\n",
              "      <th>Year</th>\n",
              "      <th>Status</th>\n",
              "      <th>Life expectancy</th>\n",
              "      <th>Adult Mortality</th>\n",
              "      <th>infant deaths</th>\n",
              "      <th>Alcohol</th>\n",
              "      <th>percentage expenditure</th>\n",
              "      <th>Hepatitis B</th>\n",
              "      <th>Measles</th>\n",
              "      <th>...</th>\n",
              "      <th>Polio</th>\n",
              "      <th>Total expenditure</th>\n",
              "      <th>Diphtheria</th>\n",
              "      <th>HIV/AIDS</th>\n",
              "      <th>GDP</th>\n",
              "      <th>Population</th>\n",
              "      <th>thinness  1-19 years</th>\n",
              "      <th>thinness 5-9 years</th>\n",
              "      <th>Income composition of resources</th>\n",
              "      <th>Schooling</th>\n",
              "    </tr>\n",
              "  </thead>\n",
              "  <tbody>\n",
              "    <tr>\n",
              "      <th>0</th>\n",
              "      <td>Afghanistan</td>\n",
              "      <td>2015</td>\n",
              "      <td>Developing</td>\n",
              "      <td>65.0</td>\n",
              "      <td>263.0</td>\n",
              "      <td>62</td>\n",
              "      <td>0.01</td>\n",
              "      <td>71.279624</td>\n",
              "      <td>65.0</td>\n",
              "      <td>1154</td>\n",
              "      <td>...</td>\n",
              "      <td>6.0</td>\n",
              "      <td>8.16</td>\n",
              "      <td>65.0</td>\n",
              "      <td>0.1</td>\n",
              "      <td>584.259210</td>\n",
              "      <td>33736494.0</td>\n",
              "      <td>17.2</td>\n",
              "      <td>17.3</td>\n",
              "      <td>0.479</td>\n",
              "      <td>10.1</td>\n",
              "    </tr>\n",
              "    <tr>\n",
              "      <th>1</th>\n",
              "      <td>Afghanistan</td>\n",
              "      <td>2014</td>\n",
              "      <td>Developing</td>\n",
              "      <td>59.9</td>\n",
              "      <td>271.0</td>\n",
              "      <td>64</td>\n",
              "      <td>0.01</td>\n",
              "      <td>73.523582</td>\n",
              "      <td>62.0</td>\n",
              "      <td>492</td>\n",
              "      <td>...</td>\n",
              "      <td>58.0</td>\n",
              "      <td>8.18</td>\n",
              "      <td>62.0</td>\n",
              "      <td>0.1</td>\n",
              "      <td>612.696514</td>\n",
              "      <td>327582.0</td>\n",
              "      <td>17.5</td>\n",
              "      <td>17.5</td>\n",
              "      <td>0.476</td>\n",
              "      <td>10.0</td>\n",
              "    </tr>\n",
              "    <tr>\n",
              "      <th>2</th>\n",
              "      <td>Afghanistan</td>\n",
              "      <td>2013</td>\n",
              "      <td>Developing</td>\n",
              "      <td>59.9</td>\n",
              "      <td>268.0</td>\n",
              "      <td>66</td>\n",
              "      <td>0.01</td>\n",
              "      <td>73.219243</td>\n",
              "      <td>64.0</td>\n",
              "      <td>430</td>\n",
              "      <td>...</td>\n",
              "      <td>62.0</td>\n",
              "      <td>8.13</td>\n",
              "      <td>64.0</td>\n",
              "      <td>0.1</td>\n",
              "      <td>631.744976</td>\n",
              "      <td>31731688.0</td>\n",
              "      <td>17.7</td>\n",
              "      <td>17.7</td>\n",
              "      <td>0.470</td>\n",
              "      <td>9.9</td>\n",
              "    </tr>\n",
              "    <tr>\n",
              "      <th>3</th>\n",
              "      <td>Afghanistan</td>\n",
              "      <td>2012</td>\n",
              "      <td>Developing</td>\n",
              "      <td>59.5</td>\n",
              "      <td>272.0</td>\n",
              "      <td>69</td>\n",
              "      <td>0.01</td>\n",
              "      <td>78.184215</td>\n",
              "      <td>67.0</td>\n",
              "      <td>2787</td>\n",
              "      <td>...</td>\n",
              "      <td>67.0</td>\n",
              "      <td>8.52</td>\n",
              "      <td>67.0</td>\n",
              "      <td>0.1</td>\n",
              "      <td>669.959000</td>\n",
              "      <td>3696958.0</td>\n",
              "      <td>17.9</td>\n",
              "      <td>18.0</td>\n",
              "      <td>0.463</td>\n",
              "      <td>9.8</td>\n",
              "    </tr>\n",
              "    <tr>\n",
              "      <th>4</th>\n",
              "      <td>Afghanistan</td>\n",
              "      <td>2011</td>\n",
              "      <td>Developing</td>\n",
              "      <td>59.2</td>\n",
              "      <td>275.0</td>\n",
              "      <td>71</td>\n",
              "      <td>0.01</td>\n",
              "      <td>7.097109</td>\n",
              "      <td>68.0</td>\n",
              "      <td>3013</td>\n",
              "      <td>...</td>\n",
              "      <td>68.0</td>\n",
              "      <td>7.87</td>\n",
              "      <td>68.0</td>\n",
              "      <td>0.1</td>\n",
              "      <td>63.537231</td>\n",
              "      <td>2978599.0</td>\n",
              "      <td>18.2</td>\n",
              "      <td>18.2</td>\n",
              "      <td>0.454</td>\n",
              "      <td>9.5</td>\n",
              "    </tr>\n",
              "  </tbody>\n",
              "</table>\n",
              "<p>5 rows × 22 columns</p>\n",
              "</div>\n",
              "    <div class=\"colab-df-buttons\">\n",
              "\n",
              "  <div class=\"colab-df-container\">\n",
              "    <button class=\"colab-df-convert\" onclick=\"convertToInteractive('df-c9255454-b77c-4a30-9e20-63f3bcfe63ec')\"\n",
              "            title=\"Convert this dataframe to an interactive table.\"\n",
              "            style=\"display:none;\">\n",
              "\n",
              "  <svg xmlns=\"http://www.w3.org/2000/svg\" height=\"24px\" viewBox=\"0 -960 960 960\">\n",
              "    <path d=\"M120-120v-720h720v720H120Zm60-500h600v-160H180v160Zm220 220h160v-160H400v160Zm0 220h160v-160H400v160ZM180-400h160v-160H180v160Zm440 0h160v-160H620v160ZM180-180h160v-160H180v160Zm440 0h160v-160H620v160Z\"/>\n",
              "  </svg>\n",
              "    </button>\n",
              "\n",
              "  <style>\n",
              "    .colab-df-container {\n",
              "      display:flex;\n",
              "      gap: 12px;\n",
              "    }\n",
              "\n",
              "    .colab-df-convert {\n",
              "      background-color: #E8F0FE;\n",
              "      border: none;\n",
              "      border-radius: 50%;\n",
              "      cursor: pointer;\n",
              "      display: none;\n",
              "      fill: #1967D2;\n",
              "      height: 32px;\n",
              "      padding: 0 0 0 0;\n",
              "      width: 32px;\n",
              "    }\n",
              "\n",
              "    .colab-df-convert:hover {\n",
              "      background-color: #E2EBFA;\n",
              "      box-shadow: 0px 1px 2px rgba(60, 64, 67, 0.3), 0px 1px 3px 1px rgba(60, 64, 67, 0.15);\n",
              "      fill: #174EA6;\n",
              "    }\n",
              "\n",
              "    .colab-df-buttons div {\n",
              "      margin-bottom: 4px;\n",
              "    }\n",
              "\n",
              "    [theme=dark] .colab-df-convert {\n",
              "      background-color: #3B4455;\n",
              "      fill: #D2E3FC;\n",
              "    }\n",
              "\n",
              "    [theme=dark] .colab-df-convert:hover {\n",
              "      background-color: #434B5C;\n",
              "      box-shadow: 0px 1px 3px 1px rgba(0, 0, 0, 0.15);\n",
              "      filter: drop-shadow(0px 1px 2px rgba(0, 0, 0, 0.3));\n",
              "      fill: #FFFFFF;\n",
              "    }\n",
              "  </style>\n",
              "\n",
              "    <script>\n",
              "      const buttonEl =\n",
              "        document.querySelector('#df-c9255454-b77c-4a30-9e20-63f3bcfe63ec button.colab-df-convert');\n",
              "      buttonEl.style.display =\n",
              "        google.colab.kernel.accessAllowed ? 'block' : 'none';\n",
              "\n",
              "      async function convertToInteractive(key) {\n",
              "        const element = document.querySelector('#df-c9255454-b77c-4a30-9e20-63f3bcfe63ec');\n",
              "        const dataTable =\n",
              "          await google.colab.kernel.invokeFunction('convertToInteractive',\n",
              "                                                    [key], {});\n",
              "        if (!dataTable) return;\n",
              "\n",
              "        const docLinkHtml = 'Like what you see? Visit the ' +\n",
              "          '<a target=\"_blank\" href=https://colab.research.google.com/notebooks/data_table.ipynb>data table notebook</a>'\n",
              "          + ' to learn more about interactive tables.';\n",
              "        element.innerHTML = '';\n",
              "        dataTable['output_type'] = 'display_data';\n",
              "        await google.colab.output.renderOutput(dataTable, element);\n",
              "        const docLink = document.createElement('div');\n",
              "        docLink.innerHTML = docLinkHtml;\n",
              "        element.appendChild(docLink);\n",
              "      }\n",
              "    </script>\n",
              "  </div>\n",
              "\n",
              "\n",
              "<div id=\"df-bb5fb233-2ea7-426e-9244-eef11807e576\">\n",
              "  <button class=\"colab-df-quickchart\" onclick=\"quickchart('df-bb5fb233-2ea7-426e-9244-eef11807e576')\"\n",
              "            title=\"Suggest charts.\"\n",
              "            style=\"display:none;\">\n",
              "\n",
              "<svg xmlns=\"http://www.w3.org/2000/svg\" height=\"24px\"viewBox=\"0 0 24 24\"\n",
              "     width=\"24px\">\n",
              "    <g>\n",
              "        <path d=\"M19 3H5c-1.1 0-2 .9-2 2v14c0 1.1.9 2 2 2h14c1.1 0 2-.9 2-2V5c0-1.1-.9-2-2-2zM9 17H7v-7h2v7zm4 0h-2V7h2v10zm4 0h-2v-4h2v4z\"/>\n",
              "    </g>\n",
              "</svg>\n",
              "  </button>\n",
              "\n",
              "<style>\n",
              "  .colab-df-quickchart {\n",
              "      --bg-color: #E8F0FE;\n",
              "      --fill-color: #1967D2;\n",
              "      --hover-bg-color: #E2EBFA;\n",
              "      --hover-fill-color: #174EA6;\n",
              "      --disabled-fill-color: #AAA;\n",
              "      --disabled-bg-color: #DDD;\n",
              "  }\n",
              "\n",
              "  [theme=dark] .colab-df-quickchart {\n",
              "      --bg-color: #3B4455;\n",
              "      --fill-color: #D2E3FC;\n",
              "      --hover-bg-color: #434B5C;\n",
              "      --hover-fill-color: #FFFFFF;\n",
              "      --disabled-bg-color: #3B4455;\n",
              "      --disabled-fill-color: #666;\n",
              "  }\n",
              "\n",
              "  .colab-df-quickchart {\n",
              "    background-color: var(--bg-color);\n",
              "    border: none;\n",
              "    border-radius: 50%;\n",
              "    cursor: pointer;\n",
              "    display: none;\n",
              "    fill: var(--fill-color);\n",
              "    height: 32px;\n",
              "    padding: 0;\n",
              "    width: 32px;\n",
              "  }\n",
              "\n",
              "  .colab-df-quickchart:hover {\n",
              "    background-color: var(--hover-bg-color);\n",
              "    box-shadow: 0 1px 2px rgba(60, 64, 67, 0.3), 0 1px 3px 1px rgba(60, 64, 67, 0.15);\n",
              "    fill: var(--button-hover-fill-color);\n",
              "  }\n",
              "\n",
              "  .colab-df-quickchart-complete:disabled,\n",
              "  .colab-df-quickchart-complete:disabled:hover {\n",
              "    background-color: var(--disabled-bg-color);\n",
              "    fill: var(--disabled-fill-color);\n",
              "    box-shadow: none;\n",
              "  }\n",
              "\n",
              "  .colab-df-spinner {\n",
              "    border: 2px solid var(--fill-color);\n",
              "    border-color: transparent;\n",
              "    border-bottom-color: var(--fill-color);\n",
              "    animation:\n",
              "      spin 1s steps(1) infinite;\n",
              "  }\n",
              "\n",
              "  @keyframes spin {\n",
              "    0% {\n",
              "      border-color: transparent;\n",
              "      border-bottom-color: var(--fill-color);\n",
              "      border-left-color: var(--fill-color);\n",
              "    }\n",
              "    20% {\n",
              "      border-color: transparent;\n",
              "      border-left-color: var(--fill-color);\n",
              "      border-top-color: var(--fill-color);\n",
              "    }\n",
              "    30% {\n",
              "      border-color: transparent;\n",
              "      border-left-color: var(--fill-color);\n",
              "      border-top-color: var(--fill-color);\n",
              "      border-right-color: var(--fill-color);\n",
              "    }\n",
              "    40% {\n",
              "      border-color: transparent;\n",
              "      border-right-color: var(--fill-color);\n",
              "      border-top-color: var(--fill-color);\n",
              "    }\n",
              "    60% {\n",
              "      border-color: transparent;\n",
              "      border-right-color: var(--fill-color);\n",
              "    }\n",
              "    80% {\n",
              "      border-color: transparent;\n",
              "      border-right-color: var(--fill-color);\n",
              "      border-bottom-color: var(--fill-color);\n",
              "    }\n",
              "    90% {\n",
              "      border-color: transparent;\n",
              "      border-bottom-color: var(--fill-color);\n",
              "    }\n",
              "  }\n",
              "</style>\n",
              "\n",
              "  <script>\n",
              "    async function quickchart(key) {\n",
              "      const quickchartButtonEl =\n",
              "        document.querySelector('#' + key + ' button');\n",
              "      quickchartButtonEl.disabled = true;  // To prevent multiple clicks.\n",
              "      quickchartButtonEl.classList.add('colab-df-spinner');\n",
              "      try {\n",
              "        const charts = await google.colab.kernel.invokeFunction(\n",
              "            'suggestCharts', [key], {});\n",
              "      } catch (error) {\n",
              "        console.error('Error during call to suggestCharts:', error);\n",
              "      }\n",
              "      quickchartButtonEl.classList.remove('colab-df-spinner');\n",
              "      quickchartButtonEl.classList.add('colab-df-quickchart-complete');\n",
              "    }\n",
              "    (() => {\n",
              "      let quickchartButtonEl =\n",
              "        document.querySelector('#df-bb5fb233-2ea7-426e-9244-eef11807e576 button');\n",
              "      quickchartButtonEl.style.display =\n",
              "        google.colab.kernel.accessAllowed ? 'block' : 'none';\n",
              "    })();\n",
              "  </script>\n",
              "</div>\n",
              "    </div>\n",
              "  </div>\n"
            ]
          },
          "metadata": {},
          "execution_count": 211
        }
      ]
    },
    {
      "cell_type": "code",
      "source": [
        "#Etiquetas a números enteros\n",
        "l_encode = LabelEncoder()\n",
        "dataF['Status'] = l_encode.fit_transform(dataF['Status'])\n",
        "\n",
        "#Modelo de regresión con el árbol de decisión\n",
        "model = DecisionTreeRegressor()\n",
        "\n",
        "#Evaluación del modelo con validación cruzada\n",
        "scores = cross_val_score(model, X, y, cv=5, scoring='r2')\n",
        "\n",
        "#Promedio de los scores\n",
        "mean_r2 = scores.mean()\n",
        "\n",
        "print(\"Scores de validación cruzada:\")\n",
        "print(scores)\n",
        "print(f\"R2 promedio: {mean_r2:.4f}\")"
      ],
      "metadata": {
        "colab": {
          "base_uri": "https://localhost:8080/"
        },
        "id": "CxfnhqYEv4CM",
        "outputId": "547cfbc2-cf22-4a0e-9879-4585b88027c1"
      },
      "execution_count": 212,
      "outputs": [
        {
          "output_type": "stream",
          "name": "stdout",
          "text": [
            "Scores de validación cruzada:\n",
            "[0.8760206  0.73609573 0.82682827 0.70414929 0.80656702]\n",
            "R2 promedio: 0.7899\n"
          ]
        }
      ]
    },
    {
      "cell_type": "markdown",
      "source": [
        "##7. Viendo los resultados de este ejercicio, escriba una conclusión sobre los siguientes puntos:\n",
        "\n",
        "  **1. ¿Consideras que el modelo de regresión lineal es adecuado para los datos?**\n",
        "  \n",
        "En general, el modelo de regresión lineal parece ser adecuado para los datos, ya que logra explicar una cantidad significativa de la variabilidad en la variable `Life expectancy`. Veamos esto más a detalle:\n",
        "\n",
        "Tenemos un **MSE** de 17.59, lo que significa que, en promedio, el modelo comete un error cuadrático medio de alrededor de 17.59 unidades al predecir la variable de `Life expectancy`. Aunque lo que buscaríamos sería un menor valor de MSE, ya que nos indicaría un mejor ajuste a los datos.\n",
        "\n",
        "La **desviación estándar del MSE** es 3.28, lo que nos dice que los valores de MSE varían alrededor del promedio en aproximadamente 3.28 unidades. Al igual que en el caso anterior, buscaríamos una menor desviación estándar, ya que sería menor variabilidad en los errores del modelo.\n",
        "\n",
        "Los **p value** Recordemos que si el valor p es menor que 0.05, (al menos con un 95% de confianza) se considera que el coeficiente es significativo.\n",
        "\n",
        "Algunos coeficientes tienen valores p muy bajos (\"Adult Mortality\", \"BMI\", \"under-five deaths\", \"Polio\", \"Diphtheria\", \"HIV/AIDS\", \"Income composition of resources\"), lo que en teoría estas variables tienen un impacto significativo en la predicción de `Life expectancy`.\n",
        "\n",
        "En cambio, los coeficientes que tienen valores p altos son (\"Alcohol\", \"percentage expenditure\", \"Hepatitis B\", \"GDP\", \"thinness  1-19 years\", \"thinness 5-9 years\")\n",
        "\n",
        "Tenemos como valor de **R-cuadrada ajustada** 0.8, lo que indica que alrededor del 80% de la variabilidad en la variable de respuesta (Life expectancy) puede ser explicada por las variables predictoras.\n",
        "\n",
        "\n",
        "  **2. ¿Qué método de selección de características consideras que funciona bien con los datos? ¿Por qué?**\n",
        "Considero que el método de selección de características que resultó mejor es el Wrapper, seleccionando solo 5 características. Considero es la mejor opción ya que esta información es precisa, pues busca el conjunto más pequeño de características que brinda un mejor rendimiento predictivo.\n",
        "\n",
        "Por otro lado, los métodos de filter con validación cruzada y Filter-Wrapper, seleccionaron 19 y 16 caracerísticas rrspectivamente, donde considero números altos, llevando a falta de precisión en el modelo y problemas de sobreajuste.\n",
        "\n",
        "  **3. Del proceso de selección de características, ¿puedes identificar algunas que sean sobresalientes?**\n",
        "Sí, en específico tres características como `Adult Mortality, Percentage Expenditure y HIV/AIDS`, donde las tres características aparecen en todos los métodos de selección. Por lo que es evidente su influencia significativa en la predicción de la esperanza de vida.\n",
        "\n",
        "\n",
        "  **4. ¿El modelo de regresión no lineal funcionó mejor que el lineal?**\n",
        "\n",
        "No, en este caso el modelo de regresión lineal presenta un R-cuadrado ajustado más alto que el modelo no lineal (K-vecinos más cercanos).\n",
        "\n",
        "En el modelo lineal, el R-cuadrado ajustado es de 0.800, es decir, explica alrededor del 80% de la variabilidad en la variable de respuesta \"Life expectancy\".\n",
        "\n",
        "Mientras que K-vecinos más cercanos tiene un R-cuadrado de 0.755. Explicando alrededor del 75.5% de la variabilidad en \"Life expectancy\".\n",
        "\n",
        "\n",
        "  **5. ¿Notas alguna mejora con el árbol de decisión al agregar la variable categórica \"Status\"?**\n",
        "Sí, se observa una pequeña mejora en el desempeño del modelo en comparación con el modelo de regresión no lineal. Con el ábol de decisión, se muestra que el R-cuadrado promedio variable \"Status\" es aproximadamente 0.7691, mientras que el R-cuadrado del modelo no lineal era de alrededor de 0.755.\n",
        "\n",
        "\n",
        "  **6. ¿Se puede concluir algo interesante sobre los resultados de modelar estos datos con regresión?**\n",
        "Modelar estos datos con modelos de regresión, ya sea lineal, no lineal, o árbol de decisión, me hace confirmar que hay que evaluar múltiples factores y hacer cosas a ojo de buen cubero para evaluar el rendimiento, y elegir los modelos y parámetros que mejor se ajustan a los datos con los que trabajemos. La comparación nos brinda información sobre cuál de los modelos es más capaz de capturar la variabilidad en los datos y realizar predicciones precisas."
      ],
      "metadata": {
        "id": "60Wph2Rmv9hd"
      }
    }
  ]
}