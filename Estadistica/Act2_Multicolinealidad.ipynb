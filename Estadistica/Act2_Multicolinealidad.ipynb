{
  "nbformat": 4,
  "nbformat_minor": 0,
  "metadata": {
    "colab": {
      "provenance": []
    },
    "kernelspec": {
      "name": "python3",
      "display_name": "Python 3"
    },
    "language_info": {
      "name": "python"
    }
  },
  "cells": [
    {
      "cell_type": "markdown",
      "source": [
        "# Act 2. Multicolinealidad\n",
        "\n",
        "> Alfonso Pineda | A01660394  \n",
        "Mariana Rincón | A01654973  \n",
        "Karla González | A01541526  \n",
        "Salvador Mendoza | A01067783  \n",
        "\n",
        "**Fecha de entrega:** 20 de Octubre de 2023\n",
        "\n",
        "---"
      ],
      "metadata": {
        "id": "MvhtNPrPVJtC"
      }
    },
    {
      "cell_type": "markdown",
      "source": [
        "Como primer instancia, importamos las bibliotecas necesarias y cargamos el conjunto de datos Abalone utilizando la biblioteca `ucimlrepo`. Posteriormente, creamos un DataFrame de Pandas para facilitar el manejo de los datos."
      ],
      "metadata": {
        "id": "eGCcK4lG8YfD"
      }
    },
    {
      "cell_type": "code",
      "execution_count": null,
      "metadata": {
        "id": "laks3r04kmwx"
      },
      "outputs": [],
      "source": [
        "import numpy as np\n",
        "import pandas as pd\n",
        "import matplotlib.pyplot as plt\n",
        "import statsmodels.api as sm\n",
        "import statsmodels.formula.api as smf\n",
        "import scipy.stats as stats\n",
        "import seaborn as sns\n",
        "from scipy.stats.mstats import winsorize\n",
        "from sklearn.preprocessing import MinMaxScaler\n",
        "from sklearn.preprocessing import StandardScaler"
      ]
    },
    {
      "cell_type": "code",
      "source": [
        "pip install ucimlrepo"
      ],
      "metadata": {
        "colab": {
          "base_uri": "https://localhost:8080/"
        },
        "id": "piJXQcyRkz9B",
        "outputId": "9dfa4ac4-4784-4626-c67b-b35f07e47a17"
      },
      "execution_count": null,
      "outputs": [
        {
          "output_type": "stream",
          "name": "stdout",
          "text": [
            "Collecting ucimlrepo\n",
            "  Downloading ucimlrepo-0.0.3-py3-none-any.whl (7.0 kB)\n",
            "Installing collected packages: ucimlrepo\n",
            "Successfully installed ucimlrepo-0.0.3\n"
          ]
        }
      ]
    },
    {
      "cell_type": "markdown",
      "source": [
        "A continuación, eliminamos la columna 'Sex' del DataFrame, ya que no es relevante para nuestro análisis y modelado. Además, preparamos los datos de características (`X`) y el objetivo (`Y`) para su futuro uso. También realizamos conversiones de tipo de datos para asegurarnos de que sean numéricos.\n",
        "\n",
        "Asimismo, imprimimos información sobre el conjunto de datos Abalone, que incluye metadatos y detalles de las variables."
      ],
      "metadata": {
        "id": "dhpU_Ztn91fy"
      }
    },
    {
      "cell_type": "code",
      "source": [
        "from ucimlrepo import fetch_ucirepo\n",
        "\n",
        "# fetch dataset\n",
        "abalone = fetch_ucirepo(id=1)\n",
        "df = pd.DataFrame(abalone.data.features, columns=abalone.data.feature_names)\n",
        "\n",
        "# Drop the 'Sex' column\n",
        "df.drop('Sex', axis=1, inplace=True)\n",
        "\n",
        "# data (as pandas dataframes)\n",
        "X = abalone.data.features\n",
        "X = X.loc[:, X.columns != 'Sex']\n",
        "Y = abalone.data.targets\n",
        "\n",
        "# metadata\n",
        "print(abalone.metadata)\n",
        "\n",
        "# variable information\n",
        "print(abalone.variables)\n",
        "\n",
        "df['Rings'] = Y.astype(float)"
      ],
      "metadata": {
        "colab": {
          "base_uri": "https://localhost:8080/"
        },
        "id": "lFo6OC6Ok6t3",
        "outputId": "5827caba-7c2b-4ba2-9473-73f8a8f1f199"
      },
      "execution_count": null,
      "outputs": [
        {
          "output_type": "stream",
          "name": "stdout",
          "text": [
            "{'uci_id': 1, 'name': 'Abalone', 'repository_url': 'https://archive.ics.uci.edu/dataset/1/abalone', 'data_url': 'https://archive.ics.uci.edu/static/public/1/data.csv', 'abstract': 'Predict the age of abalone from physical measurements', 'area': 'Life Science', 'tasks': ['Classification', 'Regression'], 'characteristics': ['Tabular'], 'num_instances': 4177, 'num_features': 8, 'feature_types': ['Categorical', 'Integer', 'Real'], 'demographics': [], 'target_col': ['Rings'], 'index_col': None, 'has_missing_values': 'no', 'missing_values_symbol': None, 'year_of_dataset_creation': 1994, 'last_updated': 'Mon Aug 28 2023', 'dataset_doi': '10.24432/C55C7W', 'creators': ['Warwick Nash', 'Tracy Sellers', 'Simon Talbot', 'Andrew Cawthorn', 'Wes Ford'], 'intro_paper': None, 'additional_info': {'summary': 'Predicting the age of abalone from physical measurements.  The age of abalone is determined by cutting the shell through the cone, staining it, and counting the number of rings through a microscope -- a boring and time-consuming task.  Other measurements, which are easier to obtain, are used to predict the age.  Further information, such as weather patterns and location (hence food availability) may be required to solve the problem.\\r\\n\\r\\nFrom the original data examples with missing values were removed (the majority having the predicted value missing), and the ranges of the continuous values have been scaled for use with an ANN (by dividing by 200).', 'purpose': None, 'funded_by': None, 'instances_represent': None, 'recommended_data_splits': None, 'sensitive_data': None, 'preprocessing_description': None, 'variable_info': 'Given is the attribute name, attribute type, the measurement unit and a brief description.  The number of rings is the value to predict: either as a continuous value or as a classification problem.\\r\\n\\r\\nName / Data Type / Measurement Unit / Description\\r\\n-----------------------------\\r\\nSex / nominal / -- / M, F, and I (infant)\\r\\nLength / continuous / mm / Longest shell measurement\\r\\nDiameter\\t/ continuous / mm / perpendicular to length\\r\\nHeight / continuous / mm / with meat in shell\\r\\nWhole weight / continuous / grams / whole abalone\\r\\nShucked weight / continuous\\t / grams / weight of meat\\r\\nViscera weight / continuous / grams / gut weight (after bleeding)\\r\\nShell weight / continuous / grams / after being dried\\r\\nRings / integer / -- / +1.5 gives the age in years\\r\\n\\r\\nThe readme file contains attribute statistics.', 'citation': None}}\n",
            "             name     role         type demographic  \\\n",
            "0             Sex  Feature  Categorical        None   \n",
            "1          Length  Feature   Continuous        None   \n",
            "2        Diameter  Feature   Continuous        None   \n",
            "3          Height  Feature   Continuous        None   \n",
            "4    Whole_weight  Feature   Continuous        None   \n",
            "5  Shucked_weight  Feature   Continuous        None   \n",
            "6  Viscera_weight  Feature   Continuous        None   \n",
            "7    Shell_weight  Feature   Continuous        None   \n",
            "8           Rings   Target      Integer        None   \n",
            "\n",
            "                   description  units missing_values  \n",
            "0         M, F, and I (infant)   None             no  \n",
            "1    Longest shell measurement     mm             no  \n",
            "2      perpendicular to length     mm             no  \n",
            "3           with meat in shell     mm             no  \n",
            "4                whole abalone  grams             no  \n",
            "5               weight of meat  grams             no  \n",
            "6  gut weight (after bleeding)  grams             no  \n",
            "7            after being dried  grams             no  \n",
            "8  +1.5 gives the age in years   None             no  \n"
          ]
        }
      ]
    },
    {
      "cell_type": "code",
      "source": [
        "X = X.astype(float)  # Convert X to float data type\n",
        "Y = Y.astype(float)  # Convert Y to float data type"
      ],
      "metadata": {
        "id": "xWFJP0C0lN_X"
      },
      "execution_count": null,
      "outputs": []
    },
    {
      "cell_type": "markdown",
      "source": [
        "Finalmente, en esta sección, mostramos las primeras filas del DataFrame y las representaciones de las matrices de características (`X`) y el objetivo (`Y`)."
      ],
      "metadata": {
        "id": "vRXEbapc-kx1"
      }
    },
    {
      "cell_type": "code",
      "source": [
        "df.head()"
      ],
      "metadata": {
        "colab": {
          "base_uri": "https://localhost:8080/",
          "height": 206
        },
        "id": "ip_7jWIglTLU",
        "outputId": "ec19543f-4a22-45b8-a90a-9528a3cb030c"
      },
      "execution_count": null,
      "outputs": [
        {
          "output_type": "execute_result",
          "data": {
            "text/plain": [
              "   Length  Diameter  Height  Whole_weight  Shucked_weight  Viscera_weight  \\\n",
              "0   0.455     0.365   0.095        0.5140          0.2245          0.1010   \n",
              "1   0.350     0.265   0.090        0.2255          0.0995          0.0485   \n",
              "2   0.530     0.420   0.135        0.6770          0.2565          0.1415   \n",
              "3   0.440     0.365   0.125        0.5160          0.2155          0.1140   \n",
              "4   0.330     0.255   0.080        0.2050          0.0895          0.0395   \n",
              "\n",
              "   Shell_weight  Rings  \n",
              "0         0.150   15.0  \n",
              "1         0.070    7.0  \n",
              "2         0.210    9.0  \n",
              "3         0.155   10.0  \n",
              "4         0.055    7.0  "
            ],
            "text/html": [
              "\n",
              "  <div id=\"df-c32545f1-fe6d-4031-b80d-50d4a01d5a1d\" class=\"colab-df-container\">\n",
              "    <div>\n",
              "<style scoped>\n",
              "    .dataframe tbody tr th:only-of-type {\n",
              "        vertical-align: middle;\n",
              "    }\n",
              "\n",
              "    .dataframe tbody tr th {\n",
              "        vertical-align: top;\n",
              "    }\n",
              "\n",
              "    .dataframe thead th {\n",
              "        text-align: right;\n",
              "    }\n",
              "</style>\n",
              "<table border=\"1\" class=\"dataframe\">\n",
              "  <thead>\n",
              "    <tr style=\"text-align: right;\">\n",
              "      <th></th>\n",
              "      <th>Length</th>\n",
              "      <th>Diameter</th>\n",
              "      <th>Height</th>\n",
              "      <th>Whole_weight</th>\n",
              "      <th>Shucked_weight</th>\n",
              "      <th>Viscera_weight</th>\n",
              "      <th>Shell_weight</th>\n",
              "      <th>Rings</th>\n",
              "    </tr>\n",
              "  </thead>\n",
              "  <tbody>\n",
              "    <tr>\n",
              "      <th>0</th>\n",
              "      <td>0.455</td>\n",
              "      <td>0.365</td>\n",
              "      <td>0.095</td>\n",
              "      <td>0.5140</td>\n",
              "      <td>0.2245</td>\n",
              "      <td>0.1010</td>\n",
              "      <td>0.150</td>\n",
              "      <td>15.0</td>\n",
              "    </tr>\n",
              "    <tr>\n",
              "      <th>1</th>\n",
              "      <td>0.350</td>\n",
              "      <td>0.265</td>\n",
              "      <td>0.090</td>\n",
              "      <td>0.2255</td>\n",
              "      <td>0.0995</td>\n",
              "      <td>0.0485</td>\n",
              "      <td>0.070</td>\n",
              "      <td>7.0</td>\n",
              "    </tr>\n",
              "    <tr>\n",
              "      <th>2</th>\n",
              "      <td>0.530</td>\n",
              "      <td>0.420</td>\n",
              "      <td>0.135</td>\n",
              "      <td>0.6770</td>\n",
              "      <td>0.2565</td>\n",
              "      <td>0.1415</td>\n",
              "      <td>0.210</td>\n",
              "      <td>9.0</td>\n",
              "    </tr>\n",
              "    <tr>\n",
              "      <th>3</th>\n",
              "      <td>0.440</td>\n",
              "      <td>0.365</td>\n",
              "      <td>0.125</td>\n",
              "      <td>0.5160</td>\n",
              "      <td>0.2155</td>\n",
              "      <td>0.1140</td>\n",
              "      <td>0.155</td>\n",
              "      <td>10.0</td>\n",
              "    </tr>\n",
              "    <tr>\n",
              "      <th>4</th>\n",
              "      <td>0.330</td>\n",
              "      <td>0.255</td>\n",
              "      <td>0.080</td>\n",
              "      <td>0.2050</td>\n",
              "      <td>0.0895</td>\n",
              "      <td>0.0395</td>\n",
              "      <td>0.055</td>\n",
              "      <td>7.0</td>\n",
              "    </tr>\n",
              "  </tbody>\n",
              "</table>\n",
              "</div>\n",
              "    <div class=\"colab-df-buttons\">\n",
              "\n",
              "  <div class=\"colab-df-container\">\n",
              "    <button class=\"colab-df-convert\" onclick=\"convertToInteractive('df-c32545f1-fe6d-4031-b80d-50d4a01d5a1d')\"\n",
              "            title=\"Convert this dataframe to an interactive table.\"\n",
              "            style=\"display:none;\">\n",
              "\n",
              "  <svg xmlns=\"http://www.w3.org/2000/svg\" height=\"24px\" viewBox=\"0 -960 960 960\">\n",
              "    <path d=\"M120-120v-720h720v720H120Zm60-500h600v-160H180v160Zm220 220h160v-160H400v160Zm0 220h160v-160H400v160ZM180-400h160v-160H180v160Zm440 0h160v-160H620v160ZM180-180h160v-160H180v160Zm440 0h160v-160H620v160Z\"/>\n",
              "  </svg>\n",
              "    </button>\n",
              "\n",
              "  <style>\n",
              "    .colab-df-container {\n",
              "      display:flex;\n",
              "      gap: 12px;\n",
              "    }\n",
              "\n",
              "    .colab-df-convert {\n",
              "      background-color: #E8F0FE;\n",
              "      border: none;\n",
              "      border-radius: 50%;\n",
              "      cursor: pointer;\n",
              "      display: none;\n",
              "      fill: #1967D2;\n",
              "      height: 32px;\n",
              "      padding: 0 0 0 0;\n",
              "      width: 32px;\n",
              "    }\n",
              "\n",
              "    .colab-df-convert:hover {\n",
              "      background-color: #E2EBFA;\n",
              "      box-shadow: 0px 1px 2px rgba(60, 64, 67, 0.3), 0px 1px 3px 1px rgba(60, 64, 67, 0.15);\n",
              "      fill: #174EA6;\n",
              "    }\n",
              "\n",
              "    .colab-df-buttons div {\n",
              "      margin-bottom: 4px;\n",
              "    }\n",
              "\n",
              "    [theme=dark] .colab-df-convert {\n",
              "      background-color: #3B4455;\n",
              "      fill: #D2E3FC;\n",
              "    }\n",
              "\n",
              "    [theme=dark] .colab-df-convert:hover {\n",
              "      background-color: #434B5C;\n",
              "      box-shadow: 0px 1px 3px 1px rgba(0, 0, 0, 0.15);\n",
              "      filter: drop-shadow(0px 1px 2px rgba(0, 0, 0, 0.3));\n",
              "      fill: #FFFFFF;\n",
              "    }\n",
              "  </style>\n",
              "\n",
              "    <script>\n",
              "      const buttonEl =\n",
              "        document.querySelector('#df-c32545f1-fe6d-4031-b80d-50d4a01d5a1d button.colab-df-convert');\n",
              "      buttonEl.style.display =\n",
              "        google.colab.kernel.accessAllowed ? 'block' : 'none';\n",
              "\n",
              "      async function convertToInteractive(key) {\n",
              "        const element = document.querySelector('#df-c32545f1-fe6d-4031-b80d-50d4a01d5a1d');\n",
              "        const dataTable =\n",
              "          await google.colab.kernel.invokeFunction('convertToInteractive',\n",
              "                                                    [key], {});\n",
              "        if (!dataTable) return;\n",
              "\n",
              "        const docLinkHtml = 'Like what you see? Visit the ' +\n",
              "          '<a target=\"_blank\" href=https://colab.research.google.com/notebooks/data_table.ipynb>data table notebook</a>'\n",
              "          + ' to learn more about interactive tables.';\n",
              "        element.innerHTML = '';\n",
              "        dataTable['output_type'] = 'display_data';\n",
              "        await google.colab.output.renderOutput(dataTable, element);\n",
              "        const docLink = document.createElement('div');\n",
              "        docLink.innerHTML = docLinkHtml;\n",
              "        element.appendChild(docLink);\n",
              "      }\n",
              "    </script>\n",
              "  </div>\n",
              "\n",
              "\n",
              "<div id=\"df-78fe4a13-a301-4321-9f7a-6347538b3b0f\">\n",
              "  <button class=\"colab-df-quickchart\" onclick=\"quickchart('df-78fe4a13-a301-4321-9f7a-6347538b3b0f')\"\n",
              "            title=\"Suggest charts.\"\n",
              "            style=\"display:none;\">\n",
              "\n",
              "<svg xmlns=\"http://www.w3.org/2000/svg\" height=\"24px\"viewBox=\"0 0 24 24\"\n",
              "     width=\"24px\">\n",
              "    <g>\n",
              "        <path d=\"M19 3H5c-1.1 0-2 .9-2 2v14c0 1.1.9 2 2 2h14c1.1 0 2-.9 2-2V5c0-1.1-.9-2-2-2zM9 17H7v-7h2v7zm4 0h-2V7h2v10zm4 0h-2v-4h2v4z\"/>\n",
              "    </g>\n",
              "</svg>\n",
              "  </button>\n",
              "\n",
              "<style>\n",
              "  .colab-df-quickchart {\n",
              "      --bg-color: #E8F0FE;\n",
              "      --fill-color: #1967D2;\n",
              "      --hover-bg-color: #E2EBFA;\n",
              "      --hover-fill-color: #174EA6;\n",
              "      --disabled-fill-color: #AAA;\n",
              "      --disabled-bg-color: #DDD;\n",
              "  }\n",
              "\n",
              "  [theme=dark] .colab-df-quickchart {\n",
              "      --bg-color: #3B4455;\n",
              "      --fill-color: #D2E3FC;\n",
              "      --hover-bg-color: #434B5C;\n",
              "      --hover-fill-color: #FFFFFF;\n",
              "      --disabled-bg-color: #3B4455;\n",
              "      --disabled-fill-color: #666;\n",
              "  }\n",
              "\n",
              "  .colab-df-quickchart {\n",
              "    background-color: var(--bg-color);\n",
              "    border: none;\n",
              "    border-radius: 50%;\n",
              "    cursor: pointer;\n",
              "    display: none;\n",
              "    fill: var(--fill-color);\n",
              "    height: 32px;\n",
              "    padding: 0;\n",
              "    width: 32px;\n",
              "  }\n",
              "\n",
              "  .colab-df-quickchart:hover {\n",
              "    background-color: var(--hover-bg-color);\n",
              "    box-shadow: 0 1px 2px rgba(60, 64, 67, 0.3), 0 1px 3px 1px rgba(60, 64, 67, 0.15);\n",
              "    fill: var(--button-hover-fill-color);\n",
              "  }\n",
              "\n",
              "  .colab-df-quickchart-complete:disabled,\n",
              "  .colab-df-quickchart-complete:disabled:hover {\n",
              "    background-color: var(--disabled-bg-color);\n",
              "    fill: var(--disabled-fill-color);\n",
              "    box-shadow: none;\n",
              "  }\n",
              "\n",
              "  .colab-df-spinner {\n",
              "    border: 2px solid var(--fill-color);\n",
              "    border-color: transparent;\n",
              "    border-bottom-color: var(--fill-color);\n",
              "    animation:\n",
              "      spin 1s steps(1) infinite;\n",
              "  }\n",
              "\n",
              "  @keyframes spin {\n",
              "    0% {\n",
              "      border-color: transparent;\n",
              "      border-bottom-color: var(--fill-color);\n",
              "      border-left-color: var(--fill-color);\n",
              "    }\n",
              "    20% {\n",
              "      border-color: transparent;\n",
              "      border-left-color: var(--fill-color);\n",
              "      border-top-color: var(--fill-color);\n",
              "    }\n",
              "    30% {\n",
              "      border-color: transparent;\n",
              "      border-left-color: var(--fill-color);\n",
              "      border-top-color: var(--fill-color);\n",
              "      border-right-color: var(--fill-color);\n",
              "    }\n",
              "    40% {\n",
              "      border-color: transparent;\n",
              "      border-right-color: var(--fill-color);\n",
              "      border-top-color: var(--fill-color);\n",
              "    }\n",
              "    60% {\n",
              "      border-color: transparent;\n",
              "      border-right-color: var(--fill-color);\n",
              "    }\n",
              "    80% {\n",
              "      border-color: transparent;\n",
              "      border-right-color: var(--fill-color);\n",
              "      border-bottom-color: var(--fill-color);\n",
              "    }\n",
              "    90% {\n",
              "      border-color: transparent;\n",
              "      border-bottom-color: var(--fill-color);\n",
              "    }\n",
              "  }\n",
              "</style>\n",
              "\n",
              "  <script>\n",
              "    async function quickchart(key) {\n",
              "      const quickchartButtonEl =\n",
              "        document.querySelector('#' + key + ' button');\n",
              "      quickchartButtonEl.disabled = true;  // To prevent multiple clicks.\n",
              "      quickchartButtonEl.classList.add('colab-df-spinner');\n",
              "      try {\n",
              "        const charts = await google.colab.kernel.invokeFunction(\n",
              "            'suggestCharts', [key], {});\n",
              "      } catch (error) {\n",
              "        console.error('Error during call to suggestCharts:', error);\n",
              "      }\n",
              "      quickchartButtonEl.classList.remove('colab-df-spinner');\n",
              "      quickchartButtonEl.classList.add('colab-df-quickchart-complete');\n",
              "    }\n",
              "    (() => {\n",
              "      let quickchartButtonEl =\n",
              "        document.querySelector('#df-78fe4a13-a301-4321-9f7a-6347538b3b0f button');\n",
              "      quickchartButtonEl.style.display =\n",
              "        google.colab.kernel.accessAllowed ? 'block' : 'none';\n",
              "    })();\n",
              "  </script>\n",
              "</div>\n",
              "    </div>\n",
              "  </div>\n"
            ]
          },
          "metadata": {},
          "execution_count": 5
        }
      ]
    },
    {
      "cell_type": "code",
      "source": [
        "print(X)"
      ],
      "metadata": {
        "colab": {
          "base_uri": "https://localhost:8080/"
        },
        "id": "1i1g0KlnlaaO",
        "outputId": "3458c557-f3d4-4b9f-bf16-0e2648a8514d"
      },
      "execution_count": null,
      "outputs": [
        {
          "output_type": "stream",
          "name": "stdout",
          "text": [
            "      Length  Diameter  Height  Whole_weight  Shucked_weight  Viscera_weight  \\\n",
            "0      0.455     0.365   0.095        0.5140          0.2245          0.1010   \n",
            "1      0.350     0.265   0.090        0.2255          0.0995          0.0485   \n",
            "2      0.530     0.420   0.135        0.6770          0.2565          0.1415   \n",
            "3      0.440     0.365   0.125        0.5160          0.2155          0.1140   \n",
            "4      0.330     0.255   0.080        0.2050          0.0895          0.0395   \n",
            "...      ...       ...     ...           ...             ...             ...   \n",
            "4172   0.565     0.450   0.165        0.8870          0.3700          0.2390   \n",
            "4173   0.590     0.440   0.135        0.9660          0.4390          0.2145   \n",
            "4174   0.600     0.475   0.205        1.1760          0.5255          0.2875   \n",
            "4175   0.625     0.485   0.150        1.0945          0.5310          0.2610   \n",
            "4176   0.710     0.555   0.195        1.9485          0.9455          0.3765   \n",
            "\n",
            "      Shell_weight  \n",
            "0           0.1500  \n",
            "1           0.0700  \n",
            "2           0.2100  \n",
            "3           0.1550  \n",
            "4           0.0550  \n",
            "...            ...  \n",
            "4172        0.2490  \n",
            "4173        0.2605  \n",
            "4174        0.3080  \n",
            "4175        0.2960  \n",
            "4176        0.4950  \n",
            "\n",
            "[4177 rows x 7 columns]\n"
          ]
        }
      ]
    },
    {
      "cell_type": "code",
      "source": [
        "print(Y)"
      ],
      "metadata": {
        "colab": {
          "base_uri": "https://localhost:8080/"
        },
        "id": "2bZLE2H2lfZT",
        "outputId": "6573d19b-dec5-4706-adab-2e1a865431d1"
      },
      "execution_count": null,
      "outputs": [
        {
          "output_type": "stream",
          "name": "stdout",
          "text": [
            "      Rings\n",
            "0      15.0\n",
            "1       7.0\n",
            "2       9.0\n",
            "3      10.0\n",
            "4       7.0\n",
            "...     ...\n",
            "4172   11.0\n",
            "4173   10.0\n",
            "4174    9.0\n",
            "4175   10.0\n",
            "4176   12.0\n",
            "\n",
            "[4177 rows x 1 columns]\n"
          ]
        }
      ]
    },
    {
      "cell_type": "markdown",
      "source": [
        "## Etapa 1: Puntos leverage, influyentes y outliers\n",
        "En el análisis de modelos de regresión, la evaluación y el manejo de valores atípicos, influyentes y de alta influencia son tareas cruciales. Estos conceptos son fundamentales para comprender cómo los datos atípicos pueden afectar los resultados de un modelo de regresión, y cómo se pueden abordar de manera efectiva.\n",
        "\n",
        "**Valor de $R^2$ y Parámetros:**\n",
        "\n",
        "Es una métrica que indica cuánta variabilidad en la variable dependiente (o respuesta) puede ser explicada por el modelo de regresión. Cuanto más cercano a 1 sea el valor de $R^2$, mejor es la capacidad del modelo para ajustarse a los datos. Los parámetros de un modelo de regresión, como las pendientes y las intercepciones, son estimaciones de los efectos de las variables independientes sobre la variable dependiente.\n",
        "\n",
        "> **Puntos Leverage:**  \n",
        "Los puntos de leverage son observaciones que tienen un valor atípico en una o más de las variables independientes. Esto significa que son puntos de datos que tienen un impacto inusualmente alto en la estimación de los parámetros del modelo, por lo que pueden afectar significativamente los resultados del modelo.\n",
        "\n",
        "> **Puntos Influyentes:**  \n",
        "Observaciones que tienen un impacto inusualmente alto en los resultados del modelo. Pueden ser puntos de datos con valores extremos o puntos con un alto grado de influencia en la estimación de los parámetros del modelo.\n",
        "\n",
        "> **Outliers:**  \n",
        "Observaciones que se alejan significativamente del patrón general de los datos. Pueden ser valores extremos en una variable o valores que están lejos de la tendencia general de los datos.\n",
        "\n",
        "\n",
        "\n",
        "A lo largo de esta etapa, profundizaremos en el análisis de los resultados obtenidos. Examinaremos en detalle cómo los valores de R^2 y los parámetros del modelo evolucionan con las transformaciones y el manejo de outliers."
      ],
      "metadata": {
        "id": "arWSTekEJKzs"
      }
    },
    {
      "cell_type": "markdown",
      "source": [
        "###Cálculo de $R^2$ y sus parámetros - datos originales"
      ],
      "metadata": {
        "id": "ZQG0shz8JQ5P"
      }
    },
    {
      "cell_type": "code",
      "source": [
        "X_fit = sm.add_constant(X)\n",
        "\n",
        "model = sm.OLS(Y, X_fit)\n",
        "\n",
        "model = model.fit()\n",
        "\n",
        "print(model.params)"
      ],
      "metadata": {
        "colab": {
          "base_uri": "https://localhost:8080/"
        },
        "id": "XSE00ybbljnL",
        "outputId": "59dbd1ef-fb3b-4ef8-97fc-8160dedd729b"
      },
      "execution_count": null,
      "outputs": [
        {
          "output_type": "stream",
          "name": "stdout",
          "text": [
            "const              2.985154\n",
            "Length            -1.571897\n",
            "Diameter          13.360916\n",
            "Height            11.826072\n",
            "Whole_weight       9.247414\n",
            "Shucked_weight   -20.213913\n",
            "Viscera_weight    -9.829675\n",
            "Shell_weight       8.576242\n",
            "dtype: float64\n"
          ]
        }
      ]
    },
    {
      "cell_type": "code",
      "source": [
        "print(model.summary())"
      ],
      "metadata": {
        "colab": {
          "base_uri": "https://localhost:8080/"
        },
        "id": "NL37kF7clseK",
        "outputId": "69d3288b-cb58-42ec-b8a8-b288a10dc3db"
      },
      "execution_count": null,
      "outputs": [
        {
          "output_type": "stream",
          "name": "stdout",
          "text": [
            "                            OLS Regression Results                            \n",
            "==============================================================================\n",
            "Dep. Variable:                  Rings   R-squared:                       0.528\n",
            "Model:                            OLS   Adj. R-squared:                  0.527\n",
            "Method:                 Least Squares   F-statistic:                     665.2\n",
            "Date:                Fri, 20 Oct 2023   Prob (F-statistic):               0.00\n",
            "Time:                        22:23:28   Log-Likelihood:                -9250.0\n",
            "No. Observations:                4177   AIC:                         1.852e+04\n",
            "Df Residuals:                    4169   BIC:                         1.857e+04\n",
            "Df Model:                           7                                         \n",
            "Covariance Type:            nonrobust                                         \n",
            "==================================================================================\n",
            "                     coef    std err          t      P>|t|      [0.025      0.975]\n",
            "----------------------------------------------------------------------------------\n",
            "const              2.9852      0.269     11.092      0.000       2.458       3.513\n",
            "Length            -1.5719      1.825     -0.861      0.389      -5.149       2.006\n",
            "Diameter          13.3609      2.237      5.972      0.000       8.975      17.747\n",
            "Height            11.8261      1.548      7.639      0.000       8.791      14.861\n",
            "Whole_weight       9.2474      0.733     12.622      0.000       7.811      10.684\n",
            "Shucked_weight   -20.2139      0.823    -24.552      0.000     -21.828     -18.600\n",
            "Viscera_weight    -9.8297      1.304     -7.538      0.000     -12.386      -7.273\n",
            "Shell_weight       8.5762      1.137      7.545      0.000       6.348      10.805\n",
            "==============================================================================\n",
            "Omnibus:                      933.799   Durbin-Watson:                   1.387\n",
            "Prob(Omnibus):                  0.000   Jarque-Bera (JB):             2602.745\n",
            "Skew:                           1.174   Prob(JB):                         0.00\n",
            "Kurtosis:                       6.072   Cond. No.                         131.\n",
            "==============================================================================\n",
            "\n",
            "Notes:\n",
            "[1] Standard Errors assume that the covariance matrix of the errors is correctly specified.\n"
          ]
        }
      ]
    },
    {
      "cell_type": "markdown",
      "source": [
        "El valor de $R^2$, que es 0.528, sugiere que aproximadamente la mitad de la variabilidad en los anillos se explica por las variables independientes incluidas en el modelo. Esto puede considerarse relativamente bueno, pero es evidente que hay una parte significativa de la variabilidad no explicada.\n",
        "\n",
        "Al observar los p-valores, podemos ver que algunas variables, como \"Length,\" tienen p-valores elevados, indicando que su contribución al modelo es menos significativa. En contraste, otras variables, como \"Whole_weight\" y \"Shucked_weight,\" tienen p-valores muy bajos, es decir, son estadísticamente significativas para predecir los anillos.\n",
        "\n",
        "Al modelo tener un valor F-statistic de 665.2, nos habla que al menos una de las variables independientes tiene un efecto significativo en los anillos."
      ],
      "metadata": {
        "id": "3vgV8OxNJUkx"
      }
    },
    {
      "cell_type": "code",
      "source": [
        "# Figura con subplots\n",
        "fig, axs = plt.subplots(2, 4, figsize=(12, 6))\n",
        "\n",
        "# Variables en X (sin la columna 'Sex')\n",
        "x_variables = X.columns\n",
        "\n",
        "for i, variable in enumerate(x_variables):\n",
        "    # Fila y columna en la que se encuentra el gráfico actual\n",
        "    row = i // 4\n",
        "    col = i % 4\n",
        "\n",
        "    x_values = X[variable]\n",
        "    y_values = df['Rings']  # Usar df en lugar de 'y'\n",
        "\n",
        "    # Ajuste de la línea de regresión\n",
        "    coefficients = np.polyfit(x_values, y_values, 1)  # 1 indica un modelo lineal\n",
        "\n",
        "    # Función de regresión lineal usando los coeficientes\n",
        "    regression_line = np.poly1d(coefficients)\n",
        "\n",
        "    # Cálculo de los valores predichos para la línea de regresión\n",
        "    predicted_values = regression_line(x_values)\n",
        "\n",
        "    # Cálculo de la R-cuadrada\n",
        "    residuals = y_values - predicted_values\n",
        "    ss_total = np.sum((y_values - np.mean(y_values))**2)\n",
        "    ss_residual = np.sum(residuals**2)\n",
        "    r_squared = 1 - (ss_residual / ss_total)\n",
        "\n",
        "    # Gráfico de dispersión\n",
        "    axs[row, col].scatter(x_values, y_values, alpha=0.3)\n",
        "    axs[row, col].set_xlabel(variable)\n",
        "    axs[row, col].set_ylabel('Rings')\n",
        "\n",
        "    # Línea de regresión\n",
        "    axs[row, col].plot(x_values, predicted_values, color=\"red\")\n",
        "\n",
        "    # Valor R^2\n",
        "    axs[row, col].text(0.1, 0.9, f\"R^2: {r_squared:.2f}\", transform=axs[row, col].transAxes, fontsize=10)\n",
        "\n",
        "fig.tight_layout()\n",
        "axs[1, 3].axis('off')\n",
        "plt.show()"
      ],
      "metadata": {
        "colab": {
          "base_uri": "https://localhost:8080/",
          "height": 598
        },
        "id": "VTl2loe_JrKE",
        "outputId": "ea104c8e-5a34-4875-c0cc-8d837c50c92e"
      },
      "execution_count": null,
      "outputs": [
        {
          "output_type": "display_data",
          "data": {
            "text/plain": [
              "<Figure size 1200x600 with 8 Axes>"
            ],
            "image/png": "[encoded data removed]"
          },
          "metadata": {}
        }
      ]
    },
    {
      "cell_type": "markdown",
      "source": [
        "Los resultados de los valores R-cuadrado obtenidos en los gráficos de dispersión de las diferentes variables explicativas muestran que hay una variabilidad en la calidad de ajuste del modelo de regresión lineal. Los valores de R-cuadrado varían de 0.18 a 0.39, indicando que las variables explicativas están contribuyendo en cierta medida a la variabilidad de la variable de respuesta.\n",
        "\n",
        "A continuación, pasaremos al siguiente paso, que es buscar los puntos de `leverage`, `puntos influyentes` y `outliers`. Utilizaremos técnicas de diagnóstico para identificar y examinar estos puntos para evaluar su efecto en el ajuste y las conclusiones del modelo."
      ],
      "metadata": {
        "id": "nhGMv01HJ0vi"
      }
    },
    {
      "cell_type": "markdown",
      "source": [
        "### Puntos leverage, influyentes y outliers"
      ],
      "metadata": {
        "id": "o-BIsP--J4mS"
      }
    },
    {
      "cell_type": "code",
      "source": [
        "# Calcula los puntos de leverage\n",
        "leverage = model.get_influence().hat_matrix_diag\n",
        "\n",
        "# Calcula los valores influyentes\n",
        "influence = model.get_influence().resid_studentized_external\n",
        "\n",
        "# Encuentra los outliers basados en una métrica como el valor absoluto del residuo estandarizado\n",
        "outliers = np.abs(influence) > 2  # Puedes ajustar el umbral según tus necesidades\n",
        "\n",
        "# Muestra los resultados\n",
        "print(\"Puntos de leverage:\")\n",
        "print(leverage)\n",
        "\n",
        "print(\"\\nValores influyentes:\")\n",
        "print(influence)\n",
        "\n",
        "# Identifica los índices de las observaciones perjudiciales y beneficiosas\n",
        "perjudiciales = np.where(influence > 2)[0]\n",
        "beneficiosas = np.where(influence < -2)[0]\n",
        "\n",
        "print(\"\\nObservaciones perjudiciales (valores influyentes positivos):\", perjudiciales)\n",
        "print(\"\\nObservaciones beneficiosas (valores influyentes negativos):\", beneficiosas)\n",
        "\n",
        "# Filtra las observaciones que son outliers\n",
        "outliers_indices = df.index[outliers]\n",
        "\n",
        "print(\"\\nÍndices de observaciones de los outliers:\")\n",
        "print(outliers_indices)\n",
        "\n",
        "# Calcula el número total de outliers\n",
        "num_outliers = np.sum(outliers)\n",
        "print(\"\\nNúmero total de outliers:\", num_outliers)"
      ],
      "metadata": {
        "colab": {
          "base_uri": "https://localhost:8080/"
        },
        "id": "8hA_p8h_4iZD",
        "outputId": "be761faf-6bc4-4264-f778-2e63dd3dac45"
      },
      "execution_count": null,
      "outputs": [
        {
          "output_type": "stream",
          "name": "stdout",
          "text": [
            "Puntos de leverage:\n",
            "[0.00089205 0.00076875 0.00072514 ... 0.00160134 0.00103437 0.0033281 ]\n",
            "\n",
            "Valores influyentes:\n",
            "[ 2.80862318 -0.10715457 -0.83257898 ... -0.84869484  0.1725807\n",
            "  0.43299889]\n",
            "\n",
            "Observaciones perjudiciales (valores influyentes positivos): [   0    6    7    9   32   33   36   72   82   90  181  198  232  240\n",
            "  246  256  275  278  287  290  293  294  310  312  313  314  318  340\n",
            "  351  357  360  362  363  365  375  407  416  417  426  427  428  430\n",
            "  431  432  433  437  442  449  469  475  480  481  482  483  497  501\n",
            "  530  540  542  550  570  571  572  573  582  583  589  592  600  602\n",
            "  613  614  621  623  624  628  638  642  656  658  664  667  671  672\n",
            "  673  674  675  678  699  725  729  734  743  744  745  746  756  769\n",
            "  776  778  811 1216 1419 1528 1754 2101 2108 2138 2160 2176 2180 2201\n",
            " 2202 2209 2270 2275 2277 2305 2307 2315 2319 2328 2334 2335 2336 2344\n",
            " 2348 2351 2357 2358 2363 2366 2383 2386 2390 2398 2399 2402 2416 2418\n",
            " 2420 2436 2459 2463 2467 2471 2476 2489 2496 2499 2627 2700 2854 2970\n",
            " 3007 3140 3149 3177 3192 3193 3207 3237 3244 3259 3263 3271 3274 3280\n",
            " 3288 3297 3304 3312 3316 3320 3322 3324 3340 3342 3348 3352 3359 3360\n",
            " 3372 3373 3381 3382 3383 3385 3387 3392 3401 3518 3713 3843 3865 3867\n",
            " 3879 3890 3897 3900 3912 3914 3918 3924 3930 3931 3944 3947]\n",
            "\n",
            "Observaciones beneficiosas (valores influyentes negativos): [  81   85  163  164  169 1037 1038 1208 1423 1428 1490 1510 1525 1637\n",
            " 1695 1755 1812 1881 2051 2089 2183 2409 2608 2796 2944 3008 3064 3076\n",
            " 3081 3148 3182 3418 3469 3593 3800 3827 3928 3982 3987 3992 4140 4145]\n",
            "\n",
            "Índices de observaciones de los outliers:\n",
            "Int64Index([   0,    6,    7,    9,   32,   33,   36,   72,   81,   82,\n",
            "            ...\n",
            "            3928, 3930, 3931, 3944, 3947, 3982, 3987, 3992, 4140, 4145],\n",
            "           dtype='int64', length=250)\n",
            "\n",
            "Número total de outliers: 250\n"
          ]
        }
      ]
    },
    {
      "cell_type": "markdown",
      "source": [
        "En los resultados obtenidos, se observa que existen puntos leverage y valores influyentes en nuestro modelo de regresión, recordemos que los puntos de leverage representan las observaciones que tienen un impacto desproporcionado en los resultados del modelo, mientras que los valores influyentes indican las observaciones que tienen un efecto significativo en las conclusiones del modelo.\n",
        "\n",
        "Se identificaron 250 outliers en el conjunto de datos, siendo observaciones atípicas que distorcionan la relación entre las variables independentes y la dependiente.\n",
        "\n",
        "Al buscar los puntos de leverage y los valores influyentes, podemos evaluar el efecto de estas observaciones en el ajuste del modelo y tomar deciones respecto a la transformación para lograr lidiar con los outliers, permitiendo mejorar el ajuste del modelo, el cual es el siguiente paso."
      ],
      "metadata": {
        "id": "92yd4_M7J8Er"
      }
    },
    {
      "cell_type": "markdown",
      "source": [
        "### Estrategias de preprocesamiento de datos para el manejo de outliers\n",
        "\n",
        "Se emplearon algunas estrategias de preprocesamiento de datos para lidiar con los outliers, que incluyen:\n",
        "\n",
        "**Escalado Min-Max:** Se aplicó a las características para reducir la influencia de los valores atípicos.\n",
        "\n",
        "**Winsorizing:** Para reemplazar los valores atípicos con valores más cercanos, mejorando así la robustez del modelo.\n",
        "\n",
        "**Normalización Z-score:** Para estandarizar las características y mitigar el impacto de los outliers."
      ],
      "metadata": {
        "id": "eqWunbJoJ_0a"
      }
    },
    {
      "cell_type": "code",
      "source": [
        "# Calcula Q1, Q3 y el IQR para todo el DataFrame\n",
        "Q1 = df.quantile(0.25)\n",
        "Q3 = df.quantile(0.75)\n",
        "iqr = Q3 - Q1\n",
        "\n",
        "print(\"Q1:\\n\", Q1)\n",
        "print(\"\\nQ3:\\n\", Q3)\n",
        "print(\"\\nIQR:\\n\", iqr)\n",
        "\n",
        "# Encuentra los valores atípicos en todo el DataFrame\n",
        "outliers_iqr = (df < Q1 - 1.5 * iqr) | (df > Q3 + 1.5 * iqr)\n",
        "\n",
        "# Total de valores atípicos en todo el DataFrame\n",
        "outliers_count = outliers_iqr.stack().sum()\n",
        "print(\"\\nNumber of outlier Samples: \", outliers_count)"
      ],
      "metadata": {
        "colab": {
          "base_uri": "https://localhost:8080/"
        },
        "id": "xzx-W93CGZ1d",
        "outputId": "8230c5dc-3747-4d90-89c0-9781c5fcf6f5"
      },
      "execution_count": null,
      "outputs": [
        {
          "output_type": "stream",
          "name": "stdout",
          "text": [
            "Q1:\n",
            " Length            0.4500\n",
            "Diameter          0.3500\n",
            "Height            0.1150\n",
            "Whole_weight      0.4415\n",
            "Shucked_weight    0.1860\n",
            "Viscera_weight    0.0935\n",
            "Shell_weight      0.1300\n",
            "Rings             8.0000\n",
            "Name: 0.25, dtype: float64\n",
            "\n",
            "Q3:\n",
            " Length             0.615\n",
            "Diameter           0.480\n",
            "Height             0.165\n",
            "Whole_weight       1.153\n",
            "Shucked_weight     0.502\n",
            "Viscera_weight     0.253\n",
            "Shell_weight       0.329\n",
            "Rings             11.000\n",
            "Name: 0.75, dtype: float64\n",
            "\n",
            "IQR:\n",
            " Length            0.1650\n",
            "Diameter          0.1300\n",
            "Height            0.0500\n",
            "Whole_weight      0.7115\n",
            "Shucked_weight    0.3160\n",
            "Viscera_weight    0.1595\n",
            "Shell_weight      0.1990\n",
            "Rings             3.0000\n",
            "dtype: float64\n",
            "\n",
            "Number of outlier Samples:  554\n"
          ]
        }
      ]
    },
    {
      "cell_type": "markdown",
      "source": [
        "Se calculan los cuartiles **Q1** y **Q3** junto con el **rango intercuartílico** (IQR) para cada característica del DataFrame. El IQR nos proporciona una medida de dispersión de los datos, y los valores atípicos se definen como aquellos que caen por debajo de Q1 - 1.5 * IQR o por encima de Q3 + 1.5 * IQR. En este análisis, encontramos un total de 554 valores atípicos. Cabe recalcar que se calcularon los valores atípicos basados en el rango intercuartílico (IQR) **sin modificar los datos**."
      ],
      "metadata": {
        "id": "0vKTSnQvKFHU"
      }
    },
    {
      "cell_type": "markdown",
      "source": [
        "**Winsorizing:**"
      ],
      "metadata": {
        "id": "R-KsY0DiKIdl"
      }
    },
    {
      "cell_type": "code",
      "source": [
        "# Percentiles p5 y p95 para la winsorización\n",
        "p5, p95 = np.percentile(df, [5, 95])\n",
        "\n",
        "# Convierte los percentiles a valores entre 0 y 1\n",
        "p5 /= 100.0\n",
        "p95 /= 100.0\n",
        "\n",
        "# Nuevo DataFrame para almacenar los datos winsorizados\n",
        "df_winsorized = df.copy()\n",
        "\n",
        "# Winsorización a cada columna\n",
        "for column in df_winsorized.columns:\n",
        "    df_winsorized[column] = stats.mstats.winsorize(df_winsorized[column], limits=(p5, p95))\n",
        "\n",
        "# Cálculo de los límites después de la winsorización para todo el DataFrame\n",
        "up_lim_winsorized = df_winsorized.mean() + 3 * df_winsorized.std()\n",
        "dw_lim_winsorized = df_winsorized.mean() - 3 * df_winsorized.std()\n",
        "\n",
        "print(\"Upper limits after winsorization:\\n\", up_lim_winsorized)\n",
        "print(\"Lower limits after winsorization:\\n\", dw_lim_winsorized)\n",
        "\n",
        "# Valores atípicos después de la winsorización\n",
        "outliers_winsorized = ((df_winsorized > up_lim_winsorized) | (df_winsorized < dw_lim_winsorized)).stack().sum()\n",
        "print(\"\\nNumber of outlier Samples after winsorization: \", outliers_winsorized)"
      ],
      "metadata": {
        "colab": {
          "base_uri": "https://localhost:8080/"
        },
        "id": "LGKQEQkmTyEB",
        "outputId": "d7310d3d-3858-493a-f97c-9a6d35cb49bc"
      },
      "execution_count": null,
      "outputs": [
        {
          "output_type": "stream",
          "name": "stdout",
          "text": [
            "Upper limits after winsorization:\n",
            " Length             0.865015\n",
            "Diameter           0.691779\n",
            "Height             0.244838\n",
            "Whole_weight       2.095405\n",
            "Shucked_weight     0.917681\n",
            "Viscera_weight     0.461738\n",
            "Shell_weight       0.593230\n",
            "Rings             17.285412\n",
            "dtype: float64\n",
            "Lower limits after winsorization:\n",
            " Length            0.175761\n",
            "Diameter          0.118891\n",
            "Height            0.030242\n",
            "Whole_weight     -0.496209\n",
            "Shucked_weight   -0.228093\n",
            "Viscera_weight   -0.114085\n",
            "Shell_weight     -0.132986\n",
            "Rings             2.005945\n",
            "dtype: float64\n",
            "\n",
            "Number of outlier Samples after winsorization:  61\n"
          ]
        }
      ]
    },
    {
      "cell_type": "markdown",
      "source": [
        "Se trató con los valores atípicos ajustando los valores extremos a ciertos percentiles (en este caso, el 5% y el 95% de los datos). Esto se realiza para evitar que los valores extremos tengan un impacto excesivo en el análisis. Después de aplicar la winsorización, calculamos los nuevos límites (tanto superiores como inferiores) para identificar cualquier valor atípico potencial.\n",
        "\n",
        "Como resultado, el número de valores atípicos se ha reducido significativamente a 61 después de la winsorización, en comparación con los 554 valores atípicos identificados en el paso anterior."
      ],
      "metadata": {
        "id": "l2oX5gXMKQOK"
      }
    },
    {
      "cell_type": "markdown",
      "source": [
        "**Escalado Min-Max:**"
      ],
      "metadata": {
        "id": "lT45O6B0KTDM"
      }
    },
    {
      "cell_type": "code",
      "source": [
        "# Escalado Min-Max\n",
        "scaler = MinMaxScaler()\n",
        "df_minmax = pd.DataFrame(scaler.fit_transform(df), columns=df.columns)\n",
        "\n",
        "# Cálculo de los límites inferiores y superiores por columna en el DataFrame escalado\n",
        "lower_limits_minmax = df_minmax.min()\n",
        "upper_limits_minmax = df_minmax.max()\n",
        "\n",
        "# Valores atípicos después del escalado Min-Max\n",
        "outliers_minmax = (df_minmax < 0) | (df_minmax > 1)\n",
        "outliers_count_minmax = outliers_minmax.stack().sum()\n",
        "print(\"Number of outlier Samples (Min-Max scaling method): \", outliers_count_minmax)"
      ],
      "metadata": {
        "colab": {
          "base_uri": "https://localhost:8080/"
        },
        "id": "WZneommnMcNW",
        "outputId": "46e77885-9357-4ffe-96e8-d5f44f285f29"
      },
      "execution_count": null,
      "outputs": [
        {
          "output_type": "stream",
          "name": "stdout",
          "text": [
            "Number of outlier Samples (Min-Max scaling method):  0\n"
          ]
        }
      ]
    },
    {
      "cell_type": "markdown",
      "source": [
        "Después de aplicar el escalado Min-Max, calculamos los límites inferiores y superiores por la columna en el DataFrame escalado. Lo importante aquí es que, en contraste con las técnicas anteriores, no hay valores atípicos después del escalado Min-Max. Es decir, los datps se han ajustado para que estén dentro del rango deseado sin valores extremos."
      ],
      "metadata": {
        "id": "HZnA_QuuKXU7"
      }
    },
    {
      "cell_type": "markdown",
      "source": [
        "**Normalización Z-score**"
      ],
      "metadata": {
        "id": "iJhos3XZKaQK"
      }
    },
    {
      "cell_type": "code",
      "source": [
        "# Normalización Z-score\n",
        "scaler = StandardScaler()\n",
        "df_zscore = pd.DataFrame(scaler.fit_transform(df), columns=df.columns)\n",
        "\n",
        "# Cálculo de límites inferiores y superiores\n",
        "lower_limits_zscore = df_zscore.min()\n",
        "upper_limits_zscore = df_zscore.max()\n",
        "\n",
        "# Número total de valores atípicos después del escalado\n",
        "outliers_zscore = (df_zscore < -3) | (df_zscore > 3) # Valores que estén a más de 3 desviaciones estándar de la media, se considerará valor atípico.\n",
        "outliers_count_zscore = outliers_zscore.stack().sum()\n",
        "print(\"Number of outlier Samples (Z-score scaling method): \", outliers_count_zscore)"
      ],
      "metadata": {
        "colab": {
          "base_uri": "https://localhost:8080/"
        },
        "id": "9Yupky9IKcMN",
        "outputId": "91db8ea2-9e24-4fb5-af43-d2d8e63c9955"
      },
      "execution_count": null,
      "outputs": [
        {
          "output_type": "stream",
          "name": "stdout",
          "text": [
            "Number of outlier Samples (Z-score scaling method):  200\n"
          ]
        }
      ]
    },
    {
      "cell_type": "markdown",
      "source": [
        "Se identificaron 200 valores atípicos en el conjunto de datos. Esto debido a su alta distancia con respecto a la media en términos de desviaciones estándar."
      ],
      "metadata": {
        "id": "xXj3QflWKezj"
      }
    },
    {
      "cell_type": "markdown",
      "source": [
        "###Comparación de modelos"
      ],
      "metadata": {
        "id": "Yqsa_7s1Khqh"
      }
    },
    {
      "cell_type": "code",
      "source": [
        "# Nuevo modelo de regresión aplicando Z-score\n",
        "X_fit_new_zscore = sm.add_constant(df_zscore)\n",
        "model_new_zscore = sm.OLS(Y, X_fit_new_zscore)\n",
        "model_new_zscore = model_new_zscore.fit()\n",
        "print(\"R-cuadrado (Z-score):\", model_new_zscore.rsquared)\n",
        "\n",
        "# Nuevo modelo de regresión aplicando winsorización\n",
        "X_fit_new_winsorized = sm.add_constant(df_winsorized)\n",
        "model_new_winsorized = sm.OLS(Y, X_fit_new_winsorized)\n",
        "model_new_winsorized = model_new_winsorized.fit()\n",
        "print(\"R-cuadrado (Winsorización):\", model_new_winsorized.rsquared)"
      ],
      "metadata": {
        "colab": {
          "base_uri": "https://localhost:8080/"
        },
        "id": "rWAwgqeQKkuO",
        "outputId": "3d981507-7938-442e-deb7-c00437f7254e"
      },
      "execution_count": null,
      "outputs": [
        {
          "output_type": "stream",
          "name": "stdout",
          "text": [
            "R-cuadrado (Z-score): 1.0\n",
            "R-cuadrado (Winsorización): 0.8998869270729831\n"
          ]
        }
      ]
    },
    {
      "cell_type": "markdown",
      "source": [
        "En el modelo de winsorización, se obtiene 61 outliers, con un r-cuadrado de 0.90.\n",
        "\n",
        "En cambio, Z-score tiene 200 outliers, mayor cantidad que el caso de winsorizacion, y pese a eso, z-score logra una r-cuadrada de 1.0.\n",
        "\n",
        "\n",
        "Esta diferencia en R-cuadrado podría deberse al hecho de que la winsorización limita los valores atípicos, lo que puede ayudar al modelo a ajustarse mejor a los datos, mientras que la normalización Z-score no limita esos valores. Sin embargo, una R-cuadrada de 1.0 no es confiable y puede ser un indicativo de sobreajuste del modelo."
      ],
      "metadata": {
        "id": "SG-KZpduKoNn"
      }
    },
    {
      "cell_type": "markdown",
      "source": [
        "###Nuevo valor de $R^2$ y parámetros"
      ],
      "metadata": {
        "id": "9TPYno4iKq9V"
      }
    },
    {
      "cell_type": "code",
      "source": [
        "# Nuevo modelo de regresión aplicando winsorización\n",
        "X_fit_new = sm.add_constant(df_winsorized)\n",
        "model_new = sm.OLS(Y, X_fit_new)\n",
        "model_new = model_new.fit()\n",
        "\n",
        "print(\"Nuevo Modelo de Regresión OLS:\")\n",
        "print(model_new.summary())"
      ],
      "metadata": {
        "colab": {
          "base_uri": "https://localhost:8080/"
        },
        "id": "VkPB4BCyNPcP",
        "outputId": "58cc7377-93e4-4457-d9a5-9f08e7c00ade"
      },
      "execution_count": null,
      "outputs": [
        {
          "output_type": "stream",
          "name": "stdout",
          "text": [
            "Nuevo Modelo de Regresión OLS:\n",
            "                            OLS Regression Results                            \n",
            "==============================================================================\n",
            "Dep. Variable:                  Rings   R-squared:                       0.900\n",
            "Model:                            OLS   Adj. R-squared:                  0.900\n",
            "Method:                 Least Squares   F-statistic:                     4683.\n",
            "Date:                Fri, 20 Oct 2023   Prob (F-statistic):               0.00\n",
            "Time:                        22:24:04   Log-Likelihood:                -6009.7\n",
            "No. Observations:                4177   AIC:                         1.204e+04\n",
            "Df Residuals:                    4168   BIC:                         1.209e+04\n",
            "Df Model:                           8                                         \n",
            "Covariance Type:            nonrobust                                         \n",
            "==================================================================================\n",
            "                     coef    std err          t      P>|t|      [0.025      0.975]\n",
            "----------------------------------------------------------------------------------\n",
            "const             -0.2754      0.142     -1.942      0.052      -0.553       0.003\n",
            "Length            -0.8548      0.915     -0.934      0.350      -2.649       0.940\n",
            "Diameter          -3.6981      1.146     -3.227      0.001      -5.945      -1.451\n",
            "Height             0.4183      1.223      0.342      0.732      -1.979       2.816\n",
            "Whole_weight       4.8471      0.409     11.858      0.000       4.046       5.649\n",
            "Shucked_weight    -5.4858      0.501    -10.952      0.000      -6.468      -4.504\n",
            "Viscera_weight    -7.3593      0.749     -9.830      0.000      -8.827      -5.892\n",
            "Shell_weight      -0.4087      0.684     -0.597      0.550      -1.750       0.932\n",
            "Rings              1.1906      0.010    123.764      0.000       1.172       1.209\n",
            "==============================================================================\n",
            "Omnibus:                     3950.176   Durbin-Watson:                   1.727\n",
            "Prob(Omnibus):                  0.000   Jarque-Bera (JB):           212168.586\n",
            "Skew:                           4.482   Prob(JB):                         0.00\n",
            "Kurtosis:                      36.745   Cond. No.                         910.\n",
            "==============================================================================\n",
            "\n",
            "Notes:\n",
            "[1] Standard Errors assume that the covariance matrix of the errors is correctly specified.\n"
          ]
        }
      ]
    },
    {
      "cell_type": "markdown",
      "source": [
        "## Etapa 2: VIF\n",
        "\n",
        "Durante esta etapa se analizará el factor de inflación de la varianza (VIF), este es una medida que se utiliza en estadísticas y análisis de regresión para evaluar la multicolinealidad, que es la presencia de alta correlación entre las variables independientes en un modelo de regresión. En esencia, el VIF nos proporciona información sobre cuánto aumenta la varianza de los coeficientes de regresión debido a la multicolinealidad.\n",
        "\n",
        "Cuando las variables independientes en un modelo de regresión están altamente correlacionadas, puede haber varios efectos negativos, como inestabilidad en los coeficientes de regresión, dificultad en la interpretación de los efectos de las variables y una menor capacidad predictiva del modelo."
      ],
      "metadata": {
        "id": "Z8ubE3ZYVsVG"
      }
    },
    {
      "cell_type": "markdown",
      "source": [
        "Cargamos la base de datos y las librerías necesarias"
      ],
      "metadata": {
        "id": "k5NhPN4_yax0"
      }
    },
    {
      "cell_type": "code",
      "source": [
        "from statsmodels.stats.outliers_influence import variance_inflation_factor\n",
        "from sklearn.model_selection import train_test_split\n",
        "from sklearn.linear_model import LinearRegression\n",
        "from sklearn.metrics import mean_squared_error"
      ],
      "metadata": {
        "id": "e1_9xEjluwJJ"
      },
      "execution_count": null,
      "outputs": []
    },
    {
      "cell_type": "code",
      "source": [
        "from ucimlrepo import fetch_ucirepo\n",
        "import pandas as pd\n",
        "from sklearn.preprocessing import MinMaxScaler\n",
        "\n",
        "# fetch dataset\n",
        "abalone = fetch_ucirepo(id=1)\n",
        "df = pd.DataFrame(abalone.data.features, columns=abalone.data.feature_names)\n",
        "\n",
        "# Drop the 'Sex' column\n",
        "df.drop('Sex', axis=1, inplace=True)\n",
        "\n",
        "# data (as pandas dataframes)\n",
        "X = abalone.data.features\n",
        "X = X.loc[:, X.columns != 'Sex']\n",
        "Y = abalone.data.targets\n",
        "\n",
        "# Escalar los datos\n",
        "scaler = MinMaxScaler()\n",
        "X_scaled = scaler.fit_transform(X)\n",
        "\n",
        "# metadata\n",
        "print(abalone.metadata)\n",
        "\n",
        "# variable information\n",
        "print(abalone.variables)\n",
        "\n",
        "df['Rings'] = Y.astype(float)\n"
      ],
      "metadata": {
        "colab": {
          "base_uri": "https://localhost:8080/"
        },
        "id": "qmXrRokMu0J4",
        "outputId": "46fab858-380a-460e-8ef8-ab7200d26f8a"
      },
      "execution_count": null,
      "outputs": [
        {
          "output_type": "stream",
          "name": "stdout",
          "text": [
            "{'uci_id': 1, 'name': 'Abalone', 'repository_url': 'https://archive.ics.uci.edu/dataset/1/abalone', 'data_url': 'https://archive.ics.uci.edu/static/public/1/data.csv', 'abstract': 'Predict the age of abalone from physical measurements', 'area': 'Life Science', 'tasks': ['Classification', 'Regression'], 'characteristics': ['Tabular'], 'num_instances': 4177, 'num_features': 8, 'feature_types': ['Categorical', 'Integer', 'Real'], 'demographics': [], 'target_col': ['Rings'], 'index_col': None, 'has_missing_values': 'no', 'missing_values_symbol': None, 'year_of_dataset_creation': 1994, 'last_updated': 'Mon Aug 28 2023', 'dataset_doi': '10.24432/C55C7W', 'creators': ['Warwick Nash', 'Tracy Sellers', 'Simon Talbot', 'Andrew Cawthorn', 'Wes Ford'], 'intro_paper': None, 'additional_info': {'summary': 'Predicting the age of abalone from physical measurements.  The age of abalone is determined by cutting the shell through the cone, staining it, and counting the number of rings through a microscope -- a boring and time-consuming task.  Other measurements, which are easier to obtain, are used to predict the age.  Further information, such as weather patterns and location (hence food availability) may be required to solve the problem.\\r\\n\\r\\nFrom the original data examples with missing values were removed (the majority having the predicted value missing), and the ranges of the continuous values have been scaled for use with an ANN (by dividing by 200).', 'purpose': None, 'funded_by': None, 'instances_represent': None, 'recommended_data_splits': None, 'sensitive_data': None, 'preprocessing_description': None, 'variable_info': 'Given is the attribute name, attribute type, the measurement unit and a brief description.  The number of rings is the value to predict: either as a continuous value or as a classification problem.\\r\\n\\r\\nName / Data Type / Measurement Unit / Description\\r\\n-----------------------------\\r\\nSex / nominal / -- / M, F, and I (infant)\\r\\nLength / continuous / mm / Longest shell measurement\\r\\nDiameter\\t/ continuous / mm / perpendicular to length\\r\\nHeight / continuous / mm / with meat in shell\\r\\nWhole weight / continuous / grams / whole abalone\\r\\nShucked weight / continuous\\t / grams / weight of meat\\r\\nViscera weight / continuous / grams / gut weight (after bleeding)\\r\\nShell weight / continuous / grams / after being dried\\r\\nRings / integer / -- / +1.5 gives the age in years\\r\\n\\r\\nThe readme file contains attribute statistics.', 'citation': None}}\n",
            "             name     role         type demographic  \\\n",
            "0             Sex  Feature  Categorical        None   \n",
            "1          Length  Feature   Continuous        None   \n",
            "2        Diameter  Feature   Continuous        None   \n",
            "3          Height  Feature   Continuous        None   \n",
            "4    Whole_weight  Feature   Continuous        None   \n",
            "5  Shucked_weight  Feature   Continuous        None   \n",
            "6  Viscera_weight  Feature   Continuous        None   \n",
            "7    Shell_weight  Feature   Continuous        None   \n",
            "8           Rings   Target      Integer        None   \n",
            "\n",
            "                   description  units missing_values  \n",
            "0         M, F, and I (infant)   None             no  \n",
            "1    Longest shell measurement     mm             no  \n",
            "2      perpendicular to length     mm             no  \n",
            "3           with meat in shell     mm             no  \n",
            "4                whole abalone  grams             no  \n",
            "5               weight of meat  grams             no  \n",
            "6  gut weight (after bleeding)  grams             no  \n",
            "7            after being dried  grams             no  \n",
            "8  +1.5 gives the age in years   None             no  \n"
          ]
        }
      ]
    },
    {
      "cell_type": "markdown",
      "source": [
        "**1.- Busca multicolinealidad en los datos usando VIF**"
      ],
      "metadata": {
        "id": "C647fpytu-0_"
      }
    },
    {
      "cell_type": "code",
      "source": [
        "def compute_vif(X):\n",
        "    # VIF dataframe\n",
        "    vif_data = pd.DataFrame()\n",
        "    vif_data['feature'] = X.columns\n",
        "\n",
        "    # Calculating VIF for each feature\n",
        "    vif_data['VIF'] = [variance_inflation_factor(X.values, i) for i in range(X.shape[1])]\n",
        "\n",
        "    return vif_data"
      ],
      "metadata": {
        "id": "yKba_bnlxAMW"
      },
      "execution_count": null,
      "outputs": []
    },
    {
      "cell_type": "code",
      "source": [
        "from ucimlrepo import fetch_ucirepo\n",
        "import pandas as pd\n",
        "from sklearn.preprocessing import StandardScaler\n",
        "from sklearn.model_selection import train_test_split\n",
        "from statsmodels.stats.outliers_influence import variance_inflation_factor\n",
        "\n",
        "# Escalar los datos\n",
        "scaler = StandardScaler()  # Utiliza StandardScaler en lugar de MinMaxScaler\n",
        "X_standardized = scaler.fit_transform(X)\n",
        "X_standardized = pd.DataFrame(X_standardized, columns=X.columns)  # Convierte X_standardized en un DataFrame\n",
        "\n",
        "# Split the data into training and testing sets\n",
        "X_train, X_test, Y_train, Y_test = train_test_split(X_standardized, Y, test_size=0.2, random_state=42)\n",
        "\n",
        "# Compute the VIF for all given features using standardized data\n",
        "vif_data_standardized = compute_vif(X_train)\n",
        "vif_data_standardized = vif_data_standardized[vif_data_standardized['feature'] != 'intercept'].copy()\n",
        "print(vif_data_standardized)"
      ],
      "metadata": {
        "colab": {
          "base_uri": "https://localhost:8080/"
        },
        "id": "bqX-6VYCvFPr",
        "outputId": "cdd8f7eb-f329-4236-c349-1b0f4c1e4028"
      },
      "execution_count": null,
      "outputs": [
        {
          "output_type": "stream",
          "name": "stdout",
          "text": [
            "          feature         VIF\n",
            "0          Length   42.461291\n",
            "1        Diameter   43.252550\n",
            "2          Height    3.260575\n",
            "3    Whole_weight  125.234966\n",
            "4  Shucked_weight   32.175389\n",
            "5  Viscera_weight   17.895297\n",
            "6    Shell_weight   23.304634\n"
          ]
        }
      ]
    },
    {
      "cell_type": "markdown",
      "source": [
        "**2.- Analiza y elimina variables independientes que indiquen que hay multicolinealidad**\n",
        "\n",
        "Eliminando las variables con el VIF mayor"
      ],
      "metadata": {
        "id": "rriu6_n_xHi8"
      }
    },
    {
      "cell_type": "code",
      "source": [
        "# Identificar la variable con el VIF más alto\n",
        "variable_to_remove = vif_data_standardized[vif_data_standardized['VIF'] == vif_data_standardized['VIF'].max()]['feature'].values[0]\n",
        "\n",
        "# Eliminar la variable con el VIF más alto de tus datos\n",
        "X_train_reduced = X_train.drop(columns=[variable_to_remove])\n",
        "\n",
        "# Volver a calcular los valores VIF con los datos reducidos\n",
        "vif_data_reduced = compute_vif(X_train_reduced)\n",
        "vif_data_reduced = vif_data_reduced[vif_data_reduced['feature'] != 'intercept']\n",
        "print(\"Valores VIF después de eliminar '{}'\".format(variable_to_remove))\n",
        "print(vif_data_reduced)"
      ],
      "metadata": {
        "colab": {
          "base_uri": "https://localhost:8080/"
        },
        "id": "Js-imFt9vIPB",
        "outputId": "57046d47-6d4d-4f5b-9d40-9e709405f5e2"
      },
      "execution_count": null,
      "outputs": [
        {
          "output_type": "stream",
          "name": "stdout",
          "text": [
            "Valores VIF después de eliminar 'Whole_weight'\n",
            "          feature        VIF\n",
            "0          Length  42.450515\n",
            "1        Diameter  43.230667\n",
            "2          Height   3.259181\n",
            "3  Shucked_weight   9.136485\n",
            "4  Viscera_weight  10.767270\n",
            "5    Shell_weight   7.567047\n"
          ]
        }
      ]
    },
    {
      "cell_type": "markdown",
      "source": [
        "En esta primera ronda de eliminación se elimina la variable 'Whole_weight'"
      ],
      "metadata": {
        "id": "H3jeyGM1xY6H"
      }
    },
    {
      "cell_type": "code",
      "source": [
        "# Identificar la variable con el VIF más alto\n",
        "variable_to_remove = vif_data_reduced[vif_data_reduced['VIF'] == vif_data_reduced['VIF'].max()]['feature'].values[0]\n",
        "\n",
        "# Eliminar la variable con el VIF más alto de los datos reducidos\n",
        "X_train_reduced = X_train_reduced.drop(columns=[variable_to_remove])\n",
        "\n",
        "# Volver a calcular los valores VIF con los datos reducidos\n",
        "vif_data_reduced = compute_vif(X_train_reduced)\n",
        "vif_data_reduced = vif_data_reduced[vif_data_reduced['feature'] != 'intercept']\n",
        "print(\"Valores VIF después de eliminar '{}'\".format(variable_to_remove))\n",
        "print(vif_data_reduced)"
      ],
      "metadata": {
        "colab": {
          "base_uri": "https://localhost:8080/"
        },
        "id": "UEIXiEDYxPqT",
        "outputId": "bcf5cf1b-fd9b-46e2-b5ec-21e79a10624b"
      },
      "execution_count": null,
      "outputs": [
        {
          "output_type": "stream",
          "name": "stdout",
          "text": [
            "Valores VIF después de eliminar 'Diameter'\n",
            "          feature        VIF\n",
            "0          Length   7.971231\n",
            "1          Height   3.221463\n",
            "2  Shucked_weight   9.136383\n",
            "3  Viscera_weight  10.764071\n",
            "4    Shell_weight   7.227416\n"
          ]
        }
      ]
    },
    {
      "cell_type": "markdown",
      "source": [
        "En la siguiente ronda de eliminación se elimina la variable 'Diameter'"
      ],
      "metadata": {
        "id": "_CVel2rYxZ4n"
      }
    },
    {
      "cell_type": "code",
      "source": [
        "# Identificar la variable con el VIF más alto\n",
        "variable_to_remove = vif_data_reduced[vif_data_reduced['VIF'] == vif_data_reduced['VIF'].max()]['feature'].values[0]\n",
        "\n",
        "# Eliminar la variable 'Viscera_weight' de los datos reducidos\n",
        "X_train_reduced = X_train_reduced.drop(columns=[variable_to_remove])\n",
        "\n",
        "# Volver a calcular los valores VIF con los datos reducidos\n",
        "vif_data_reduced = compute_vif(X_train_reduced)\n",
        "vif_data_reduced = vif_data_reduced[vif_data_reduced['feature'] != 'intercept']\n",
        "print(\"Valores VIF después de eliminar '{}'\".format(variable_to_remove))\n",
        "print(vif_data_reduced)"
      ],
      "metadata": {
        "colab": {
          "base_uri": "https://localhost:8080/"
        },
        "id": "jFIRtiIzxSdk",
        "outputId": "32d570d5-cd61-44a1-f2f5-89f86aa3edf5"
      },
      "execution_count": null,
      "outputs": [
        {
          "output_type": "stream",
          "name": "stdout",
          "text": [
            "Valores VIF después de eliminar 'Viscera_weight'\n",
            "          feature       VIF\n",
            "0          Length  7.678564\n",
            "1          Height  3.200700\n",
            "2  Shucked_weight  6.278130\n",
            "3    Shell_weight  6.457140\n"
          ]
        }
      ]
    },
    {
      "cell_type": "markdown",
      "source": [
        "Por último se elimina la variable 'Viscera_weight'"
      ],
      "metadata": {
        "id": "za9Q9dIcxdgJ"
      }
    },
    {
      "cell_type": "markdown",
      "source": [
        "**3.- Calcular el valor de MSE.**"
      ],
      "metadata": {
        "id": "ZCjHi_LUxikE"
      }
    },
    {
      "cell_type": "code",
      "source": [
        "model = LinearRegression()\n",
        "model.fit(X_train, Y_train)"
      ],
      "metadata": {
        "colab": {
          "base_uri": "https://localhost:8080/",
          "height": 75
        },
        "id": "cH0CqROfxU3I",
        "outputId": "ce7afa16-4dcb-4319-81ad-4fed39aca302"
      },
      "execution_count": null,
      "outputs": [
        {
          "output_type": "execute_result",
          "data": {
            "text/plain": [
              "LinearRegression()"
            ],
            "text/html": [
              "<style>#sk-container-id-1 {color: black;background-color: white;}#sk-container-id-1 pre{padding: 0;}#sk-container-id-1 div.sk-toggleable {background-color: white;}#sk-container-id-1 label.sk-toggleable__label {cursor: pointer;display: block;width: 100%;margin-bottom: 0;padding: 0.3em;box-sizing: border-box;text-align: center;}#sk-container-id-1 label.sk-toggleable__label-arrow:before {content: \"▸\";float: left;margin-right: 0.25em;color: #696969;}#sk-container-id-1 label.sk-toggleable__label-arrow:hover:before {color: black;}#sk-container-id-1 div.sk-estimator:hover label.sk-toggleable__label-arrow:before {color: black;}#sk-container-id-1 div.sk-toggleable__content {max-height: 0;max-width: 0;overflow: hidden;text-align: left;background-color: #f0f8ff;}#sk-container-id-1 div.sk-toggleable__content pre {margin: 0.2em;color: black;border-radius: 0.25em;background-color: #f0f8ff;}#sk-container-id-1 input.sk-toggleable__control:checked~div.sk-toggleable__content {max-height: 200px;max-width: 100%;overflow: auto;}#sk-container-id-1 input.sk-toggleable__control:checked~label.sk-toggleable__label-arrow:before {content: \"▾\";}#sk-container-id-1 div.sk-estimator input.sk-toggleable__control:checked~label.sk-toggleable__label {background-color: #d4ebff;}#sk-container-id-1 div.sk-label input.sk-toggleable__control:checked~label.sk-toggleable__label {background-color: #d4ebff;}#sk-container-id-1 input.sk-hidden--visually {border: 0;clip: rect(1px 1px 1px 1px);clip: rect(1px, 1px, 1px, 1px);height: 1px;margin: -1px;overflow: hidden;padding: 0;position: absolute;width: 1px;}#sk-container-id-1 div.sk-estimator {font-family: monospace;background-color: #f0f8ff;border: 1px dotted black;border-radius: 0.25em;box-sizing: border-box;margin-bottom: 0.5em;}#sk-container-id-1 div.sk-estimator:hover {background-color: #d4ebff;}#sk-container-id-1 div.sk-parallel-item::after {content: \"\";width: 100%;border-bottom: 1px solid gray;flex-grow: 1;}#sk-container-id-1 div.sk-label:hover label.sk-toggleable__label {background-color: #d4ebff;}#sk-container-id-1 div.sk-serial::before {content: \"\";position: absolute;border-left: 1px solid gray;box-sizing: border-box;top: 0;bottom: 0;left: 50%;z-index: 0;}#sk-container-id-1 div.sk-serial {display: flex;flex-direction: column;align-items: center;background-color: white;padding-right: 0.2em;padding-left: 0.2em;position: relative;}#sk-container-id-1 div.sk-item {position: relative;z-index: 1;}#sk-container-id-1 div.sk-parallel {display: flex;align-items: stretch;justify-content: center;background-color: white;position: relative;}#sk-container-id-1 div.sk-item::before, #sk-container-id-1 div.sk-parallel-item::before {content: \"\";position: absolute;border-left: 1px solid gray;box-sizing: border-box;top: 0;bottom: 0;left: 50%;z-index: -1;}#sk-container-id-1 div.sk-parallel-item {display: flex;flex-direction: column;z-index: 1;position: relative;background-color: white;}#sk-container-id-1 div.sk-parallel-item:first-child::after {align-self: flex-end;width: 50%;}#sk-container-id-1 div.sk-parallel-item:last-child::after {align-self: flex-start;width: 50%;}#sk-container-id-1 div.sk-parallel-item:only-child::after {width: 0;}#sk-container-id-1 div.sk-dashed-wrapped {border: 1px dashed gray;margin: 0 0.4em 0.5em 0.4em;box-sizing: border-box;padding-bottom: 0.4em;background-color: white;}#sk-container-id-1 div.sk-label label {font-family: monospace;font-weight: bold;display: inline-block;line-height: 1.2em;}#sk-container-id-1 div.sk-label-container {text-align: center;}#sk-container-id-1 div.sk-container {/* jupyter's `normalize.less` sets `[hidden] { display: none; }` but bootstrap.min.css set `[hidden] { display: none !important; }` so we also need the `!important` here to be able to override the default hidden behavior on the sphinx rendered scikit-learn.org. See: https://github.com/scikit-learn/scikit-learn/issues/21755 */display: inline-block !important;position: relative;}#sk-container-id-1 div.sk-text-repr-fallback {display: none;}</style><div id=\"sk-container-id-1\" class=\"sk-top-container\"><div class=\"sk-text-repr-fallback\"><pre>LinearRegression()</pre><b>In a Jupyter environment, please rerun this cell to show the HTML representation or trust the notebook. <br />On GitHub, the HTML representation is unable to render, please try loading this page with nbviewer.org.</b></div><div class=\"sk-container\" hidden><div class=\"sk-item\"><div class=\"sk-estimator sk-toggleable\"><input class=\"sk-toggleable__control sk-hidden--visually\" id=\"sk-estimator-id-1\" type=\"checkbox\" checked><label for=\"sk-estimator-id-1\" class=\"sk-toggleable__label sk-toggleable__label-arrow\">LinearRegression</label><div class=\"sk-toggleable__content\"><pre>LinearRegression()</pre></div></div></div></div></div>"
            ]
          },
          "metadata": {},
          "execution_count": 12
        }
      ]
    },
    {
      "cell_type": "code",
      "source": [
        "Y_pred = model.predict(X_test)\n",
        "mse = mean_squared_error(Y_test, Y_pred)\n",
        "print(\"Mean Squared Error:\", mse)"
      ],
      "metadata": {
        "id": "KvLZwQM8xlx3",
        "outputId": "19e51847-5d0e-4276-c0d7-53f433e6ff09",
        "colab": {
          "base_uri": "https://localhost:8080/"
        }
      },
      "execution_count": null,
      "outputs": [
        {
          "output_type": "stream",
          "name": "stdout",
          "text": [
            "Mean Squared Error: 5.055541144299382\n"
          ]
        }
      ]
    },
    {
      "cell_type": "code",
      "source": [
        "from scipy.stats import pearsonr\n",
        "import numpy as np\n",
        "\n",
        "# Aplana y convierte los DataFrames en matrices NumPy\n",
        "Y_test_array = Y_test.to_numpy().flatten()\n",
        "Y_pred_array = Y_pred.flatten()\n",
        "\n",
        "# Calcula el coeficiente de correlación\n",
        "correlation_coefficient, _ = pearsonr(Y_test_array, Y_pred_array)\n",
        "\n",
        "print(\"Coeficiente de Correlación:\", correlation_coefficient)"
      ],
      "metadata": {
        "id": "defL9Cf7xnzp",
        "outputId": "bd80cad3-1b13-4232-a061-abd2ca29ab51",
        "colab": {
          "base_uri": "https://localhost:8080/"
        }
      },
      "execution_count": null,
      "outputs": [
        {
          "output_type": "stream",
          "name": "stdout",
          "text": [
            "Coeficiente de Correlación: 0.730065629814984\n"
          ]
        }
      ]
    },
    {
      "cell_type": "markdown",
      "source": [
        "**Pregunta 1:** ¿Cómo cambio el valor de $R^2$ del modelo?¿A que se lo adjudica?\n",
        "\n",
        "Considerando que al principio se tenía un valor de $R^2$ de 0.528, este valor llegó a mejorar hasta un 0.7300 utilizando el método VIF, en el cual se busca la variable que presente una mayor multicolinealidad para esta dejarla fuera del modelo y realizar este proceso hasta que las variables restantes resulten en un valor VIF menor a 10. De esta forma se logra mejorar la estabilidad del modelo, ademas que al reducir la multicolinealidad, el coeficiente de determinación ($R^2$) del modelo tiende a mejorar.\n",
        "\n",
        "**Pregunta 2:** ¿Como cambiaron los coeficientes?¿Qué interpretación se puede obtener con los nuevos valores de coeficientes?\n",
        "\n",
        "Conforme se hacían las rondas de eliminación de coeficientes por identificar el valor VIF mayor los valores VIF de las demás variables restantes mejoraban al realizar el proceso nievamente, esto se podría explicar debido a que se reduce la multicolinealidad inicial calculada, es decir, cuando se decide eliminar una variable con un alto valor de VIF del modelo, se está eliminando una fuente significativa de multicolinealidad. Esta variable estaba altamente correlacionada con otras variables, lo que inflaba los VIF de todas las variables involucradas."
      ],
      "metadata": {
        "id": "paNsqZY7yPKt"
      }
    },
    {
      "cell_type": "markdown",
      "source": [
        "## Etapa 3: Componentes principales, $R^2$ y MSE\n",
        "\n",
        "En el contexto de análisis de datos, dos conceptos fundamentales que desempeñan un papel crucial son los Componentes Principales (PCA) y el Error Cuadrático Medio (MSE).\n",
        "\n",
        "\n",
        "El **PCA** siendo una técnica que ayuda a reducir la dimensionalidad que se utiliza para simplificar conjuntos de datos multivariados al transformarlos en un conjunto de variables llamadas componentes principales, los cuales se eligen de manera que capturen la mayor varianza en los datos.\n",
        "Esto teniendo como consecuencia el aumento de la interpretabilidad de los datos, la eliminación de la colinealidad y la reducción de la complejidad del modelo.\n",
        "\n",
        "\n",
        "Por otro lado, el **MSE**, se va a usar para cuantificar cuán bien un modelo se ajusta a los datos y realiza predicciones. La comparación del MSE entre diferentes modelos puede ayudarnos a determinar cuál de ellos tiene un mejor rendimiento en términos de ajuste y capacidad predictiva."
      ],
      "metadata": {
        "id": "gvg6OCFmWHaZ"
      }
    },
    {
      "cell_type": "code",
      "source": [
        "from sklearn.decomposition import PCA\n",
        "from sklearn.preprocessing import scale\n",
        "from sklearn import model_selection\n",
        "from sklearn.linear_model import LinearRegression\n",
        "from sklearn.metrics import mean_squared_error"
      ],
      "metadata": {
        "id": "1XVFo383NZsw"
      },
      "execution_count": null,
      "outputs": []
    },
    {
      "cell_type": "code",
      "source": [
        "Y_pcr = df['Rings']\n",
        "X_pcr = df.drop(['Rings'], axis = 1)\n",
        "print(X.head())"
      ],
      "metadata": {
        "colab": {
          "base_uri": "https://localhost:8080/"
        },
        "id": "2yDTd5-iPtwJ",
        "outputId": "9097c07a-d6bc-43aa-9707-43a65c261374"
      },
      "execution_count": null,
      "outputs": [
        {
          "output_type": "stream",
          "name": "stdout",
          "text": [
            "   Length  Diameter  Height  Whole_weight  Shucked_weight  Viscera_weight  \\\n",
            "0   0.455     0.365   0.095        0.5140          0.2245          0.1010   \n",
            "1   0.350     0.265   0.090        0.2255          0.0995          0.0485   \n",
            "2   0.530     0.420   0.135        0.6770          0.2565          0.1415   \n",
            "3   0.440     0.365   0.125        0.5160          0.2155          0.1140   \n",
            "4   0.330     0.255   0.080        0.2050          0.0895          0.0395   \n",
            "\n",
            "   Shell_weight  \n",
            "0         0.150  \n",
            "1         0.070  \n",
            "2         0.210  \n",
            "3         0.155  \n",
            "4         0.055  \n"
          ]
        }
      ]
    },
    {
      "cell_type": "markdown",
      "source": [
        "###Componentes principales"
      ],
      "metadata": {
        "id": "apFKshrImxCY"
      }
    },
    {
      "cell_type": "code",
      "source": [
        "np.set_printoptions(suppress=True,precision=3)\n",
        "\n",
        "pca = PCA()\n",
        "\n",
        "X_reduced = pca.fit_transform(scale(X_pcr))\n",
        "\n",
        "print('Vector de la varianza explicada por cada dimensión')\n",
        "print(pca.explained_variance_)\n",
        "\n",
        "print('\\nVarianza explicada únicamente por la i+primera dimensión')\n",
        "print(pca.explained_variance_ratio_)\n",
        "\n",
        "print('\\nVarianza explicada por las dimensiones acumuladas')\n",
        "print(pca.explained_variance_.cumsum())"
      ],
      "metadata": {
        "colab": {
          "base_uri": "https://localhost:8080/"
        },
        "id": "cQpGAdvwO63a",
        "outputId": "49a11b58-37cf-4086-c1f7-9b82f046a579"
      },
      "execution_count": null,
      "outputs": [
        {
          "output_type": "stream",
          "name": "stdout",
          "text": [
            "Vector de la varianza explicada por cada dimensión\n",
            "[6.357 0.279 0.167 0.114 0.065 0.013 0.007]\n",
            "\n",
            "Varianza explicada únicamente por la i+primera dimensión\n",
            "[0.908 0.04  0.024 0.016 0.009 0.002 0.001]\n",
            "\n",
            "Varianza explicada por las dimensiones acumuladas\n",
            "[6.357 6.636 6.804 6.918 6.982 6.995 7.002]\n"
          ]
        }
      ]
    },
    {
      "cell_type": "markdown",
      "source": [
        "El PCA ha creado 7 dimensiones, y el primer componente principal explica la mayoría de los datos de la varianza en los datos. Los siguientes componentes explican cantidades decrecientes de varianza. El segundo conjunto de resultados muestra la varianza explicada por cada dimensión en relación con la varianza total, donde se observa que el primer componente captura la mayor parte de la información. El tercer conjunto de resultados muestra la varianza explicada acumulativa a medida que se agregan más dimensiones."
      ],
      "metadata": {
        "id": "Mc6nLTYDoOFG"
      }
    },
    {
      "cell_type": "code",
      "source": [
        "# Muestras, componentes principales\n",
        "n, pc = X_reduced.shape\n",
        "\n",
        "# n-fold CV, con shuffle\n",
        "kf = model_selection.KFold(n_splits=10, shuffle=True, random_state=1)\n",
        "model_pcr = LinearRegression()\n",
        "mse = []\n",
        "\n",
        "# Cálculo del MSE con el intercepto (sin componentes principales ni regresión)\n",
        "score = -1 * model_selection.cross_val_score(model_pcr, np.ones((n,1)), Y_pcr.ravel(),\n",
        "                                             cv=kf,\n",
        "                                             scoring='neg_mean_squared_error').mean()\n",
        "mse.append(score)\n",
        "\n",
        "# Cálculo de MSE usando CV para los componentes principales, añadiendo un componente a la vez\n",
        "for i in np.arange(1, pc+1):\n",
        "  score = -1 * model_selection.cross_val_score(model_pcr, X_reduced[:,:i], Y_pcr.ravel(),\n",
        "                                               cv=kf,\n",
        "                                               scoring='neg_mean_squared_error').mean()\n",
        "  mse.append(score)\n",
        "\n",
        "x_axis = np.arange(0, len(mse))\n",
        "\n",
        "# Gráfica de resultados\n",
        "plt.plot(x_axis, mse, '-v')\n",
        "plt.xlabel('Número de componentes principales en la regresión')\n",
        "plt.ylabel('MSE')\n",
        "plt.title('Rings')\n",
        "plt.grid()\n",
        "plt.xticks(x_axis)"
      ],
      "metadata": {
        "colab": {
          "base_uri": "https://localhost:8080/",
          "height": 750
        },
        "id": "QQ5Nn0pJRnRZ",
        "outputId": "2e3bbd7e-38f8-4494-81ec-66fa7b826986"
      },
      "execution_count": null,
      "outputs": [
        {
          "output_type": "execute_result",
          "data": {
            "text/plain": [
              "([<matplotlib.axis.XTick at 0x7fac9a221c90>,\n",
              "  <matplotlib.axis.XTick at 0x7fac9a222560>,\n",
              "  <matplotlib.axis.XTick at 0x7fac9a223bb0>,\n",
              "  <matplotlib.axis.XTick at 0x7fac9a1fb9d0>,\n",
              "  <matplotlib.axis.XTick at 0x7fac9a1fbdf0>,\n",
              "  <matplotlib.axis.XTick at 0x7fac9a1fbe20>,\n",
              "  <matplotlib.axis.XTick at 0x7fac9a20d1b0>,\n",
              "  <matplotlib.axis.XTick at 0x7fac9a20da80>],\n",
              " [Text(0, 0, '0'),\n",
              "  Text(1, 0, '1'),\n",
              "  Text(2, 0, '2'),\n",
              "  Text(3, 0, '3'),\n",
              "  Text(4, 0, '4'),\n",
              "  Text(5, 0, '5'),\n",
              "  Text(6, 0, '6'),\n",
              "  Text(7, 0, '7')])"
            ]
          },
          "metadata": {},
          "execution_count": 69
        },
        {
          "output_type": "display_data",
          "data": {
            "text/plain": [
              "<Figure size 640x480 with 1 Axes>"
            ],
            "image/png": "[encoded data removed]"
          },
          "metadata": {}
        }
      ]
    },
    {
      "cell_type": "code",
      "source": [
        "np.cumsum(np.round(pca.explained_variance_ratio_, decimals=4)*100)"
      ],
      "metadata": {
        "colab": {
          "base_uri": "https://localhost:8080/"
        },
        "id": "WksXHZ-eWLC2",
        "outputId": "29c1e278-8906-4772-88b0-3a0a987a4f8b"
      },
      "execution_count": null,
      "outputs": [
        {
          "output_type": "execute_result",
          "data": {
            "text/plain": [
              "array([ 90.79,  94.78,  97.17,  98.8 ,  99.72,  99.9 , 100.  ])"
            ]
          },
          "metadata": {},
          "execution_count": 70
        }
      ]
    },
    {
      "cell_type": "markdown",
      "source": [
        "Se observa un porcentaje acumulado de varianza explicada por los componentes principales en orden descendente. Esto significa que el primer componente principal explica aproximadamente el 90.79% de la varianza total en los datos. A medida que avanzamos a través de los componentes principales, la varianza explicada acumulada aumenta. El segundo componente principal agrega aproximadamente un 3.99% adicional, el tercero alrededor de un 2.39% más, y así sucesivamente."
      ],
      "metadata": {
        "id": "WrSQ8wwoskuH"
      }
    },
    {
      "cell_type": "code",
      "source": [
        "pca2 = PCA()\n",
        "\n",
        "# Split de entrenamiento y prueba\n",
        "X_train, X_test, y_train, y_test = model_selection.train_test_split(X_pcr, Y_pcr,\n",
        "                                                                    test_size=0.5,\n",
        "                                                                    random_state=1)\n",
        "# Datos escalados\n",
        "X_reduced_train = pca2.fit_transform(scale(X_train))\n",
        "n2, pc2 = X_reduced_train.shape\n",
        "\n",
        "# n-fold CV, con shuffle\n",
        "kf2 = model_selection.KFold(n_splits=10, shuffle=True, random_state=1)\n",
        "model_pcr2 = LinearRegression()\n",
        "mse2 = []\n",
        "\n",
        "# Cálculo del MSE con el intercepto (sin componentes principales ni regresión)\n",
        "score2 = -1 * model_selection.cross_val_score(model_pcr2, np.ones((n2,1)), y_train.ravel(),\n",
        "                                             cv=kf2,\n",
        "                                             scoring='neg_mean_squared_error').mean()\n",
        "mse2.append(score2)\n",
        "\n",
        "# Cálculo de MSE usando CV para los componentes principales, añadiendo un componente a la vez\n",
        "for i in np.arange(1, 12):\n",
        "  score2 = -1 * model_selection.cross_val_score(model_pcr2, X_reduced_train[:,:i], y_train.ravel(),\n",
        "                                               cv=kf2,\n",
        "                                               scoring='neg_mean_squared_error').mean()\n",
        "  mse2.append(score2)\n",
        "\n",
        "x_axis2 = np.arange(0, len(mse2))\n",
        "\n",
        "# Gráfica de resultados\n",
        "plt.plot(x_axis2, mse2, '-v')\n",
        "plt.xlabel('Número de componentes principales en la regresión')\n",
        "plt.ylabel('MSE')\n",
        "plt.title('Rings')\n",
        "plt.grid()\n",
        "plt.xticks(x_axis2)"
      ],
      "metadata": {
        "colab": {
          "base_uri": "https://localhost:8080/",
          "height": 889
        },
        "id": "lSefGRe0Wyx-",
        "outputId": "5501a55d-35f2-4a40-8420-1ffd280caa33"
      },
      "execution_count": null,
      "outputs": [
        {
          "output_type": "execute_result",
          "data": {
            "text/plain": [
              "([<matplotlib.axis.XTick at 0x7fac9ac346a0>,\n",
              "  <matplotlib.axis.XTick at 0x7fac9ac34340>,\n",
              "  <matplotlib.axis.XTick at 0x7fac9b3d9480>,\n",
              "  <matplotlib.axis.XTick at 0x7fac9aa3a1a0>,\n",
              "  <matplotlib.axis.XTick at 0x7fac9a58cfa0>,\n",
              "  <matplotlib.axis.XTick at 0x7fac9a58e440>,\n",
              "  <matplotlib.axis.XTick at 0x7fac9a726140>,\n",
              "  <matplotlib.axis.XTick at 0x7fac9a4fd9c0>,\n",
              "  <matplotlib.axis.XTick at 0x7fac9a1e5e40>,\n",
              "  <matplotlib.axis.XTick at 0x7fac9a1e4f70>,\n",
              "  <matplotlib.axis.XTick at 0x7fac9a20ca00>,\n",
              "  <matplotlib.axis.XTick at 0x7fac9a1e6020>],\n",
              " [Text(0, 0, '0'),\n",
              "  Text(1, 0, '1'),\n",
              "  Text(2, 0, '2'),\n",
              "  Text(3, 0, '3'),\n",
              "  Text(4, 0, '4'),\n",
              "  Text(5, 0, '5'),\n",
              "  Text(6, 0, '6'),\n",
              "  Text(7, 0, '7'),\n",
              "  Text(8, 0, '8'),\n",
              "  Text(9, 0, '9'),\n",
              "  Text(10, 0, '10'),\n",
              "  Text(11, 0, '11')])"
            ]
          },
          "metadata": {},
          "execution_count": 71
        },
        {
          "output_type": "display_data",
          "data": {
            "text/plain": [
              "<Figure size 640x480 with 1 Axes>"
            ],
            "image/png": "[encoded data removed]"
          },
          "metadata": {}
        }
      ]
    },
    {
      "cell_type": "markdown",
      "source": [
        "En este caso, vemos que el MSE disminuye a medida que se añaden más componentes principales a la regresión."
      ],
      "metadata": {
        "id": "0E0r_cjbtLHB"
      }
    },
    {
      "cell_type": "code",
      "source": [
        "X_reduced_test = pca2.transform(scale(X_test))[:,:5]\n",
        "\n",
        "modelpcr = sm.OLS(y_train, sm.add_constant(X_reduced_train[:,:5]))\n",
        "fitted_modelpcr = modelpcr.fit()\n",
        "\n",
        "# Predicción con el dataset de prueba\n",
        "pred = fitted_modelpcr.predict(sm.add_constant(X_reduced_test))\n",
        "msepcr = mean_squared_error(y_test, pred)\n",
        "\n",
        "print('Mean squared error: {}'.format(np.round(msepcr,2)))"
      ],
      "metadata": {
        "colab": {
          "base_uri": "https://localhost:8080/"
        },
        "id": "kLoqP4GxaqxD",
        "outputId": "362800e3-fb20-4b00-e75d-40315295bb44"
      },
      "execution_count": null,
      "outputs": [
        {
          "output_type": "stream",
          "name": "stdout",
          "text": [
            "Mean squared error: 5.29\n"
          ]
        }
      ]
    },
    {
      "cell_type": "code",
      "source": [
        "# Nuevo modelo de regresión aplicando pcr\n",
        "print(\"Nuevo Modelo de Regresión OLS con PCR:\")\n",
        "print(fitted_modelpcr.summary())"
      ],
      "metadata": {
        "colab": {
          "base_uri": "https://localhost:8080/"
        },
        "id": "tcRa0NntfqNH",
        "outputId": "9e7ecca0-3ee1-4f2c-8ff1-202f272c4653"
      },
      "execution_count": null,
      "outputs": [
        {
          "output_type": "stream",
          "name": "stdout",
          "text": [
            "Nuevo Modelo de Regresión OLS con PCR:\n",
            "                            OLS Regression Results                            \n",
            "==============================================================================\n",
            "Dep. Variable:                  Rings   R-squared:                       0.507\n",
            "Model:                            OLS   Adj. R-squared:                  0.506\n",
            "Method:                 Least Squares   F-statistic:                     429.0\n",
            "Date:                Sat, 21 Oct 2023   Prob (F-statistic):          6.63e-317\n",
            "Time:                        00:51:43   Log-Likelihood:                -4650.9\n",
            "No. Observations:                2088   AIC:                             9314.\n",
            "Df Residuals:                    2082   BIC:                             9348.\n",
            "Df Model:                           5                                         \n",
            "Covariance Type:            nonrobust                                         \n",
            "==============================================================================\n",
            "                 coef    std err          t      P>|t|      [0.025      0.975]\n",
            "------------------------------------------------------------------------------\n",
            "const          9.8793      0.049    200.836      0.000       9.783       9.976\n",
            "x1             0.7136      0.019     36.943      0.000       0.676       0.752\n",
            "x2            -1.9372      0.108    -17.925      0.000      -2.149      -1.725\n",
            "x3             2.0311      0.133     15.273      0.000       1.770       2.292\n",
            "x4             2.2899      0.162     14.104      0.000       1.971       2.608\n",
            "x5            -1.0203      0.198     -5.152      0.000      -1.409      -0.632\n",
            "==============================================================================\n",
            "Omnibus:                      521.649   Durbin-Watson:                   2.023\n",
            "Prob(Omnibus):                  0.000   Jarque-Bera (JB):             1434.763\n",
            "Skew:                           1.301   Prob(JB):                         0.00\n",
            "Kurtosis:                       6.117   Cond. No.                         10.3\n",
            "==============================================================================\n",
            "\n",
            "Notes:\n",
            "[1] Standard Errors assume that the covariance matrix of the errors is correctly specified.\n"
          ]
        }
      ]
    },
    {
      "cell_type": "markdown",
      "source": [
        "En conclusión, un valor de \"Mean squared error\" (MSE) de 5.29 significa que, en promedio, las predicciones hechas por el modelo de regresión (PCR) con las cinco componentes principales en el conjunto de prueba tienen un error cuadrático medio de 5.29 unidades al cuadrado en relación a los valores reales.\n",
        "\n",
        "En cuanto al R-cuadrada del nuevo modelo utilizando PCR, podemos ver que no mejora, y sigue teniendo un valor de 0.5, lo cual nos indica que la variable de respuesta está siendo explicada únicamente por poco más del 50% de las variables predictoras. Por lo cual nosotros conlcuímos que para este caso específico y este dataset, el ánalisis de componentes principales y su regresión no es el método más óptimo para manejar los datos y la variable predicha `Rings`.\n",
        "\n",
        "¿Mejoro el valor de $R^2$ y MSE del modelo PCR respecto al metodo de VIF?¿A que se lo adjudica?\n",
        "No, el modelo obtenido a través del método VIF obtuvo mejores resultados tanto en la $R^2$ como en el MSE.\n",
        "\n",
        "* PCR:\n",
        "  - $R^2$ = 0.507\n",
        "  - MSE = 5.29\n",
        "\n",
        "* VIF:\n",
        "  - $R^2$ = 0.730\n",
        "  - MSE = 5.05\n",
        "\n",
        "En cuanto a qué se le adjudica la diferencia de resultados, se nos ocurren las siguientes opciones relacionadas a la selección de características y la multicolinealidad de los datos:\n",
        "\n",
        "* El método VIF podría haber seleccionado un conjunto de características más relevante para el modelo en comparación con el enfoque PCR. Al seleccionar características más importantes y omitir las menos relevantes, es probable que el modelo VIF tenga un mejor ajuste a los datos.\n",
        "\n",
        "* El método VIF puede ayudar a reducir la multicolinealidad en los datos al seleccionar características menos correlacionadas. La multicolinealidad puede dificultar la interpretación y la estabilidad de los coeficientes en un modelo de regresión, por lo que su reducción podría mejorar el rendimiento del modelo.\n",
        "\n",
        "\n",
        "El Error Cuadrático Medio (MSE) es una métrica de evaluación comúnmente utilizada en problemas de regresión para medir la capacidad de predicción de un modelo. Se calcula al comparar las predicciones del modelo con los valores reales en un conjunto de datos de prueba, que generalmente se deriva al dividir el conjunto de datos original en dos: uno para entrenar el modelo y otro para evaluar su rendimiento. Un MSE más bajo indica un mejor ajuste del modelo a los datos y una mayor precisión en las predicciones.\n",
        "\n",
        "En este caso, los valores de MSE más bajos para el método de VIF (MSE = 5.05) en comparación con el método PCR (MSE = 5.29) sugieren que el modelo basado en VIF tiene una capacidad de predicción ligeramente mejor en el conjunto de prueba, lo que implica un menor error promedio en las predicciones para ese método.\n",
        "\n",
        "\n",
        "A continuación, se presentan las ventajas y desventajas de ambos enfoques.\n",
        "\n",
        "Ventajas del modelo VIF:\n",
        "* Mayor $R^2$ y menor MSE: En este caso específico, el modelo VIF mostró un $R^2$ más alto y un MSE más bajo en comparación con el modelo PCR. Esto indica se ajusta mejor a los datos y hace predicciones más precisas.\n",
        "\n",
        "* Selección de características más relevante: El método VIF selecciona un conjunto de características más relevante para el modelo al eliminar características altamente correlacionadas.\n",
        "\n",
        "* Reducción de multicolinealidad: Al reducir la multicolinealidad en los datos, el modelo VIF puede ofrecer coeficientes de regresión más estables y fácilmente interpretables.\n",
        "\n",
        "Desventajas del modelo VIF:\n",
        "* Eliminación de características: El modelo elimina características del conjunto de datos, lo que puede resultar en la pérdida de información.\n",
        "* Sensible a la selección de características iniciales: El rendimiento del modelo VIF puede depender de las características iniciales seleccionadas. Si las características iniciales no son representativas, el modelo VIF puede no dar buenos resultados.\n",
        "\n",
        "Ventajas del modelo PCR:\n",
        "* Utilización de componentes principales: Utiliza componentes principales, lo que puede ser útil en casos donde las características originales están altamente correlacionadas.\n",
        "* Menos susceptible a overfitting: PCR reduce la dimensionalidad de los datos, lo que puede ayudar a prevenir el overfitting.\n",
        "\n",
        "Desventajas del modelo PCR:\n",
        "* Menor $R^2$ y mayor MSE: En este caso específico, el modelo PCR mostró un $R^2$ más bajo (0.507) y un MSE más alto (5.29) en comparación con el modelo VIF, lo que indica un ajuste menos preciso a los datos.\n",
        "* Menos efectivo en la reducción de multicolinealidad: PCR no aborda directamente la multicolinealidad en los datos y puede no ser tan efectivo como el método VIF en ese sentido.\n",
        "\n",
        "Por lo tanto, podemos concluir que el modelo VIF es más conveniente usarlo cuando se desee seleccionar un conjunto de características más relevante, reducir la multicolinealidad y obtener un mejor rendimiento en términos de ajuste y predicción.\n",
        "\n",
        "Mientras que el uso de PCR es para cuando se desee reducir la dimensionalidad de los datos y prevenir el overfitting, y cuando la interpretabilidad de los componentes principales sea importante."
      ],
      "metadata": {
        "id": "Fdf8ThJDdDCX"
      }
    }
  ]
}