{
  "nbformat": 4,
  "nbformat_minor": 0,
  "metadata": {
    "colab": {
      "provenance": []
    },
    "kernelspec": {
      "name": "python3",
      "display_name": "Python 3"
    },
    "language_info": {
      "name": "python"
    }
  },
  "cells": [
    {
      "cell_type": "markdown",
      "source": [
        "##Actividad: Diferencia entre medias poblacionales\n",
        "###Karla González Sánchez A01541526\n",
        "\n",
        "Problema 1:\n",
        "\n",
        "Un científico de datos está analizando los niveles de sódio en dos lotes diferentes de un mismo producto. El científico quiere determinar si los niveles de sódio son iguales para ambos lotes, por lo tanto, recabó las siguientes dos muestras de datos\n",
        "\n",
        "Lote A -(número de muestras 15): Nivel de Sodio (mg) -> 180, 160, 170, 190, 200, 175, 185, 195, 180, 170, 190, 185, 200, 175, 165\n",
        "\n",
        "Lote B - (número de muestras 20): Nivel de Sodio (mg) -> 210, 215, 220, 225, 230, 215, 220, 225, 230, 235, 210, 215, 220, 225, 230, 215, 220, 225, 230, 23\n",
        "\n",
        "La varianza poblacional para el lote A es 57.05 y para el lote B  34.63. Con un nivel del confianza del 85% determina si ambos lotes tienen en promedio el mismo nivel de sódio."
      ],
      "metadata": {
        "id": "AmwSF8Zf8yfJ"
      }
    },
    {
      "cell_type": "markdown",
      "source": [
        "**Hipótesis nula $H0$**: Los niveles promedio de sodio en ambos lotes son iguales.\n",
        "\n",
        "**Hipótesis alternativa $H1$**: Los niveles promedio de sodio en ambos lotes no son iguales."
      ],
      "metadata": {
        "id": "sfCKuDL5ogb5"
      }
    },
    {
      "cell_type": "code",
      "execution_count": null,
      "metadata": {
        "id": "XXCYiSnv8lln"
      },
      "outputs": [],
      "source": [
        "import numpy as np\n",
        "import scipy.stats as stats\n",
        "import matplotlib.pyplot as plt\n",
        "from scipy.stats import t"
      ]
    },
    {
      "cell_type": "code",
      "source": [
        "#Parámetros\n",
        "lenA = 15\n",
        "lenB = 20\n",
        "\n",
        "varianzaA = 57.05\n",
        "varianzaB = 34.63\n",
        "\n",
        "confianza = 0.85\n",
        "\n",
        "significancia = 1 - confianza"
      ],
      "metadata": {
        "id": "LOU-dU0ynI1F"
      },
      "execution_count": null,
      "outputs": []
    },
    {
      "cell_type": "code",
      "source": [
        "#Cálculo de las medias\n",
        "mediaA = np.mean(lenA)\n",
        "mediaB = np.mean(lenB)"
      ],
      "metadata": {
        "id": "I5UwKppcoYNl"
      },
      "execution_count": null,
      "outputs": []
    },
    {
      "cell_type": "code",
      "source": [
        "mediaA"
      ],
      "metadata": {
        "colab": {
          "base_uri": "https://localhost:8080/"
        },
        "id": "JXCDRwWup5TH",
        "outputId": "16ca918b-ec4e-4455-b305-f3cce06cbb23"
      },
      "execution_count": null,
      "outputs": [
        {
          "output_type": "execute_result",
          "data": {
            "text/plain": [
              "15.0"
            ]
          },
          "metadata": {},
          "execution_count": 78
        }
      ]
    },
    {
      "cell_type": "code",
      "source": [
        "mediaB"
      ],
      "metadata": {
        "colab": {
          "base_uri": "https://localhost:8080/"
        },
        "id": "TZyKnPJQp5IX",
        "outputId": "e8c4334e-13b9-4a4b-8792-da4dfabc21a0"
      },
      "execution_count": null,
      "outputs": [
        {
          "output_type": "execute_result",
          "data": {
            "text/plain": [
              "20.0"
            ]
          },
          "metadata": {},
          "execution_count": 79
        }
      ]
    },
    {
      "cell_type": "code",
      "source": [
        "#Diferencia de medias\n",
        "dif_medias = mediaA - mediaB\n",
        "dif_medias"
      ],
      "metadata": {
        "colab": {
          "base_uri": "https://localhost:8080/"
        },
        "id": "pPBoO60HspHh",
        "outputId": "2b7bbeb7-207d-4bb0-87c6-d7c30af34bf4"
      },
      "execution_count": null,
      "outputs": [
        {
          "output_type": "execute_result",
          "data": {
            "text/plain": [
              "-5.0"
            ]
          },
          "metadata": {},
          "execution_count": 80
        }
      ]
    },
    {
      "cell_type": "code",
      "source": [
        "#Calculo del valor T\n",
        "t_statistic = dif_medias / np.sqrt((varianzaA/lenA) + (varianzaB/lenB))\n",
        "t_statistic"
      ],
      "metadata": {
        "colab": {
          "base_uri": "https://localhost:8080/"
        },
        "id": "WV9-aDiws7U-",
        "outputId": "1a785980-7116-4797-a401-b734357313b2"
      },
      "execution_count": null,
      "outputs": [
        {
          "output_type": "execute_result",
          "data": {
            "text/plain": [
              "-2.125287708159144"
            ]
          },
          "metadata": {},
          "execution_count": 81
        }
      ]
    },
    {
      "cell_type": "code",
      "source": [
        "#Calculo de los grados de libertad\n",
        "gl_numerator = ((varianzaA/lenA + varianzaB/lenB)**2)\n",
        "gl_denominator = ((varianzaA/lenA)**2 / (lenA - 1)) + ((varianzaB/lenB)**2 / (lenB - 1))\n",
        "gl = gl_numerator / gl_denominator\n",
        "gl"
      ],
      "metadata": {
        "colab": {
          "base_uri": "https://localhost:8080/"
        },
        "id": "x12-APzQvrWj",
        "outputId": "4c9d2bfa-2a9b-4e91-ab52-6347a6f34d8f"
      },
      "execution_count": null,
      "outputs": [
        {
          "output_type": "execute_result",
          "data": {
            "text/plain": [
              "25.72084436354434"
            ]
          },
          "metadata": {},
          "execution_count": 82
        }
      ]
    },
    {
      "cell_type": "code",
      "source": [
        "valor_critico = t.ppf(1 - significancia/2, df=gl)\n",
        "valor_critico\n",
        "\n",
        "# es decir, valor crítico entre -1.48 y 1.48\n",
        "#t0.075,25 = 1.48"
      ],
      "metadata": {
        "colab": {
          "base_uri": "https://localhost:8080/"
        },
        "id": "W_LD4hzFzHw2",
        "outputId": "96611b18-6fc6-4c92-d7dc-5ca37ed67153"
      },
      "execution_count": null,
      "outputs": [
        {
          "output_type": "execute_result",
          "data": {
            "text/plain": [
              "1.4838528853642412"
            ]
          },
          "metadata": {},
          "execution_count": 83
        }
      ]
    },
    {
      "cell_type": "code",
      "source": [
        "# Comparamos el valor calculado de t con el valor crítico\n",
        "if np.abs(t_statistic) > valor_critico:\n",
        "    resultado = \"Se rechaza la hipótesis nula. Hay diferencias significativas.\"\n",
        "else:\n",
        "    resultado = \"No se puede rechazar la hipótesis nula. No hay suficiente evidencia para afirmar diferencias significativas.\""
      ],
      "metadata": {
        "id": "Lxkjvp420D_L"
      },
      "execution_count": null,
      "outputs": []
    },
    {
      "cell_type": "code",
      "source": [
        "print(\"Resultado:\", resultado)\n",
        "print(\"Valor calculado de t:\", t_statistic)\n",
        "print(\"Valor crítico de t:\", valor_critico)\n",
        "print(\"Grados de libertad:\", gl)"
      ],
      "metadata": {
        "colab": {
          "base_uri": "https://localhost:8080/"
        },
        "id": "vRTxNs8T0Qif",
        "outputId": "538f7bd3-76ae-4316-e8d7-546d4bba4a31"
      },
      "execution_count": null,
      "outputs": [
        {
          "output_type": "stream",
          "name": "stdout",
          "text": [
            "Resultado: Se rechaza la hipótesis nula. Hay diferencias significativas.\n",
            "Valor calculado de t: -2.125287708159144\n",
            "Valor crítico de t: 1.4838528853642412\n",
            "Grados de libertad: 25.72084436354434\n"
          ]
        }
      ]
    },
    {
      "cell_type": "markdown",
      "source": [
        "Problema 4:\n",
        "\n",
        "Se han tomado dos muestras del número de días que tardan los egresados de las universidades A y B en encontrar trabajo\n",
        "\n",
        "Universidad A: -> 180, 200, 190, 210, 175, 185, 195, 180, 205, 190, 200, 185, 210, 175, 195\n",
        "\n",
        "Universidad B: -> 210, 215, 220, 225, 230, 215, 220, 225, 230, 235, 210, 215, 220, 225, 230, 235\n",
        "\n",
        " Utilizando un nivel de confianza del 95%, determina si hay evidencia estadística suficiente para concluir que existe una diferencia significativa en el tiempo promedio de busqueda de empleo entre ambas universidades.\n"
      ],
      "metadata": {
        "id": "qG_pWRkF8z-2"
      }
    },
    {
      "cell_type": "markdown",
      "source": [
        "**Hipótesis nula $H0$**: No hay diferencia significativa en el tiempo promedio de búsqueda de empleo entre las dos universidades A y B.\n",
        "\n",
        "**Hipótesis alternativa $H1$**:  Existe una diferencia significativa en el tiempo promedio de búsqueda de empleo entre las dos universidades A y B."
      ],
      "metadata": {
        "id": "H-uoLwPO4aua"
      }
    },
    {
      "cell_type": "code",
      "source": [
        "#Parámetros\n",
        "uniA = np.array([180, 200, 190, 210, 175, 185, 195, 180, 205, 190, 200, 185, 210, 175, 195])\n",
        "uniB = np.array([210, 215, 220, 225, 230, 215, 220, 225, 230, 235, 210, 215, 220, 225, 230, 235])\n",
        "confianza = 0.95\n",
        "significancia = 1 - confianza"
      ],
      "metadata": {
        "id": "7wOYVPQD4rLs"
      },
      "execution_count": null,
      "outputs": []
    },
    {
      "cell_type": "code",
      "source": [
        "# Realizar prueba de hipótesis\n",
        "t_statistic, p_value = stats.ttest_ind(uniA, uniB)\n",
        "\n",
        "# Calcular los grados de libertad\n",
        "grados_libertad = len(uniA) + len(uniB) - 2\n",
        "\n",
        "# Calcular el valor crítico t de dos colas\n",
        "valor_critico_t = stats.t.ppf(1 - significancia / 2, df=grados_libertad)\n",
        "\n",
        "# Comparar la estadística de prueba con el valor crítico\n",
        "if np.abs(t_statistic) > valor_critico_t:\n",
        "    resultado = \"Se rechaza la hipótesis nula. Hay evidencia de diferencia significativa en el tiempo promedio de búsqueda de empleo entre las dos universidades.\"\n",
        "else:\n",
        "    resultado = \"No se puede rechazar la hipótesis nula. No hay evidencia de diferencia significativa.\"\n",
        "\n",
        "print(\"Resultado:\", resultado)\n",
        "print(\"Estadística de prueba t:\", t_statistic)\n",
        "print(\"Valor crítico t:\", valor_critico_t)\n",
        "print(\"Valor p:\", p_value)"
      ],
      "metadata": {
        "colab": {
          "base_uri": "https://localhost:8080/"
        },
        "id": "RhNjLdHu5xN6",
        "outputId": "5559733a-4f49-4c06-d201-59da0e774695"
      },
      "execution_count": null,
      "outputs": [
        {
          "output_type": "stream",
          "name": "stdout",
          "text": [
            "Resultado: Se rechaza la hipótesis nula. Hay evidencia de diferencia significativa en el tiempo promedio de búsqueda de empleo entre las dos universidades.\n",
            "Estadística de prueba t: -8.530285016536267\n",
            "Valor crítico t: 2.045229642132703\n",
            "Valor p: 2.132829441108524e-09\n"
          ]
        }
      ]
    },
    {
      "cell_type": "code",
      "source": [
        "x = np.linspace(-4, 4, 500)\n",
        "y = stats.t.pdf(x, df=grados_libertad)\n",
        "\n",
        "area_rechazo_x_left = np.linspace(-4, -valor_critico_t, 100)\n",
        "area_rechazo_y_left = stats.t.pdf(area_rechazo_x_left, df=grados_libertad)\n",
        "\n",
        "area_rechazo_x_right = np.linspace(valor_critico_t, 4, 100)\n",
        "area_rechazo_y_right = stats.t.pdf(area_rechazo_x_right, df=grados_libertad)\n",
        "\n",
        "# Crear la figura y los ejes\n",
        "plt.figure(figsize=(6, 4))\n",
        "plt.plot(x, y, label='Distribución t')\n",
        "plt.fill_between(area_rechazo_x_left, area_rechazo_y_left, color='red', alpha=0.3, label='Área de rechazo')\n",
        "plt.fill_between(area_rechazo_x_right, area_rechazo_y_right, color='red', alpha=0.3, label='Área de rechazo')\n",
        "plt.axvline(x=valor_critico_t, color='red', linestyle='--', label='Valor crítico t')\n",
        "plt.axvline(x=-valor_critico_t, color='red', linestyle='--')\n",
        "plt.axvline(x=t_statistic, color='green', linestyle='--', label='Estadística de prueba t')\n",
        "\n",
        "plt.text(valor_critico_t + 0.1, 0.1, f'Valor crítico t = {valor_critico_t:.3f}', color='red')\n",
        "\n",
        "plt.title('Distribución t con Áreas de Rechazo y Valores Críticos')\n",
        "plt.xlabel('Valor t')\n",
        "plt.ylabel('Densidad de probabilidad')\n",
        "plt.legend()\n",
        "plt.grid(True)\n",
        "\n",
        "plt.show()"
      ],
      "metadata": {
        "colab": {
          "base_uri": "https://localhost:8080/",
          "height": 413
        },
        "id": "Dl-bKTMZ63Dx",
        "outputId": "9809601e-259f-47bf-da55-1a006ec57c52"
      },
      "execution_count": null,
      "outputs": [
        {
          "output_type": "display_data",
          "data": {
            "text/plain": [
              "<Figure size 600x400 with 1 Axes>"
            ],
            "image/png": "[encoded data removed]"
          },
          "metadata": {}
        }
      ]
    }
  ]
}