{
 "cells": [
  {
   "cell_type": "markdown",
   "metadata": {},
   "source": [
    "# Actividad NLP - 2.0 - Aplicación de Análisis de Sentimientos\n",
    "### Karla González Sánchez - A01514526\n",
    "\n",
    "El objetivo de esta actividad es realizar un análisis de sentimientos que involucra dos tareas principales: la selección de un corpus de texto y la aplicación de un modelo preentrenado de \"sentiment analysis\" para analizar las reacciones a una una aplicación.\n",
    "\n",
    "Para esta tarea, se ha utilizado el dataset \"**app_reviews**\". El cual se descargó de la página de Hugging Face, que se encuentra disponible en el siguiente enlace: https://huggingface.co/datasets/app_reviews"
   ]
  },
  {
   "cell_type": "code",
   "execution_count": 103,
   "metadata": {},
   "outputs": [],
   "source": [
    "import nltk\n",
    "import ssl\n",
    "\n",
    "try:\n",
    "    _create_unverified_https_context = ssl._create_unverified_context\n",
    "except AttributeError:\n",
    "    pass\n",
    "else:\n",
    "    ssl._create_default_https_context = _create_unverified_https_context\n",
    "\n",
    "nltk.download()"
   ]
  },
  {
   "cell_type": "markdown",
   "metadata": {},
   "source": [
    "### Importar bibliotecas necesarias"
   ]
  },
  {
   "cell_type": "code",
   "execution_count": 104,
   "metadata": {},
   "outputs": [
    {
     "name": "stderr",
     "output_type": "stream",
     "text": [
      "[nltk_data] Error loading punkt: <urlopen error [SSL:\n",
      "[nltk_data]     CERTIFICATE_VERIFY_FAILED] certificate verify failed:\n",
      "[nltk_data]     unable to get local issuer certificate (_ssl.c:992)>\n"
     ]
    },
    {
     "data": {
      "text/plain": [
       "False"
      ]
     },
     "execution_count": 104,
     "metadata": {},
     "output_type": "execute_result"
    }
   ],
   "source": [
    "import pandas as pd\n",
    "import numpy as np\n",
    "import matplotlib.pyplot as plt\n",
    "import seaborn as sns\n",
    "import nltk\n",
    "\n",
    "from nltk.tokenize import word_tokenize\n",
    "nltk.download('punkt')"
   ]
  },
  {
   "cell_type": "code",
   "execution_count": 105,
   "metadata": {},
   "outputs": [],
   "source": [
    "df = pd.read_csv(\"reviews.csv\")"
   ]
  },
  {
   "cell_type": "code",
   "execution_count": 106,
   "metadata": {},
   "outputs": [
    {
     "data": {
      "text/html": [
       "<div>\n",
       "<style scoped>\n",
       "    .dataframe tbody tr th:only-of-type {\n",
       "        vertical-align: middle;\n",
       "    }\n",
       "\n",
       "    .dataframe tbody tr th {\n",
       "        vertical-align: top;\n",
       "    }\n",
       "\n",
       "    .dataframe thead th {\n",
       "        text-align: right;\n",
       "    }\n",
       "</style>\n",
       "<table border=\"1\" class=\"dataframe\">\n",
       "  <thead>\n",
       "    <tr style=\"text-align: right;\">\n",
       "      <th></th>\n",
       "      <th>id</th>\n",
       "      <th>package_name</th>\n",
       "      <th>review</th>\n",
       "      <th>date</th>\n",
       "      <th>star</th>\n",
       "      <th>version_id</th>\n",
       "    </tr>\n",
       "  </thead>\n",
       "  <tbody>\n",
       "    <tr>\n",
       "      <th>0</th>\n",
       "      <td>7bd227d9-afc9-11e6-aba1-c4b301cdf627</td>\n",
       "      <td>com.mantz_it.rfanalyzer</td>\n",
       "      <td>Great app! The new version now works on my Bravia Android TV which is great as it's right by my rooftop aerial cable. The scan feature would be useful...any ETA on when this will be available? Also the option to import a list of bookmarks e.g. from a simple properties file would be useful.</td>\n",
       "      <td>October 12 2016</td>\n",
       "      <td>4</td>\n",
       "      <td>1487</td>\n",
       "    </tr>\n",
       "    <tr>\n",
       "      <th>1</th>\n",
       "      <td>7bd22905-afc9-11e6-a5dc-c4b301cdf627</td>\n",
       "      <td>com.mantz_it.rfanalyzer</td>\n",
       "      <td>Great It's not fully optimised and has some issues with crashing but still a nice app  especially considering the price and it's open source.</td>\n",
       "      <td>August 23 2016</td>\n",
       "      <td>4</td>\n",
       "      <td>1487</td>\n",
       "    </tr>\n",
       "    <tr>\n",
       "      <th>2</th>\n",
       "      <td>7bd2299c-afc9-11e6-85d6-c4b301cdf627</td>\n",
       "      <td>com.mantz_it.rfanalyzer</td>\n",
       "      <td>Works on a Nexus 6p I'm still messing around with my hackrf but it works with my Nexus 6p  Trond usb-c to usb host adapter. Thanks!</td>\n",
       "      <td>August 04 2016</td>\n",
       "      <td>5</td>\n",
       "      <td>1487</td>\n",
       "    </tr>\n",
       "    <tr>\n",
       "      <th>3</th>\n",
       "      <td>7bd22a26-afc9-11e6-9309-c4b301cdf627</td>\n",
       "      <td>com.mantz_it.rfanalyzer</td>\n",
       "      <td>The bandwidth seemed to be limited to maximum 2 MHz or so. I tried to increase the bandwidth but not possible. I purchased this is because one of the pictures in the advertisement showed the 2.4GHz band with around 10MHz or more bandwidth. Is it not possible to increase the bandwidth? If not  it is just the same performance as other free APPs.</td>\n",
       "      <td>July 25 2016</td>\n",
       "      <td>3</td>\n",
       "      <td>1487</td>\n",
       "    </tr>\n",
       "    <tr>\n",
       "      <th>4</th>\n",
       "      <td>7bd22aba-afc9-11e6-8293-c4b301cdf627</td>\n",
       "      <td>com.mantz_it.rfanalyzer</td>\n",
       "      <td>Works well with my Hackrf Hopefully new updates will arrive for extra functions</td>\n",
       "      <td>July 22 2016</td>\n",
       "      <td>5</td>\n",
       "      <td>1487</td>\n",
       "    </tr>\n",
       "  </tbody>\n",
       "</table>\n",
       "</div>"
      ],
      "text/plain": [
       "                                     id             package_name  \\\n",
       "0  7bd227d9-afc9-11e6-aba1-c4b301cdf627  com.mantz_it.rfanalyzer   \n",
       "1  7bd22905-afc9-11e6-a5dc-c4b301cdf627  com.mantz_it.rfanalyzer   \n",
       "2  7bd2299c-afc9-11e6-85d6-c4b301cdf627  com.mantz_it.rfanalyzer   \n",
       "3  7bd22a26-afc9-11e6-9309-c4b301cdf627  com.mantz_it.rfanalyzer   \n",
       "4  7bd22aba-afc9-11e6-8293-c4b301cdf627  com.mantz_it.rfanalyzer   \n",
       "\n",
       "                                                                                                                                                                                                                                                                                                                                                      review  \\\n",
       "0                                                         Great app! The new version now works on my Bravia Android TV which is great as it's right by my rooftop aerial cable. The scan feature would be useful...any ETA on when this will be available? Also the option to import a list of bookmarks e.g. from a simple properties file would be useful.   \n",
       "1                                                                                                                                                                                                              Great It's not fully optimised and has some issues with crashing but still a nice app  especially considering the price and it's open source.   \n",
       "2                                                                                                                                                                                                                        Works on a Nexus 6p I'm still messing around with my hackrf but it works with my Nexus 6p  Trond usb-c to usb host adapter. Thanks!   \n",
       "3  The bandwidth seemed to be limited to maximum 2 MHz or so. I tried to increase the bandwidth but not possible. I purchased this is because one of the pictures in the advertisement showed the 2.4GHz band with around 10MHz or more bandwidth. Is it not possible to increase the bandwidth? If not  it is just the same performance as other free APPs.   \n",
       "4                                                                                                                                                                                                                                                                            Works well with my Hackrf Hopefully new updates will arrive for extra functions   \n",
       "\n",
       "              date  star  version_id  \n",
       "0  October 12 2016     4        1487  \n",
       "1   August 23 2016     4        1487  \n",
       "2   August 04 2016     5        1487  \n",
       "3     July 25 2016     3        1487  \n",
       "4     July 22 2016     5        1487  "
      ]
     },
     "execution_count": 106,
     "metadata": {},
     "output_type": "execute_result"
    }
   ],
   "source": [
    "df.head()"
   ]
  },
  {
   "cell_type": "markdown",
   "metadata": {},
   "source": [
    "Gráfico de barras que muestra la distribución de las estrellas que los usuarios le dieron a la aplicación.\n",
    "Donde podemos ver que la gran mayoría de las puntuaciones dadas son de 5 estrellas."
   ]
  },
  {
   "cell_type": "code",
   "execution_count": 107,
   "metadata": {},
   "outputs": [
    {
     "data": {
      "text/plain": [
       "Text(0, 0.5, 'Numero de usuarios')"
      ]
     },
     "execution_count": 107,
     "metadata": {},
     "output_type": "execute_result"
    },
    {
     "data": {
      "image/png": "[encoded data removed]",
      "text/plain": [
       "<Figure size 1000x500 with 1 Axes>"
      ]
     },
     "metadata": {},
     "output_type": "display_data"
    }
   ],
   "source": [
    "ax = df['star'].value_counts().plot(kind='bar', \n",
    "                                    title='Calificación en estrellas', \n",
    "                                    figsize=(10, 5))\n",
    "\n",
    "ax.set_xlabel('Estrellas')\n",
    "ax.set_ylabel('Numero de usuarios')"
   ]
  },
  {
   "cell_type": "markdown",
   "metadata": {},
   "source": [
    "### NLTK"
   ]
  },
  {
   "cell_type": "code",
   "execution_count": 108,
   "metadata": {},
   "outputs": [
    {
     "name": "stdout",
     "output_type": "stream",
     "text": [
      "Great App - Snags with Kitkat Worked fine on Jellybean but started throwing snags after upgrade. Will try logging and send it to the Author...\n"
     ]
    }
   ],
   "source": [
    "# Se define como ejemplo la reseña numero 50\n",
    "example = df['review'][50]\n",
    "print(example)"
   ]
  },
  {
   "cell_type": "code",
   "execution_count": 109,
   "metadata": {},
   "outputs": [
    {
     "name": "stdout",
     "output_type": "stream",
     "text": [
      "['Great', 'App', '-', 'Snags', 'with', 'Kitkat', 'Worked', 'fine', 'on', 'Jellybean']\n"
     ]
    }
   ],
   "source": [
    "# Se divide la reseña en tokens o palabras individuales, y los primeros 10 tokens se imprimen en la pantalla.\n",
    "tokens = nltk.word_tokenize(example)\n",
    "print(tokens[:10])"
   ]
  },
  {
   "cell_type": "code",
   "execution_count": 110,
   "metadata": {},
   "outputs": [
    {
     "data": {
      "text/plain": [
       "[('Great', 'NNP'),\n",
       " ('App', 'NNP'),\n",
       " ('-', ':'),\n",
       " ('Snags', 'NN'),\n",
       " ('with', 'IN'),\n",
       " ('Kitkat', 'NNP'),\n",
       " ('Worked', 'NNP'),\n",
       " ('fine', 'NN'),\n",
       " ('on', 'IN'),\n",
       " ('Jellybean', 'NNP')]"
      ]
     },
     "execution_count": 110,
     "metadata": {},
     "output_type": "execute_result"
    }
   ],
   "source": [
    "# Se asigna una etiqueta POS (como sustantivo, verbo, adjetivo, etc.) a cada token. Los primeros 10 tokens etiquetados se imprimen.\n",
    "tagged = nltk.pos_tag(tokens)\n",
    "tagged[:10]"
   ]
  },
  {
   "cell_type": "code",
   "execution_count": 111,
   "metadata": {},
   "outputs": [
    {
     "name": "stdout",
     "output_type": "stream",
     "text": [
      "(S\n",
      "  (GPE Great/NNP)\n",
      "  (PERSON App/NNP)\n",
      "  -/:\n",
      "  (PERSON Snags/NN)\n",
      "  with/IN\n",
      "  (PERSON Kitkat/NNP Worked/NNP)\n",
      "  fine/NN\n",
      "  on/IN\n",
      "  Jellybean/NNP\n",
      "  but/CC\n",
      "  started/VBD\n",
      "  throwing/VBG\n",
      "  snags/NNS\n",
      "  after/IN\n",
      "  upgrade/NN\n",
      "  ./.\n",
      "  Will/MD\n",
      "  try/VB\n",
      "  logging/NN\n",
      "  and/CC\n",
      "  send/VB\n",
      "  it/PRP\n",
      "  to/TO\n",
      "  the/DT\n",
      "  (ORGANIZATION Author/NN)\n",
      "  .../:)\n"
     ]
    }
   ],
   "source": [
    "# Etiquetado de entidades en el texto tokenizado y etiquetado previamente.\n",
    "entities = nltk.chunk.ne_chunk(tagged)\n",
    "entities.pprint()"
   ]
  },
  {
   "cell_type": "markdown",
   "metadata": {},
   "source": [
    "### VADER\n",
    "\n",
    "- Eliminación de palabras vacías (stop words): Se eliminan las palabras comunes y vacías del texto.\n",
    "\n",
    "- Puntuación de cada palabra: Cada palabra en el texto se evalúa individualmente y se le asigna una puntuación de sentimiento, (positiva, negativa o neutral).\n",
    "\n",
    "- Combinación de puntuaciones, donde un valor igual a cero se considera neutral, un valor mayor a cero se considera positivo, y un valor menor a cero se considera negativo."
   ]
  },
  {
   "cell_type": "code",
   "execution_count": 112,
   "metadata": {},
   "outputs": [],
   "source": [
    "from nltk.sentiment import SentimentIntensityAnalyzer\n",
    "from tqdm.notebook import tqdm\n",
    "\n",
    "# Para realizar análisis de sentimiento\n",
    "sia = SentimentIntensityAnalyzer()"
   ]
  },
  {
   "cell_type": "markdown",
   "metadata": {},
   "source": [
    "Se aplica el análisis de sentimiento a una reseña de ejemplo llamada `example`, lo que genera una puntuación de sentimiento para esa reseña en términos de positividad, negatividad, neutralidad y una puntuación compuesta.\n",
    "\n",
    "Recordemos que la reseña de ejemplo es este:\n",
    "\"Great App - Snags with Kitkat Worked fine on Jellybean but started throwing snags after upgrade. Will try logging and send it to the Author...\"\n",
    "\n",
    "El análisis de sentimiento le da un mayor puntaje a que es una aseveración neutra, aunque la puntación compuesta nos indica que es positiva. "
   ]
  },
  {
   "cell_type": "code",
   "execution_count": 113,
   "metadata": {},
   "outputs": [
    {
     "data": {
      "text/plain": [
       "{'neg': 0.0, 'neu': 0.848, 'pos': 0.152, 'compound': 0.4497}"
      ]
     },
     "execution_count": 113,
     "metadata": {},
     "output_type": "execute_result"
    }
   ],
   "source": [
    "sia.polarity_scores(example)"
   ]
  },
  {
   "cell_type": "markdown",
   "metadata": {},
   "source": [
    "Se ejecuta el análisis de sentimiento en todo el conjunto de datos, iterando a través de cada reseña en el DataFrame. Las puntuaciones de sentimiento resultantes se almacenan en un diccionario res, donde la clave es el identificador id de la reseña."
   ]
  },
  {
   "cell_type": "code",
   "execution_count": 114,
   "metadata": {},
   "outputs": [
    {
     "data": {
      "application/vnd.jupyter.widget-view+json": {
       "model_id": "9dda0b78b0a54cd9a51f2b2657b87cef",
       "version_major": 2,
       "version_minor": 0
      },
      "text/plain": [
       "  0%|          | 0/288065 [00:00<?, ?it/s]"
      ]
     },
     "metadata": {},
     "output_type": "display_data"
    }
   ],
   "source": [
    "res = {}\n",
    "for i, row in tqdm(df.iterrows(), total = len(df)):\n",
    "  review = row['review']\n",
    "  myid = row['id']\n",
    "  res[myid] = sia.polarity_scores(review)"
   ]
  },
  {
   "cell_type": "code",
   "execution_count": 115,
   "metadata": {},
   "outputs": [],
   "source": [
    "vaders = pd.DataFrame(res).T\n",
    "vaders = vaders.reset_index().rename(columns = {'index': 'id'})\n",
    "vaders = vaders.merge(df, how = 'left')"
   ]
  },
  {
   "cell_type": "code",
   "execution_count": 116,
   "metadata": {},
   "outputs": [
    {
     "data": {
      "text/html": [
       "<div>\n",
       "<style scoped>\n",
       "    .dataframe tbody tr th:only-of-type {\n",
       "        vertical-align: middle;\n",
       "    }\n",
       "\n",
       "    .dataframe tbody tr th {\n",
       "        vertical-align: top;\n",
       "    }\n",
       "\n",
       "    .dataframe thead th {\n",
       "        text-align: right;\n",
       "    }\n",
       "</style>\n",
       "<table border=\"1\" class=\"dataframe\">\n",
       "  <thead>\n",
       "    <tr style=\"text-align: right;\">\n",
       "      <th></th>\n",
       "      <th>id</th>\n",
       "      <th>neg</th>\n",
       "      <th>neu</th>\n",
       "      <th>pos</th>\n",
       "      <th>compound</th>\n",
       "      <th>package_name</th>\n",
       "      <th>review</th>\n",
       "      <th>date</th>\n",
       "      <th>star</th>\n",
       "      <th>version_id</th>\n",
       "    </tr>\n",
       "  </thead>\n",
       "  <tbody>\n",
       "    <tr>\n",
       "      <th>0</th>\n",
       "      <td>7bd227d9-afc9-11e6-aba1-c4b301cdf627</td>\n",
       "      <td>0.000</td>\n",
       "      <td>0.811</td>\n",
       "      <td>0.189</td>\n",
       "      <td>0.9080</td>\n",
       "      <td>com.mantz_it.rfanalyzer</td>\n",
       "      <td>Great app! The new version now works on my Bravia Android TV which is great as it's right by my rooftop aerial cable. The scan feature would be useful...any ETA on when this will be available? Also the option to import a list of bookmarks e.g. from a simple properties file would be useful.</td>\n",
       "      <td>October 12 2016</td>\n",
       "      <td>4</td>\n",
       "      <td>1487</td>\n",
       "    </tr>\n",
       "    <tr>\n",
       "      <th>1</th>\n",
       "      <td>7bd22905-afc9-11e6-a5dc-c4b301cdf627</td>\n",
       "      <td>0.062</td>\n",
       "      <td>0.715</td>\n",
       "      <td>0.223</td>\n",
       "      <td>0.6718</td>\n",
       "      <td>com.mantz_it.rfanalyzer</td>\n",
       "      <td>Great It's not fully optimised and has some issues with crashing but still a nice app  especially considering the price and it's open source.</td>\n",
       "      <td>August 23 2016</td>\n",
       "      <td>4</td>\n",
       "      <td>1487</td>\n",
       "    </tr>\n",
       "    <tr>\n",
       "      <th>2</th>\n",
       "      <td>7bd2299c-afc9-11e6-85d6-c4b301cdf627</td>\n",
       "      <td>0.000</td>\n",
       "      <td>0.853</td>\n",
       "      <td>0.147</td>\n",
       "      <td>0.6300</td>\n",
       "      <td>com.mantz_it.rfanalyzer</td>\n",
       "      <td>Works on a Nexus 6p I'm still messing around with my hackrf but it works with my Nexus 6p  Trond usb-c to usb host adapter. Thanks!</td>\n",
       "      <td>August 04 2016</td>\n",
       "      <td>5</td>\n",
       "      <td>1487</td>\n",
       "    </tr>\n",
       "    <tr>\n",
       "      <th>3</th>\n",
       "      <td>7bd22a26-afc9-11e6-9309-c4b301cdf627</td>\n",
       "      <td>0.022</td>\n",
       "      <td>0.835</td>\n",
       "      <td>0.143</td>\n",
       "      <td>0.8453</td>\n",
       "      <td>com.mantz_it.rfanalyzer</td>\n",
       "      <td>The bandwidth seemed to be limited to maximum 2 MHz or so. I tried to increase the bandwidth but not possible. I purchased this is because one of the pictures in the advertisement showed the 2.4GHz band with around 10MHz or more bandwidth. Is it not possible to increase the bandwidth? If not  it is just the same performance as other free APPs.</td>\n",
       "      <td>July 25 2016</td>\n",
       "      <td>3</td>\n",
       "      <td>1487</td>\n",
       "    </tr>\n",
       "    <tr>\n",
       "      <th>4</th>\n",
       "      <td>7bd22aba-afc9-11e6-8293-c4b301cdf627</td>\n",
       "      <td>0.000</td>\n",
       "      <td>0.696</td>\n",
       "      <td>0.304</td>\n",
       "      <td>0.5859</td>\n",
       "      <td>com.mantz_it.rfanalyzer</td>\n",
       "      <td>Works well with my Hackrf Hopefully new updates will arrive for extra functions</td>\n",
       "      <td>July 22 2016</td>\n",
       "      <td>5</td>\n",
       "      <td>1487</td>\n",
       "    </tr>\n",
       "  </tbody>\n",
       "</table>\n",
       "</div>"
      ],
      "text/plain": [
       "                                     id    neg    neu    pos  compound  \\\n",
       "0  7bd227d9-afc9-11e6-aba1-c4b301cdf627  0.000  0.811  0.189    0.9080   \n",
       "1  7bd22905-afc9-11e6-a5dc-c4b301cdf627  0.062  0.715  0.223    0.6718   \n",
       "2  7bd2299c-afc9-11e6-85d6-c4b301cdf627  0.000  0.853  0.147    0.6300   \n",
       "3  7bd22a26-afc9-11e6-9309-c4b301cdf627  0.022  0.835  0.143    0.8453   \n",
       "4  7bd22aba-afc9-11e6-8293-c4b301cdf627  0.000  0.696  0.304    0.5859   \n",
       "\n",
       "              package_name  \\\n",
       "0  com.mantz_it.rfanalyzer   \n",
       "1  com.mantz_it.rfanalyzer   \n",
       "2  com.mantz_it.rfanalyzer   \n",
       "3  com.mantz_it.rfanalyzer   \n",
       "4  com.mantz_it.rfanalyzer   \n",
       "\n",
       "                                                                                                                                                                                                                                                                                                                                                      review  \\\n",
       "0                                                         Great app! The new version now works on my Bravia Android TV which is great as it's right by my rooftop aerial cable. The scan feature would be useful...any ETA on when this will be available? Also the option to import a list of bookmarks e.g. from a simple properties file would be useful.   \n",
       "1                                                                                                                                                                                                              Great It's not fully optimised and has some issues with crashing but still a nice app  especially considering the price and it's open source.   \n",
       "2                                                                                                                                                                                                                        Works on a Nexus 6p I'm still messing around with my hackrf but it works with my Nexus 6p  Trond usb-c to usb host adapter. Thanks!   \n",
       "3  The bandwidth seemed to be limited to maximum 2 MHz or so. I tried to increase the bandwidth but not possible. I purchased this is because one of the pictures in the advertisement showed the 2.4GHz band with around 10MHz or more bandwidth. Is it not possible to increase the bandwidth? If not  it is just the same performance as other free APPs.   \n",
       "4                                                                                                                                                                                                                                                                            Works well with my Hackrf Hopefully new updates will arrive for extra functions   \n",
       "\n",
       "              date  star  version_id  \n",
       "0  October 12 2016     4        1487  \n",
       "1   August 23 2016     4        1487  \n",
       "2   August 04 2016     5        1487  \n",
       "3     July 25 2016     3        1487  \n",
       "4     July 22 2016     5        1487  "
      ]
     },
     "execution_count": 116,
     "metadata": {},
     "output_type": "execute_result"
    }
   ],
   "source": [
    "vaders.head()"
   ]
  },
  {
   "cell_type": "markdown",
   "metadata": {},
   "source": [
    "### Resultados "
   ]
  },
  {
   "cell_type": "code",
   "execution_count": 124,
   "metadata": {},
   "outputs": [
    {
     "data": {
      "image/png": "[encoded data removed]",
      "text/plain": [
       "<Figure size 640x480 with 1 Axes>"
      ]
     },
     "metadata": {},
     "output_type": "display_data"
    }
   ],
   "source": [
    "# Relación entre la puntuación compuesta de las reseñas y las calificaciones de las aplicaciones.\n",
    "ax = sns.barplot(data = vaders, x='star', y='compound')\n",
    "ax.set_title('Compound Score by App Star Review')\n",
    "plt.show()"
   ]
  },
  {
   "cell_type": "code",
   "execution_count": 118,
   "metadata": {},
   "outputs": [
    {
     "data": {
      "image/png": "[encoded data removed]",
      "text/plain": [
       "<Figure size 1200x300 with 3 Axes>"
      ]
     },
     "metadata": {},
     "output_type": "display_data"
    }
   ],
   "source": [
    "# Relación entre las calificaciones de las aplicaciones y las puntuaciones de sentimiento positivas, neutrales y negativas\n",
    "fig, axs = plt.subplots(1, 3, figsize=(12, 3))\n",
    "sns.barplot(data=vaders, x='star', y = 'pos', ax = axs[0])\n",
    "sns.barplot(data=vaders, x='star', y = 'neu', ax = axs[1])\n",
    "sns.barplot(data=vaders, x='star', y = 'neg', ax = axs[2])\n",
    "axs[0].set_title('Positive')\n",
    "axs[1].set_title('Neutral')\n",
    "axs[2].set_title('Negative')\n",
    "plt.tight_layout()\n",
    "plt.show()"
   ]
  },
  {
   "cell_type": "markdown",
   "metadata": {},
   "source": [
    "### Top 5 reseñas con mayor connotación positiva"
   ]
  },
  {
   "cell_type": "code",
   "execution_count": 126,
   "metadata": {},
   "outputs": [
    {
     "data": {
      "text/html": [
       "<div>\n",
       "<style scoped>\n",
       "    .dataframe tbody tr th:only-of-type {\n",
       "        vertical-align: middle;\n",
       "    }\n",
       "\n",
       "    .dataframe tbody tr th {\n",
       "        vertical-align: top;\n",
       "    }\n",
       "\n",
       "    .dataframe thead th {\n",
       "        text-align: right;\n",
       "    }\n",
       "</style>\n",
       "<table border=\"1\" class=\"dataframe\">\n",
       "  <thead>\n",
       "    <tr style=\"text-align: right;\">\n",
       "      <th></th>\n",
       "      <th>id</th>\n",
       "      <th>neg</th>\n",
       "      <th>neu</th>\n",
       "      <th>pos</th>\n",
       "      <th>compound</th>\n",
       "      <th>package_name</th>\n",
       "      <th>review</th>\n",
       "      <th>date</th>\n",
       "      <th>star</th>\n",
       "      <th>version_id</th>\n",
       "    </tr>\n",
       "  </thead>\n",
       "  <tbody>\n",
       "    <tr>\n",
       "      <th>39525</th>\n",
       "      <td>7bef224a-afc9-11e6-95f1-c4b301cdf627</td>\n",
       "      <td>0.0</td>\n",
       "      <td>0.000</td>\n",
       "      <td>1.000</td>\n",
       "      <td>0.9998</td>\n",
       "      <td>org.kde.necessitas.ministro</td>\n",
       "      <td>Lol lol lol lol lol lol lol lol lol lol lol lol lol lol lol lol lol lol lol lol lol lol lol lol lol lol lol lol lol lol lol lol lol lol lol lol lol lol lol lol lol lol lol lol lol lol lol lol lol lol lol lol lol lol lol lol lol lol lol lol lol lol lol lol lol lol lol lol lol lol lol lol lol lol lol lol lol lol lol lol lol lol lol lol lol lol lol lol lol lol lol lol lol lol lol lol lol lol lol lol lol lol lol lol lol lol lol lol lol</td>\n",
       "      <td>December 16 2014</td>\n",
       "      <td>5</td>\n",
       "      <td>643</td>\n",
       "    </tr>\n",
       "    <tr>\n",
       "      <th>39732</th>\n",
       "      <td>7befab8a-afc9-11e6-a9e8-c4b301cdf627</td>\n",
       "      <td>0.0</td>\n",
       "      <td>0.000</td>\n",
       "      <td>1.000</td>\n",
       "      <td>0.9998</td>\n",
       "      <td>org.kde.necessitas.ministro</td>\n",
       "      <td>Good Good Good Good Good Good Good Good Good Good Good Good Good Good Good Good Good Good Good Good Good Good Good Good Good Good Good Good Good Good Good Good Good Good Good Good Good Good Good Good Good Good Good Good Good Good Good Good Good Good Good Good Good Good Good Good Good Good Good Good Good Good Good Good Good Good Good Good Good Good Good Good Good Good Good Good Good Good Good Good Good Good Good Good Good Good Good Good Good Good Good Good Good Good Good Good Good Good Good Good Good Good Good</td>\n",
       "      <td>July 31 2014</td>\n",
       "      <td>5</td>\n",
       "      <td>642</td>\n",
       "    </tr>\n",
       "    <tr>\n",
       "      <th>39869</th>\n",
       "      <td>7bf006b8-afc9-11e6-8e7f-c4b301cdf627</td>\n",
       "      <td>0.0</td>\n",
       "      <td>0.009</td>\n",
       "      <td>0.991</td>\n",
       "      <td>0.9997</td>\n",
       "      <td>org.kde.necessitas.ministro</td>\n",
       "      <td>Great great great great great great great great great great great great great great great great great great great great great great great great great great great great great great great great great great great great great great great great great great great great great great great great great great great. Copping 6 users( lol )</td>\n",
       "      <td>April 30 2014</td>\n",
       "      <td>5</td>\n",
       "      <td>642</td>\n",
       "    </tr>\n",
       "    <tr>\n",
       "      <th>39658</th>\n",
       "      <td>7bef6775-afc9-11e6-9128-c4b301cdf627</td>\n",
       "      <td>0.0</td>\n",
       "      <td>0.000</td>\n",
       "      <td>1.000</td>\n",
       "      <td>0.9996</td>\n",
       "      <td>org.kde.necessitas.ministro</td>\n",
       "      <td>Great Great Great Great Great Great Great Great Great Great Great Great Great Great Great Great Great Great Great Great Great Great Great Great Great Great Great Great Great Great Great Great Great Great Great Great Great Great Great Great Great Great Great Great Great Great</td>\n",
       "      <td>September 13 2014</td>\n",
       "      <td>5</td>\n",
       "      <td>642</td>\n",
       "    </tr>\n",
       "    <tr>\n",
       "      <th>39688</th>\n",
       "      <td>7bef8d6e-afc9-11e6-a00f-c4b301cdf627</td>\n",
       "      <td>0.0</td>\n",
       "      <td>0.000</td>\n",
       "      <td>1.000</td>\n",
       "      <td>0.9996</td>\n",
       "      <td>org.kde.necessitas.ministro</td>\n",
       "      <td>Wow Wow wow wow wow wow wow wow wow wow wow wow wow wow wow wow wow wow wow wow wow wow wow wow wow wow wow wow wow wow wow wow wow wow wow wow wow wow wow wow wow wow wow wow wow wow wow wow</td>\n",
       "      <td>August 26 2014</td>\n",
       "      <td>5</td>\n",
       "      <td>642</td>\n",
       "    </tr>\n",
       "  </tbody>\n",
       "</table>\n",
       "</div>"
      ],
      "text/plain": [
       "                                         id  neg    neu    pos  compound  \\\n",
       "39525  7bef224a-afc9-11e6-95f1-c4b301cdf627  0.0  0.000  1.000    0.9998   \n",
       "39732  7befab8a-afc9-11e6-a9e8-c4b301cdf627  0.0  0.000  1.000    0.9998   \n",
       "39869  7bf006b8-afc9-11e6-8e7f-c4b301cdf627  0.0  0.009  0.991    0.9997   \n",
       "39658  7bef6775-afc9-11e6-9128-c4b301cdf627  0.0  0.000  1.000    0.9996   \n",
       "39688  7bef8d6e-afc9-11e6-a00f-c4b301cdf627  0.0  0.000  1.000    0.9996   \n",
       "\n",
       "                      package_name  \\\n",
       "39525  org.kde.necessitas.ministro   \n",
       "39732  org.kde.necessitas.ministro   \n",
       "39869  org.kde.necessitas.ministro   \n",
       "39658  org.kde.necessitas.ministro   \n",
       "39688  org.kde.necessitas.ministro   \n",
       "\n",
       "                                                                                                                                                                                                                                                                                                                                                                                                                                                                                                                                   review  \\\n",
       "39525                                                                                 Lol lol lol lol lol lol lol lol lol lol lol lol lol lol lol lol lol lol lol lol lol lol lol lol lol lol lol lol lol lol lol lol lol lol lol lol lol lol lol lol lol lol lol lol lol lol lol lol lol lol lol lol lol lol lol lol lol lol lol lol lol lol lol lol lol lol lol lol lol lol lol lol lol lol lol lol lol lol lol lol lol lol lol lol lol lol lol lol lol lol lol lol lol lol lol lol lol lol lol lol lol lol lol lol lol lol lol lol lol   \n",
       "39732  Good Good Good Good Good Good Good Good Good Good Good Good Good Good Good Good Good Good Good Good Good Good Good Good Good Good Good Good Good Good Good Good Good Good Good Good Good Good Good Good Good Good Good Good Good Good Good Good Good Good Good Good Good Good Good Good Good Good Good Good Good Good Good Good Good Good Good Good Good Good Good Good Good Good Good Good Good Good Good Good Good Good Good Good Good Good Good Good Good Good Good Good Good Good Good Good Good Good Good Good Good Good Good   \n",
       "39869                                                                                                                                                                                           Great great great great great great great great great great great great great great great great great great great great great great great great great great great great great great great great great great great great great great great great great great great great great great great great great great great. Copping 6 users( lol )   \n",
       "39658                                                                                                                                                                                                                                                 Great Great Great Great Great Great Great Great Great Great Great Great Great Great Great Great Great Great Great Great Great Great Great Great Great Great Great Great Great Great Great Great Great Great Great Great Great Great Great Great Great Great Great Great Great Great   \n",
       "39688                                                                                                                                                                                                                                                                                                                                     Wow Wow wow wow wow wow wow wow wow wow wow wow wow wow wow wow wow wow wow wow wow wow wow wow wow wow wow wow wow wow wow wow wow wow wow wow wow wow wow wow wow wow wow wow wow wow wow wow   \n",
       "\n",
       "                    date  star  version_id  \n",
       "39525   December 16 2014     5         643  \n",
       "39732       July 31 2014     5         642  \n",
       "39869      April 30 2014     5         642  \n",
       "39658  September 13 2014     5         642  \n",
       "39688     August 26 2014     5         642  "
      ]
     },
     "execution_count": 126,
     "metadata": {},
     "output_type": "execute_result"
    }
   ],
   "source": [
    "top_positive_reviews = vaders.nlargest(5, 'compound')\n",
    "top_positive_reviews"
   ]
  },
  {
   "cell_type": "markdown",
   "metadata": {},
   "source": [
    "### Top 5 reseñas con mayor connotación negativa"
   ]
  },
  {
   "cell_type": "code",
   "execution_count": 127,
   "metadata": {},
   "outputs": [
    {
     "data": {
      "text/html": [
       "<div>\n",
       "<style scoped>\n",
       "    .dataframe tbody tr th:only-of-type {\n",
       "        vertical-align: middle;\n",
       "    }\n",
       "\n",
       "    .dataframe tbody tr th {\n",
       "        vertical-align: top;\n",
       "    }\n",
       "\n",
       "    .dataframe thead th {\n",
       "        text-align: right;\n",
       "    }\n",
       "</style>\n",
       "<table border=\"1\" class=\"dataframe\">\n",
       "  <thead>\n",
       "    <tr style=\"text-align: right;\">\n",
       "      <th></th>\n",
       "      <th>id</th>\n",
       "      <th>neg</th>\n",
       "      <th>neu</th>\n",
       "      <th>pos</th>\n",
       "      <th>compound</th>\n",
       "      <th>package_name</th>\n",
       "      <th>review</th>\n",
       "      <th>date</th>\n",
       "      <th>star</th>\n",
       "      <th>version_id</th>\n",
       "    </tr>\n",
       "  </thead>\n",
       "  <tbody>\n",
       "    <tr>\n",
       "      <th>276804</th>\n",
       "      <td>95fa545a-2f96-11e7-8be7-000c29dba5da</td>\n",
       "      <td>0.740</td>\n",
       "      <td>0.260</td>\n",
       "      <td>0.000</td>\n",
       "      <td>-0.9998</td>\n",
       "      <td>com.google.android.gms</td>\n",
       "      <td>Its very very very very very very very very very very very very very very very very very very very very very very very very very very very very very very very very very very very very very very very very very very very very very very very very very very very very very very very very very very very very very very very very very very very very very very very very very very very very very very very very very very very very very very very very very very very very very bad bad bad bad bad bad bad bad bad bad bad bad bad bad bad bad bad bad bad bad bad bad bad bad bad bad bad bad bad bad bad bad bad bad bad bad bad bad bad bad bad bad bad bad bad bad bad bad bad bad bad bad bad bad bad bad bad bad bad bad bad bad bad bad bad bad bad Not download not download not download not download</td>\n",
       "      <td>May 02 2017</td>\n",
       "      <td>1</td>\n",
       "      <td>1230</td>\n",
       "    </tr>\n",
       "    <tr>\n",
       "      <th>103269</th>\n",
       "      <td>7c33ca75-afc9-11e6-981e-c4b301cdf627</td>\n",
       "      <td>0.961</td>\n",
       "      <td>0.030</td>\n",
       "      <td>0.010</td>\n",
       "      <td>-0.9997</td>\n",
       "      <td>com.tmarki.comicmaker</td>\n",
       "      <td>It crashed Right in a middle of a good comic it crashed:-( :-( :-( :-( :-( :-( :-( :-( :-( :-( :-( :-( :-( :-( :-( :-( :-( :-( :-( :-( :-( :-( :-( :-( :-( :-( :-( :-( :-( :-( :-( :-( :-( :-( :-( :-( :-( :-( :-( :-( :-( :-( :-( :-( :-( :-( :-( :-( :-( :-( :-( :-( :-( :-( :-( :-( :-( :-( :-( :-( :-( :-( :-( :-( :-( :-( :-( :-( :-( :-( :-( :-( :-( :-( :-( :-( :-( :-( :-( :-( :-( :-( :-( :-( :-( :-( :-( :-( :-( :-( :-( :-( :-( :-( :-( :-( :-( :-( :-( :-( :-( :-( :-( :-( :-( :-( :-( :-( :-( :-( :-( :-( :-( :-( :-( :-( :-(</td>\n",
       "      <td>May 17 2015</td>\n",
       "      <td>1</td>\n",
       "      <td>735</td>\n",
       "    </tr>\n",
       "    <tr>\n",
       "      <th>169590</th>\n",
       "      <td>4cfa9187-b00a-11e6-be22-b252784303c8</td>\n",
       "      <td>0.911</td>\n",
       "      <td>0.072</td>\n",
       "      <td>0.017</td>\n",
       "      <td>-0.9994</td>\n",
       "      <td>net.sourceforge.opencamera</td>\n",
       "      <td>Sucks Don't Download this junk app it's nothing but waste of time and MB. It sucks Sucks Sucks Sucks Sucks Sucks Sucks Sucks Sucks Sucks Sucks Sucks Sucks Sucks Sucks Sucks Sucks Sucks Sucks Sucks Sucks Sucks Sucks Sucks Sucks Sucks Sucks Sucks Sucks Sucks Sucks Sucks Sucks Sucks Sucks Sucks Sucks Sucks Sucks Sucks Sucks Sucks Sucks Sucks Sucks Sucks Sucks Sucks Sucks Sucks.</td>\n",
       "      <td>August 17 2016</td>\n",
       "      <td>1</td>\n",
       "      <td>289</td>\n",
       "    </tr>\n",
       "    <tr>\n",
       "      <th>269128</th>\n",
       "      <td>811308dd-2881-11e7-80ae-000c29dba5da</td>\n",
       "      <td>1.000</td>\n",
       "      <td>0.000</td>\n",
       "      <td>0.000</td>\n",
       "      <td>-0.9985</td>\n",
       "      <td>com.google.android.gms</td>\n",
       "      <td>HATE HATE HATE HATE HATE HATE HATE HATE HATE HATE HATE HATE HATE HATE HATE HATE HATE HATE HATE HATE HATE HATE HATE HATE HATE HATE</td>\n",
       "      <td>April 23 2017</td>\n",
       "      <td>1</td>\n",
       "      <td>1230</td>\n",
       "    </tr>\n",
       "    <tr>\n",
       "      <th>39527</th>\n",
       "      <td>7bef23a6-afc9-11e6-b86a-c4b301cdf627</td>\n",
       "      <td>0.937</td>\n",
       "      <td>0.063</td>\n",
       "      <td>0.000</td>\n",
       "      <td>-0.9971</td>\n",
       "      <td>org.kde.necessitas.ministro</td>\n",
       "      <td>YOU DON'T EVEN DESERVE 1 STAR FAKE FAKE FAKE FAKE FAKE FAKE FAKE FAKE FAKE FAKE FAKE FAKE FAKE FAKE FAKE FAKE FAKE FAKE FAKE FAKE FAKE FAKE FAKE FAKE</td>\n",
       "      <td>December 16 2014</td>\n",
       "      <td>1</td>\n",
       "      <td>643</td>\n",
       "    </tr>\n",
       "  </tbody>\n",
       "</table>\n",
       "</div>"
      ],
      "text/plain": [
       "                                          id    neg    neu    pos  compound  \\\n",
       "276804  95fa545a-2f96-11e7-8be7-000c29dba5da  0.740  0.260  0.000   -0.9998   \n",
       "103269  7c33ca75-afc9-11e6-981e-c4b301cdf627  0.961  0.030  0.010   -0.9997   \n",
       "169590  4cfa9187-b00a-11e6-be22-b252784303c8  0.911  0.072  0.017   -0.9994   \n",
       "269128  811308dd-2881-11e7-80ae-000c29dba5da  1.000  0.000  0.000   -0.9985   \n",
       "39527   7bef23a6-afc9-11e6-b86a-c4b301cdf627  0.937  0.063  0.000   -0.9971   \n",
       "\n",
       "                       package_name  \\\n",
       "276804       com.google.android.gms   \n",
       "103269        com.tmarki.comicmaker   \n",
       "169590   net.sourceforge.opencamera   \n",
       "269128       com.google.android.gms   \n",
       "39527   org.kde.necessitas.ministro   \n",
       "\n",
       "                                                                                                                                                                                                                                                                                                                                                                                                                                                                                                                                                                                                                                                                                                                                                                                                                      review  \\\n",
       "276804  Its very very very very very very very very very very very very very very very very very very very very very very very very very very very very very very very very very very very very very very very very very very very very very very very very very very very very very very very very very very very very very very very very very very very very very very very very very very very very very very very very very very very very very very very very very very very very very bad bad bad bad bad bad bad bad bad bad bad bad bad bad bad bad bad bad bad bad bad bad bad bad bad bad bad bad bad bad bad bad bad bad bad bad bad bad bad bad bad bad bad bad bad bad bad bad bad bad bad bad bad bad bad bad bad bad bad bad bad bad bad bad bad bad bad Not download not download not download not download   \n",
       "103269                                                                                                                                                                                                                                                                            It crashed Right in a middle of a good comic it crashed:-( :-( :-( :-( :-( :-( :-( :-( :-( :-( :-( :-( :-( :-( :-( :-( :-( :-( :-( :-( :-( :-( :-( :-( :-( :-( :-( :-( :-( :-( :-( :-( :-( :-( :-( :-( :-( :-( :-( :-( :-( :-( :-( :-( :-( :-( :-( :-( :-( :-( :-( :-( :-( :-( :-( :-( :-( :-( :-( :-( :-( :-( :-( :-( :-( :-( :-( :-( :-( :-( :-( :-( :-( :-( :-( :-( :-( :-( :-( :-( :-( :-( :-( :-( :-( :-( :-( :-( :-( :-( :-( :-( :-( :-( :-( :-( :-( :-( :-( :-( :-( :-( :-( :-( :-( :-( :-( :-( :-( :-( :-( :-( :-( :-( :-( :-( :-(   \n",
       "169590                                                                                                                                                                                                                                                                                                                                                                                                                             Sucks Don't Download this junk app it's nothing but waste of time and MB. It sucks Sucks Sucks Sucks Sucks Sucks Sucks Sucks Sucks Sucks Sucks Sucks Sucks Sucks Sucks Sucks Sucks Sucks Sucks Sucks Sucks Sucks Sucks Sucks Sucks Sucks Sucks Sucks Sucks Sucks Sucks Sucks Sucks Sucks Sucks Sucks Sucks Sucks Sucks Sucks Sucks Sucks Sucks Sucks Sucks Sucks Sucks Sucks Sucks Sucks.   \n",
       "269128                                                                                                                                                                                                                                                                                                                                                                                                                                                                                                                                                                                                                                                                                     HATE HATE HATE HATE HATE HATE HATE HATE HATE HATE HATE HATE HATE HATE HATE HATE HATE HATE HATE HATE HATE HATE HATE HATE HATE HATE   \n",
       "39527                                                                                                                                                                                                                                                                                                                                                                                                                                                                                                                                                                                                                                                                  YOU DON'T EVEN DESERVE 1 STAR FAKE FAKE FAKE FAKE FAKE FAKE FAKE FAKE FAKE FAKE FAKE FAKE FAKE FAKE FAKE FAKE FAKE FAKE FAKE FAKE FAKE FAKE FAKE FAKE   \n",
       "\n",
       "                    date  star  version_id  \n",
       "276804       May 02 2017     1        1230  \n",
       "103269       May 17 2015     1         735  \n",
       "169590    August 17 2016     1         289  \n",
       "269128     April 23 2017     1        1230  \n",
       "39527   December 16 2014     1         643  "
      ]
     },
     "execution_count": 127,
     "metadata": {},
     "output_type": "execute_result"
    }
   ],
   "source": [
    "top_negative_reviews = vaders.nsmallest(5, 'compound')\n",
    "top_negative_reviews"
   ]
  }
 ],
 "metadata": {
  "kernelspec": {
   "display_name": "Python 3",
   "language": "python",
   "name": "python3"
  },
  "language_info": {
   "codemirror_mode": {
    "name": "ipython",
    "version": 3
   },
   "file_extension": ".py",
   "mimetype": "text/x-python",
   "name": "python",
   "nbconvert_exporter": "python",
   "pygments_lexer": "ipython3",
   "version": "3.11.0"
  },
  "orig_nbformat": 4
 },
 "nbformat": 4,
 "nbformat_minor": 2
}
